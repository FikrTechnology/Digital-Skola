{
 "cells": [
  {
   "cell_type": "markdown",
   "metadata": {},
   "source": [
    "# Importing Library"
   ]
  },
  {
   "cell_type": "code",
   "execution_count": 107,
   "metadata": {
    "ExecuteTime": {
     "end_time": "2020-08-30T07:25:14.794585Z",
     "start_time": "2020-08-30T07:25:14.779606Z"
    },
    "executionInfo": {
     "elapsed": 1051,
     "status": "ok",
     "timestamp": 1606631802115,
     "user": {
      "displayName": "Hafizh Adi Prasetya",
      "photoUrl": "",
      "userId": "17729880730015292488"
     },
     "user_tz": -420
    },
    "id": "abKJ81XUklyv"
   },
   "outputs": [],
   "source": [
    "import numpy as np\n",
    "import pandas as pd\n",
    "import matplotlib.pyplot as plt\n",
    "import seaborn as sns"
   ]
  },
  {
   "cell_type": "markdown",
   "metadata": {
    "id": "lynBiLItklyz"
   },
   "source": [
    "## Mengubah parameter default matplotlib\n",
    "Parameter default matplotlib dapat diubah dengan rcParams sebagai berikut\n"
   ]
  },
  {
   "cell_type": "code",
   "execution_count": 108,
   "metadata": {
    "ExecuteTime": {
     "end_time": "2020-08-30T07:25:15.123570Z",
     "start_time": "2020-08-30T07:25:15.113566Z"
    },
    "executionInfo": {
     "elapsed": 1225,
     "status": "ok",
     "timestamp": 1606631802599,
     "user": {
      "displayName": "Hafizh Adi Prasetya",
      "photoUrl": "",
      "userId": "17729880730015292488"
     },
     "user_tz": -420
    },
    "id": "rss8gahwkly0"
   },
   "outputs": [],
   "source": [
    "from matplotlib import rcParams\n",
    "rcParams['figure.figsize'] = 12, 4\n",
    "rcParams['lines.linewidth'] = 3\n",
    "rcParams['xtick.labelsize'] = 'x-large'\n",
    "rcParams['ytick.labelsize'] = 'x-large'"
   ]
  },
  {
   "cell_type": "markdown",
   "metadata": {
    "id": "YFF0bJdQkly3"
   },
   "source": [
    "## Load dataset"
   ]
  },
  {
   "cell_type": "code",
   "execution_count": 109,
   "metadata": {
    "ExecuteTime": {
     "end_time": "2020-08-30T07:25:15.602629Z",
     "start_time": "2020-08-30T07:25:15.533892Z"
    },
    "executionInfo": {
     "elapsed": 1292,
     "status": "ok",
     "timestamp": 1606631802974,
     "user": {
      "displayName": "Hafizh Adi Prasetya",
      "photoUrl": "",
      "userId": "17729880730015292488"
     },
     "user_tz": -420
    },
    "id": "ZsSwLZv1kly3"
   },
   "outputs": [],
   "source": [
    "df = pd.read_csv('botak_kotor.csv')"
   ]
  },
  {
   "cell_type": "code",
   "execution_count": 110,
   "metadata": {
    "ExecuteTime": {
     "end_time": "2020-08-30T07:25:16.166494Z",
     "start_time": "2020-08-30T07:25:16.141527Z"
    },
    "colab": {
     "base_uri": "https://localhost:8080/"
    },
    "executionInfo": {
     "elapsed": 1123,
     "status": "ok",
     "timestamp": 1606631802975,
     "user": {
      "displayName": "Hafizh Adi Prasetya",
      "photoUrl": "",
      "userId": "17729880730015292488"
     },
     "user_tz": -420
    },
    "id": "wYEk-VKXkly6",
    "outputId": "9192f063-e10e-4458-f690-03aa134d8641"
   },
   "outputs": [
    {
     "name": "stdout",
     "output_type": "stream",
     "text": [
      "<class 'pandas.core.frame.DataFrame'>\n",
      "RangeIndex: 7917 entries, 0 to 7916\n",
      "Data columns (total 14 columns):\n",
      " #   Column         Non-Null Count  Dtype  \n",
      "---  ------         --------------  -----  \n",
      " 0   umur           7838 non-null   float64\n",
      " 1   jenis_kelamin  7840 non-null   object \n",
      " 2   pekerjaan      7760 non-null   object \n",
      " 3   provinsi       7831 non-null   object \n",
      " 4   gaji           7843 non-null   float64\n",
      " 5   is_menikah     7845 non-null   float64\n",
      " 6   is_keturunan   7828 non-null   float64\n",
      " 7   berat          7861 non-null   float64\n",
      " 8   tinggi         7843 non-null   float64\n",
      " 9   sampo          7858 non-null   object \n",
      " 10  is_merokok     7847 non-null   float64\n",
      " 11  pendidikan     7847 non-null   object \n",
      " 12  stress         7853 non-null   float64\n",
      " 13  botak_prob     7838 non-null   float64\n",
      "dtypes: float64(9), object(5)\n",
      "memory usage: 866.0+ KB\n"
     ]
    }
   ],
   "source": [
    "df.info()"
   ]
  },
  {
   "cell_type": "markdown",
   "metadata": {},
   "source": [
    "# 1. Evaluasi Kualitas Data"
   ]
  },
  {
   "cell_type": "markdown",
   "metadata": {},
   "source": [
    "## 1.a Missing Value"
   ]
  },
  {
   "cell_type": "code",
   "execution_count": 111,
   "metadata": {
    "colab": {
     "base_uri": "https://localhost:8080/"
    },
    "executionInfo": {
     "elapsed": 921,
     "status": "ok",
     "timestamp": 1606631802976,
     "user": {
      "displayName": "Hafizh Adi Prasetya",
      "photoUrl": "",
      "userId": "17729880730015292488"
     },
     "user_tz": -420
    },
    "id": "6LxksRWvqGS_",
    "outputId": "0ddc06f1-0f72-4742-c97e-791a637ba790"
   },
   "outputs": [
    {
     "data": {
      "text/plain": [
       "umur              79\n",
       "jenis_kelamin     77\n",
       "pekerjaan        157\n",
       "provinsi          86\n",
       "gaji              74\n",
       "is_menikah        72\n",
       "is_keturunan      89\n",
       "berat             56\n",
       "tinggi            74\n",
       "sampo             59\n",
       "is_merokok        70\n",
       "pendidikan        70\n",
       "stress            64\n",
       "botak_prob        79\n",
       "dtype: int64"
      ]
     },
     "execution_count": 111,
     "metadata": {},
     "output_type": "execute_result"
    }
   ],
   "source": [
    "### checking\n",
    "df.isna().sum()"
   ]
  },
  {
   "cell_type": "code",
   "execution_count": 112,
   "metadata": {
    "ExecuteTime": {
     "end_time": "2020-08-30T04:47:05.707663Z",
     "start_time": "2020-08-30T04:47:05.702667Z"
    },
    "executionInfo": {
     "elapsed": 986,
     "status": "ok",
     "timestamp": 1606631805233,
     "user": {
      "displayName": "Hafizh Adi Prasetya",
      "photoUrl": "",
      "userId": "17729880730015292488"
     },
     "user_tz": -420
    },
    "id": "VaTOU1g5kly9"
   },
   "outputs": [],
   "source": [
    "cats = ['jenis_kelamin', 'pekerjaan', 'sampo', 'pendidikan', 'provinsi']\n",
    "nums = ['umur', 'gaji', 'is_menikah', 'is_keturunan', 'berat', 'tinggi', 'is_merokok', 'stress', 'botak_prob']"
   ]
  },
  {
   "cell_type": "code",
   "execution_count": 113,
   "metadata": {
    "ExecuteTime": {
     "end_time": "2020-08-30T04:47:06.169620Z",
     "start_time": "2020-08-30T04:47:06.100661Z"
    },
    "colab": {
     "base_uri": "https://localhost:8080/",
     "height": 297
    },
    "executionInfo": {
     "elapsed": 913,
     "status": "ok",
     "timestamp": 1606631805607,
     "user": {
      "displayName": "Hafizh Adi Prasetya",
      "photoUrl": "",
      "userId": "17729880730015292488"
     },
     "user_tz": -420
    },
    "id": "Gej90Bn0klzA",
    "outputId": "fb0903f0-5eef-4f94-b3c3-8a488da140b5"
   },
   "outputs": [
    {
     "data": {
      "text/html": [
       "<div>\n",
       "<style scoped>\n",
       "    .dataframe tbody tr th:only-of-type {\n",
       "        vertical-align: middle;\n",
       "    }\n",
       "\n",
       "    .dataframe tbody tr th {\n",
       "        vertical-align: top;\n",
       "    }\n",
       "\n",
       "    .dataframe thead th {\n",
       "        text-align: right;\n",
       "    }\n",
       "</style>\n",
       "<table border=\"1\" class=\"dataframe\">\n",
       "  <thead>\n",
       "    <tr style=\"text-align: right;\">\n",
       "      <th></th>\n",
       "      <th>umur</th>\n",
       "      <th>gaji</th>\n",
       "      <th>is_menikah</th>\n",
       "      <th>is_keturunan</th>\n",
       "      <th>berat</th>\n",
       "      <th>tinggi</th>\n",
       "      <th>is_merokok</th>\n",
       "      <th>stress</th>\n",
       "      <th>botak_prob</th>\n",
       "    </tr>\n",
       "  </thead>\n",
       "  <tbody>\n",
       "    <tr>\n",
       "      <th>count</th>\n",
       "      <td>7838.000000</td>\n",
       "      <td>7.843000e+03</td>\n",
       "      <td>7845.000000</td>\n",
       "      <td>7828.000000</td>\n",
       "      <td>7861.000000</td>\n",
       "      <td>7843.000000</td>\n",
       "      <td>7847.000000</td>\n",
       "      <td>7853.000000</td>\n",
       "      <td>7838.000000</td>\n",
       "    </tr>\n",
       "    <tr>\n",
       "      <th>mean</th>\n",
       "      <td>39.461725</td>\n",
       "      <td>8.853770e+06</td>\n",
       "      <td>0.979095</td>\n",
       "      <td>0.204650</td>\n",
       "      <td>55.957306</td>\n",
       "      <td>167.252704</td>\n",
       "      <td>0.497133</td>\n",
       "      <td>5.456259</td>\n",
       "      <td>0.573851</td>\n",
       "    </tr>\n",
       "    <tr>\n",
       "      <th>std</th>\n",
       "      <td>9.942286</td>\n",
       "      <td>4.499844e+06</td>\n",
       "      <td>0.143076</td>\n",
       "      <td>0.403471</td>\n",
       "      <td>9.594065</td>\n",
       "      <td>10.933646</td>\n",
       "      <td>0.500024</td>\n",
       "      <td>2.860623</td>\n",
       "      <td>0.173386</td>\n",
       "    </tr>\n",
       "    <tr>\n",
       "      <th>min</th>\n",
       "      <td>-1.000000</td>\n",
       "      <td>1.500000e+06</td>\n",
       "      <td>0.000000</td>\n",
       "      <td>0.000000</td>\n",
       "      <td>40.000000</td>\n",
       "      <td>125.491784</td>\n",
       "      <td>0.000000</td>\n",
       "      <td>1.000000</td>\n",
       "      <td>0.064633</td>\n",
       "    </tr>\n",
       "    <tr>\n",
       "      <th>25%</th>\n",
       "      <td>33.000000</td>\n",
       "      <td>5.735468e+06</td>\n",
       "      <td>1.000000</td>\n",
       "      <td>0.000000</td>\n",
       "      <td>49.312715</td>\n",
       "      <td>159.758874</td>\n",
       "      <td>0.000000</td>\n",
       "      <td>3.000000</td>\n",
       "      <td>0.452360</td>\n",
       "    </tr>\n",
       "    <tr>\n",
       "      <th>50%</th>\n",
       "      <td>39.000000</td>\n",
       "      <td>7.850662e+06</td>\n",
       "      <td>1.000000</td>\n",
       "      <td>0.000000</td>\n",
       "      <td>53.839669</td>\n",
       "      <td>167.155287</td>\n",
       "      <td>0.000000</td>\n",
       "      <td>5.000000</td>\n",
       "      <td>0.567954</td>\n",
       "    </tr>\n",
       "    <tr>\n",
       "      <th>75%</th>\n",
       "      <td>46.000000</td>\n",
       "      <td>1.083589e+07</td>\n",
       "      <td>1.000000</td>\n",
       "      <td>0.000000</td>\n",
       "      <td>60.259654</td>\n",
       "      <td>174.439620</td>\n",
       "      <td>1.000000</td>\n",
       "      <td>8.000000</td>\n",
       "      <td>0.686782</td>\n",
       "    </tr>\n",
       "    <tr>\n",
       "      <th>max</th>\n",
       "      <td>77.000000</td>\n",
       "      <td>5.000000e+07</td>\n",
       "      <td>1.000000</td>\n",
       "      <td>1.000000</td>\n",
       "      <td>150.000000</td>\n",
       "      <td>226.454577</td>\n",
       "      <td>1.000000</td>\n",
       "      <td>10.000000</td>\n",
       "      <td>1.000000</td>\n",
       "    </tr>\n",
       "  </tbody>\n",
       "</table>\n",
       "</div>"
      ],
      "text/plain": [
       "              umur          gaji   is_menikah  is_keturunan        berat  \\\n",
       "count  7838.000000  7.843000e+03  7845.000000   7828.000000  7861.000000   \n",
       "mean     39.461725  8.853770e+06     0.979095      0.204650    55.957306   \n",
       "std       9.942286  4.499844e+06     0.143076      0.403471     9.594065   \n",
       "min      -1.000000  1.500000e+06     0.000000      0.000000    40.000000   \n",
       "25%      33.000000  5.735468e+06     1.000000      0.000000    49.312715   \n",
       "50%      39.000000  7.850662e+06     1.000000      0.000000    53.839669   \n",
       "75%      46.000000  1.083589e+07     1.000000      0.000000    60.259654   \n",
       "max      77.000000  5.000000e+07     1.000000      1.000000   150.000000   \n",
       "\n",
       "            tinggi   is_merokok       stress   botak_prob  \n",
       "count  7843.000000  7847.000000  7853.000000  7838.000000  \n",
       "mean    167.252704     0.497133     5.456259     0.573851  \n",
       "std      10.933646     0.500024     2.860623     0.173386  \n",
       "min     125.491784     0.000000     1.000000     0.064633  \n",
       "25%     159.758874     0.000000     3.000000     0.452360  \n",
       "50%     167.155287     0.000000     5.000000     0.567954  \n",
       "75%     174.439620     1.000000     8.000000     0.686782  \n",
       "max     226.454577     1.000000    10.000000     1.000000  "
      ]
     },
     "execution_count": 113,
     "metadata": {},
     "output_type": "execute_result"
    }
   ],
   "source": [
    "df[nums].describe()"
   ]
  },
  {
   "cell_type": "code",
   "execution_count": 114,
   "metadata": {
    "ExecuteTime": {
     "end_time": "2020-08-30T04:47:06.596591Z",
     "start_time": "2020-08-30T04:47:06.547617Z"
    },
    "colab": {
     "base_uri": "https://localhost:8080/",
     "height": 173
    },
    "executionInfo": {
     "elapsed": 1247,
     "status": "ok",
     "timestamp": 1606631806609,
     "user": {
      "displayName": "Hafizh Adi Prasetya",
      "photoUrl": "",
      "userId": "17729880730015292488"
     },
     "user_tz": -420
    },
    "id": "LsTpD-oaklzC",
    "outputId": "6509750d-f1d2-4b3a-ed1f-847dbff097a4"
   },
   "outputs": [
    {
     "data": {
      "text/html": [
       "<div>\n",
       "<style scoped>\n",
       "    .dataframe tbody tr th:only-of-type {\n",
       "        vertical-align: middle;\n",
       "    }\n",
       "\n",
       "    .dataframe tbody tr th {\n",
       "        vertical-align: top;\n",
       "    }\n",
       "\n",
       "    .dataframe thead th {\n",
       "        text-align: right;\n",
       "    }\n",
       "</style>\n",
       "<table border=\"1\" class=\"dataframe\">\n",
       "  <thead>\n",
       "    <tr style=\"text-align: right;\">\n",
       "      <th></th>\n",
       "      <th>jenis_kelamin</th>\n",
       "      <th>pekerjaan</th>\n",
       "      <th>sampo</th>\n",
       "      <th>pendidikan</th>\n",
       "      <th>provinsi</th>\n",
       "    </tr>\n",
       "  </thead>\n",
       "  <tbody>\n",
       "    <tr>\n",
       "      <th>count</th>\n",
       "      <td>7840</td>\n",
       "      <td>7760</td>\n",
       "      <td>7858</td>\n",
       "      <td>7847</td>\n",
       "      <td>7831</td>\n",
       "    </tr>\n",
       "    <tr>\n",
       "      <th>unique</th>\n",
       "      <td>2</td>\n",
       "      <td>4</td>\n",
       "      <td>5</td>\n",
       "      <td>6</td>\n",
       "      <td>34</td>\n",
       "    </tr>\n",
       "    <tr>\n",
       "      <th>top</th>\n",
       "      <td>Laki-laki</td>\n",
       "      <td>Pegawai swasta</td>\n",
       "      <td>Deadbuoy</td>\n",
       "      <td>S1</td>\n",
       "      <td>Kupang</td>\n",
       "    </tr>\n",
       "    <tr>\n",
       "      <th>freq</th>\n",
       "      <td>5367</td>\n",
       "      <td>3160</td>\n",
       "      <td>1618</td>\n",
       "      <td>4309</td>\n",
       "      <td>261</td>\n",
       "    </tr>\n",
       "  </tbody>\n",
       "</table>\n",
       "</div>"
      ],
      "text/plain": [
       "       jenis_kelamin       pekerjaan     sampo pendidikan provinsi\n",
       "count           7840            7760      7858       7847     7831\n",
       "unique             2               4         5          6       34\n",
       "top        Laki-laki  Pegawai swasta  Deadbuoy         S1   Kupang\n",
       "freq            5367            3160      1618       4309      261"
      ]
     },
     "execution_count": 114,
     "metadata": {},
     "output_type": "execute_result"
    }
   ],
   "source": [
    "df[cats].describe()"
   ]
  },
  {
   "cell_type": "markdown",
   "metadata": {
    "id": "lkyMgru2klzF"
   },
   "source": [
    "## Missing Data"
   ]
  },
  {
   "cell_type": "code",
   "execution_count": 115,
   "metadata": {
    "ExecuteTime": {
     "end_time": "2020-08-30T04:47:07.547953Z",
     "start_time": "2020-08-30T04:47:07.538955Z"
    },
    "colab": {
     "base_uri": "https://localhost:8080/"
    },
    "executionInfo": {
     "elapsed": 884,
     "status": "ok",
     "timestamp": 1606631807569,
     "user": {
      "displayName": "Hafizh Adi Prasetya",
      "photoUrl": "",
      "userId": "17729880730015292488"
     },
     "user_tz": -420
    },
    "id": "9j5yuU6PklzG",
    "outputId": "c3dd91a9-02d6-448a-ed65-52d100430938"
   },
   "outputs": [
    {
     "data": {
      "text/plain": [
       "umur              79\n",
       "jenis_kelamin     77\n",
       "pekerjaan        157\n",
       "provinsi          86\n",
       "gaji              74\n",
       "is_menikah        72\n",
       "is_keturunan      89\n",
       "berat             56\n",
       "tinggi            74\n",
       "sampo             59\n",
       "is_merokok        70\n",
       "pendidikan        70\n",
       "stress            64\n",
       "botak_prob        79\n",
       "dtype: int64"
      ]
     },
     "execution_count": 115,
     "metadata": {},
     "output_type": "execute_result"
    }
   ],
   "source": [
    "df.isna().sum()"
   ]
  },
  {
   "cell_type": "markdown",
   "metadata": {
    "id": "g5Pr0exaklzI"
   },
   "source": [
    "### Drop"
   ]
  },
  {
   "cell_type": "code",
   "execution_count": 116,
   "metadata": {
    "ExecuteTime": {
     "end_time": "2020-08-30T04:47:37.452533Z",
     "start_time": "2020-08-30T04:47:37.442538Z"
    },
    "executionInfo": {
     "elapsed": 922,
     "status": "ok",
     "timestamp": 1606632422281,
     "user": {
      "displayName": "Hafizh Adi Prasetya",
      "photoUrl": "",
      "userId": "17729880730015292488"
     },
     "user_tz": -420
    },
    "id": "lkIa5rYPklzJ"
   },
   "outputs": [],
   "source": [
    "df.dropna(subset=['botak_prob'], inplace=True)"
   ]
  },
  {
   "cell_type": "markdown",
   "metadata": {
    "id": "-7qyCeIAklzL"
   },
   "source": [
    "### Imputasi Numeric"
   ]
  },
  {
   "cell_type": "code",
   "execution_count": 117,
   "metadata": {
    "ExecuteTime": {
     "end_time": "2020-08-30T04:53:20.744252Z",
     "start_time": "2020-08-30T04:53:20.513372Z"
    },
    "executionInfo": {
     "elapsed": 1151,
     "status": "ok",
     "timestamp": 1606632423188,
     "user": {
      "displayName": "Hafizh Adi Prasetya",
      "photoUrl": "",
      "userId": "17729880730015292488"
     },
     "user_tz": -420
    },
    "id": "UbWnYHBzklzL"
   },
   "outputs": [],
   "source": [
    "df['is_menikah'] = df.apply(lambda x: x['umur'] > 30 if np.isnan(x['is_menikah']) else x['is_menikah'], axis=1)\n",
    "df['is_keturunan'].fillna(0, inplace=True)\n",
    "df['is_merokok'].fillna(1, inplace=True)\n",
    "\n",
    "df['umur'].fillna(df['umur'].mean(), inplace=True)\n",
    "df['gaji'].fillna(df['gaji'].mean(), inplace=True)\n",
    "df['tinggi'].fillna(df['berat'].mean(), inplace=True)\n",
    "df['berat'].fillna(df['tinggi'].mean(), inplace=True)\n",
    "df['stress'].fillna(df['stress'].mean(), inplace=True)"
   ]
  },
  {
   "cell_type": "markdown",
   "metadata": {
    "id": "qJZS8KrPklzO"
   },
   "source": [
    "### Imputasi Categorical"
   ]
  },
  {
   "cell_type": "code",
   "execution_count": 146,
   "metadata": {
    "ExecuteTime": {
     "end_time": "2020-08-30T04:53:21.493297Z",
     "start_time": "2020-08-30T04:53:21.479286Z"
    },
    "executionInfo": {
     "elapsed": 907,
     "status": "ok",
     "timestamp": 1606632425075,
     "user": {
      "displayName": "Hafizh Adi Prasetya",
      "photoUrl": "",
      "userId": "17729880730015292488"
     },
     "user_tz": -420
    },
    "id": "9HdEN3vlklzO"
   },
   "outputs": [],
   "source": [
    "df['jenis_kelamin'].fillna(df['jenis_kelamin'].mode()[0], inplace=True)\n",
    "df['provinsi'].fillna(df['provinsi'].mode()[0], inplace=True)\n",
    "df['sampo'].fillna(df['sampo'].mode()[0], inplace=True)\n",
    "df['pendidikan'].fillna(df['pendidikan'].mode()[0], inplace=True)\n",
    "df['pekerjaan'].fillna(df['pekerjaan'].mode()[0], inplace=True)"
   ]
  },
  {
   "cell_type": "code",
   "execution_count": 119,
   "metadata": {
    "ExecuteTime": {
     "end_time": "2020-08-30T04:53:29.344409Z",
     "start_time": "2020-08-30T04:53:29.329414Z"
    },
    "colab": {
     "base_uri": "https://localhost:8080/"
    },
    "executionInfo": {
     "elapsed": 1203,
     "status": "ok",
     "timestamp": 1606632430609,
     "user": {
      "displayName": "Hafizh Adi Prasetya",
      "photoUrl": "",
      "userId": "17729880730015292488"
     },
     "user_tz": -420
    },
    "id": "rur_tJNZklzR",
    "outputId": "fd8e4b1e-2d4d-4d6c-839c-beec498fb901"
   },
   "outputs": [
    {
     "data": {
      "text/plain": [
       "umur             0\n",
       "jenis_kelamin    0\n",
       "pekerjaan        0\n",
       "provinsi         0\n",
       "gaji             0\n",
       "is_menikah       0\n",
       "is_keturunan     0\n",
       "berat            0\n",
       "tinggi           0\n",
       "sampo            0\n",
       "is_merokok       0\n",
       "pendidikan       0\n",
       "stress           0\n",
       "botak_prob       0\n",
       "dtype: int64"
      ]
     },
     "execution_count": 119,
     "metadata": {},
     "output_type": "execute_result"
    }
   ],
   "source": [
    "df.isna().sum()"
   ]
  },
  {
   "cell_type": "markdown",
   "metadata": {},
   "source": [
    "## 1.b Inconsitency Data"
   ]
  },
  {
   "cell_type": "code",
   "execution_count": 120,
   "metadata": {},
   "outputs": [
    {
     "data": {
      "text/plain": [
       "count    7838.000000\n",
       "mean       39.472484\n",
       "std         9.887590\n",
       "min        -1.000000\n",
       "25%        33.000000\n",
       "50%        39.472484\n",
       "75%        46.000000\n",
       "max        77.000000\n",
       "Name: umur, dtype: float64"
      ]
     },
     "execution_count": 120,
     "metadata": {},
     "output_type": "execute_result"
    }
   ],
   "source": [
    "# minimum value have negative number\n",
    "df['umur'].describe()"
   ]
  },
  {
   "cell_type": "code",
   "execution_count": 121,
   "metadata": {},
   "outputs": [],
   "source": [
    "## change negative number by minimum\n",
    "df.loc[df['umur'] ==-1,'umur'] = df['umur'].mean()"
   ]
  },
  {
   "cell_type": "code",
   "execution_count": 122,
   "metadata": {},
   "outputs": [
    {
     "data": {
      "text/plain": [
       "count    7838.000000\n",
       "mean       39.503465\n",
       "std         9.823920\n",
       "min         2.000000\n",
       "25%        33.000000\n",
       "50%        39.472484\n",
       "75%        46.000000\n",
       "max        77.000000\n",
       "Name: umur, dtype: float64"
      ]
     },
     "execution_count": 122,
     "metadata": {},
     "output_type": "execute_result"
    }
   ],
   "source": [
    "df['umur'].describe()"
   ]
  },
  {
   "cell_type": "markdown",
   "metadata": {},
   "source": [
    "## 1.c Duplicated Data"
   ]
  },
  {
   "cell_type": "code",
   "execution_count": 123,
   "metadata": {
    "colab": {
     "base_uri": "https://localhost:8080/"
    },
    "executionInfo": {
     "elapsed": 928,
     "status": "ok",
     "timestamp": 1606632722324,
     "user": {
      "displayName": "Hafizh Adi Prasetya",
      "photoUrl": "",
      "userId": "17729880730015292488"
     },
     "user_tz": -420
    },
    "id": "3crPF90PxMQV",
    "outputId": "549dea7b-3431-40c1-9a7a-e549bc1f9688"
   },
   "outputs": [
    {
     "data": {
      "text/plain": [
       "90"
      ]
     },
     "execution_count": 123,
     "metadata": {},
     "output_type": "execute_result"
    }
   ],
   "source": [
    "df.duplicated(subset=['umur','sampo', 'berat']).sum()"
   ]
  },
  {
   "cell_type": "code",
   "execution_count": 124,
   "metadata": {
    "ExecuteTime": {
     "end_time": "2020-08-30T04:53:55.826847Z",
     "start_time": "2020-08-30T04:53:55.779064Z"
    },
    "colab": {
     "base_uri": "https://localhost:8080/"
    },
    "executionInfo": {
     "elapsed": 924,
     "status": "ok",
     "timestamp": 1606632829577,
     "user": {
      "displayName": "Hafizh Adi Prasetya",
      "photoUrl": "",
      "userId": "17729880730015292488"
     },
     "user_tz": -420
    },
    "id": "hMfB0p1OklzT",
    "outputId": "8c9a36a3-66d4-4ff9-9f6b-ad35004f69b8"
   },
   "outputs": [
    {
     "name": "stdout",
     "output_type": "stream",
     "text": [
      "81\n",
      "0\n"
     ]
    }
   ],
   "source": [
    "print(df.duplicated().sum())\n",
    "df.drop_duplicates(inplace=True)\n",
    "print(df.duplicated().sum())"
   ]
  },
  {
   "cell_type": "code",
   "execution_count": 154,
   "metadata": {},
   "outputs": [],
   "source": [
    "df = df.reset_index(drop=True)"
   ]
  },
  {
   "cell_type": "markdown",
   "metadata": {
    "id": "I4ZL4ceOklze"
   },
   "source": [
    "# 2. Normalization and Standardization"
   ]
  },
  {
   "cell_type": "code",
   "execution_count": 155,
   "metadata": {
    "ExecuteTime": {
     "end_time": "2020-08-30T04:58:44.166412Z",
     "start_time": "2020-08-30T04:58:44.114460Z"
    },
    "colab": {
     "base_uri": "https://localhost:8080/",
     "height": 297
    },
    "executionInfo": {
     "elapsed": 1773,
     "status": "ok",
     "timestamp": 1606629095947,
     "user": {
      "displayName": "Hafizh Adi Prasetya",
      "photoUrl": "",
      "userId": "17729880730015292488"
     },
     "user_tz": -420
    },
    "id": "Tp1kMn5pklzf",
    "outputId": "57271f46-00f3-4d84-8062-d3ead29025e5"
   },
   "outputs": [
    {
     "data": {
      "text/html": [
       "<div>\n",
       "<style scoped>\n",
       "    .dataframe tbody tr th:only-of-type {\n",
       "        vertical-align: middle;\n",
       "    }\n",
       "\n",
       "    .dataframe tbody tr th {\n",
       "        vertical-align: top;\n",
       "    }\n",
       "\n",
       "    .dataframe thead th {\n",
       "        text-align: right;\n",
       "    }\n",
       "</style>\n",
       "<table border=\"1\" class=\"dataframe\">\n",
       "  <thead>\n",
       "    <tr style=\"text-align: right;\">\n",
       "      <th></th>\n",
       "      <th>umur</th>\n",
       "      <th>jenis_kelamin</th>\n",
       "      <th>pekerjaan</th>\n",
       "      <th>provinsi</th>\n",
       "      <th>gaji</th>\n",
       "      <th>is_keturunan</th>\n",
       "      <th>berat</th>\n",
       "      <th>tinggi</th>\n",
       "      <th>sampo</th>\n",
       "      <th>is_merokok</th>\n",
       "      <th>pendidikan</th>\n",
       "      <th>stress</th>\n",
       "      <th>botak_prob</th>\n",
       "      <th>berat_norm</th>\n",
       "      <th>tinggi_norm</th>\n",
       "      <th>umur_std</th>\n",
       "      <th>gaji_std</th>\n",
       "    </tr>\n",
       "  </thead>\n",
       "  <tbody>\n",
       "    <tr>\n",
       "      <th>count</th>\n",
       "      <td>7757.000000</td>\n",
       "      <td>7680.000000</td>\n",
       "      <td>7680.000000</td>\n",
       "      <td>7680.000000</td>\n",
       "      <td>7.757000e+03</td>\n",
       "      <td>7757.000000</td>\n",
       "      <td>7757.000000</td>\n",
       "      <td>7757.000000</td>\n",
       "      <td>7680.000000</td>\n",
       "      <td>7757.000000</td>\n",
       "      <td>7680.000000</td>\n",
       "      <td>7757.000000</td>\n",
       "      <td>7757.000000</td>\n",
       "      <td>7757.000000</td>\n",
       "      <td>7757.000000</td>\n",
       "      <td>7.757000e+03</td>\n",
       "      <td>7.757000e+03</td>\n",
       "    </tr>\n",
       "    <tr>\n",
       "      <th>mean</th>\n",
       "      <td>39.499312</td>\n",
       "      <td>0.310417</td>\n",
       "      <td>1.363542</td>\n",
       "      <td>16.266406</td>\n",
       "      <td>8.839568e+06</td>\n",
       "      <td>0.202527</td>\n",
       "      <td>56.742044</td>\n",
       "      <td>166.202713</td>\n",
       "      <td>1.965495</td>\n",
       "      <td>0.503030</td>\n",
       "      <td>1.552214</td>\n",
       "      <td>5.446902</td>\n",
       "      <td>0.573762</td>\n",
       "      <td>0.132634</td>\n",
       "      <td>0.646626</td>\n",
       "      <td>-5.189223e-16</td>\n",
       "      <td>-2.450448e-16</td>\n",
       "    </tr>\n",
       "    <tr>\n",
       "      <th>std</th>\n",
       "      <td>9.826394</td>\n",
       "      <td>0.462694</td>\n",
       "      <td>0.778085</td>\n",
       "      <td>9.701314</td>\n",
       "      <td>4.464131e+06</td>\n",
       "      <td>0.401909</td>\n",
       "      <td>13.359170</td>\n",
       "      <td>15.240704</td>\n",
       "      <td>1.429229</td>\n",
       "      <td>0.500023</td>\n",
       "      <td>1.939207</td>\n",
       "      <td>2.853937</td>\n",
       "      <td>0.173528</td>\n",
       "      <td>0.105834</td>\n",
       "      <td>0.089386</td>\n",
       "      <td>1.000064e+00</td>\n",
       "      <td>1.000064e+00</td>\n",
       "    </tr>\n",
       "    <tr>\n",
       "      <th>min</th>\n",
       "      <td>2.000000</td>\n",
       "      <td>0.000000</td>\n",
       "      <td>0.000000</td>\n",
       "      <td>0.000000</td>\n",
       "      <td>1.500000e+06</td>\n",
       "      <td>0.000000</td>\n",
       "      <td>40.000000</td>\n",
       "      <td>55.950123</td>\n",
       "      <td>0.000000</td>\n",
       "      <td>0.000000</td>\n",
       "      <td>0.000000</td>\n",
       "      <td>1.000000</td>\n",
       "      <td>0.064633</td>\n",
       "      <td>0.000000</td>\n",
       "      <td>0.000000</td>\n",
       "      <td>-3.816428e+00</td>\n",
       "      <td>-1.644226e+00</td>\n",
       "    </tr>\n",
       "    <tr>\n",
       "      <th>25%</th>\n",
       "      <td>33.000000</td>\n",
       "      <td>0.000000</td>\n",
       "      <td>1.000000</td>\n",
       "      <td>8.000000</td>\n",
       "      <td>5.751593e+06</td>\n",
       "      <td>0.000000</td>\n",
       "      <td>49.331837</td>\n",
       "      <td>159.518068</td>\n",
       "      <td>1.000000</td>\n",
       "      <td>0.000000</td>\n",
       "      <td>0.000000</td>\n",
       "      <td>3.000000</td>\n",
       "      <td>0.451812</td>\n",
       "      <td>0.073929</td>\n",
       "      <td>0.607421</td>\n",
       "      <td>-6.614563e-01</td>\n",
       "      <td>-6.917751e-01</td>\n",
       "    </tr>\n",
       "    <tr>\n",
       "      <th>50%</th>\n",
       "      <td>39.472484</td>\n",
       "      <td>0.000000</td>\n",
       "      <td>1.000000</td>\n",
       "      <td>16.000000</td>\n",
       "      <td>7.886925e+06</td>\n",
       "      <td>0.000000</td>\n",
       "      <td>53.914947</td>\n",
       "      <td>167.003566</td>\n",
       "      <td>2.000000</td>\n",
       "      <td>1.000000</td>\n",
       "      <td>0.000000</td>\n",
       "      <td>5.000000</td>\n",
       "      <td>0.567963</td>\n",
       "      <td>0.110237</td>\n",
       "      <td>0.651323</td>\n",
       "      <td>-2.730390e-03</td>\n",
       "      <td>-2.134132e-01</td>\n",
       "    </tr>\n",
       "    <tr>\n",
       "      <th>75%</th>\n",
       "      <td>46.000000</td>\n",
       "      <td>1.000000</td>\n",
       "      <td>2.000000</td>\n",
       "      <td>25.000000</td>\n",
       "      <td>1.077521e+07</td>\n",
       "      <td>0.000000</td>\n",
       "      <td>60.501640</td>\n",
       "      <td>174.358056</td>\n",
       "      <td>3.000000</td>\n",
       "      <td>1.000000</td>\n",
       "      <td>4.000000</td>\n",
       "      <td>8.000000</td>\n",
       "      <td>0.686788</td>\n",
       "      <td>0.162419</td>\n",
       "      <td>0.694457</td>\n",
       "      <td>6.615964e-01</td>\n",
       "      <td>4.336262e-01</td>\n",
       "    </tr>\n",
       "    <tr>\n",
       "      <th>max</th>\n",
       "      <td>77.000000</td>\n",
       "      <td>1.000000</td>\n",
       "      <td>3.000000</td>\n",
       "      <td>33.000000</td>\n",
       "      <td>5.000000e+07</td>\n",
       "      <td>1.000000</td>\n",
       "      <td>166.227238</td>\n",
       "      <td>226.454577</td>\n",
       "      <td>4.000000</td>\n",
       "      <td>1.000000</td>\n",
       "      <td>5.000000</td>\n",
       "      <td>10.000000</td>\n",
       "      <td>1.000000</td>\n",
       "      <td>1.000000</td>\n",
       "      <td>1.000000</td>\n",
       "      <td>3.816568e+00</td>\n",
       "      <td>9.220851e+00</td>\n",
       "    </tr>\n",
       "  </tbody>\n",
       "</table>\n",
       "</div>"
      ],
      "text/plain": [
       "              umur  jenis_kelamin    pekerjaan     provinsi          gaji  \\\n",
       "count  7757.000000    7680.000000  7680.000000  7680.000000  7.757000e+03   \n",
       "mean     39.499312       0.310417     1.363542    16.266406  8.839568e+06   \n",
       "std       9.826394       0.462694     0.778085     9.701314  4.464131e+06   \n",
       "min       2.000000       0.000000     0.000000     0.000000  1.500000e+06   \n",
       "25%      33.000000       0.000000     1.000000     8.000000  5.751593e+06   \n",
       "50%      39.472484       0.000000     1.000000    16.000000  7.886925e+06   \n",
       "75%      46.000000       1.000000     2.000000    25.000000  1.077521e+07   \n",
       "max      77.000000       1.000000     3.000000    33.000000  5.000000e+07   \n",
       "\n",
       "       is_keturunan        berat       tinggi        sampo   is_merokok  \\\n",
       "count   7757.000000  7757.000000  7757.000000  7680.000000  7757.000000   \n",
       "mean       0.202527    56.742044   166.202713     1.965495     0.503030   \n",
       "std        0.401909    13.359170    15.240704     1.429229     0.500023   \n",
       "min        0.000000    40.000000    55.950123     0.000000     0.000000   \n",
       "25%        0.000000    49.331837   159.518068     1.000000     0.000000   \n",
       "50%        0.000000    53.914947   167.003566     2.000000     1.000000   \n",
       "75%        0.000000    60.501640   174.358056     3.000000     1.000000   \n",
       "max        1.000000   166.227238   226.454577     4.000000     1.000000   \n",
       "\n",
       "        pendidikan       stress   botak_prob   berat_norm  tinggi_norm  \\\n",
       "count  7680.000000  7757.000000  7757.000000  7757.000000  7757.000000   \n",
       "mean      1.552214     5.446902     0.573762     0.132634     0.646626   \n",
       "std       1.939207     2.853937     0.173528     0.105834     0.089386   \n",
       "min       0.000000     1.000000     0.064633     0.000000     0.000000   \n",
       "25%       0.000000     3.000000     0.451812     0.073929     0.607421   \n",
       "50%       0.000000     5.000000     0.567963     0.110237     0.651323   \n",
       "75%       4.000000     8.000000     0.686788     0.162419     0.694457   \n",
       "max       5.000000    10.000000     1.000000     1.000000     1.000000   \n",
       "\n",
       "           umur_std      gaji_std  \n",
       "count  7.757000e+03  7.757000e+03  \n",
       "mean  -5.189223e-16 -2.450448e-16  \n",
       "std    1.000064e+00  1.000064e+00  \n",
       "min   -3.816428e+00 -1.644226e+00  \n",
       "25%   -6.614563e-01 -6.917751e-01  \n",
       "50%   -2.730390e-03 -2.134132e-01  \n",
       "75%    6.615964e-01  4.336262e-01  \n",
       "max    3.816568e+00  9.220851e+00  "
      ]
     },
     "execution_count": 155,
     "metadata": {},
     "output_type": "execute_result"
    }
   ],
   "source": [
    "df.describe()"
   ]
  },
  {
   "cell_type": "markdown",
   "metadata": {},
   "source": [
    "## 2a. Normalization"
   ]
  },
  {
   "cell_type": "code",
   "execution_count": 156,
   "metadata": {
    "executionInfo": {
     "elapsed": 933,
     "status": "ok",
     "timestamp": 1606634707600,
     "user": {
      "displayName": "Hafizh Adi Prasetya",
      "photoUrl": "",
      "userId": "17729880730015292488"
     },
     "user_tz": -420
    },
    "id": "RIPBhw885Adv"
   },
   "outputs": [],
   "source": [
    "from sklearn.preprocessing import MinMaxScaler"
   ]
  },
  {
   "cell_type": "code",
   "execution_count": 157,
   "metadata": {
    "ExecuteTime": {
     "end_time": "2020-08-30T05:00:11.859667Z",
     "start_time": "2020-08-30T05:00:11.846674Z"
    },
    "executionInfo": {
     "elapsed": 911,
     "status": "ok",
     "timestamp": 1606634827774,
     "user": {
      "displayName": "Hafizh Adi Prasetya",
      "photoUrl": "",
      "userId": "17729880730015292488"
     },
     "user_tz": -420
    },
    "id": "dt1mEFNgklzh"
   },
   "outputs": [],
   "source": [
    "df['berat_norm'] = MinMaxScaler().fit_transform(df['berat'].values.reshape(len(df), 1))\n",
    "df['tinggi_norm'] = MinMaxScaler().fit_transform(df['tinggi'].values.reshape(len(df), 1))"
   ]
  },
  {
   "cell_type": "code",
   "execution_count": 158,
   "metadata": {
    "colab": {
     "base_uri": "https://localhost:8080/",
     "height": 317
    },
    "executionInfo": {
     "elapsed": 937,
     "status": "ok",
     "timestamp": 1606634844418,
     "user": {
      "displayName": "Hafizh Adi Prasetya",
      "photoUrl": "",
      "userId": "17729880730015292488"
     },
     "user_tz": -420
    },
    "id": "KYytClUf5Vp0",
    "outputId": "b11539d9-3565-49d5-c2ca-9b8d8abb2c08"
   },
   "outputs": [
    {
     "data": {
      "text/html": [
       "<div>\n",
       "<style scoped>\n",
       "    .dataframe tbody tr th:only-of-type {\n",
       "        vertical-align: middle;\n",
       "    }\n",
       "\n",
       "    .dataframe tbody tr th {\n",
       "        vertical-align: top;\n",
       "    }\n",
       "\n",
       "    .dataframe thead th {\n",
       "        text-align: right;\n",
       "    }\n",
       "</style>\n",
       "<table border=\"1\" class=\"dataframe\">\n",
       "  <thead>\n",
       "    <tr style=\"text-align: right;\">\n",
       "      <th></th>\n",
       "      <th>umur</th>\n",
       "      <th>jenis_kelamin</th>\n",
       "      <th>pekerjaan</th>\n",
       "      <th>provinsi</th>\n",
       "      <th>gaji</th>\n",
       "      <th>is_keturunan</th>\n",
       "      <th>berat</th>\n",
       "      <th>tinggi</th>\n",
       "      <th>sampo</th>\n",
       "      <th>is_merokok</th>\n",
       "      <th>pendidikan</th>\n",
       "      <th>stress</th>\n",
       "      <th>botak_prob</th>\n",
       "      <th>berat_norm</th>\n",
       "      <th>tinggi_norm</th>\n",
       "      <th>umur_std</th>\n",
       "      <th>gaji_std</th>\n",
       "    </tr>\n",
       "  </thead>\n",
       "  <tbody>\n",
       "    <tr>\n",
       "      <th>count</th>\n",
       "      <td>7757.000000</td>\n",
       "      <td>7680.000000</td>\n",
       "      <td>7680.000000</td>\n",
       "      <td>7680.000000</td>\n",
       "      <td>7.757000e+03</td>\n",
       "      <td>7757.000000</td>\n",
       "      <td>7757.000000</td>\n",
       "      <td>7757.000000</td>\n",
       "      <td>7680.000000</td>\n",
       "      <td>7757.000000</td>\n",
       "      <td>7680.000000</td>\n",
       "      <td>7757.000000</td>\n",
       "      <td>7757.000000</td>\n",
       "      <td>7757.000000</td>\n",
       "      <td>7757.000000</td>\n",
       "      <td>7.757000e+03</td>\n",
       "      <td>7.757000e+03</td>\n",
       "    </tr>\n",
       "    <tr>\n",
       "      <th>mean</th>\n",
       "      <td>39.499312</td>\n",
       "      <td>0.310417</td>\n",
       "      <td>1.363542</td>\n",
       "      <td>16.266406</td>\n",
       "      <td>8.839568e+06</td>\n",
       "      <td>0.202527</td>\n",
       "      <td>56.742044</td>\n",
       "      <td>166.202713</td>\n",
       "      <td>1.965495</td>\n",
       "      <td>0.503030</td>\n",
       "      <td>1.552214</td>\n",
       "      <td>5.446902</td>\n",
       "      <td>0.573762</td>\n",
       "      <td>0.132634</td>\n",
       "      <td>0.646626</td>\n",
       "      <td>-5.189223e-16</td>\n",
       "      <td>-2.450448e-16</td>\n",
       "    </tr>\n",
       "    <tr>\n",
       "      <th>std</th>\n",
       "      <td>9.826394</td>\n",
       "      <td>0.462694</td>\n",
       "      <td>0.778085</td>\n",
       "      <td>9.701314</td>\n",
       "      <td>4.464131e+06</td>\n",
       "      <td>0.401909</td>\n",
       "      <td>13.359170</td>\n",
       "      <td>15.240704</td>\n",
       "      <td>1.429229</td>\n",
       "      <td>0.500023</td>\n",
       "      <td>1.939207</td>\n",
       "      <td>2.853937</td>\n",
       "      <td>0.173528</td>\n",
       "      <td>0.105834</td>\n",
       "      <td>0.089386</td>\n",
       "      <td>1.000064e+00</td>\n",
       "      <td>1.000064e+00</td>\n",
       "    </tr>\n",
       "    <tr>\n",
       "      <th>min</th>\n",
       "      <td>2.000000</td>\n",
       "      <td>0.000000</td>\n",
       "      <td>0.000000</td>\n",
       "      <td>0.000000</td>\n",
       "      <td>1.500000e+06</td>\n",
       "      <td>0.000000</td>\n",
       "      <td>40.000000</td>\n",
       "      <td>55.950123</td>\n",
       "      <td>0.000000</td>\n",
       "      <td>0.000000</td>\n",
       "      <td>0.000000</td>\n",
       "      <td>1.000000</td>\n",
       "      <td>0.064633</td>\n",
       "      <td>0.000000</td>\n",
       "      <td>0.000000</td>\n",
       "      <td>-3.816428e+00</td>\n",
       "      <td>-1.644226e+00</td>\n",
       "    </tr>\n",
       "    <tr>\n",
       "      <th>25%</th>\n",
       "      <td>33.000000</td>\n",
       "      <td>0.000000</td>\n",
       "      <td>1.000000</td>\n",
       "      <td>8.000000</td>\n",
       "      <td>5.751593e+06</td>\n",
       "      <td>0.000000</td>\n",
       "      <td>49.331837</td>\n",
       "      <td>159.518068</td>\n",
       "      <td>1.000000</td>\n",
       "      <td>0.000000</td>\n",
       "      <td>0.000000</td>\n",
       "      <td>3.000000</td>\n",
       "      <td>0.451812</td>\n",
       "      <td>0.073929</td>\n",
       "      <td>0.607421</td>\n",
       "      <td>-6.614563e-01</td>\n",
       "      <td>-6.917751e-01</td>\n",
       "    </tr>\n",
       "    <tr>\n",
       "      <th>50%</th>\n",
       "      <td>39.472484</td>\n",
       "      <td>0.000000</td>\n",
       "      <td>1.000000</td>\n",
       "      <td>16.000000</td>\n",
       "      <td>7.886925e+06</td>\n",
       "      <td>0.000000</td>\n",
       "      <td>53.914947</td>\n",
       "      <td>167.003566</td>\n",
       "      <td>2.000000</td>\n",
       "      <td>1.000000</td>\n",
       "      <td>0.000000</td>\n",
       "      <td>5.000000</td>\n",
       "      <td>0.567963</td>\n",
       "      <td>0.110237</td>\n",
       "      <td>0.651323</td>\n",
       "      <td>-2.730390e-03</td>\n",
       "      <td>-2.134132e-01</td>\n",
       "    </tr>\n",
       "    <tr>\n",
       "      <th>75%</th>\n",
       "      <td>46.000000</td>\n",
       "      <td>1.000000</td>\n",
       "      <td>2.000000</td>\n",
       "      <td>25.000000</td>\n",
       "      <td>1.077521e+07</td>\n",
       "      <td>0.000000</td>\n",
       "      <td>60.501640</td>\n",
       "      <td>174.358056</td>\n",
       "      <td>3.000000</td>\n",
       "      <td>1.000000</td>\n",
       "      <td>4.000000</td>\n",
       "      <td>8.000000</td>\n",
       "      <td>0.686788</td>\n",
       "      <td>0.162419</td>\n",
       "      <td>0.694457</td>\n",
       "      <td>6.615964e-01</td>\n",
       "      <td>4.336262e-01</td>\n",
       "    </tr>\n",
       "    <tr>\n",
       "      <th>max</th>\n",
       "      <td>77.000000</td>\n",
       "      <td>1.000000</td>\n",
       "      <td>3.000000</td>\n",
       "      <td>33.000000</td>\n",
       "      <td>5.000000e+07</td>\n",
       "      <td>1.000000</td>\n",
       "      <td>166.227238</td>\n",
       "      <td>226.454577</td>\n",
       "      <td>4.000000</td>\n",
       "      <td>1.000000</td>\n",
       "      <td>5.000000</td>\n",
       "      <td>10.000000</td>\n",
       "      <td>1.000000</td>\n",
       "      <td>1.000000</td>\n",
       "      <td>1.000000</td>\n",
       "      <td>3.816568e+00</td>\n",
       "      <td>9.220851e+00</td>\n",
       "    </tr>\n",
       "  </tbody>\n",
       "</table>\n",
       "</div>"
      ],
      "text/plain": [
       "              umur  jenis_kelamin    pekerjaan     provinsi          gaji  \\\n",
       "count  7757.000000    7680.000000  7680.000000  7680.000000  7.757000e+03   \n",
       "mean     39.499312       0.310417     1.363542    16.266406  8.839568e+06   \n",
       "std       9.826394       0.462694     0.778085     9.701314  4.464131e+06   \n",
       "min       2.000000       0.000000     0.000000     0.000000  1.500000e+06   \n",
       "25%      33.000000       0.000000     1.000000     8.000000  5.751593e+06   \n",
       "50%      39.472484       0.000000     1.000000    16.000000  7.886925e+06   \n",
       "75%      46.000000       1.000000     2.000000    25.000000  1.077521e+07   \n",
       "max      77.000000       1.000000     3.000000    33.000000  5.000000e+07   \n",
       "\n",
       "       is_keturunan        berat       tinggi        sampo   is_merokok  \\\n",
       "count   7757.000000  7757.000000  7757.000000  7680.000000  7757.000000   \n",
       "mean       0.202527    56.742044   166.202713     1.965495     0.503030   \n",
       "std        0.401909    13.359170    15.240704     1.429229     0.500023   \n",
       "min        0.000000    40.000000    55.950123     0.000000     0.000000   \n",
       "25%        0.000000    49.331837   159.518068     1.000000     0.000000   \n",
       "50%        0.000000    53.914947   167.003566     2.000000     1.000000   \n",
       "75%        0.000000    60.501640   174.358056     3.000000     1.000000   \n",
       "max        1.000000   166.227238   226.454577     4.000000     1.000000   \n",
       "\n",
       "        pendidikan       stress   botak_prob   berat_norm  tinggi_norm  \\\n",
       "count  7680.000000  7757.000000  7757.000000  7757.000000  7757.000000   \n",
       "mean      1.552214     5.446902     0.573762     0.132634     0.646626   \n",
       "std       1.939207     2.853937     0.173528     0.105834     0.089386   \n",
       "min       0.000000     1.000000     0.064633     0.000000     0.000000   \n",
       "25%       0.000000     3.000000     0.451812     0.073929     0.607421   \n",
       "50%       0.000000     5.000000     0.567963     0.110237     0.651323   \n",
       "75%       4.000000     8.000000     0.686788     0.162419     0.694457   \n",
       "max       5.000000    10.000000     1.000000     1.000000     1.000000   \n",
       "\n",
       "           umur_std      gaji_std  \n",
       "count  7.757000e+03  7.757000e+03  \n",
       "mean  -5.189223e-16 -2.450448e-16  \n",
       "std    1.000064e+00  1.000064e+00  \n",
       "min   -3.816428e+00 -1.644226e+00  \n",
       "25%   -6.614563e-01 -6.917751e-01  \n",
       "50%   -2.730390e-03 -2.134132e-01  \n",
       "75%    6.615964e-01  4.336262e-01  \n",
       "max    3.816568e+00  9.220851e+00  "
      ]
     },
     "execution_count": 158,
     "metadata": {},
     "output_type": "execute_result"
    }
   ],
   "source": [
    "df.describe()"
   ]
  },
  {
   "cell_type": "markdown",
   "metadata": {},
   "source": [
    "## 2b. Standardization"
   ]
  },
  {
   "cell_type": "code",
   "execution_count": 159,
   "metadata": {},
   "outputs": [],
   "source": [
    "from sklearn.preprocessing import StandardScaler"
   ]
  },
  {
   "cell_type": "code",
   "execution_count": 160,
   "metadata": {},
   "outputs": [],
   "source": [
    "df['umur_std'] = StandardScaler().fit_transform(df['umur'].values.reshape(len(df), 1))\n",
    "df['gaji_std'] = StandardScaler().fit_transform(df['gaji'].values.reshape(len(df), 1))"
   ]
  },
  {
   "cell_type": "code",
   "execution_count": 161,
   "metadata": {},
   "outputs": [
    {
     "data": {
      "text/html": [
       "<div>\n",
       "<style scoped>\n",
       "    .dataframe tbody tr th:only-of-type {\n",
       "        vertical-align: middle;\n",
       "    }\n",
       "\n",
       "    .dataframe tbody tr th {\n",
       "        vertical-align: top;\n",
       "    }\n",
       "\n",
       "    .dataframe thead th {\n",
       "        text-align: right;\n",
       "    }\n",
       "</style>\n",
       "<table border=\"1\" class=\"dataframe\">\n",
       "  <thead>\n",
       "    <tr style=\"text-align: right;\">\n",
       "      <th></th>\n",
       "      <th>umur</th>\n",
       "      <th>jenis_kelamin</th>\n",
       "      <th>pekerjaan</th>\n",
       "      <th>provinsi</th>\n",
       "      <th>gaji</th>\n",
       "      <th>is_keturunan</th>\n",
       "      <th>berat</th>\n",
       "      <th>tinggi</th>\n",
       "      <th>sampo</th>\n",
       "      <th>is_merokok</th>\n",
       "      <th>pendidikan</th>\n",
       "      <th>stress</th>\n",
       "      <th>botak_prob</th>\n",
       "      <th>berat_norm</th>\n",
       "      <th>tinggi_norm</th>\n",
       "      <th>umur_std</th>\n",
       "      <th>gaji_std</th>\n",
       "    </tr>\n",
       "  </thead>\n",
       "  <tbody>\n",
       "    <tr>\n",
       "      <th>count</th>\n",
       "      <td>7757.000000</td>\n",
       "      <td>7680.000000</td>\n",
       "      <td>7680.000000</td>\n",
       "      <td>7680.000000</td>\n",
       "      <td>7.757000e+03</td>\n",
       "      <td>7757.000000</td>\n",
       "      <td>7757.000000</td>\n",
       "      <td>7757.000000</td>\n",
       "      <td>7680.000000</td>\n",
       "      <td>7757.000000</td>\n",
       "      <td>7680.000000</td>\n",
       "      <td>7757.000000</td>\n",
       "      <td>7757.000000</td>\n",
       "      <td>7757.000000</td>\n",
       "      <td>7757.000000</td>\n",
       "      <td>7.757000e+03</td>\n",
       "      <td>7.757000e+03</td>\n",
       "    </tr>\n",
       "    <tr>\n",
       "      <th>mean</th>\n",
       "      <td>39.499312</td>\n",
       "      <td>0.310417</td>\n",
       "      <td>1.363542</td>\n",
       "      <td>16.266406</td>\n",
       "      <td>8.839568e+06</td>\n",
       "      <td>0.202527</td>\n",
       "      <td>56.742044</td>\n",
       "      <td>166.202713</td>\n",
       "      <td>1.965495</td>\n",
       "      <td>0.503030</td>\n",
       "      <td>1.552214</td>\n",
       "      <td>5.446902</td>\n",
       "      <td>0.573762</td>\n",
       "      <td>0.132634</td>\n",
       "      <td>0.646626</td>\n",
       "      <td>-5.189223e-16</td>\n",
       "      <td>-2.450448e-16</td>\n",
       "    </tr>\n",
       "    <tr>\n",
       "      <th>std</th>\n",
       "      <td>9.826394</td>\n",
       "      <td>0.462694</td>\n",
       "      <td>0.778085</td>\n",
       "      <td>9.701314</td>\n",
       "      <td>4.464131e+06</td>\n",
       "      <td>0.401909</td>\n",
       "      <td>13.359170</td>\n",
       "      <td>15.240704</td>\n",
       "      <td>1.429229</td>\n",
       "      <td>0.500023</td>\n",
       "      <td>1.939207</td>\n",
       "      <td>2.853937</td>\n",
       "      <td>0.173528</td>\n",
       "      <td>0.105834</td>\n",
       "      <td>0.089386</td>\n",
       "      <td>1.000064e+00</td>\n",
       "      <td>1.000064e+00</td>\n",
       "    </tr>\n",
       "    <tr>\n",
       "      <th>min</th>\n",
       "      <td>2.000000</td>\n",
       "      <td>0.000000</td>\n",
       "      <td>0.000000</td>\n",
       "      <td>0.000000</td>\n",
       "      <td>1.500000e+06</td>\n",
       "      <td>0.000000</td>\n",
       "      <td>40.000000</td>\n",
       "      <td>55.950123</td>\n",
       "      <td>0.000000</td>\n",
       "      <td>0.000000</td>\n",
       "      <td>0.000000</td>\n",
       "      <td>1.000000</td>\n",
       "      <td>0.064633</td>\n",
       "      <td>0.000000</td>\n",
       "      <td>0.000000</td>\n",
       "      <td>-3.816428e+00</td>\n",
       "      <td>-1.644226e+00</td>\n",
       "    </tr>\n",
       "    <tr>\n",
       "      <th>25%</th>\n",
       "      <td>33.000000</td>\n",
       "      <td>0.000000</td>\n",
       "      <td>1.000000</td>\n",
       "      <td>8.000000</td>\n",
       "      <td>5.751593e+06</td>\n",
       "      <td>0.000000</td>\n",
       "      <td>49.331837</td>\n",
       "      <td>159.518068</td>\n",
       "      <td>1.000000</td>\n",
       "      <td>0.000000</td>\n",
       "      <td>0.000000</td>\n",
       "      <td>3.000000</td>\n",
       "      <td>0.451812</td>\n",
       "      <td>0.073929</td>\n",
       "      <td>0.607421</td>\n",
       "      <td>-6.614563e-01</td>\n",
       "      <td>-6.917751e-01</td>\n",
       "    </tr>\n",
       "    <tr>\n",
       "      <th>50%</th>\n",
       "      <td>39.472484</td>\n",
       "      <td>0.000000</td>\n",
       "      <td>1.000000</td>\n",
       "      <td>16.000000</td>\n",
       "      <td>7.886925e+06</td>\n",
       "      <td>0.000000</td>\n",
       "      <td>53.914947</td>\n",
       "      <td>167.003566</td>\n",
       "      <td>2.000000</td>\n",
       "      <td>1.000000</td>\n",
       "      <td>0.000000</td>\n",
       "      <td>5.000000</td>\n",
       "      <td>0.567963</td>\n",
       "      <td>0.110237</td>\n",
       "      <td>0.651323</td>\n",
       "      <td>-2.730390e-03</td>\n",
       "      <td>-2.134132e-01</td>\n",
       "    </tr>\n",
       "    <tr>\n",
       "      <th>75%</th>\n",
       "      <td>46.000000</td>\n",
       "      <td>1.000000</td>\n",
       "      <td>2.000000</td>\n",
       "      <td>25.000000</td>\n",
       "      <td>1.077521e+07</td>\n",
       "      <td>0.000000</td>\n",
       "      <td>60.501640</td>\n",
       "      <td>174.358056</td>\n",
       "      <td>3.000000</td>\n",
       "      <td>1.000000</td>\n",
       "      <td>4.000000</td>\n",
       "      <td>8.000000</td>\n",
       "      <td>0.686788</td>\n",
       "      <td>0.162419</td>\n",
       "      <td>0.694457</td>\n",
       "      <td>6.615964e-01</td>\n",
       "      <td>4.336262e-01</td>\n",
       "    </tr>\n",
       "    <tr>\n",
       "      <th>max</th>\n",
       "      <td>77.000000</td>\n",
       "      <td>1.000000</td>\n",
       "      <td>3.000000</td>\n",
       "      <td>33.000000</td>\n",
       "      <td>5.000000e+07</td>\n",
       "      <td>1.000000</td>\n",
       "      <td>166.227238</td>\n",
       "      <td>226.454577</td>\n",
       "      <td>4.000000</td>\n",
       "      <td>1.000000</td>\n",
       "      <td>5.000000</td>\n",
       "      <td>10.000000</td>\n",
       "      <td>1.000000</td>\n",
       "      <td>1.000000</td>\n",
       "      <td>1.000000</td>\n",
       "      <td>3.816568e+00</td>\n",
       "      <td>9.220851e+00</td>\n",
       "    </tr>\n",
       "  </tbody>\n",
       "</table>\n",
       "</div>"
      ],
      "text/plain": [
       "              umur  jenis_kelamin    pekerjaan     provinsi          gaji  \\\n",
       "count  7757.000000    7680.000000  7680.000000  7680.000000  7.757000e+03   \n",
       "mean     39.499312       0.310417     1.363542    16.266406  8.839568e+06   \n",
       "std       9.826394       0.462694     0.778085     9.701314  4.464131e+06   \n",
       "min       2.000000       0.000000     0.000000     0.000000  1.500000e+06   \n",
       "25%      33.000000       0.000000     1.000000     8.000000  5.751593e+06   \n",
       "50%      39.472484       0.000000     1.000000    16.000000  7.886925e+06   \n",
       "75%      46.000000       1.000000     2.000000    25.000000  1.077521e+07   \n",
       "max      77.000000       1.000000     3.000000    33.000000  5.000000e+07   \n",
       "\n",
       "       is_keturunan        berat       tinggi        sampo   is_merokok  \\\n",
       "count   7757.000000  7757.000000  7757.000000  7680.000000  7757.000000   \n",
       "mean       0.202527    56.742044   166.202713     1.965495     0.503030   \n",
       "std        0.401909    13.359170    15.240704     1.429229     0.500023   \n",
       "min        0.000000    40.000000    55.950123     0.000000     0.000000   \n",
       "25%        0.000000    49.331837   159.518068     1.000000     0.000000   \n",
       "50%        0.000000    53.914947   167.003566     2.000000     1.000000   \n",
       "75%        0.000000    60.501640   174.358056     3.000000     1.000000   \n",
       "max        1.000000   166.227238   226.454577     4.000000     1.000000   \n",
       "\n",
       "        pendidikan       stress   botak_prob   berat_norm  tinggi_norm  \\\n",
       "count  7680.000000  7757.000000  7757.000000  7757.000000  7757.000000   \n",
       "mean      1.552214     5.446902     0.573762     0.132634     0.646626   \n",
       "std       1.939207     2.853937     0.173528     0.105834     0.089386   \n",
       "min       0.000000     1.000000     0.064633     0.000000     0.000000   \n",
       "25%       0.000000     3.000000     0.451812     0.073929     0.607421   \n",
       "50%       0.000000     5.000000     0.567963     0.110237     0.651323   \n",
       "75%       4.000000     8.000000     0.686788     0.162419     0.694457   \n",
       "max       5.000000    10.000000     1.000000     1.000000     1.000000   \n",
       "\n",
       "           umur_std      gaji_std  \n",
       "count  7.757000e+03  7.757000e+03  \n",
       "mean  -5.189223e-16 -2.450448e-16  \n",
       "std    1.000064e+00  1.000064e+00  \n",
       "min   -3.816428e+00 -1.644226e+00  \n",
       "25%   -6.614563e-01 -6.917751e-01  \n",
       "50%   -2.730390e-03 -2.134132e-01  \n",
       "75%    6.615964e-01  4.336262e-01  \n",
       "max    3.816568e+00  9.220851e+00  "
      ]
     },
     "execution_count": 161,
     "metadata": {},
     "output_type": "execute_result"
    }
   ],
   "source": [
    "df.describe()"
   ]
  },
  {
   "cell_type": "markdown",
   "metadata": {
    "id": "xeG3og_yklzj"
   },
   "source": [
    "# 3. Feature Encoding"
   ]
  },
  {
   "cell_type": "markdown",
   "metadata": {},
   "source": [
    "## 3.a One Hot Encoding"
   ]
  },
  {
   "cell_type": "code",
   "execution_count": 162,
   "metadata": {
    "ExecuteTime": {
     "end_time": "2020-08-30T05:01:28.272191Z",
     "start_time": "2020-08-30T05:01:28.243207Z"
    },
    "executionInfo": {
     "elapsed": 867,
     "status": "ok",
     "timestamp": 1606635457909,
     "user": {
      "displayName": "Hafizh Adi Prasetya",
      "photoUrl": "",
      "userId": "17729880730015292488"
     },
     "user_tz": -420
    },
    "id": "4M23LLISklzj",
    "scrolled": true
   },
   "outputs": [],
   "source": [
    "for cat in cats:\n",
    "    onehots = pd.get_dummies(df[cat], prefix=cat)\n",
    "    df_onehot = df.join(onehots)"
   ]
  },
  {
   "cell_type": "code",
   "execution_count": 163,
   "metadata": {
    "ExecuteTime": {
     "end_time": "2020-08-30T05:01:29.438422Z",
     "start_time": "2020-08-30T05:01:29.433411Z"
    },
    "colab": {
     "base_uri": "https://localhost:8080/",
     "height": 258
    },
    "executionInfo": {
     "elapsed": 887,
     "status": "ok",
     "timestamp": 1606635494466,
     "user": {
      "displayName": "Hafizh Adi Prasetya",
      "photoUrl": "",
      "userId": "17729880730015292488"
     },
     "user_tz": -420
    },
    "id": "0714epLLklzl",
    "outputId": "db8a6cf6-8723-4846-cda3-56092d00de01"
   },
   "outputs": [
    {
     "data": {
      "text/html": [
       "<div>\n",
       "<style scoped>\n",
       "    .dataframe tbody tr th:only-of-type {\n",
       "        vertical-align: middle;\n",
       "    }\n",
       "\n",
       "    .dataframe tbody tr th {\n",
       "        vertical-align: top;\n",
       "    }\n",
       "\n",
       "    .dataframe thead th {\n",
       "        text-align: right;\n",
       "    }\n",
       "</style>\n",
       "<table border=\"1\" class=\"dataframe\">\n",
       "  <thead>\n",
       "    <tr style=\"text-align: right;\">\n",
       "      <th></th>\n",
       "      <th>umur</th>\n",
       "      <th>jenis_kelamin</th>\n",
       "      <th>pekerjaan</th>\n",
       "      <th>provinsi</th>\n",
       "      <th>gaji</th>\n",
       "      <th>is_menikah</th>\n",
       "      <th>is_keturunan</th>\n",
       "      <th>berat</th>\n",
       "      <th>tinggi</th>\n",
       "      <th>sampo</th>\n",
       "      <th>is_merokok</th>\n",
       "      <th>pendidikan</th>\n",
       "      <th>stress</th>\n",
       "      <th>botak_prob</th>\n",
       "      <th>berat_norm</th>\n",
       "      <th>tinggi_norm</th>\n",
       "      <th>umur_std</th>\n",
       "      <th>gaji_std</th>\n",
       "    </tr>\n",
       "  </thead>\n",
       "  <tbody>\n",
       "    <tr>\n",
       "      <th>6631</th>\n",
       "      <td>38.0</td>\n",
       "      <td>1.0</td>\n",
       "      <td>2.0</td>\n",
       "      <td>0.0</td>\n",
       "      <td>6.735476e+06</td>\n",
       "      <td>1</td>\n",
       "      <td>0.0</td>\n",
       "      <td>61.634230</td>\n",
       "      <td>180.256574</td>\n",
       "      <td>3.0</td>\n",
       "      <td>1.0</td>\n",
       "      <td>0.0</td>\n",
       "      <td>6.0</td>\n",
       "      <td>0.543912</td>\n",
       "      <td>0.171391</td>\n",
       "      <td>0.729051</td>\n",
       "      <td>-0.152590</td>\n",
       "      <td>-0.471363</td>\n",
       "    </tr>\n",
       "    <tr>\n",
       "      <th>1927</th>\n",
       "      <td>42.0</td>\n",
       "      <td>0.0</td>\n",
       "      <td>2.0</td>\n",
       "      <td>30.0</td>\n",
       "      <td>4.697662e+06</td>\n",
       "      <td>1</td>\n",
       "      <td>0.0</td>\n",
       "      <td>61.998865</td>\n",
       "      <td>164.950347</td>\n",
       "      <td>0.0</td>\n",
       "      <td>0.0</td>\n",
       "      <td>1.0</td>\n",
       "      <td>2.0</td>\n",
       "      <td>0.519725</td>\n",
       "      <td>0.174280</td>\n",
       "      <td>0.639281</td>\n",
       "      <td>0.254503</td>\n",
       "      <td>-0.927879</td>\n",
       "    </tr>\n",
       "    <tr>\n",
       "      <th>7501</th>\n",
       "      <td>45.0</td>\n",
       "      <td>0.0</td>\n",
       "      <td>1.0</td>\n",
       "      <td>21.0</td>\n",
       "      <td>1.104609e+07</td>\n",
       "      <td>1</td>\n",
       "      <td>1.0</td>\n",
       "      <td>57.369429</td>\n",
       "      <td>163.507327</td>\n",
       "      <td>3.0</td>\n",
       "      <td>0.0</td>\n",
       "      <td>1.0</td>\n",
       "      <td>1.0</td>\n",
       "      <td>1.000000</td>\n",
       "      <td>0.137604</td>\n",
       "      <td>0.630818</td>\n",
       "      <td>0.559823</td>\n",
       "      <td>0.494309</td>\n",
       "    </tr>\n",
       "    <tr>\n",
       "      <th>3918</th>\n",
       "      <td>33.0</td>\n",
       "      <td>0.0</td>\n",
       "      <td>1.0</td>\n",
       "      <td>0.0</td>\n",
       "      <td>8.126573e+06</td>\n",
       "      <td>1</td>\n",
       "      <td>0.0</td>\n",
       "      <td>49.092423</td>\n",
       "      <td>159.047866</td>\n",
       "      <td>1.0</td>\n",
       "      <td>1.0</td>\n",
       "      <td>0.0</td>\n",
       "      <td>6.0</td>\n",
       "      <td>0.599375</td>\n",
       "      <td>0.072032</td>\n",
       "      <td>0.604663</td>\n",
       "      <td>-0.661456</td>\n",
       "      <td>-0.159727</td>\n",
       "    </tr>\n",
       "    <tr>\n",
       "      <th>2771</th>\n",
       "      <td>33.0</td>\n",
       "      <td>0.0</td>\n",
       "      <td>0.0</td>\n",
       "      <td>3.0</td>\n",
       "      <td>3.485606e+06</td>\n",
       "      <td>1</td>\n",
       "      <td>1.0</td>\n",
       "      <td>48.494338</td>\n",
       "      <td>168.520657</td>\n",
       "      <td>2.0</td>\n",
       "      <td>1.0</td>\n",
       "      <td>4.0</td>\n",
       "      <td>7.0</td>\n",
       "      <td>0.826226</td>\n",
       "      <td>0.067294</td>\n",
       "      <td>0.660220</td>\n",
       "      <td>-0.661456</td>\n",
       "      <td>-1.199407</td>\n",
       "    </tr>\n",
       "  </tbody>\n",
       "</table>\n",
       "</div>"
      ],
      "text/plain": [
       "      umur  jenis_kelamin  pekerjaan  provinsi          gaji is_menikah  \\\n",
       "6631  38.0            1.0        2.0       0.0  6.735476e+06          1   \n",
       "1927  42.0            0.0        2.0      30.0  4.697662e+06          1   \n",
       "7501  45.0            0.0        1.0      21.0  1.104609e+07          1   \n",
       "3918  33.0            0.0        1.0       0.0  8.126573e+06          1   \n",
       "2771  33.0            0.0        0.0       3.0  3.485606e+06          1   \n",
       "\n",
       "      is_keturunan      berat      tinggi  sampo  is_merokok  pendidikan  \\\n",
       "6631           0.0  61.634230  180.256574    3.0         1.0         0.0   \n",
       "1927           0.0  61.998865  164.950347    0.0         0.0         1.0   \n",
       "7501           1.0  57.369429  163.507327    3.0         0.0         1.0   \n",
       "3918           0.0  49.092423  159.047866    1.0         1.0         0.0   \n",
       "2771           1.0  48.494338  168.520657    2.0         1.0         4.0   \n",
       "\n",
       "      stress  botak_prob  berat_norm  tinggi_norm  umur_std  gaji_std  \n",
       "6631     6.0    0.543912    0.171391     0.729051 -0.152590 -0.471363  \n",
       "1927     2.0    0.519725    0.174280     0.639281  0.254503 -0.927879  \n",
       "7501     1.0    1.000000    0.137604     0.630818  0.559823  0.494309  \n",
       "3918     6.0    0.599375    0.072032     0.604663 -0.661456 -0.159727  \n",
       "2771     7.0    0.826226    0.067294     0.660220 -0.661456 -1.199407  "
      ]
     },
     "execution_count": 163,
     "metadata": {},
     "output_type": "execute_result"
    }
   ],
   "source": [
    "df.sample(5)"
   ]
  },
  {
   "cell_type": "code",
   "execution_count": 164,
   "metadata": {},
   "outputs": [
    {
     "data": {
      "text/html": [
       "<div>\n",
       "<style scoped>\n",
       "    .dataframe tbody tr th:only-of-type {\n",
       "        vertical-align: middle;\n",
       "    }\n",
       "\n",
       "    .dataframe tbody tr th {\n",
       "        vertical-align: top;\n",
       "    }\n",
       "\n",
       "    .dataframe thead th {\n",
       "        text-align: right;\n",
       "    }\n",
       "</style>\n",
       "<table border=\"1\" class=\"dataframe\">\n",
       "  <thead>\n",
       "    <tr style=\"text-align: right;\">\n",
       "      <th></th>\n",
       "      <th>umur</th>\n",
       "      <th>jenis_kelamin</th>\n",
       "      <th>pekerjaan</th>\n",
       "      <th>provinsi</th>\n",
       "      <th>gaji</th>\n",
       "      <th>is_menikah</th>\n",
       "      <th>is_keturunan</th>\n",
       "      <th>berat</th>\n",
       "      <th>tinggi</th>\n",
       "      <th>sampo</th>\n",
       "      <th>...</th>\n",
       "      <th>provinsi_24.0</th>\n",
       "      <th>provinsi_25.0</th>\n",
       "      <th>provinsi_26.0</th>\n",
       "      <th>provinsi_27.0</th>\n",
       "      <th>provinsi_28.0</th>\n",
       "      <th>provinsi_29.0</th>\n",
       "      <th>provinsi_30.0</th>\n",
       "      <th>provinsi_31.0</th>\n",
       "      <th>provinsi_32.0</th>\n",
       "      <th>provinsi_33.0</th>\n",
       "    </tr>\n",
       "  </thead>\n",
       "  <tbody>\n",
       "    <tr>\n",
       "      <th>0</th>\n",
       "      <td>27.0</td>\n",
       "      <td>1.0</td>\n",
       "      <td>1.0</td>\n",
       "      <td>5.0</td>\n",
       "      <td>7.957453e+06</td>\n",
       "      <td>1</td>\n",
       "      <td>0.0</td>\n",
       "      <td>54.315053</td>\n",
       "      <td>170.428542</td>\n",
       "      <td>3.0</td>\n",
       "      <td>...</td>\n",
       "      <td>0</td>\n",
       "      <td>0</td>\n",
       "      <td>0</td>\n",
       "      <td>0</td>\n",
       "      <td>0</td>\n",
       "      <td>0</td>\n",
       "      <td>0</td>\n",
       "      <td>0</td>\n",
       "      <td>0</td>\n",
       "      <td>0</td>\n",
       "    </tr>\n",
       "    <tr>\n",
       "      <th>1</th>\n",
       "      <td>53.0</td>\n",
       "      <td>1.0</td>\n",
       "      <td>1.0</td>\n",
       "      <td>3.0</td>\n",
       "      <td>7.633003e+06</td>\n",
       "      <td>1</td>\n",
       "      <td>0.0</td>\n",
       "      <td>72.873404</td>\n",
       "      <td>165.530097</td>\n",
       "      <td>3.0</td>\n",
       "      <td>...</td>\n",
       "      <td>0</td>\n",
       "      <td>0</td>\n",
       "      <td>0</td>\n",
       "      <td>0</td>\n",
       "      <td>0</td>\n",
       "      <td>0</td>\n",
       "      <td>0</td>\n",
       "      <td>0</td>\n",
       "      <td>0</td>\n",
       "      <td>0</td>\n",
       "    </tr>\n",
       "    <tr>\n",
       "      <th>2</th>\n",
       "      <td>37.0</td>\n",
       "      <td>1.0</td>\n",
       "      <td>2.0</td>\n",
       "      <td>3.0</td>\n",
       "      <td>6.637625e+06</td>\n",
       "      <td>1</td>\n",
       "      <td>0.0</td>\n",
       "      <td>46.321533</td>\n",
       "      <td>154.599388</td>\n",
       "      <td>2.0</td>\n",
       "      <td>...</td>\n",
       "      <td>0</td>\n",
       "      <td>0</td>\n",
       "      <td>0</td>\n",
       "      <td>0</td>\n",
       "      <td>0</td>\n",
       "      <td>0</td>\n",
       "      <td>0</td>\n",
       "      <td>0</td>\n",
       "      <td>0</td>\n",
       "      <td>0</td>\n",
       "    </tr>\n",
       "    <tr>\n",
       "      <th>3</th>\n",
       "      <td>36.0</td>\n",
       "      <td>1.0</td>\n",
       "      <td>3.0</td>\n",
       "      <td>22.0</td>\n",
       "      <td>3.624871e+06</td>\n",
       "      <td>1</td>\n",
       "      <td>0.0</td>\n",
       "      <td>51.539781</td>\n",
       "      <td>167.340481</td>\n",
       "      <td>0.0</td>\n",
       "      <td>...</td>\n",
       "      <td>0</td>\n",
       "      <td>0</td>\n",
       "      <td>0</td>\n",
       "      <td>0</td>\n",
       "      <td>0</td>\n",
       "      <td>0</td>\n",
       "      <td>0</td>\n",
       "      <td>0</td>\n",
       "      <td>0</td>\n",
       "      <td>0</td>\n",
       "    </tr>\n",
       "    <tr>\n",
       "      <th>4</th>\n",
       "      <td>38.0</td>\n",
       "      <td>0.0</td>\n",
       "      <td>0.0</td>\n",
       "      <td>20.0</td>\n",
       "      <td>6.031808e+06</td>\n",
       "      <td>1</td>\n",
       "      <td>0.0</td>\n",
       "      <td>60.726909</td>\n",
       "      <td>165.514773</td>\n",
       "      <td>1.0</td>\n",
       "      <td>...</td>\n",
       "      <td>0</td>\n",
       "      <td>0</td>\n",
       "      <td>0</td>\n",
       "      <td>0</td>\n",
       "      <td>0</td>\n",
       "      <td>0</td>\n",
       "      <td>0</td>\n",
       "      <td>0</td>\n",
       "      <td>0</td>\n",
       "      <td>0</td>\n",
       "    </tr>\n",
       "    <tr>\n",
       "      <th>...</th>\n",
       "      <td>...</td>\n",
       "      <td>...</td>\n",
       "      <td>...</td>\n",
       "      <td>...</td>\n",
       "      <td>...</td>\n",
       "      <td>...</td>\n",
       "      <td>...</td>\n",
       "      <td>...</td>\n",
       "      <td>...</td>\n",
       "      <td>...</td>\n",
       "      <td>...</td>\n",
       "      <td>...</td>\n",
       "      <td>...</td>\n",
       "      <td>...</td>\n",
       "      <td>...</td>\n",
       "      <td>...</td>\n",
       "      <td>...</td>\n",
       "      <td>...</td>\n",
       "      <td>...</td>\n",
       "      <td>...</td>\n",
       "      <td>...</td>\n",
       "    </tr>\n",
       "    <tr>\n",
       "      <th>7752</th>\n",
       "      <td>52.0</td>\n",
       "      <td>NaN</td>\n",
       "      <td>NaN</td>\n",
       "      <td>NaN</td>\n",
       "      <td>4.286318e+06</td>\n",
       "      <td>1</td>\n",
       "      <td>0.0</td>\n",
       "      <td>46.893444</td>\n",
       "      <td>169.880171</td>\n",
       "      <td>NaN</td>\n",
       "      <td>...</td>\n",
       "      <td>0</td>\n",
       "      <td>0</td>\n",
       "      <td>0</td>\n",
       "      <td>0</td>\n",
       "      <td>0</td>\n",
       "      <td>0</td>\n",
       "      <td>0</td>\n",
       "      <td>0</td>\n",
       "      <td>0</td>\n",
       "      <td>0</td>\n",
       "    </tr>\n",
       "    <tr>\n",
       "      <th>7753</th>\n",
       "      <td>45.0</td>\n",
       "      <td>NaN</td>\n",
       "      <td>NaN</td>\n",
       "      <td>NaN</td>\n",
       "      <td>8.646146e+06</td>\n",
       "      <td>1</td>\n",
       "      <td>0.0</td>\n",
       "      <td>53.878714</td>\n",
       "      <td>170.122857</td>\n",
       "      <td>NaN</td>\n",
       "      <td>...</td>\n",
       "      <td>0</td>\n",
       "      <td>0</td>\n",
       "      <td>0</td>\n",
       "      <td>0</td>\n",
       "      <td>0</td>\n",
       "      <td>0</td>\n",
       "      <td>0</td>\n",
       "      <td>0</td>\n",
       "      <td>0</td>\n",
       "      <td>0</td>\n",
       "    </tr>\n",
       "    <tr>\n",
       "      <th>7754</th>\n",
       "      <td>24.0</td>\n",
       "      <td>NaN</td>\n",
       "      <td>NaN</td>\n",
       "      <td>NaN</td>\n",
       "      <td>6.850066e+06</td>\n",
       "      <td>1</td>\n",
       "      <td>0.0</td>\n",
       "      <td>64.171294</td>\n",
       "      <td>161.384804</td>\n",
       "      <td>NaN</td>\n",
       "      <td>...</td>\n",
       "      <td>0</td>\n",
       "      <td>0</td>\n",
       "      <td>0</td>\n",
       "      <td>0</td>\n",
       "      <td>0</td>\n",
       "      <td>0</td>\n",
       "      <td>0</td>\n",
       "      <td>0</td>\n",
       "      <td>0</td>\n",
       "      <td>0</td>\n",
       "    </tr>\n",
       "    <tr>\n",
       "      <th>7755</th>\n",
       "      <td>29.0</td>\n",
       "      <td>NaN</td>\n",
       "      <td>NaN</td>\n",
       "      <td>NaN</td>\n",
       "      <td>1.204960e+07</td>\n",
       "      <td>1</td>\n",
       "      <td>0.0</td>\n",
       "      <td>55.217752</td>\n",
       "      <td>179.602130</td>\n",
       "      <td>NaN</td>\n",
       "      <td>...</td>\n",
       "      <td>0</td>\n",
       "      <td>0</td>\n",
       "      <td>0</td>\n",
       "      <td>0</td>\n",
       "      <td>0</td>\n",
       "      <td>0</td>\n",
       "      <td>0</td>\n",
       "      <td>0</td>\n",
       "      <td>0</td>\n",
       "      <td>0</td>\n",
       "    </tr>\n",
       "    <tr>\n",
       "      <th>7756</th>\n",
       "      <td>42.0</td>\n",
       "      <td>NaN</td>\n",
       "      <td>NaN</td>\n",
       "      <td>NaN</td>\n",
       "      <td>4.888239e+06</td>\n",
       "      <td>1</td>\n",
       "      <td>0.0</td>\n",
       "      <td>52.699072</td>\n",
       "      <td>186.913795</td>\n",
       "      <td>NaN</td>\n",
       "      <td>...</td>\n",
       "      <td>0</td>\n",
       "      <td>0</td>\n",
       "      <td>0</td>\n",
       "      <td>0</td>\n",
       "      <td>0</td>\n",
       "      <td>0</td>\n",
       "      <td>0</td>\n",
       "      <td>0</td>\n",
       "      <td>0</td>\n",
       "      <td>0</td>\n",
       "    </tr>\n",
       "  </tbody>\n",
       "</table>\n",
       "<p>7757 rows × 52 columns</p>\n",
       "</div>"
      ],
      "text/plain": [
       "      umur  jenis_kelamin  pekerjaan  provinsi          gaji is_menikah  \\\n",
       "0     27.0            1.0        1.0       5.0  7.957453e+06          1   \n",
       "1     53.0            1.0        1.0       3.0  7.633003e+06          1   \n",
       "2     37.0            1.0        2.0       3.0  6.637625e+06          1   \n",
       "3     36.0            1.0        3.0      22.0  3.624871e+06          1   \n",
       "4     38.0            0.0        0.0      20.0  6.031808e+06          1   \n",
       "...    ...            ...        ...       ...           ...        ...   \n",
       "7752  52.0            NaN        NaN       NaN  4.286318e+06          1   \n",
       "7753  45.0            NaN        NaN       NaN  8.646146e+06          1   \n",
       "7754  24.0            NaN        NaN       NaN  6.850066e+06          1   \n",
       "7755  29.0            NaN        NaN       NaN  1.204960e+07          1   \n",
       "7756  42.0            NaN        NaN       NaN  4.888239e+06          1   \n",
       "\n",
       "      is_keturunan      berat      tinggi  sampo  ...  provinsi_24.0  \\\n",
       "0              0.0  54.315053  170.428542    3.0  ...              0   \n",
       "1              0.0  72.873404  165.530097    3.0  ...              0   \n",
       "2              0.0  46.321533  154.599388    2.0  ...              0   \n",
       "3              0.0  51.539781  167.340481    0.0  ...              0   \n",
       "4              0.0  60.726909  165.514773    1.0  ...              0   \n",
       "...            ...        ...         ...    ...  ...            ...   \n",
       "7752           0.0  46.893444  169.880171    NaN  ...              0   \n",
       "7753           0.0  53.878714  170.122857    NaN  ...              0   \n",
       "7754           0.0  64.171294  161.384804    NaN  ...              0   \n",
       "7755           0.0  55.217752  179.602130    NaN  ...              0   \n",
       "7756           0.0  52.699072  186.913795    NaN  ...              0   \n",
       "\n",
       "      provinsi_25.0  provinsi_26.0  provinsi_27.0  provinsi_28.0  \\\n",
       "0                 0              0              0              0   \n",
       "1                 0              0              0              0   \n",
       "2                 0              0              0              0   \n",
       "3                 0              0              0              0   \n",
       "4                 0              0              0              0   \n",
       "...             ...            ...            ...            ...   \n",
       "7752              0              0              0              0   \n",
       "7753              0              0              0              0   \n",
       "7754              0              0              0              0   \n",
       "7755              0              0              0              0   \n",
       "7756              0              0              0              0   \n",
       "\n",
       "      provinsi_29.0  provinsi_30.0  provinsi_31.0  provinsi_32.0  \\\n",
       "0                 0              0              0              0   \n",
       "1                 0              0              0              0   \n",
       "2                 0              0              0              0   \n",
       "3                 0              0              0              0   \n",
       "4                 0              0              0              0   \n",
       "...             ...            ...            ...            ...   \n",
       "7752              0              0              0              0   \n",
       "7753              0              0              0              0   \n",
       "7754              0              0              0              0   \n",
       "7755              0              0              0              0   \n",
       "7756              0              0              0              0   \n",
       "\n",
       "      provinsi_33.0  \n",
       "0                 0  \n",
       "1                 0  \n",
       "2                 0  \n",
       "3                 0  \n",
       "4                 0  \n",
       "...             ...  \n",
       "7752              0  \n",
       "7753              0  \n",
       "7754              0  \n",
       "7755              0  \n",
       "7756              0  \n",
       "\n",
       "[7757 rows x 52 columns]"
      ]
     },
     "execution_count": 164,
     "metadata": {},
     "output_type": "execute_result"
    }
   ],
   "source": [
    "df_onehot"
   ]
  },
  {
   "cell_type": "markdown",
   "metadata": {},
   "source": [
    "## 3b. Label Encoding"
   ]
  },
  {
   "cell_type": "code",
   "execution_count": 165,
   "metadata": {},
   "outputs": [],
   "source": [
    "from sklearn.preprocessing import OrdinalEncoder\n",
    "encoder = OrdinalEncoder()"
   ]
  },
  {
   "cell_type": "code",
   "execution_count": 166,
   "metadata": {},
   "outputs": [
    {
     "ename": "ValueError",
     "evalue": "Input contains NaN, infinity or a value too large for dtype('float64').",
     "output_type": "error",
     "traceback": [
      "\u001b[1;31m---------------------------------------------------------------------------\u001b[0m",
      "\u001b[1;31mValueError\u001b[0m                                Traceback (most recent call last)",
      "\u001b[1;32m<ipython-input-166-04fffcbcfe39>\u001b[0m in \u001b[0;36m<module>\u001b[1;34m\u001b[0m\n\u001b[1;32m----> 1\u001b[1;33m \u001b[0mordinals\u001b[0m \u001b[1;33m=\u001b[0m \u001b[0mpd\u001b[0m\u001b[1;33m.\u001b[0m\u001b[0mDataFrame\u001b[0m\u001b[1;33m(\u001b[0m\u001b[0mencoder\u001b[0m\u001b[1;33m.\u001b[0m\u001b[0mfit_transform\u001b[0m\u001b[1;33m(\u001b[0m\u001b[0mdf\u001b[0m\u001b[1;33m[\u001b[0m\u001b[0mcats\u001b[0m\u001b[1;33m]\u001b[0m\u001b[1;33m)\u001b[0m\u001b[1;33m,\u001b[0m\u001b[0mcolumns\u001b[0m \u001b[1;33m=\u001b[0m \u001b[0mcats\u001b[0m\u001b[1;33m)\u001b[0m\u001b[1;33m\u001b[0m\u001b[1;33m\u001b[0m\u001b[0m\n\u001b[0m",
      "\u001b[1;32m~\\anaconda3\\lib\\site-packages\\sklearn\\base.py\u001b[0m in \u001b[0;36mfit_transform\u001b[1;34m(self, X, y, **fit_params)\u001b[0m\n\u001b[0;32m    688\u001b[0m         \u001b[1;32mif\u001b[0m \u001b[0my\u001b[0m \u001b[1;32mis\u001b[0m \u001b[1;32mNone\u001b[0m\u001b[1;33m:\u001b[0m\u001b[1;33m\u001b[0m\u001b[1;33m\u001b[0m\u001b[0m\n\u001b[0;32m    689\u001b[0m             \u001b[1;31m# fit method of arity 1 (unsupervised transformation)\u001b[0m\u001b[1;33m\u001b[0m\u001b[1;33m\u001b[0m\u001b[1;33m\u001b[0m\u001b[0m\n\u001b[1;32m--> 690\u001b[1;33m             \u001b[1;32mreturn\u001b[0m \u001b[0mself\u001b[0m\u001b[1;33m.\u001b[0m\u001b[0mfit\u001b[0m\u001b[1;33m(\u001b[0m\u001b[0mX\u001b[0m\u001b[1;33m,\u001b[0m \u001b[1;33m**\u001b[0m\u001b[0mfit_params\u001b[0m\u001b[1;33m)\u001b[0m\u001b[1;33m.\u001b[0m\u001b[0mtransform\u001b[0m\u001b[1;33m(\u001b[0m\u001b[0mX\u001b[0m\u001b[1;33m)\u001b[0m\u001b[1;33m\u001b[0m\u001b[1;33m\u001b[0m\u001b[0m\n\u001b[0m\u001b[0;32m    691\u001b[0m         \u001b[1;32melse\u001b[0m\u001b[1;33m:\u001b[0m\u001b[1;33m\u001b[0m\u001b[1;33m\u001b[0m\u001b[0m\n\u001b[0;32m    692\u001b[0m             \u001b[1;31m# fit method of arity 2 (supervised transformation)\u001b[0m\u001b[1;33m\u001b[0m\u001b[1;33m\u001b[0m\u001b[1;33m\u001b[0m\u001b[0m\n",
      "\u001b[1;32m~\\anaconda3\\lib\\site-packages\\sklearn\\preprocessing\\_encoders.py\u001b[0m in \u001b[0;36mfit\u001b[1;34m(self, X, y)\u001b[0m\n\u001b[0;32m    680\u001b[0m         \u001b[0mself\u001b[0m\u001b[1;33m\u001b[0m\u001b[1;33m\u001b[0m\u001b[0m\n\u001b[0;32m    681\u001b[0m         \"\"\"\n\u001b[1;32m--> 682\u001b[1;33m         \u001b[0mself\u001b[0m\u001b[1;33m.\u001b[0m\u001b[0m_fit\u001b[0m\u001b[1;33m(\u001b[0m\u001b[0mX\u001b[0m\u001b[1;33m)\u001b[0m\u001b[1;33m\u001b[0m\u001b[1;33m\u001b[0m\u001b[0m\n\u001b[0m\u001b[0;32m    683\u001b[0m \u001b[1;33m\u001b[0m\u001b[0m\n\u001b[0;32m    684\u001b[0m         \u001b[1;32mreturn\u001b[0m \u001b[0mself\u001b[0m\u001b[1;33m\u001b[0m\u001b[1;33m\u001b[0m\u001b[0m\n",
      "\u001b[1;32m~\\anaconda3\\lib\\site-packages\\sklearn\\preprocessing\\_encoders.py\u001b[0m in \u001b[0;36m_fit\u001b[1;34m(self, X, handle_unknown)\u001b[0m\n\u001b[0;32m     72\u001b[0m \u001b[1;33m\u001b[0m\u001b[0m\n\u001b[0;32m     73\u001b[0m     \u001b[1;32mdef\u001b[0m \u001b[0m_fit\u001b[0m\u001b[1;33m(\u001b[0m\u001b[0mself\u001b[0m\u001b[1;33m,\u001b[0m \u001b[0mX\u001b[0m\u001b[1;33m,\u001b[0m \u001b[0mhandle_unknown\u001b[0m\u001b[1;33m=\u001b[0m\u001b[1;34m'error'\u001b[0m\u001b[1;33m)\u001b[0m\u001b[1;33m:\u001b[0m\u001b[1;33m\u001b[0m\u001b[1;33m\u001b[0m\u001b[0m\n\u001b[1;32m---> 74\u001b[1;33m         \u001b[0mX_list\u001b[0m\u001b[1;33m,\u001b[0m \u001b[0mn_samples\u001b[0m\u001b[1;33m,\u001b[0m \u001b[0mn_features\u001b[0m \u001b[1;33m=\u001b[0m \u001b[0mself\u001b[0m\u001b[1;33m.\u001b[0m\u001b[0m_check_X\u001b[0m\u001b[1;33m(\u001b[0m\u001b[0mX\u001b[0m\u001b[1;33m)\u001b[0m\u001b[1;33m\u001b[0m\u001b[1;33m\u001b[0m\u001b[0m\n\u001b[0m\u001b[0;32m     75\u001b[0m \u001b[1;33m\u001b[0m\u001b[0m\n\u001b[0;32m     76\u001b[0m         \u001b[1;32mif\u001b[0m \u001b[0mself\u001b[0m\u001b[1;33m.\u001b[0m\u001b[0mcategories\u001b[0m \u001b[1;33m!=\u001b[0m \u001b[1;34m'auto'\u001b[0m\u001b[1;33m:\u001b[0m\u001b[1;33m\u001b[0m\u001b[1;33m\u001b[0m\u001b[0m\n",
      "\u001b[1;32m~\\anaconda3\\lib\\site-packages\\sklearn\\preprocessing\\_encoders.py\u001b[0m in \u001b[0;36m_check_X\u001b[1;34m(self, X)\u001b[0m\n\u001b[0;32m     58\u001b[0m         \u001b[1;32mfor\u001b[0m \u001b[0mi\u001b[0m \u001b[1;32min\u001b[0m \u001b[0mrange\u001b[0m\u001b[1;33m(\u001b[0m\u001b[0mn_features\u001b[0m\u001b[1;33m)\u001b[0m\u001b[1;33m:\u001b[0m\u001b[1;33m\u001b[0m\u001b[1;33m\u001b[0m\u001b[0m\n\u001b[0;32m     59\u001b[0m             \u001b[0mXi\u001b[0m \u001b[1;33m=\u001b[0m \u001b[0mself\u001b[0m\u001b[1;33m.\u001b[0m\u001b[0m_get_feature\u001b[0m\u001b[1;33m(\u001b[0m\u001b[0mX\u001b[0m\u001b[1;33m,\u001b[0m \u001b[0mfeature_idx\u001b[0m\u001b[1;33m=\u001b[0m\u001b[0mi\u001b[0m\u001b[1;33m)\u001b[0m\u001b[1;33m\u001b[0m\u001b[1;33m\u001b[0m\u001b[0m\n\u001b[1;32m---> 60\u001b[1;33m             Xi = check_array(Xi, ensure_2d=False, dtype=None,\n\u001b[0m\u001b[0;32m     61\u001b[0m                              force_all_finite=needs_validation)\n\u001b[0;32m     62\u001b[0m             \u001b[0mX_columns\u001b[0m\u001b[1;33m.\u001b[0m\u001b[0mappend\u001b[0m\u001b[1;33m(\u001b[0m\u001b[0mXi\u001b[0m\u001b[1;33m)\u001b[0m\u001b[1;33m\u001b[0m\u001b[1;33m\u001b[0m\u001b[0m\n",
      "\u001b[1;32m~\\anaconda3\\lib\\site-packages\\sklearn\\utils\\validation.py\u001b[0m in \u001b[0;36minner_f\u001b[1;34m(*args, **kwargs)\u001b[0m\n\u001b[0;32m     70\u001b[0m                           FutureWarning)\n\u001b[0;32m     71\u001b[0m         \u001b[0mkwargs\u001b[0m\u001b[1;33m.\u001b[0m\u001b[0mupdate\u001b[0m\u001b[1;33m(\u001b[0m\u001b[1;33m{\u001b[0m\u001b[0mk\u001b[0m\u001b[1;33m:\u001b[0m \u001b[0marg\u001b[0m \u001b[1;32mfor\u001b[0m \u001b[0mk\u001b[0m\u001b[1;33m,\u001b[0m \u001b[0marg\u001b[0m \u001b[1;32min\u001b[0m \u001b[0mzip\u001b[0m\u001b[1;33m(\u001b[0m\u001b[0msig\u001b[0m\u001b[1;33m.\u001b[0m\u001b[0mparameters\u001b[0m\u001b[1;33m,\u001b[0m \u001b[0margs\u001b[0m\u001b[1;33m)\u001b[0m\u001b[1;33m}\u001b[0m\u001b[1;33m)\u001b[0m\u001b[1;33m\u001b[0m\u001b[1;33m\u001b[0m\u001b[0m\n\u001b[1;32m---> 72\u001b[1;33m         \u001b[1;32mreturn\u001b[0m \u001b[0mf\u001b[0m\u001b[1;33m(\u001b[0m\u001b[1;33m**\u001b[0m\u001b[0mkwargs\u001b[0m\u001b[1;33m)\u001b[0m\u001b[1;33m\u001b[0m\u001b[1;33m\u001b[0m\u001b[0m\n\u001b[0m\u001b[0;32m     73\u001b[0m     \u001b[1;32mreturn\u001b[0m \u001b[0minner_f\u001b[0m\u001b[1;33m\u001b[0m\u001b[1;33m\u001b[0m\u001b[0m\n\u001b[0;32m     74\u001b[0m \u001b[1;33m\u001b[0m\u001b[0m\n",
      "\u001b[1;32m~\\anaconda3\\lib\\site-packages\\sklearn\\utils\\validation.py\u001b[0m in \u001b[0;36mcheck_array\u001b[1;34m(array, accept_sparse, accept_large_sparse, dtype, order, copy, force_all_finite, ensure_2d, allow_nd, ensure_min_samples, ensure_min_features, estimator)\u001b[0m\n\u001b[0;32m    642\u001b[0m \u001b[1;33m\u001b[0m\u001b[0m\n\u001b[0;32m    643\u001b[0m         \u001b[1;32mif\u001b[0m \u001b[0mforce_all_finite\u001b[0m\u001b[1;33m:\u001b[0m\u001b[1;33m\u001b[0m\u001b[1;33m\u001b[0m\u001b[0m\n\u001b[1;32m--> 644\u001b[1;33m             _assert_all_finite(array,\n\u001b[0m\u001b[0;32m    645\u001b[0m                                allow_nan=force_all_finite == 'allow-nan')\n\u001b[0;32m    646\u001b[0m \u001b[1;33m\u001b[0m\u001b[0m\n",
      "\u001b[1;32m~\\anaconda3\\lib\\site-packages\\sklearn\\utils\\validation.py\u001b[0m in \u001b[0;36m_assert_all_finite\u001b[1;34m(X, allow_nan, msg_dtype)\u001b[0m\n\u001b[0;32m     94\u001b[0m                 not allow_nan and not np.isfinite(X).all()):\n\u001b[0;32m     95\u001b[0m             \u001b[0mtype_err\u001b[0m \u001b[1;33m=\u001b[0m \u001b[1;34m'infinity'\u001b[0m \u001b[1;32mif\u001b[0m \u001b[0mallow_nan\u001b[0m \u001b[1;32melse\u001b[0m \u001b[1;34m'NaN, infinity'\u001b[0m\u001b[1;33m\u001b[0m\u001b[1;33m\u001b[0m\u001b[0m\n\u001b[1;32m---> 96\u001b[1;33m             raise ValueError(\n\u001b[0m\u001b[0;32m     97\u001b[0m                     \u001b[0mmsg_err\u001b[0m\u001b[1;33m.\u001b[0m\u001b[0mformat\u001b[0m\u001b[1;33m\u001b[0m\u001b[1;33m\u001b[0m\u001b[0m\n\u001b[0;32m     98\u001b[0m                     (type_err,\n",
      "\u001b[1;31mValueError\u001b[0m: Input contains NaN, infinity or a value too large for dtype('float64')."
     ]
    }
   ],
   "source": [
    "ordinals = pd.DataFrame(encoder.fit_transform(df[cats]),columns = cats)"
   ]
  },
  {
   "cell_type": "code",
   "execution_count": 167,
   "metadata": {},
   "outputs": [
    {
     "data": {
      "text/html": [
       "<div>\n",
       "<style scoped>\n",
       "    .dataframe tbody tr th:only-of-type {\n",
       "        vertical-align: middle;\n",
       "    }\n",
       "\n",
       "    .dataframe tbody tr th {\n",
       "        vertical-align: top;\n",
       "    }\n",
       "\n",
       "    .dataframe thead th {\n",
       "        text-align: right;\n",
       "    }\n",
       "</style>\n",
       "<table border=\"1\" class=\"dataframe\">\n",
       "  <thead>\n",
       "    <tr style=\"text-align: right;\">\n",
       "      <th></th>\n",
       "      <th>jenis_kelamin</th>\n",
       "      <th>pekerjaan</th>\n",
       "      <th>sampo</th>\n",
       "      <th>pendidikan</th>\n",
       "      <th>provinsi</th>\n",
       "    </tr>\n",
       "  </thead>\n",
       "  <tbody>\n",
       "    <tr>\n",
       "      <th>0</th>\n",
       "      <td>1.0</td>\n",
       "      <td>1.0</td>\n",
       "      <td>3.0</td>\n",
       "      <td>0.0</td>\n",
       "      <td>5.0</td>\n",
       "    </tr>\n",
       "    <tr>\n",
       "      <th>1</th>\n",
       "      <td>1.0</td>\n",
       "      <td>1.0</td>\n",
       "      <td>3.0</td>\n",
       "      <td>0.0</td>\n",
       "      <td>3.0</td>\n",
       "    </tr>\n",
       "    <tr>\n",
       "      <th>2</th>\n",
       "      <td>1.0</td>\n",
       "      <td>2.0</td>\n",
       "      <td>2.0</td>\n",
       "      <td>0.0</td>\n",
       "      <td>3.0</td>\n",
       "    </tr>\n",
       "    <tr>\n",
       "      <th>3</th>\n",
       "      <td>1.0</td>\n",
       "      <td>3.0</td>\n",
       "      <td>0.0</td>\n",
       "      <td>3.0</td>\n",
       "      <td>22.0</td>\n",
       "    </tr>\n",
       "    <tr>\n",
       "      <th>4</th>\n",
       "      <td>0.0</td>\n",
       "      <td>0.0</td>\n",
       "      <td>1.0</td>\n",
       "      <td>1.0</td>\n",
       "      <td>20.0</td>\n",
       "    </tr>\n",
       "    <tr>\n",
       "      <th>...</th>\n",
       "      <td>...</td>\n",
       "      <td>...</td>\n",
       "      <td>...</td>\n",
       "      <td>...</td>\n",
       "      <td>...</td>\n",
       "    </tr>\n",
       "    <tr>\n",
       "      <th>7752</th>\n",
       "      <td>0.0</td>\n",
       "      <td>2.0</td>\n",
       "      <td>0.0</td>\n",
       "      <td>0.0</td>\n",
       "      <td>12.0</td>\n",
       "    </tr>\n",
       "    <tr>\n",
       "      <th>7753</th>\n",
       "      <td>0.0</td>\n",
       "      <td>2.0</td>\n",
       "      <td>0.0</td>\n",
       "      <td>0.0</td>\n",
       "      <td>12.0</td>\n",
       "    </tr>\n",
       "    <tr>\n",
       "      <th>7754</th>\n",
       "      <td>0.0</td>\n",
       "      <td>2.0</td>\n",
       "      <td>0.0</td>\n",
       "      <td>0.0</td>\n",
       "      <td>12.0</td>\n",
       "    </tr>\n",
       "    <tr>\n",
       "      <th>7755</th>\n",
       "      <td>0.0</td>\n",
       "      <td>2.0</td>\n",
       "      <td>0.0</td>\n",
       "      <td>0.0</td>\n",
       "      <td>12.0</td>\n",
       "    </tr>\n",
       "    <tr>\n",
       "      <th>7756</th>\n",
       "      <td>0.0</td>\n",
       "      <td>2.0</td>\n",
       "      <td>0.0</td>\n",
       "      <td>0.0</td>\n",
       "      <td>12.0</td>\n",
       "    </tr>\n",
       "  </tbody>\n",
       "</table>\n",
       "<p>7757 rows × 5 columns</p>\n",
       "</div>"
      ],
      "text/plain": [
       "      jenis_kelamin  pekerjaan  sampo  pendidikan  provinsi\n",
       "0               1.0        1.0    3.0         0.0       5.0\n",
       "1               1.0        1.0    3.0         0.0       3.0\n",
       "2               1.0        2.0    2.0         0.0       3.0\n",
       "3               1.0        3.0    0.0         3.0      22.0\n",
       "4               0.0        0.0    1.0         1.0      20.0\n",
       "...             ...        ...    ...         ...       ...\n",
       "7752            0.0        2.0    0.0         0.0      12.0\n",
       "7753            0.0        2.0    0.0         0.0      12.0\n",
       "7754            0.0        2.0    0.0         0.0      12.0\n",
       "7755            0.0        2.0    0.0         0.0      12.0\n",
       "7756            0.0        2.0    0.0         0.0      12.0\n",
       "\n",
       "[7757 rows x 5 columns]"
      ]
     },
     "execution_count": 167,
     "metadata": {},
     "output_type": "execute_result"
    }
   ],
   "source": [
    "ordinals"
   ]
  },
  {
   "cell_type": "code",
   "execution_count": 150,
   "metadata": {},
   "outputs": [],
   "source": [
    "df[cats]=ordinals"
   ]
  },
  {
   "cell_type": "code",
   "execution_count": 151,
   "metadata": {},
   "outputs": [
    {
     "data": {
      "text/html": [
       "<div>\n",
       "<style scoped>\n",
       "    .dataframe tbody tr th:only-of-type {\n",
       "        vertical-align: middle;\n",
       "    }\n",
       "\n",
       "    .dataframe tbody tr th {\n",
       "        vertical-align: top;\n",
       "    }\n",
       "\n",
       "    .dataframe thead th {\n",
       "        text-align: right;\n",
       "    }\n",
       "</style>\n",
       "<table border=\"1\" class=\"dataframe\">\n",
       "  <thead>\n",
       "    <tr style=\"text-align: right;\">\n",
       "      <th></th>\n",
       "      <th>umur</th>\n",
       "      <th>jenis_kelamin</th>\n",
       "      <th>pekerjaan</th>\n",
       "      <th>provinsi</th>\n",
       "      <th>gaji</th>\n",
       "      <th>is_menikah</th>\n",
       "      <th>is_keturunan</th>\n",
       "      <th>berat</th>\n",
       "      <th>tinggi</th>\n",
       "      <th>sampo</th>\n",
       "      <th>is_merokok</th>\n",
       "      <th>pendidikan</th>\n",
       "      <th>stress</th>\n",
       "      <th>botak_prob</th>\n",
       "      <th>berat_norm</th>\n",
       "      <th>tinggi_norm</th>\n",
       "      <th>umur_std</th>\n",
       "      <th>gaji_std</th>\n",
       "    </tr>\n",
       "  </thead>\n",
       "  <tbody>\n",
       "    <tr>\n",
       "      <th>0</th>\n",
       "      <td>27.0</td>\n",
       "      <td>1.0</td>\n",
       "      <td>1.0</td>\n",
       "      <td>5.0</td>\n",
       "      <td>7.957453e+06</td>\n",
       "      <td>1</td>\n",
       "      <td>0.0</td>\n",
       "      <td>54.315053</td>\n",
       "      <td>170.428542</td>\n",
       "      <td>3.0</td>\n",
       "      <td>1.0</td>\n",
       "      <td>0.0</td>\n",
       "      <td>5.0</td>\n",
       "      <td>0.605974</td>\n",
       "      <td>0.113407</td>\n",
       "      <td>0.671410</td>\n",
       "      <td>-1.272096</td>\n",
       "      <td>-0.197613</td>\n",
       "    </tr>\n",
       "    <tr>\n",
       "      <th>1</th>\n",
       "      <td>53.0</td>\n",
       "      <td>1.0</td>\n",
       "      <td>1.0</td>\n",
       "      <td>3.0</td>\n",
       "      <td>7.633003e+06</td>\n",
       "      <td>1</td>\n",
       "      <td>0.0</td>\n",
       "      <td>72.873404</td>\n",
       "      <td>165.530097</td>\n",
       "      <td>3.0</td>\n",
       "      <td>0.0</td>\n",
       "      <td>0.0</td>\n",
       "      <td>7.0</td>\n",
       "      <td>0.532860</td>\n",
       "      <td>0.260430</td>\n",
       "      <td>0.642681</td>\n",
       "      <td>1.374009</td>\n",
       "      <td>-0.270297</td>\n",
       "    </tr>\n",
       "    <tr>\n",
       "      <th>2</th>\n",
       "      <td>37.0</td>\n",
       "      <td>1.0</td>\n",
       "      <td>2.0</td>\n",
       "      <td>3.0</td>\n",
       "      <td>6.637625e+06</td>\n",
       "      <td>1</td>\n",
       "      <td>0.0</td>\n",
       "      <td>46.321533</td>\n",
       "      <td>154.599388</td>\n",
       "      <td>2.0</td>\n",
       "      <td>0.0</td>\n",
       "      <td>0.0</td>\n",
       "      <td>4.0</td>\n",
       "      <td>0.418442</td>\n",
       "      <td>0.050081</td>\n",
       "      <td>0.578573</td>\n",
       "      <td>-0.254363</td>\n",
       "      <td>-0.493284</td>\n",
       "    </tr>\n",
       "    <tr>\n",
       "      <th>3</th>\n",
       "      <td>36.0</td>\n",
       "      <td>1.0</td>\n",
       "      <td>3.0</td>\n",
       "      <td>22.0</td>\n",
       "      <td>3.624871e+06</td>\n",
       "      <td>1</td>\n",
       "      <td>0.0</td>\n",
       "      <td>51.539781</td>\n",
       "      <td>167.340481</td>\n",
       "      <td>0.0</td>\n",
       "      <td>1.0</td>\n",
       "      <td>3.0</td>\n",
       "      <td>9.0</td>\n",
       "      <td>0.804050</td>\n",
       "      <td>0.091421</td>\n",
       "      <td>0.653299</td>\n",
       "      <td>-0.356136</td>\n",
       "      <td>-1.168208</td>\n",
       "    </tr>\n",
       "    <tr>\n",
       "      <th>4</th>\n",
       "      <td>38.0</td>\n",
       "      <td>0.0</td>\n",
       "      <td>0.0</td>\n",
       "      <td>20.0</td>\n",
       "      <td>6.031808e+06</td>\n",
       "      <td>1</td>\n",
       "      <td>0.0</td>\n",
       "      <td>60.726909</td>\n",
       "      <td>165.514773</td>\n",
       "      <td>1.0</td>\n",
       "      <td>1.0</td>\n",
       "      <td>1.0</td>\n",
       "      <td>1.0</td>\n",
       "      <td>0.368371</td>\n",
       "      <td>0.164203</td>\n",
       "      <td>0.642591</td>\n",
       "      <td>-0.152590</td>\n",
       "      <td>-0.629001</td>\n",
       "    </tr>\n",
       "    <tr>\n",
       "      <th>...</th>\n",
       "      <td>...</td>\n",
       "      <td>...</td>\n",
       "      <td>...</td>\n",
       "      <td>...</td>\n",
       "      <td>...</td>\n",
       "      <td>...</td>\n",
       "      <td>...</td>\n",
       "      <td>...</td>\n",
       "      <td>...</td>\n",
       "      <td>...</td>\n",
       "      <td>...</td>\n",
       "      <td>...</td>\n",
       "      <td>...</td>\n",
       "      <td>...</td>\n",
       "      <td>...</td>\n",
       "      <td>...</td>\n",
       "      <td>...</td>\n",
       "      <td>...</td>\n",
       "    </tr>\n",
       "    <tr>\n",
       "      <th>7830</th>\n",
       "      <td>52.0</td>\n",
       "      <td>NaN</td>\n",
       "      <td>NaN</td>\n",
       "      <td>NaN</td>\n",
       "      <td>4.286318e+06</td>\n",
       "      <td>1</td>\n",
       "      <td>0.0</td>\n",
       "      <td>46.893444</td>\n",
       "      <td>169.880171</td>\n",
       "      <td>NaN</td>\n",
       "      <td>1.0</td>\n",
       "      <td>NaN</td>\n",
       "      <td>2.0</td>\n",
       "      <td>0.773141</td>\n",
       "      <td>0.054611</td>\n",
       "      <td>0.668194</td>\n",
       "      <td>1.272236</td>\n",
       "      <td>-1.020029</td>\n",
       "    </tr>\n",
       "    <tr>\n",
       "      <th>7831</th>\n",
       "      <td>45.0</td>\n",
       "      <td>NaN</td>\n",
       "      <td>NaN</td>\n",
       "      <td>NaN</td>\n",
       "      <td>8.646146e+06</td>\n",
       "      <td>1</td>\n",
       "      <td>0.0</td>\n",
       "      <td>53.878714</td>\n",
       "      <td>170.122857</td>\n",
       "      <td>NaN</td>\n",
       "      <td>0.0</td>\n",
       "      <td>NaN</td>\n",
       "      <td>2.0</td>\n",
       "      <td>0.604058</td>\n",
       "      <td>0.109950</td>\n",
       "      <td>0.669617</td>\n",
       "      <td>0.559823</td>\n",
       "      <td>-0.043331</td>\n",
       "    </tr>\n",
       "    <tr>\n",
       "      <th>7832</th>\n",
       "      <td>24.0</td>\n",
       "      <td>NaN</td>\n",
       "      <td>NaN</td>\n",
       "      <td>NaN</td>\n",
       "      <td>6.850066e+06</td>\n",
       "      <td>1</td>\n",
       "      <td>0.0</td>\n",
       "      <td>64.171294</td>\n",
       "      <td>161.384804</td>\n",
       "      <td>NaN</td>\n",
       "      <td>0.0</td>\n",
       "      <td>NaN</td>\n",
       "      <td>8.0</td>\n",
       "      <td>0.502413</td>\n",
       "      <td>0.191490</td>\n",
       "      <td>0.618369</td>\n",
       "      <td>-1.577416</td>\n",
       "      <td>-0.445693</td>\n",
       "    </tr>\n",
       "    <tr>\n",
       "      <th>7833</th>\n",
       "      <td>29.0</td>\n",
       "      <td>NaN</td>\n",
       "      <td>NaN</td>\n",
       "      <td>NaN</td>\n",
       "      <td>1.204960e+07</td>\n",
       "      <td>1</td>\n",
       "      <td>0.0</td>\n",
       "      <td>55.217752</td>\n",
       "      <td>179.602130</td>\n",
       "      <td>NaN</td>\n",
       "      <td>1.0</td>\n",
       "      <td>NaN</td>\n",
       "      <td>6.0</td>\n",
       "      <td>0.562664</td>\n",
       "      <td>0.120558</td>\n",
       "      <td>0.725213</td>\n",
       "      <td>-1.068549</td>\n",
       "      <td>0.719119</td>\n",
       "    </tr>\n",
       "    <tr>\n",
       "      <th>7834</th>\n",
       "      <td>42.0</td>\n",
       "      <td>NaN</td>\n",
       "      <td>NaN</td>\n",
       "      <td>NaN</td>\n",
       "      <td>4.888239e+06</td>\n",
       "      <td>1</td>\n",
       "      <td>0.0</td>\n",
       "      <td>52.699072</td>\n",
       "      <td>186.913795</td>\n",
       "      <td>NaN</td>\n",
       "      <td>0.0</td>\n",
       "      <td>NaN</td>\n",
       "      <td>2.0</td>\n",
       "      <td>0.273705</td>\n",
       "      <td>0.100605</td>\n",
       "      <td>0.768095</td>\n",
       "      <td>0.254503</td>\n",
       "      <td>-0.885186</td>\n",
       "    </tr>\n",
       "  </tbody>\n",
       "</table>\n",
       "<p>7757 rows × 18 columns</p>\n",
       "</div>"
      ],
      "text/plain": [
       "      umur  jenis_kelamin  pekerjaan  provinsi          gaji is_menikah  \\\n",
       "0     27.0            1.0        1.0       5.0  7.957453e+06          1   \n",
       "1     53.0            1.0        1.0       3.0  7.633003e+06          1   \n",
       "2     37.0            1.0        2.0       3.0  6.637625e+06          1   \n",
       "3     36.0            1.0        3.0      22.0  3.624871e+06          1   \n",
       "4     38.0            0.0        0.0      20.0  6.031808e+06          1   \n",
       "...    ...            ...        ...       ...           ...        ...   \n",
       "7830  52.0            NaN        NaN       NaN  4.286318e+06          1   \n",
       "7831  45.0            NaN        NaN       NaN  8.646146e+06          1   \n",
       "7832  24.0            NaN        NaN       NaN  6.850066e+06          1   \n",
       "7833  29.0            NaN        NaN       NaN  1.204960e+07          1   \n",
       "7834  42.0            NaN        NaN       NaN  4.888239e+06          1   \n",
       "\n",
       "      is_keturunan      berat      tinggi  sampo  is_merokok  pendidikan  \\\n",
       "0              0.0  54.315053  170.428542    3.0         1.0         0.0   \n",
       "1              0.0  72.873404  165.530097    3.0         0.0         0.0   \n",
       "2              0.0  46.321533  154.599388    2.0         0.0         0.0   \n",
       "3              0.0  51.539781  167.340481    0.0         1.0         3.0   \n",
       "4              0.0  60.726909  165.514773    1.0         1.0         1.0   \n",
       "...            ...        ...         ...    ...         ...         ...   \n",
       "7830           0.0  46.893444  169.880171    NaN         1.0         NaN   \n",
       "7831           0.0  53.878714  170.122857    NaN         0.0         NaN   \n",
       "7832           0.0  64.171294  161.384804    NaN         0.0         NaN   \n",
       "7833           0.0  55.217752  179.602130    NaN         1.0         NaN   \n",
       "7834           0.0  52.699072  186.913795    NaN         0.0         NaN   \n",
       "\n",
       "      stress  botak_prob  berat_norm  tinggi_norm  umur_std  gaji_std  \n",
       "0        5.0    0.605974    0.113407     0.671410 -1.272096 -0.197613  \n",
       "1        7.0    0.532860    0.260430     0.642681  1.374009 -0.270297  \n",
       "2        4.0    0.418442    0.050081     0.578573 -0.254363 -0.493284  \n",
       "3        9.0    0.804050    0.091421     0.653299 -0.356136 -1.168208  \n",
       "4        1.0    0.368371    0.164203     0.642591 -0.152590 -0.629001  \n",
       "...      ...         ...         ...          ...       ...       ...  \n",
       "7830     2.0    0.773141    0.054611     0.668194  1.272236 -1.020029  \n",
       "7831     2.0    0.604058    0.109950     0.669617  0.559823 -0.043331  \n",
       "7832     8.0    0.502413    0.191490     0.618369 -1.577416 -0.445693  \n",
       "7833     6.0    0.562664    0.120558     0.725213 -1.068549  0.719119  \n",
       "7834     2.0    0.273705    0.100605     0.768095  0.254503 -0.885186  \n",
       "\n",
       "[7757 rows x 18 columns]"
      ]
     },
     "execution_count": 151,
     "metadata": {},
     "output_type": "execute_result"
    }
   ],
   "source": [
    "df"
   ]
  },
  {
   "cell_type": "markdown",
   "metadata": {
    "id": "2P9PeLhEklzo"
   },
   "source": [
    "## Imbalanced Dataset"
   ]
  },
  {
   "cell_type": "code",
   "execution_count": 142,
   "metadata": {
    "ExecuteTime": {
     "end_time": "2020-08-30T05:01:55.932484Z",
     "start_time": "2020-08-30T05:01:55.921497Z"
    },
    "colab": {
     "base_uri": "https://localhost:8080/"
    },
    "executionInfo": {
     "elapsed": 896,
     "status": "ok",
     "timestamp": 1606636348164,
     "user": {
      "displayName": "Hafizh Adi Prasetya",
      "photoUrl": "",
      "userId": "17729880730015292488"
     },
     "user_tz": -420
    },
    "id": "bWfbNlMeklzo",
    "outputId": "abb2af06-e7c7-4542-d615-249cb32f69fb"
   },
   "outputs": [
    {
     "data": {
      "text/plain": [
       "False    6495\n",
       "True      756\n",
       "Name: botak_class, dtype: int64"
      ]
     },
     "execution_count": 142,
     "metadata": {
      "tags": []
     },
     "output_type": "execute_result"
    }
   ],
   "source": [
    "df['botak_class'] = df['botak_prob'] > 0.8\n",
    "df['botak_class'].value_counts()"
   ]
  },
  {
   "cell_type": "code",
   "execution_count": 143,
   "metadata": {
    "ExecuteTime": {
     "end_time": "2020-08-30T05:02:10.853740Z",
     "start_time": "2020-08-30T05:02:10.812762Z"
    },
    "colab": {
     "base_uri": "https://localhost:8080/"
    },
    "executionInfo": {
     "elapsed": 912,
     "status": "ok",
     "timestamp": 1606636400948,
     "user": {
      "displayName": "Hafizh Adi Prasetya",
      "photoUrl": "",
      "userId": "17729880730015292488"
     },
     "user_tz": -420
    },
    "id": "jUBkbWeTklzr",
    "outputId": "07b1bb96-f62a-4cd9-aa2a-c0176735bde5"
   },
   "outputs": [
    {
     "name": "stdout",
     "output_type": "stream",
     "text": [
      "(7251, 64)\n",
      "(7251,)\n"
     ]
    }
   ],
   "source": [
    "X = df[[col for col in df.columns if (str(df[col].dtype) != 'object') and col not in ['botak_prob', 'botak_class']]]\n",
    "y = df['botak_class'].values\n",
    "print(X.shape)\n",
    "print(y.shape)"
   ]
  },
  {
   "cell_type": "code",
   "execution_count": 150,
   "metadata": {
    "ExecuteTime": {
     "end_time": "2020-08-30T05:04:12.387887Z",
     "start_time": "2020-08-30T05:04:12.364911Z"
    },
    "colab": {
     "base_uri": "https://localhost:8080/"
    },
    "executionInfo": {
     "elapsed": 859,
     "status": "ok",
     "timestamp": 1606636574364,
     "user": {
      "displayName": "Hafizh Adi Prasetya",
      "photoUrl": "",
      "userId": "17729880730015292488"
     },
     "user_tz": -420
    },
    "id": "27jzXFSLklzt",
    "outputId": "8af8f745-bb53-43a0-be8b-a3b029bd3ce8"
   },
   "outputs": [
    {
     "name": "stderr",
     "output_type": "stream",
     "text": [
      "/usr/local/lib/python3.6/dist-packages/sklearn/utils/deprecation.py:87: FutureWarning: Function safe_indexing is deprecated; safe_indexing is deprecated in version 0.22 and will be removed in version 0.24.\n",
      "  warnings.warn(msg, category=FutureWarning)\n",
      "/usr/local/lib/python3.6/dist-packages/sklearn/utils/deprecation.py:87: FutureWarning: Function safe_indexing is deprecated; safe_indexing is deprecated in version 0.22 and will be removed in version 0.24.\n",
      "  warnings.warn(msg, category=FutureWarning)\n"
     ]
    }
   ],
   "source": [
    "from imblearn import under_sampling, over_sampling\n",
    "X_under, y_under = under_sampling.RandomUnderSampler(0.5).fit_resample(X, y)\n",
    "X_over, y_over = over_sampling.RandomOverSampler(0.5).fit_resample(X, y)"
   ]
  },
  {
   "cell_type": "code",
   "execution_count": 152,
   "metadata": {
    "colab": {
     "base_uri": "https://localhost:8080/"
    },
    "executionInfo": {
     "elapsed": 879,
     "status": "ok",
     "timestamp": 1606636586517,
     "user": {
      "displayName": "Hafizh Adi Prasetya",
      "photoUrl": "",
      "userId": "17729880730015292488"
     },
     "user_tz": -420
    },
    "id": "sxh-Y-I5jTO-",
    "outputId": "a5dac895-9aba-4093-e836-05b3891cfb8b"
   },
   "outputs": [
    {
     "data": {
      "text/plain": [
       "False    6495\n",
       "True     3247\n",
       "dtype: int64"
      ]
     },
     "execution_count": 152,
     "metadata": {
      "tags": []
     },
     "output_type": "execute_result"
    }
   ],
   "source": [
    "pd.Series(y_over).value_counts()"
   ]
  }
 ],
 "metadata": {
  "colab": {
   "collapsed_sections": [],
   "name": "Session 27 - Preprocessing Hands On.ipynb",
   "provenance": [],
   "toc_visible": true
  },
  "kernelspec": {
   "display_name": "Python 3",
   "language": "python",
   "name": "python3"
  },
  "language_info": {
   "codemirror_mode": {
    "name": "ipython",
    "version": 3
   },
   "file_extension": ".py",
   "mimetype": "text/x-python",
   "name": "python",
   "nbconvert_exporter": "python",
   "pygments_lexer": "ipython3",
   "version": "3.8.5"
  }
 },
 "nbformat": 4,
 "nbformat_minor": 4
}
