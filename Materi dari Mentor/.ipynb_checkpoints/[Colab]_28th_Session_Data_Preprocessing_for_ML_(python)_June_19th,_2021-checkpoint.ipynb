{
 "cells": [
  {
   "cell_type": "code",
   "execution_count": 100,
   "metadata": {
    "id": "XnBQqdvCUfJi"
   },
   "outputs": [],
   "source": [
    "# Source: https://codesource.io/data-preprocessing-for-machine-learning/\n",
    "# importing libraries\n",
    "import numpy as np\n",
    "import matplotlib.pyplot as plt\n",
    "import pandas as pd"
   ]
  },
  {
   "cell_type": "code",
   "execution_count": 101,
   "metadata": {
    "colab": {
     "base_uri": "https://localhost:8080/"
    },
    "id": "2RggQ0uBUfJk",
    "outputId": "9b60e40b-1ddf-40ae-ee43-d020504cb4c9"
   },
   "outputs": [
    {
     "name": "stdout",
     "output_type": "stream",
     "text": [
      "    Country   Age   Salary Purchased\n",
      "0    France  44.0  72000.0        No\n",
      "1     Spain  27.0  48000.0       Yes\n",
      "2   Germany  30.0  54000.0        No\n",
      "3     Spain  38.0  61000.0        No\n",
      "4   Nigeria  18.0  15000.0        No\n",
      "5   Germany  40.0      NaN       Yes\n",
      "6    France  35.0  58000.0       Yes\n",
      "7     Spain   NaN  52000.0        No\n",
      "8    France  48.0  79000.0       Yes\n",
      "9   Germany  50.0  83000.0        No\n",
      "10   France  37.0  67000.0       Yes\n",
      "11  Nigeria  50.0  60000.0       Yes\n",
      "12   France  22.0  30000.0        No\n",
      "13      NaN  44.0  45000.0       Yes\n",
      "14   France  47.0  78000.0       NaN\n",
      "15  Nigeria  35.0  43000.0       Yes\n",
      "16    Spain  34.0  44000.0       Yes\n",
      "17    Spain  27.0  48000.0       Yes\n",
      "18    Spain  33.0  48000.0       Yes\n",
      "19  Nigeria  29.0  77000.0       Yes\n",
      "20    Spain   NaN  57000.0       Yes\n",
      "21   France  44.0  48000.0       Yes\n",
      "22  Germany  50.0  83000.0        No\n",
      "23   France  37.0  67000.0       Yes\n",
      "24   France  37.0  23000.0       Yes\n",
      "25  Germany  45.0  50000.0        No\n",
      "26   France  37.0  67000.0       Yes\n",
      "27  Nigeria  30.0  30000.0       Yes\n",
      "28  Nigeria  29.0  15000.0        No\n"
     ]
    }
   ],
   "source": [
    "# import dataset\n",
    "dataset = pd.read_csv('sample_data.csv')\n",
    "print(dataset)"
   ]
  },
  {
   "cell_type": "code",
   "execution_count": 102,
   "metadata": {
    "colab": {
     "base_uri": "https://localhost:8080/",
     "height": 204
    },
    "id": "K0eA57pvUfJl",
    "outputId": "b46164c4-5087-4861-cc63-6cf9574e11e8"
   },
   "outputs": [
    {
     "data": {
      "text/html": [
       "<div>\n",
       "<style scoped>\n",
       "    .dataframe tbody tr th:only-of-type {\n",
       "        vertical-align: middle;\n",
       "    }\n",
       "\n",
       "    .dataframe tbody tr th {\n",
       "        vertical-align: top;\n",
       "    }\n",
       "\n",
       "    .dataframe thead th {\n",
       "        text-align: right;\n",
       "    }\n",
       "</style>\n",
       "<table border=\"1\" class=\"dataframe\">\n",
       "  <thead>\n",
       "    <tr style=\"text-align: right;\">\n",
       "      <th></th>\n",
       "      <th>Country</th>\n",
       "      <th>Age</th>\n",
       "      <th>Salary</th>\n",
       "      <th>Purchased</th>\n",
       "    </tr>\n",
       "  </thead>\n",
       "  <tbody>\n",
       "    <tr>\n",
       "      <th>0</th>\n",
       "      <td>France</td>\n",
       "      <td>44.0</td>\n",
       "      <td>72000.0</td>\n",
       "      <td>No</td>\n",
       "    </tr>\n",
       "    <tr>\n",
       "      <th>1</th>\n",
       "      <td>Spain</td>\n",
       "      <td>27.0</td>\n",
       "      <td>48000.0</td>\n",
       "      <td>Yes</td>\n",
       "    </tr>\n",
       "    <tr>\n",
       "      <th>2</th>\n",
       "      <td>Germany</td>\n",
       "      <td>30.0</td>\n",
       "      <td>54000.0</td>\n",
       "      <td>No</td>\n",
       "    </tr>\n",
       "    <tr>\n",
       "      <th>3</th>\n",
       "      <td>Spain</td>\n",
       "      <td>38.0</td>\n",
       "      <td>61000.0</td>\n",
       "      <td>No</td>\n",
       "    </tr>\n",
       "    <tr>\n",
       "      <th>4</th>\n",
       "      <td>Nigeria</td>\n",
       "      <td>18.0</td>\n",
       "      <td>15000.0</td>\n",
       "      <td>No</td>\n",
       "    </tr>\n",
       "  </tbody>\n",
       "</table>\n",
       "</div>"
      ],
      "text/plain": [
       "   Country   Age   Salary Purchased\n",
       "0   France  44.0  72000.0        No\n",
       "1    Spain  27.0  48000.0       Yes\n",
       "2  Germany  30.0  54000.0        No\n",
       "3    Spain  38.0  61000.0        No\n",
       "4  Nigeria  18.0  15000.0        No"
      ]
     },
     "execution_count": 102,
     "metadata": {
      "tags": []
     },
     "output_type": "execute_result"
    }
   ],
   "source": [
    "# melihat cuplikan dataset\n",
    "dataset.head()"
   ]
  },
  {
   "cell_type": "code",
   "execution_count": 103,
   "metadata": {
    "colab": {
     "base_uri": "https://localhost:8080/",
     "height": 297
    },
    "id": "rfuGMw3WUfJm",
    "outputId": "d977e464-a136-4c0c-ccdf-e7a2a297a1e2"
   },
   "outputs": [
    {
     "data": {
      "text/html": [
       "<div>\n",
       "<style scoped>\n",
       "    .dataframe tbody tr th:only-of-type {\n",
       "        vertical-align: middle;\n",
       "    }\n",
       "\n",
       "    .dataframe tbody tr th {\n",
       "        vertical-align: top;\n",
       "    }\n",
       "\n",
       "    .dataframe thead th {\n",
       "        text-align: right;\n",
       "    }\n",
       "</style>\n",
       "<table border=\"1\" class=\"dataframe\">\n",
       "  <thead>\n",
       "    <tr style=\"text-align: right;\">\n",
       "      <th></th>\n",
       "      <th>Age</th>\n",
       "      <th>Salary</th>\n",
       "    </tr>\n",
       "  </thead>\n",
       "  <tbody>\n",
       "    <tr>\n",
       "      <th>count</th>\n",
       "      <td>27.000000</td>\n",
       "      <td>28.000000</td>\n",
       "    </tr>\n",
       "    <tr>\n",
       "      <th>mean</th>\n",
       "      <td>36.925926</td>\n",
       "      <td>53642.857143</td>\n",
       "    </tr>\n",
       "    <tr>\n",
       "      <th>std</th>\n",
       "      <td>8.757089</td>\n",
       "      <td>19216.532785</td>\n",
       "    </tr>\n",
       "    <tr>\n",
       "      <th>min</th>\n",
       "      <td>18.000000</td>\n",
       "      <td>15000.000000</td>\n",
       "    </tr>\n",
       "    <tr>\n",
       "      <th>25%</th>\n",
       "      <td>30.000000</td>\n",
       "      <td>44750.000000</td>\n",
       "    </tr>\n",
       "    <tr>\n",
       "      <th>50%</th>\n",
       "      <td>37.000000</td>\n",
       "      <td>53000.000000</td>\n",
       "    </tr>\n",
       "    <tr>\n",
       "      <th>75%</th>\n",
       "      <td>44.000000</td>\n",
       "      <td>67000.000000</td>\n",
       "    </tr>\n",
       "    <tr>\n",
       "      <th>max</th>\n",
       "      <td>50.000000</td>\n",
       "      <td>83000.000000</td>\n",
       "    </tr>\n",
       "  </tbody>\n",
       "</table>\n",
       "</div>"
      ],
      "text/plain": [
       "             Age        Salary\n",
       "count  27.000000     28.000000\n",
       "mean   36.925926  53642.857143\n",
       "std     8.757089  19216.532785\n",
       "min    18.000000  15000.000000\n",
       "25%    30.000000  44750.000000\n",
       "50%    37.000000  53000.000000\n",
       "75%    44.000000  67000.000000\n",
       "max    50.000000  83000.000000"
      ]
     },
     "execution_count": 103,
     "metadata": {
      "tags": []
     },
     "output_type": "execute_result"
    }
   ],
   "source": [
    "# statistika deskriptif\n",
    "dataset.describe()"
   ]
  },
  {
   "cell_type": "code",
   "execution_count": 104,
   "metadata": {
    "colab": {
     "base_uri": "https://localhost:8080/"
    },
    "id": "H8VzEKMaAC9J",
    "outputId": "9ca1d921-4a91-4dc3-e5c9-1ecb1baab5d0"
   },
   "outputs": [
    {
     "data": {
      "text/plain": [
       "Counter({'France': 10, 'Germany': 5, 'Nigeria': 6, 'Spain': 7, nan: 1})"
      ]
     },
     "execution_count": 104,
     "metadata": {
      "tags": []
     },
     "output_type": "execute_result"
    }
   ],
   "source": [
    "#\n",
    "from collections import Counter\n",
    "Counter(dataset[\"Country\"])"
   ]
  },
  {
   "cell_type": "code",
   "execution_count": 105,
   "metadata": {
    "colab": {
     "base_uri": "https://localhost:8080/"
    },
    "id": "VWOTnUi-AO60",
    "outputId": "a1516a4b-1d6e-487b-c399-87f177fe16b6"
   },
   "outputs": [
    {
     "data": {
      "text/plain": [
       "Counter({'No': 10, 'Yes': 18, nan: 1})"
      ]
     },
     "execution_count": 105,
     "metadata": {
      "tags": []
     },
     "output_type": "execute_result"
    }
   ],
   "source": [
    "Counter(dataset[\"Purchased\"])"
   ]
  },
  {
   "cell_type": "code",
   "execution_count": 106,
   "metadata": {
    "id": "xfEmPjqoUfJn"
   },
   "outputs": [],
   "source": [
    "# dropping duplicate values\n",
    "dataset = dataset.drop_duplicates()\n",
    "dataset = dataset.reset_index(drop = True)"
   ]
  },
  {
   "cell_type": "code",
   "execution_count": 107,
   "metadata": {
    "colab": {
     "base_uri": "https://localhost:8080/",
     "height": 297
    },
    "id": "0IrN4Us7UfJn",
    "outputId": "79216e0f-0367-42a2-9fc4-91f54cc5ceb6"
   },
   "outputs": [
    {
     "data": {
      "text/html": [
       "<div>\n",
       "<style scoped>\n",
       "    .dataframe tbody tr th:only-of-type {\n",
       "        vertical-align: middle;\n",
       "    }\n",
       "\n",
       "    .dataframe tbody tr th {\n",
       "        vertical-align: top;\n",
       "    }\n",
       "\n",
       "    .dataframe thead th {\n",
       "        text-align: right;\n",
       "    }\n",
       "</style>\n",
       "<table border=\"1\" class=\"dataframe\">\n",
       "  <thead>\n",
       "    <tr style=\"text-align: right;\">\n",
       "      <th></th>\n",
       "      <th>Age</th>\n",
       "      <th>Salary</th>\n",
       "    </tr>\n",
       "  </thead>\n",
       "  <tbody>\n",
       "    <tr>\n",
       "      <th>count</th>\n",
       "      <td>23.000000</td>\n",
       "      <td>24.000000</td>\n",
       "    </tr>\n",
       "    <tr>\n",
       "      <th>mean</th>\n",
       "      <td>36.782609</td>\n",
       "      <td>51541.666667</td>\n",
       "    </tr>\n",
       "    <tr>\n",
       "      <th>std</th>\n",
       "      <td>8.852101</td>\n",
       "      <td>19352.517344</td>\n",
       "    </tr>\n",
       "    <tr>\n",
       "      <th>min</th>\n",
       "      <td>18.000000</td>\n",
       "      <td>15000.000000</td>\n",
       "    </tr>\n",
       "    <tr>\n",
       "      <th>25%</th>\n",
       "      <td>30.000000</td>\n",
       "      <td>43750.000000</td>\n",
       "    </tr>\n",
       "    <tr>\n",
       "      <th>50%</th>\n",
       "      <td>37.000000</td>\n",
       "      <td>51000.000000</td>\n",
       "    </tr>\n",
       "    <tr>\n",
       "      <th>75%</th>\n",
       "      <td>44.000000</td>\n",
       "      <td>62500.000000</td>\n",
       "    </tr>\n",
       "    <tr>\n",
       "      <th>max</th>\n",
       "      <td>50.000000</td>\n",
       "      <td>83000.000000</td>\n",
       "    </tr>\n",
       "  </tbody>\n",
       "</table>\n",
       "</div>"
      ],
      "text/plain": [
       "             Age        Salary\n",
       "count  23.000000     24.000000\n",
       "mean   36.782609  51541.666667\n",
       "std     8.852101  19352.517344\n",
       "min    18.000000  15000.000000\n",
       "25%    30.000000  43750.000000\n",
       "50%    37.000000  51000.000000\n",
       "75%    44.000000  62500.000000\n",
       "max    50.000000  83000.000000"
      ]
     },
     "execution_count": 107,
     "metadata": {
      "tags": []
     },
     "output_type": "execute_result"
    }
   ],
   "source": [
    "dataset.describe()"
   ]
  },
  {
   "cell_type": "code",
   "execution_count": 108,
   "metadata": {
    "colab": {
     "base_uri": "https://localhost:8080/",
     "height": 824
    },
    "id": "i_PCZdGoUfJo",
    "outputId": "88913f4d-9f85-4430-d21b-fe1f69a237f1"
   },
   "outputs": [
    {
     "data": {
      "text/html": [
       "<div>\n",
       "<style scoped>\n",
       "    .dataframe tbody tr th:only-of-type {\n",
       "        vertical-align: middle;\n",
       "    }\n",
       "\n",
       "    .dataframe tbody tr th {\n",
       "        vertical-align: top;\n",
       "    }\n",
       "\n",
       "    .dataframe thead th {\n",
       "        text-align: right;\n",
       "    }\n",
       "</style>\n",
       "<table border=\"1\" class=\"dataframe\">\n",
       "  <thead>\n",
       "    <tr style=\"text-align: right;\">\n",
       "      <th></th>\n",
       "      <th>Country</th>\n",
       "      <th>Age</th>\n",
       "      <th>Salary</th>\n",
       "      <th>Purchased</th>\n",
       "    </tr>\n",
       "  </thead>\n",
       "  <tbody>\n",
       "    <tr>\n",
       "      <th>0</th>\n",
       "      <td>False</td>\n",
       "      <td>False</td>\n",
       "      <td>False</td>\n",
       "      <td>False</td>\n",
       "    </tr>\n",
       "    <tr>\n",
       "      <th>1</th>\n",
       "      <td>False</td>\n",
       "      <td>False</td>\n",
       "      <td>False</td>\n",
       "      <td>False</td>\n",
       "    </tr>\n",
       "    <tr>\n",
       "      <th>2</th>\n",
       "      <td>False</td>\n",
       "      <td>False</td>\n",
       "      <td>False</td>\n",
       "      <td>False</td>\n",
       "    </tr>\n",
       "    <tr>\n",
       "      <th>3</th>\n",
       "      <td>False</td>\n",
       "      <td>False</td>\n",
       "      <td>False</td>\n",
       "      <td>False</td>\n",
       "    </tr>\n",
       "    <tr>\n",
       "      <th>4</th>\n",
       "      <td>False</td>\n",
       "      <td>False</td>\n",
       "      <td>False</td>\n",
       "      <td>False</td>\n",
       "    </tr>\n",
       "    <tr>\n",
       "      <th>5</th>\n",
       "      <td>False</td>\n",
       "      <td>False</td>\n",
       "      <td>True</td>\n",
       "      <td>False</td>\n",
       "    </tr>\n",
       "    <tr>\n",
       "      <th>6</th>\n",
       "      <td>False</td>\n",
       "      <td>False</td>\n",
       "      <td>False</td>\n",
       "      <td>False</td>\n",
       "    </tr>\n",
       "    <tr>\n",
       "      <th>7</th>\n",
       "      <td>False</td>\n",
       "      <td>True</td>\n",
       "      <td>False</td>\n",
       "      <td>False</td>\n",
       "    </tr>\n",
       "    <tr>\n",
       "      <th>8</th>\n",
       "      <td>False</td>\n",
       "      <td>False</td>\n",
       "      <td>False</td>\n",
       "      <td>False</td>\n",
       "    </tr>\n",
       "    <tr>\n",
       "      <th>9</th>\n",
       "      <td>False</td>\n",
       "      <td>False</td>\n",
       "      <td>False</td>\n",
       "      <td>False</td>\n",
       "    </tr>\n",
       "    <tr>\n",
       "      <th>10</th>\n",
       "      <td>False</td>\n",
       "      <td>False</td>\n",
       "      <td>False</td>\n",
       "      <td>False</td>\n",
       "    </tr>\n",
       "    <tr>\n",
       "      <th>11</th>\n",
       "      <td>False</td>\n",
       "      <td>False</td>\n",
       "      <td>False</td>\n",
       "      <td>False</td>\n",
       "    </tr>\n",
       "    <tr>\n",
       "      <th>12</th>\n",
       "      <td>False</td>\n",
       "      <td>False</td>\n",
       "      <td>False</td>\n",
       "      <td>False</td>\n",
       "    </tr>\n",
       "    <tr>\n",
       "      <th>13</th>\n",
       "      <td>True</td>\n",
       "      <td>False</td>\n",
       "      <td>False</td>\n",
       "      <td>False</td>\n",
       "    </tr>\n",
       "    <tr>\n",
       "      <th>14</th>\n",
       "      <td>False</td>\n",
       "      <td>False</td>\n",
       "      <td>False</td>\n",
       "      <td>True</td>\n",
       "    </tr>\n",
       "    <tr>\n",
       "      <th>15</th>\n",
       "      <td>False</td>\n",
       "      <td>False</td>\n",
       "      <td>False</td>\n",
       "      <td>False</td>\n",
       "    </tr>\n",
       "    <tr>\n",
       "      <th>16</th>\n",
       "      <td>False</td>\n",
       "      <td>False</td>\n",
       "      <td>False</td>\n",
       "      <td>False</td>\n",
       "    </tr>\n",
       "    <tr>\n",
       "      <th>17</th>\n",
       "      <td>False</td>\n",
       "      <td>False</td>\n",
       "      <td>False</td>\n",
       "      <td>False</td>\n",
       "    </tr>\n",
       "    <tr>\n",
       "      <th>18</th>\n",
       "      <td>False</td>\n",
       "      <td>False</td>\n",
       "      <td>False</td>\n",
       "      <td>False</td>\n",
       "    </tr>\n",
       "    <tr>\n",
       "      <th>19</th>\n",
       "      <td>False</td>\n",
       "      <td>True</td>\n",
       "      <td>False</td>\n",
       "      <td>False</td>\n",
       "    </tr>\n",
       "    <tr>\n",
       "      <th>20</th>\n",
       "      <td>False</td>\n",
       "      <td>False</td>\n",
       "      <td>False</td>\n",
       "      <td>False</td>\n",
       "    </tr>\n",
       "    <tr>\n",
       "      <th>21</th>\n",
       "      <td>False</td>\n",
       "      <td>False</td>\n",
       "      <td>False</td>\n",
       "      <td>False</td>\n",
       "    </tr>\n",
       "    <tr>\n",
       "      <th>22</th>\n",
       "      <td>False</td>\n",
       "      <td>False</td>\n",
       "      <td>False</td>\n",
       "      <td>False</td>\n",
       "    </tr>\n",
       "    <tr>\n",
       "      <th>23</th>\n",
       "      <td>False</td>\n",
       "      <td>False</td>\n",
       "      <td>False</td>\n",
       "      <td>False</td>\n",
       "    </tr>\n",
       "    <tr>\n",
       "      <th>24</th>\n",
       "      <td>False</td>\n",
       "      <td>False</td>\n",
       "      <td>False</td>\n",
       "      <td>False</td>\n",
       "    </tr>\n",
       "  </tbody>\n",
       "</table>\n",
       "</div>"
      ],
      "text/plain": [
       "    Country    Age  Salary  Purchased\n",
       "0     False  False   False      False\n",
       "1     False  False   False      False\n",
       "2     False  False   False      False\n",
       "3     False  False   False      False\n",
       "4     False  False   False      False\n",
       "5     False  False    True      False\n",
       "6     False  False   False      False\n",
       "7     False   True   False      False\n",
       "8     False  False   False      False\n",
       "9     False  False   False      False\n",
       "10    False  False   False      False\n",
       "11    False  False   False      False\n",
       "12    False  False   False      False\n",
       "13     True  False   False      False\n",
       "14    False  False   False       True\n",
       "15    False  False   False      False\n",
       "16    False  False   False      False\n",
       "17    False  False   False      False\n",
       "18    False  False   False      False\n",
       "19    False   True   False      False\n",
       "20    False  False   False      False\n",
       "21    False  False   False      False\n",
       "22    False  False   False      False\n",
       "23    False  False   False      False\n",
       "24    False  False   False      False"
      ]
     },
     "execution_count": 108,
     "metadata": {
      "tags": []
     },
     "output_type": "execute_result"
    }
   ],
   "source": [
    "# checking for missing values\n",
    "dataset.isnull()"
   ]
  },
  {
   "cell_type": "code",
   "execution_count": 109,
   "metadata": {
    "colab": {
     "base_uri": "https://localhost:8080/",
     "height": 204
    },
    "id": "uI4Gjl7yCgMf",
    "outputId": "9cbce9e3-8eba-4f3b-d0ad-4c5a69b75153"
   },
   "outputs": [
    {
     "data": {
      "text/html": [
       "<div>\n",
       "<style scoped>\n",
       "    .dataframe tbody tr th:only-of-type {\n",
       "        vertical-align: middle;\n",
       "    }\n",
       "\n",
       "    .dataframe tbody tr th {\n",
       "        vertical-align: top;\n",
       "    }\n",
       "\n",
       "    .dataframe thead th {\n",
       "        text-align: right;\n",
       "    }\n",
       "</style>\n",
       "<table border=\"1\" class=\"dataframe\">\n",
       "  <thead>\n",
       "    <tr style=\"text-align: right;\">\n",
       "      <th></th>\n",
       "      <th>Country</th>\n",
       "      <th>Age</th>\n",
       "      <th>Salary</th>\n",
       "      <th>Purchased</th>\n",
       "    </tr>\n",
       "  </thead>\n",
       "  <tbody>\n",
       "    <tr>\n",
       "      <th>5</th>\n",
       "      <td>Germany</td>\n",
       "      <td>40.0</td>\n",
       "      <td>NaN</td>\n",
       "      <td>Yes</td>\n",
       "    </tr>\n",
       "    <tr>\n",
       "      <th>7</th>\n",
       "      <td>Spain</td>\n",
       "      <td>NaN</td>\n",
       "      <td>52000.0</td>\n",
       "      <td>No</td>\n",
       "    </tr>\n",
       "    <tr>\n",
       "      <th>13</th>\n",
       "      <td>NaN</td>\n",
       "      <td>44.0</td>\n",
       "      <td>45000.0</td>\n",
       "      <td>Yes</td>\n",
       "    </tr>\n",
       "    <tr>\n",
       "      <th>14</th>\n",
       "      <td>France</td>\n",
       "      <td>47.0</td>\n",
       "      <td>78000.0</td>\n",
       "      <td>NaN</td>\n",
       "    </tr>\n",
       "    <tr>\n",
       "      <th>19</th>\n",
       "      <td>Spain</td>\n",
       "      <td>NaN</td>\n",
       "      <td>57000.0</td>\n",
       "      <td>Yes</td>\n",
       "    </tr>\n",
       "  </tbody>\n",
       "</table>\n",
       "</div>"
      ],
      "text/plain": [
       "    Country   Age   Salary Purchased\n",
       "5   Germany  40.0      NaN       Yes\n",
       "7     Spain   NaN  52000.0        No\n",
       "13      NaN  44.0  45000.0       Yes\n",
       "14   France  47.0  78000.0       NaN\n",
       "19    Spain   NaN  57000.0       Yes"
      ]
     },
     "execution_count": 109,
     "metadata": {
      "tags": []
     },
     "output_type": "execute_result"
    }
   ],
   "source": [
    "# Melihat kolom yang memiliki missing value\n",
    "dataset[dataset.isnull().any(axis = 1)]"
   ]
  },
  {
   "cell_type": "code",
   "execution_count": 110,
   "metadata": {
    "colab": {
     "base_uri": "https://localhost:8080/"
    },
    "id": "L2jgnIagUfJo",
    "outputId": "a59944bc-162c-4951-b979-bf0a35270520"
   },
   "outputs": [
    {
     "data": {
      "text/plain": [
       "Country      1\n",
       "Age          2\n",
       "Salary       1\n",
       "Purchased    1\n",
       "dtype: int64"
      ]
     },
     "execution_count": 110,
     "metadata": {
      "tags": []
     },
     "output_type": "execute_result"
    }
   ],
   "source": [
    "# checking the number of missing data\n",
    "dataset.isnull().sum()"
   ]
  },
  {
   "cell_type": "code",
   "execution_count": 111,
   "metadata": {
    "colab": {
     "base_uri": "https://localhost:8080/",
     "height": 669
    },
    "id": "kBZ6ZZwwUfJp",
    "outputId": "7be70003-21bb-46c9-c482-9fbfb87b8d37"
   },
   "outputs": [
    {
     "data": {
      "text/html": [
       "<div>\n",
       "<style scoped>\n",
       "    .dataframe tbody tr th:only-of-type {\n",
       "        vertical-align: middle;\n",
       "    }\n",
       "\n",
       "    .dataframe tbody tr th {\n",
       "        vertical-align: top;\n",
       "    }\n",
       "\n",
       "    .dataframe thead th {\n",
       "        text-align: right;\n",
       "    }\n",
       "</style>\n",
       "<table border=\"1\" class=\"dataframe\">\n",
       "  <thead>\n",
       "    <tr style=\"text-align: right;\">\n",
       "      <th></th>\n",
       "      <th>Country</th>\n",
       "      <th>Age</th>\n",
       "      <th>Salary</th>\n",
       "      <th>Purchased</th>\n",
       "    </tr>\n",
       "  </thead>\n",
       "  <tbody>\n",
       "    <tr>\n",
       "      <th>0</th>\n",
       "      <td>France</td>\n",
       "      <td>44.0</td>\n",
       "      <td>72000.0</td>\n",
       "      <td>No</td>\n",
       "    </tr>\n",
       "    <tr>\n",
       "      <th>1</th>\n",
       "      <td>Spain</td>\n",
       "      <td>27.0</td>\n",
       "      <td>48000.0</td>\n",
       "      <td>Yes</td>\n",
       "    </tr>\n",
       "    <tr>\n",
       "      <th>2</th>\n",
       "      <td>Germany</td>\n",
       "      <td>30.0</td>\n",
       "      <td>54000.0</td>\n",
       "      <td>No</td>\n",
       "    </tr>\n",
       "    <tr>\n",
       "      <th>3</th>\n",
       "      <td>Spain</td>\n",
       "      <td>38.0</td>\n",
       "      <td>61000.0</td>\n",
       "      <td>No</td>\n",
       "    </tr>\n",
       "    <tr>\n",
       "      <th>4</th>\n",
       "      <td>Nigeria</td>\n",
       "      <td>18.0</td>\n",
       "      <td>15000.0</td>\n",
       "      <td>No</td>\n",
       "    </tr>\n",
       "    <tr>\n",
       "      <th>6</th>\n",
       "      <td>France</td>\n",
       "      <td>35.0</td>\n",
       "      <td>58000.0</td>\n",
       "      <td>Yes</td>\n",
       "    </tr>\n",
       "    <tr>\n",
       "      <th>8</th>\n",
       "      <td>France</td>\n",
       "      <td>48.0</td>\n",
       "      <td>79000.0</td>\n",
       "      <td>Yes</td>\n",
       "    </tr>\n",
       "    <tr>\n",
       "      <th>9</th>\n",
       "      <td>Germany</td>\n",
       "      <td>50.0</td>\n",
       "      <td>83000.0</td>\n",
       "      <td>No</td>\n",
       "    </tr>\n",
       "    <tr>\n",
       "      <th>10</th>\n",
       "      <td>France</td>\n",
       "      <td>37.0</td>\n",
       "      <td>67000.0</td>\n",
       "      <td>Yes</td>\n",
       "    </tr>\n",
       "    <tr>\n",
       "      <th>11</th>\n",
       "      <td>Nigeria</td>\n",
       "      <td>50.0</td>\n",
       "      <td>60000.0</td>\n",
       "      <td>Yes</td>\n",
       "    </tr>\n",
       "    <tr>\n",
       "      <th>12</th>\n",
       "      <td>France</td>\n",
       "      <td>22.0</td>\n",
       "      <td>30000.0</td>\n",
       "      <td>No</td>\n",
       "    </tr>\n",
       "    <tr>\n",
       "      <th>15</th>\n",
       "      <td>Nigeria</td>\n",
       "      <td>35.0</td>\n",
       "      <td>43000.0</td>\n",
       "      <td>Yes</td>\n",
       "    </tr>\n",
       "    <tr>\n",
       "      <th>16</th>\n",
       "      <td>Spain</td>\n",
       "      <td>34.0</td>\n",
       "      <td>44000.0</td>\n",
       "      <td>Yes</td>\n",
       "    </tr>\n",
       "    <tr>\n",
       "      <th>17</th>\n",
       "      <td>Spain</td>\n",
       "      <td>33.0</td>\n",
       "      <td>48000.0</td>\n",
       "      <td>Yes</td>\n",
       "    </tr>\n",
       "    <tr>\n",
       "      <th>18</th>\n",
       "      <td>Nigeria</td>\n",
       "      <td>29.0</td>\n",
       "      <td>77000.0</td>\n",
       "      <td>Yes</td>\n",
       "    </tr>\n",
       "    <tr>\n",
       "      <th>20</th>\n",
       "      <td>France</td>\n",
       "      <td>44.0</td>\n",
       "      <td>48000.0</td>\n",
       "      <td>Yes</td>\n",
       "    </tr>\n",
       "    <tr>\n",
       "      <th>21</th>\n",
       "      <td>France</td>\n",
       "      <td>37.0</td>\n",
       "      <td>23000.0</td>\n",
       "      <td>Yes</td>\n",
       "    </tr>\n",
       "    <tr>\n",
       "      <th>22</th>\n",
       "      <td>Germany</td>\n",
       "      <td>45.0</td>\n",
       "      <td>50000.0</td>\n",
       "      <td>No</td>\n",
       "    </tr>\n",
       "    <tr>\n",
       "      <th>23</th>\n",
       "      <td>Nigeria</td>\n",
       "      <td>30.0</td>\n",
       "      <td>30000.0</td>\n",
       "      <td>Yes</td>\n",
       "    </tr>\n",
       "    <tr>\n",
       "      <th>24</th>\n",
       "      <td>Nigeria</td>\n",
       "      <td>29.0</td>\n",
       "      <td>15000.0</td>\n",
       "      <td>No</td>\n",
       "    </tr>\n",
       "  </tbody>\n",
       "</table>\n",
       "</div>"
      ],
      "text/plain": [
       "    Country   Age   Salary Purchased\n",
       "0    France  44.0  72000.0        No\n",
       "1     Spain  27.0  48000.0       Yes\n",
       "2   Germany  30.0  54000.0        No\n",
       "3     Spain  38.0  61000.0        No\n",
       "4   Nigeria  18.0  15000.0        No\n",
       "6    France  35.0  58000.0       Yes\n",
       "8    France  48.0  79000.0       Yes\n",
       "9   Germany  50.0  83000.0        No\n",
       "10   France  37.0  67000.0       Yes\n",
       "11  Nigeria  50.0  60000.0       Yes\n",
       "12   France  22.0  30000.0        No\n",
       "15  Nigeria  35.0  43000.0       Yes\n",
       "16    Spain  34.0  44000.0       Yes\n",
       "17    Spain  33.0  48000.0       Yes\n",
       "18  Nigeria  29.0  77000.0       Yes\n",
       "20   France  44.0  48000.0       Yes\n",
       "21   France  37.0  23000.0       Yes\n",
       "22  Germany  45.0  50000.0        No\n",
       "23  Nigeria  30.0  30000.0       Yes\n",
       "24  Nigeria  29.0  15000.0        No"
      ]
     },
     "execution_count": 111,
     "metadata": {
      "tags": []
     },
     "output_type": "execute_result"
    }
   ],
   "source": [
    "# Dropping data rows with missing values\n",
    "dataset.dropna(how='any')"
   ]
  },
  {
   "cell_type": "code",
   "execution_count": 112,
   "metadata": {
    "colab": {
     "base_uri": "https://localhost:8080/",
     "height": 793
    },
    "id": "iVBuBWJOCHAM",
    "outputId": "badf7498-4b39-4d0e-eee2-db3234a8cd7a"
   },
   "outputs": [
    {
     "data": {
      "text/html": [
       "<div>\n",
       "<style scoped>\n",
       "    .dataframe tbody tr th:only-of-type {\n",
       "        vertical-align: middle;\n",
       "    }\n",
       "\n",
       "    .dataframe tbody tr th {\n",
       "        vertical-align: top;\n",
       "    }\n",
       "\n",
       "    .dataframe thead th {\n",
       "        text-align: right;\n",
       "    }\n",
       "</style>\n",
       "<table border=\"1\" class=\"dataframe\">\n",
       "  <thead>\n",
       "    <tr style=\"text-align: right;\">\n",
       "      <th></th>\n",
       "      <th>Country</th>\n",
       "      <th>Age</th>\n",
       "      <th>Salary</th>\n",
       "      <th>Purchased</th>\n",
       "    </tr>\n",
       "  </thead>\n",
       "  <tbody>\n",
       "    <tr>\n",
       "      <th>0</th>\n",
       "      <td>France</td>\n",
       "      <td>44.0</td>\n",
       "      <td>72000.0</td>\n",
       "      <td>No</td>\n",
       "    </tr>\n",
       "    <tr>\n",
       "      <th>1</th>\n",
       "      <td>Spain</td>\n",
       "      <td>27.0</td>\n",
       "      <td>48000.0</td>\n",
       "      <td>Yes</td>\n",
       "    </tr>\n",
       "    <tr>\n",
       "      <th>2</th>\n",
       "      <td>Germany</td>\n",
       "      <td>30.0</td>\n",
       "      <td>54000.0</td>\n",
       "      <td>No</td>\n",
       "    </tr>\n",
       "    <tr>\n",
       "      <th>3</th>\n",
       "      <td>Spain</td>\n",
       "      <td>38.0</td>\n",
       "      <td>61000.0</td>\n",
       "      <td>No</td>\n",
       "    </tr>\n",
       "    <tr>\n",
       "      <th>4</th>\n",
       "      <td>Nigeria</td>\n",
       "      <td>18.0</td>\n",
       "      <td>15000.0</td>\n",
       "      <td>No</td>\n",
       "    </tr>\n",
       "    <tr>\n",
       "      <th>5</th>\n",
       "      <td>Germany</td>\n",
       "      <td>40.0</td>\n",
       "      <td>NaN</td>\n",
       "      <td>Yes</td>\n",
       "    </tr>\n",
       "    <tr>\n",
       "      <th>6</th>\n",
       "      <td>France</td>\n",
       "      <td>35.0</td>\n",
       "      <td>58000.0</td>\n",
       "      <td>Yes</td>\n",
       "    </tr>\n",
       "    <tr>\n",
       "      <th>7</th>\n",
       "      <td>Spain</td>\n",
       "      <td>NaN</td>\n",
       "      <td>52000.0</td>\n",
       "      <td>No</td>\n",
       "    </tr>\n",
       "    <tr>\n",
       "      <th>8</th>\n",
       "      <td>France</td>\n",
       "      <td>48.0</td>\n",
       "      <td>79000.0</td>\n",
       "      <td>Yes</td>\n",
       "    </tr>\n",
       "    <tr>\n",
       "      <th>9</th>\n",
       "      <td>Germany</td>\n",
       "      <td>50.0</td>\n",
       "      <td>83000.0</td>\n",
       "      <td>No</td>\n",
       "    </tr>\n",
       "    <tr>\n",
       "      <th>10</th>\n",
       "      <td>France</td>\n",
       "      <td>37.0</td>\n",
       "      <td>67000.0</td>\n",
       "      <td>Yes</td>\n",
       "    </tr>\n",
       "    <tr>\n",
       "      <th>11</th>\n",
       "      <td>Nigeria</td>\n",
       "      <td>50.0</td>\n",
       "      <td>60000.0</td>\n",
       "      <td>Yes</td>\n",
       "    </tr>\n",
       "    <tr>\n",
       "      <th>12</th>\n",
       "      <td>France</td>\n",
       "      <td>22.0</td>\n",
       "      <td>30000.0</td>\n",
       "      <td>No</td>\n",
       "    </tr>\n",
       "    <tr>\n",
       "      <th>13</th>\n",
       "      <td>NaN</td>\n",
       "      <td>44.0</td>\n",
       "      <td>45000.0</td>\n",
       "      <td>Yes</td>\n",
       "    </tr>\n",
       "    <tr>\n",
       "      <th>15</th>\n",
       "      <td>Nigeria</td>\n",
       "      <td>35.0</td>\n",
       "      <td>43000.0</td>\n",
       "      <td>Yes</td>\n",
       "    </tr>\n",
       "    <tr>\n",
       "      <th>16</th>\n",
       "      <td>Spain</td>\n",
       "      <td>34.0</td>\n",
       "      <td>44000.0</td>\n",
       "      <td>Yes</td>\n",
       "    </tr>\n",
       "    <tr>\n",
       "      <th>17</th>\n",
       "      <td>Spain</td>\n",
       "      <td>33.0</td>\n",
       "      <td>48000.0</td>\n",
       "      <td>Yes</td>\n",
       "    </tr>\n",
       "    <tr>\n",
       "      <th>18</th>\n",
       "      <td>Nigeria</td>\n",
       "      <td>29.0</td>\n",
       "      <td>77000.0</td>\n",
       "      <td>Yes</td>\n",
       "    </tr>\n",
       "    <tr>\n",
       "      <th>19</th>\n",
       "      <td>Spain</td>\n",
       "      <td>NaN</td>\n",
       "      <td>57000.0</td>\n",
       "      <td>Yes</td>\n",
       "    </tr>\n",
       "    <tr>\n",
       "      <th>20</th>\n",
       "      <td>France</td>\n",
       "      <td>44.0</td>\n",
       "      <td>48000.0</td>\n",
       "      <td>Yes</td>\n",
       "    </tr>\n",
       "    <tr>\n",
       "      <th>21</th>\n",
       "      <td>France</td>\n",
       "      <td>37.0</td>\n",
       "      <td>23000.0</td>\n",
       "      <td>Yes</td>\n",
       "    </tr>\n",
       "    <tr>\n",
       "      <th>22</th>\n",
       "      <td>Germany</td>\n",
       "      <td>45.0</td>\n",
       "      <td>50000.0</td>\n",
       "      <td>No</td>\n",
       "    </tr>\n",
       "    <tr>\n",
       "      <th>23</th>\n",
       "      <td>Nigeria</td>\n",
       "      <td>30.0</td>\n",
       "      <td>30000.0</td>\n",
       "      <td>Yes</td>\n",
       "    </tr>\n",
       "    <tr>\n",
       "      <th>24</th>\n",
       "      <td>Nigeria</td>\n",
       "      <td>29.0</td>\n",
       "      <td>15000.0</td>\n",
       "      <td>No</td>\n",
       "    </tr>\n",
       "  </tbody>\n",
       "</table>\n",
       "</div>"
      ],
      "text/plain": [
       "    Country   Age   Salary Purchased\n",
       "0    France  44.0  72000.0        No\n",
       "1     Spain  27.0  48000.0       Yes\n",
       "2   Germany  30.0  54000.0        No\n",
       "3     Spain  38.0  61000.0        No\n",
       "4   Nigeria  18.0  15000.0        No\n",
       "5   Germany  40.0      NaN       Yes\n",
       "6    France  35.0  58000.0       Yes\n",
       "7     Spain   NaN  52000.0        No\n",
       "8    France  48.0  79000.0       Yes\n",
       "9   Germany  50.0  83000.0        No\n",
       "10   France  37.0  67000.0       Yes\n",
       "11  Nigeria  50.0  60000.0       Yes\n",
       "12   France  22.0  30000.0        No\n",
       "13      NaN  44.0  45000.0       Yes\n",
       "15  Nigeria  35.0  43000.0       Yes\n",
       "16    Spain  34.0  44000.0       Yes\n",
       "17    Spain  33.0  48000.0       Yes\n",
       "18  Nigeria  29.0  77000.0       Yes\n",
       "19    Spain   NaN  57000.0       Yes\n",
       "20   France  44.0  48000.0       Yes\n",
       "21   France  37.0  23000.0       Yes\n",
       "22  Germany  45.0  50000.0        No\n",
       "23  Nigeria  30.0  30000.0       Yes\n",
       "24  Nigeria  29.0  15000.0        No"
      ]
     },
     "execution_count": 112,
     "metadata": {
      "tags": []
     },
     "output_type": "execute_result"
    }
   ],
   "source": [
    "# Dropping rows with missing values based on a columns\n",
    "dataset.dropna(how='any', subset = [\"Purchased\"])"
   ]
  },
  {
   "cell_type": "code",
   "execution_count": 113,
   "metadata": {
    "colab": {
     "base_uri": "https://localhost:8080/"
    },
    "id": "JYP4RBMkD0Ik",
    "outputId": "6b0831a5-1622-45ca-c0f8-8c91852b80e0"
   },
   "outputs": [
    {
     "name": "stdout",
     "output_type": "stream",
     "text": [
      "36.78260869565217\n",
      "0     44.000000\n",
      "1     27.000000\n",
      "2     30.000000\n",
      "3     38.000000\n",
      "4     18.000000\n",
      "5     40.000000\n",
      "6     35.000000\n",
      "7     36.782609\n",
      "8     48.000000\n",
      "9     50.000000\n",
      "10    37.000000\n",
      "11    50.000000\n",
      "12    22.000000\n",
      "13    44.000000\n",
      "14    47.000000\n",
      "15    35.000000\n",
      "16    34.000000\n",
      "17    33.000000\n",
      "18    29.000000\n",
      "19    36.782609\n",
      "20    44.000000\n",
      "21    37.000000\n",
      "22    45.000000\n",
      "23    30.000000\n",
      "24    29.000000\n",
      "Name: Age, dtype: float64\n"
     ]
    }
   ],
   "source": [
    "# Imputing missing values on numerical features\n",
    "print(dataset[\"Age\"].mean())\n",
    "print(dataset[\"Age\"].fillna(dataset[\"Age\"].mean()))"
   ]
  },
  {
   "cell_type": "code",
   "execution_count": 114,
   "metadata": {
    "colab": {
     "base_uri": "https://localhost:8080/"
    },
    "id": "vrwg5ZkBEQJ_",
    "outputId": "80d8226f-c990-4449-d59c-62d23d2a02ad"
   },
   "outputs": [
    {
     "name": "stdout",
     "output_type": "stream",
     "text": [
      "51000.0\n",
      "0     72000.0\n",
      "1     48000.0\n",
      "2     54000.0\n",
      "3     61000.0\n",
      "4     15000.0\n",
      "5     51000.0\n",
      "6     58000.0\n",
      "7     52000.0\n",
      "8     79000.0\n",
      "9     83000.0\n",
      "10    67000.0\n",
      "11    60000.0\n",
      "12    30000.0\n",
      "13    45000.0\n",
      "14    78000.0\n",
      "15    43000.0\n",
      "16    44000.0\n",
      "17    48000.0\n",
      "18    77000.0\n",
      "19    57000.0\n",
      "20    48000.0\n",
      "21    23000.0\n",
      "22    50000.0\n",
      "23    30000.0\n",
      "24    15000.0\n",
      "Name: Salary, dtype: float64\n"
     ]
    }
   ],
   "source": [
    "# Imputing missing values on numerical features\n",
    "print(dataset[\"Salary\"].median())\n",
    "print(dataset[\"Salary\"].fillna(dataset[\"Salary\"].median()))"
   ]
  },
  {
   "cell_type": "code",
   "execution_count": 115,
   "metadata": {
    "colab": {
     "base_uri": "https://localhost:8080/"
    },
    "id": "MWhnpvVfEt0H",
    "outputId": "70cbb37e-732c-4df7-c1ee-2d2a67b32ef3"
   },
   "outputs": [
    {
     "name": "stdout",
     "output_type": "stream",
     "text": [
      "0    France\n",
      "dtype: object\n",
      "0      France\n",
      "1       Spain\n",
      "2     Germany\n",
      "3       Spain\n",
      "4     Nigeria\n",
      "5     Germany\n",
      "6      France\n",
      "7       Spain\n",
      "8      France\n",
      "9     Germany\n",
      "10     France\n",
      "11    Nigeria\n",
      "12     France\n",
      "13     France\n",
      "14     France\n",
      "15    Nigeria\n",
      "16      Spain\n",
      "17      Spain\n",
      "18    Nigeria\n",
      "19      Spain\n",
      "20     France\n",
      "21     France\n",
      "22    Germany\n",
      "23    Nigeria\n",
      "24    Nigeria\n",
      "Name: Country, dtype: object\n"
     ]
    }
   ],
   "source": [
    "# Imputing missing values on numerical features\n",
    "print(dataset[\"Country\"].mode())\n",
    "print(dataset[\"Country\"].fillna(dataset[\"Country\"].mode()[0]))"
   ]
  },
  {
   "cell_type": "code",
   "execution_count": 116,
   "metadata": {
    "id": "d9HBOQYCEBQ7"
   },
   "outputs": [],
   "source": [
    "# Mengisi missing value numerikal dengan mean \n",
    "dataset = dataset.fillna(dataset.mean())\n",
    "# Kategorikal dengan mode\n",
    "dataset[\"Country\"] = dataset[\"Country\"].fillna(dataset[\"Country\"].mode()[0])\n",
    "# Hapus missing value pada target\n",
    "dataset.dropna(subset = [\"Purchased\"], inplace = True) "
   ]
  },
  {
   "cell_type": "code",
   "execution_count": 117,
   "metadata": {
    "colab": {
     "base_uri": "https://localhost:8080/"
    },
    "id": "TZyEMGAKUfJq",
    "outputId": "30147c27-3320-40b6-89de-a029e9e67f8c"
   },
   "outputs": [
    {
     "name": "stdout",
     "output_type": "stream",
     "text": [
      "[['France' 44.0 72000.0]\n",
      " ['Spain' 27.0 48000.0]\n",
      " ['Germany' 30.0 54000.0]\n",
      " ['Spain' 38.0 61000.0]\n",
      " ['Nigeria' 18.0 15000.0]\n",
      " ['Germany' 40.0 51541.666666666664]\n",
      " ['France' 35.0 58000.0]\n",
      " ['Spain' 36.78260869565217 52000.0]\n",
      " ['France' 48.0 79000.0]\n",
      " ['Germany' 50.0 83000.0]\n",
      " ['France' 37.0 67000.0]\n",
      " ['Nigeria' 50.0 60000.0]\n",
      " ['France' 22.0 30000.0]\n",
      " ['France' 44.0 45000.0]\n",
      " ['Nigeria' 35.0 43000.0]\n",
      " ['Spain' 34.0 44000.0]\n",
      " ['Spain' 33.0 48000.0]\n",
      " ['Nigeria' 29.0 77000.0]\n",
      " ['Spain' 36.78260869565217 57000.0]\n",
      " ['France' 44.0 48000.0]\n",
      " ['France' 37.0 23000.0]\n",
      " ['Germany' 45.0 50000.0]\n",
      " ['Nigeria' 30.0 30000.0]\n",
      " ['Nigeria' 29.0 15000.0]]\n"
     ]
    }
   ],
   "source": [
    "# Splitting dataset into independent and dependent variable\n",
    "X = dataset[['Country', 'Age', 'Salary']].values\n",
    "y = dataset['Purchased'].values\n",
    "print(X)"
   ]
  },
  {
   "cell_type": "code",
   "execution_count": 118,
   "metadata": {
    "colab": {
     "base_uri": "https://localhost:8080/"
    },
    "id": "vrM4Ea4oUfJq",
    "outputId": "9cfe8cc4-2303-452f-ae03-d6f65ad1d1aa"
   },
   "outputs": [
    {
     "name": "stdout",
     "output_type": "stream",
     "text": [
      "['No' 'Yes' 'No' 'No' 'No' 'Yes' 'Yes' 'No' 'Yes' 'No' 'Yes' 'Yes' 'No'\n",
      " 'Yes' 'Yes' 'Yes' 'Yes' 'Yes' 'Yes' 'Yes' 'Yes' 'No' 'Yes' 'No']\n"
     ]
    }
   ],
   "source": [
    "print(y)"
   ]
  },
  {
   "cell_type": "code",
   "execution_count": 119,
   "metadata": {
    "id": "zd7FlrtyUfJr"
   },
   "outputs": [],
   "source": [
    "# replacing the missing values in the age and salary column with the mean\n",
    "# import the SimpleImputer class from the sklearn library\n",
    "from sklearn.impute import SimpleImputer\n",
    "imputer = SimpleImputer(missing_values=np.nan, strategy='mean')\n",
    "imputer.fit(X[:, 1:3])\n",
    "X[:, 1:3] = imputer.transform(X[:, 1:3])"
   ]
  },
  {
   "cell_type": "code",
   "execution_count": 120,
   "metadata": {
    "colab": {
     "base_uri": "https://localhost:8080/"
    },
    "id": "X-Sh2hzjUfJr",
    "outputId": "6e8b58fd-bf9e-4ce5-c018-0930a560f652"
   },
   "outputs": [
    {
     "name": "stdout",
     "output_type": "stream",
     "text": [
      "[[44.0 72000.0]\n",
      " [27.0 48000.0]\n",
      " [30.0 54000.0]\n",
      " [38.0 61000.0]\n",
      " [18.0 15000.0]\n",
      " [40.0 51541.666666666664]\n",
      " [35.0 58000.0]\n",
      " [36.78260869565217 52000.0]\n",
      " [48.0 79000.0]\n",
      " [50.0 83000.0]\n",
      " [37.0 67000.0]\n",
      " [50.0 60000.0]\n",
      " [22.0 30000.0]\n",
      " [44.0 45000.0]\n",
      " [35.0 43000.0]\n",
      " [34.0 44000.0]\n",
      " [33.0 48000.0]\n",
      " [29.0 77000.0]\n",
      " [36.78260869565217 57000.0]\n",
      " [44.0 48000.0]\n",
      " [37.0 23000.0]\n",
      " [45.0 50000.0]\n",
      " [30.0 30000.0]\n",
      " [29.0 15000.0]]\n"
     ]
    }
   ],
   "source": [
    "print(X[:, 1:3])"
   ]
  },
  {
   "cell_type": "code",
   "execution_count": 121,
   "metadata": {
    "id": "iXoH0CaDUfJr"
   },
   "outputs": [],
   "source": [
    "# Handling Categorical Data\n",
    "from sklearn.compose import ColumnTransformer\n",
    "from sklearn.preprocessing import OneHotEncoder\n",
    "\n",
    "ct = ColumnTransformer(transformers=[('encoder', OneHotEncoder(), [0])],\n",
    "                       remainder='passthrough')\n",
    "X = np.array(ct.fit_transform(X))"
   ]
  },
  {
   "cell_type": "code",
   "execution_count": 122,
   "metadata": {
    "colab": {
     "base_uri": "https://localhost:8080/"
    },
    "id": "FYs12kLVUfJr",
    "outputId": "efbe06f3-1cc5-4cc0-c63d-abf7c0492d5a",
    "scrolled": true
   },
   "outputs": [
    {
     "name": "stdout",
     "output_type": "stream",
     "text": [
      "[[1.0 0.0 0.0 0.0 44.0 72000.0]\n",
      " [0.0 0.0 0.0 1.0 27.0 48000.0]\n",
      " [0.0 1.0 0.0 0.0 30.0 54000.0]\n",
      " [0.0 0.0 0.0 1.0 38.0 61000.0]\n",
      " [0.0 0.0 1.0 0.0 18.0 15000.0]\n",
      " [0.0 1.0 0.0 0.0 40.0 51541.666666666664]\n",
      " [1.0 0.0 0.0 0.0 35.0 58000.0]\n",
      " [0.0 0.0 0.0 1.0 36.78260869565217 52000.0]\n",
      " [1.0 0.0 0.0 0.0 48.0 79000.0]\n",
      " [0.0 1.0 0.0 0.0 50.0 83000.0]\n",
      " [1.0 0.0 0.0 0.0 37.0 67000.0]\n",
      " [0.0 0.0 1.0 0.0 50.0 60000.0]\n",
      " [1.0 0.0 0.0 0.0 22.0 30000.0]\n",
      " [1.0 0.0 0.0 0.0 44.0 45000.0]\n",
      " [0.0 0.0 1.0 0.0 35.0 43000.0]\n",
      " [0.0 0.0 0.0 1.0 34.0 44000.0]\n",
      " [0.0 0.0 0.0 1.0 33.0 48000.0]\n",
      " [0.0 0.0 1.0 0.0 29.0 77000.0]\n",
      " [0.0 0.0 0.0 1.0 36.78260869565217 57000.0]\n",
      " [1.0 0.0 0.0 0.0 44.0 48000.0]\n",
      " [1.0 0.0 0.0 0.0 37.0 23000.0]\n",
      " [0.0 1.0 0.0 0.0 45.0 50000.0]\n",
      " [0.0 0.0 1.0 0.0 30.0 30000.0]\n",
      " [0.0 0.0 1.0 0.0 29.0 15000.0]]\n"
     ]
    }
   ],
   "source": [
    "print(X)"
   ]
  },
  {
   "cell_type": "code",
   "execution_count": 123,
   "metadata": {
    "colab": {
     "base_uri": "https://localhost:8080/",
     "height": 793
    },
    "id": "P5ElzkUyHox9",
    "outputId": "3cd5f6bd-6042-4017-816f-93774baf121c"
   },
   "outputs": [
    {
     "data": {
      "text/html": [
       "<div>\n",
       "<style scoped>\n",
       "    .dataframe tbody tr th:only-of-type {\n",
       "        vertical-align: middle;\n",
       "    }\n",
       "\n",
       "    .dataframe tbody tr th {\n",
       "        vertical-align: top;\n",
       "    }\n",
       "\n",
       "    .dataframe thead th {\n",
       "        text-align: right;\n",
       "    }\n",
       "</style>\n",
       "<table border=\"1\" class=\"dataframe\">\n",
       "  <thead>\n",
       "    <tr style=\"text-align: right;\">\n",
       "      <th></th>\n",
       "      <th>Age</th>\n",
       "      <th>Salary</th>\n",
       "      <th>Country_France</th>\n",
       "      <th>Country_Germany</th>\n",
       "      <th>Country_Nigeria</th>\n",
       "      <th>Country_Spain</th>\n",
       "    </tr>\n",
       "  </thead>\n",
       "  <tbody>\n",
       "    <tr>\n",
       "      <th>0</th>\n",
       "      <td>44.000000</td>\n",
       "      <td>72000.000000</td>\n",
       "      <td>1</td>\n",
       "      <td>0</td>\n",
       "      <td>0</td>\n",
       "      <td>0</td>\n",
       "    </tr>\n",
       "    <tr>\n",
       "      <th>1</th>\n",
       "      <td>27.000000</td>\n",
       "      <td>48000.000000</td>\n",
       "      <td>0</td>\n",
       "      <td>0</td>\n",
       "      <td>0</td>\n",
       "      <td>1</td>\n",
       "    </tr>\n",
       "    <tr>\n",
       "      <th>2</th>\n",
       "      <td>30.000000</td>\n",
       "      <td>54000.000000</td>\n",
       "      <td>0</td>\n",
       "      <td>1</td>\n",
       "      <td>0</td>\n",
       "      <td>0</td>\n",
       "    </tr>\n",
       "    <tr>\n",
       "      <th>3</th>\n",
       "      <td>38.000000</td>\n",
       "      <td>61000.000000</td>\n",
       "      <td>0</td>\n",
       "      <td>0</td>\n",
       "      <td>0</td>\n",
       "      <td>1</td>\n",
       "    </tr>\n",
       "    <tr>\n",
       "      <th>4</th>\n",
       "      <td>18.000000</td>\n",
       "      <td>15000.000000</td>\n",
       "      <td>0</td>\n",
       "      <td>0</td>\n",
       "      <td>1</td>\n",
       "      <td>0</td>\n",
       "    </tr>\n",
       "    <tr>\n",
       "      <th>5</th>\n",
       "      <td>40.000000</td>\n",
       "      <td>51541.666667</td>\n",
       "      <td>0</td>\n",
       "      <td>1</td>\n",
       "      <td>0</td>\n",
       "      <td>0</td>\n",
       "    </tr>\n",
       "    <tr>\n",
       "      <th>6</th>\n",
       "      <td>35.000000</td>\n",
       "      <td>58000.000000</td>\n",
       "      <td>1</td>\n",
       "      <td>0</td>\n",
       "      <td>0</td>\n",
       "      <td>0</td>\n",
       "    </tr>\n",
       "    <tr>\n",
       "      <th>7</th>\n",
       "      <td>36.782609</td>\n",
       "      <td>52000.000000</td>\n",
       "      <td>0</td>\n",
       "      <td>0</td>\n",
       "      <td>0</td>\n",
       "      <td>1</td>\n",
       "    </tr>\n",
       "    <tr>\n",
       "      <th>8</th>\n",
       "      <td>48.000000</td>\n",
       "      <td>79000.000000</td>\n",
       "      <td>1</td>\n",
       "      <td>0</td>\n",
       "      <td>0</td>\n",
       "      <td>0</td>\n",
       "    </tr>\n",
       "    <tr>\n",
       "      <th>9</th>\n",
       "      <td>50.000000</td>\n",
       "      <td>83000.000000</td>\n",
       "      <td>0</td>\n",
       "      <td>1</td>\n",
       "      <td>0</td>\n",
       "      <td>0</td>\n",
       "    </tr>\n",
       "    <tr>\n",
       "      <th>10</th>\n",
       "      <td>37.000000</td>\n",
       "      <td>67000.000000</td>\n",
       "      <td>1</td>\n",
       "      <td>0</td>\n",
       "      <td>0</td>\n",
       "      <td>0</td>\n",
       "    </tr>\n",
       "    <tr>\n",
       "      <th>11</th>\n",
       "      <td>50.000000</td>\n",
       "      <td>60000.000000</td>\n",
       "      <td>0</td>\n",
       "      <td>0</td>\n",
       "      <td>1</td>\n",
       "      <td>0</td>\n",
       "    </tr>\n",
       "    <tr>\n",
       "      <th>12</th>\n",
       "      <td>22.000000</td>\n",
       "      <td>30000.000000</td>\n",
       "      <td>1</td>\n",
       "      <td>0</td>\n",
       "      <td>0</td>\n",
       "      <td>0</td>\n",
       "    </tr>\n",
       "    <tr>\n",
       "      <th>13</th>\n",
       "      <td>44.000000</td>\n",
       "      <td>45000.000000</td>\n",
       "      <td>1</td>\n",
       "      <td>0</td>\n",
       "      <td>0</td>\n",
       "      <td>0</td>\n",
       "    </tr>\n",
       "    <tr>\n",
       "      <th>15</th>\n",
       "      <td>35.000000</td>\n",
       "      <td>43000.000000</td>\n",
       "      <td>0</td>\n",
       "      <td>0</td>\n",
       "      <td>1</td>\n",
       "      <td>0</td>\n",
       "    </tr>\n",
       "    <tr>\n",
       "      <th>16</th>\n",
       "      <td>34.000000</td>\n",
       "      <td>44000.000000</td>\n",
       "      <td>0</td>\n",
       "      <td>0</td>\n",
       "      <td>0</td>\n",
       "      <td>1</td>\n",
       "    </tr>\n",
       "    <tr>\n",
       "      <th>17</th>\n",
       "      <td>33.000000</td>\n",
       "      <td>48000.000000</td>\n",
       "      <td>0</td>\n",
       "      <td>0</td>\n",
       "      <td>0</td>\n",
       "      <td>1</td>\n",
       "    </tr>\n",
       "    <tr>\n",
       "      <th>18</th>\n",
       "      <td>29.000000</td>\n",
       "      <td>77000.000000</td>\n",
       "      <td>0</td>\n",
       "      <td>0</td>\n",
       "      <td>1</td>\n",
       "      <td>0</td>\n",
       "    </tr>\n",
       "    <tr>\n",
       "      <th>19</th>\n",
       "      <td>36.782609</td>\n",
       "      <td>57000.000000</td>\n",
       "      <td>0</td>\n",
       "      <td>0</td>\n",
       "      <td>0</td>\n",
       "      <td>1</td>\n",
       "    </tr>\n",
       "    <tr>\n",
       "      <th>20</th>\n",
       "      <td>44.000000</td>\n",
       "      <td>48000.000000</td>\n",
       "      <td>1</td>\n",
       "      <td>0</td>\n",
       "      <td>0</td>\n",
       "      <td>0</td>\n",
       "    </tr>\n",
       "    <tr>\n",
       "      <th>21</th>\n",
       "      <td>37.000000</td>\n",
       "      <td>23000.000000</td>\n",
       "      <td>1</td>\n",
       "      <td>0</td>\n",
       "      <td>0</td>\n",
       "      <td>0</td>\n",
       "    </tr>\n",
       "    <tr>\n",
       "      <th>22</th>\n",
       "      <td>45.000000</td>\n",
       "      <td>50000.000000</td>\n",
       "      <td>0</td>\n",
       "      <td>1</td>\n",
       "      <td>0</td>\n",
       "      <td>0</td>\n",
       "    </tr>\n",
       "    <tr>\n",
       "      <th>23</th>\n",
       "      <td>30.000000</td>\n",
       "      <td>30000.000000</td>\n",
       "      <td>0</td>\n",
       "      <td>0</td>\n",
       "      <td>1</td>\n",
       "      <td>0</td>\n",
       "    </tr>\n",
       "    <tr>\n",
       "      <th>24</th>\n",
       "      <td>29.000000</td>\n",
       "      <td>15000.000000</td>\n",
       "      <td>0</td>\n",
       "      <td>0</td>\n",
       "      <td>1</td>\n",
       "      <td>0</td>\n",
       "    </tr>\n",
       "  </tbody>\n",
       "</table>\n",
       "</div>"
      ],
      "text/plain": [
       "          Age        Salary  ...  Country_Nigeria  Country_Spain\n",
       "0   44.000000  72000.000000  ...                0              0\n",
       "1   27.000000  48000.000000  ...                0              1\n",
       "2   30.000000  54000.000000  ...                0              0\n",
       "3   38.000000  61000.000000  ...                0              1\n",
       "4   18.000000  15000.000000  ...                1              0\n",
       "5   40.000000  51541.666667  ...                0              0\n",
       "6   35.000000  58000.000000  ...                0              0\n",
       "7   36.782609  52000.000000  ...                0              1\n",
       "8   48.000000  79000.000000  ...                0              0\n",
       "9   50.000000  83000.000000  ...                0              0\n",
       "10  37.000000  67000.000000  ...                0              0\n",
       "11  50.000000  60000.000000  ...                1              0\n",
       "12  22.000000  30000.000000  ...                0              0\n",
       "13  44.000000  45000.000000  ...                0              0\n",
       "15  35.000000  43000.000000  ...                1              0\n",
       "16  34.000000  44000.000000  ...                0              1\n",
       "17  33.000000  48000.000000  ...                0              1\n",
       "18  29.000000  77000.000000  ...                1              0\n",
       "19  36.782609  57000.000000  ...                0              1\n",
       "20  44.000000  48000.000000  ...                0              0\n",
       "21  37.000000  23000.000000  ...                0              0\n",
       "22  45.000000  50000.000000  ...                0              0\n",
       "23  30.000000  30000.000000  ...                1              0\n",
       "24  29.000000  15000.000000  ...                1              0\n",
       "\n",
       "[24 rows x 6 columns]"
      ]
     },
     "execution_count": 123,
     "metadata": {
      "tags": []
     },
     "output_type": "execute_result"
    }
   ],
   "source": [
    "# Dummies (One hot encoding menggunakan pandas)\n",
    "pd.get_dummies(dataset.drop(columns = [\"Purchased\"]))"
   ]
  },
  {
   "cell_type": "code",
   "execution_count": 124,
   "metadata": {
    "colab": {
     "base_uri": "https://localhost:8080/"
    },
    "id": "7pW1CH8wUfJs",
    "outputId": "0673357d-8fdf-455a-8b12-0c3d1481674f"
   },
   "outputs": [
    {
     "name": "stdout",
     "output_type": "stream",
     "text": [
      "['No' 'Yes' 'No' 'No' 'No' 'Yes' 'Yes' 'No' 'Yes' 'No' 'Yes' 'Yes' 'No'\n",
      " 'Yes' 'Yes' 'Yes' 'Yes' 'Yes' 'Yes' 'Yes' 'Yes' 'No' 'Yes' 'No']\n"
     ]
    }
   ],
   "source": [
    "print(y)"
   ]
  },
  {
   "cell_type": "code",
   "execution_count": 125,
   "metadata": {
    "id": "CbOuZyG8UfJs"
   },
   "outputs": [],
   "source": [
    "# Encoding the target variable\n",
    "from sklearn.preprocessing import LabelEncoder\n",
    "le = LabelEncoder()\n",
    "y = le.fit_transform(y)"
   ]
  },
  {
   "cell_type": "code",
   "execution_count": 126,
   "metadata": {
    "colab": {
     "base_uri": "https://localhost:8080/"
    },
    "id": "ZfzAiuNRUfJs",
    "outputId": "280d0631-218d-4468-aaae-0454211a4a39"
   },
   "outputs": [
    {
     "name": "stdout",
     "output_type": "stream",
     "text": [
      "[0 1 0 0 0 1 1 0 1 0 1 1 0 1 1 1 1 1 1 1 1 0 1 0]\n"
     ]
    }
   ],
   "source": [
    "print(y)"
   ]
  },
  {
   "cell_type": "code",
   "execution_count": 127,
   "metadata": {
    "id": "J3gz1ZZ8UfJs"
   },
   "outputs": [],
   "source": [
    "# Splitting Dataset into Training and Test Set\n",
    "from sklearn.model_selection import train_test_split\n",
    "X_train, X_test, y_train, y_test = train_test_split(X, y, test_size=0.2, random_state=2)"
   ]
  },
  {
   "cell_type": "code",
   "execution_count": 128,
   "metadata": {
    "colab": {
     "base_uri": "https://localhost:8080/"
    },
    "id": "gqXKBaHBUfJt",
    "outputId": "d3af8e48-2ac6-445e-f716-c4f8584670d6"
   },
   "outputs": [
    {
     "name": "stdout",
     "output_type": "stream",
     "text": [
      "[[0.0 0.0 0.0 1.0 33.0 48000.0]\n",
      " [0.0 0.0 0.0 1.0 38.0 61000.0]\n",
      " [1.0 0.0 0.0 0.0 22.0 30000.0]\n",
      " [0.0 1.0 0.0 0.0 50.0 83000.0]\n",
      " [0.0 0.0 1.0 0.0 18.0 15000.0]\n",
      " [1.0 0.0 0.0 0.0 37.0 67000.0]\n",
      " [0.0 1.0 0.0 0.0 40.0 51541.666666666664]\n",
      " [0.0 0.0 1.0 0.0 29.0 77000.0]\n",
      " [0.0 0.0 0.0 1.0 27.0 48000.0]\n",
      " [0.0 1.0 0.0 0.0 30.0 54000.0]\n",
      " [0.0 0.0 0.0 1.0 36.78260869565217 52000.0]\n",
      " [1.0 0.0 0.0 0.0 37.0 23000.0]\n",
      " [1.0 0.0 0.0 0.0 44.0 48000.0]\n",
      " [0.0 0.0 0.0 1.0 36.78260869565217 57000.0]\n",
      " [0.0 0.0 1.0 0.0 50.0 60000.0]\n",
      " [0.0 0.0 1.0 0.0 29.0 15000.0]\n",
      " [1.0 0.0 0.0 0.0 44.0 45000.0]\n",
      " [0.0 0.0 0.0 1.0 34.0 44000.0]\n",
      " [1.0 0.0 0.0 0.0 48.0 79000.0]]\n"
     ]
    }
   ],
   "source": [
    "print(X_train)"
   ]
  },
  {
   "cell_type": "code",
   "execution_count": 129,
   "metadata": {
    "colab": {
     "base_uri": "https://localhost:8080/"
    },
    "id": "uKAHsQc8UfJu",
    "outputId": "5f761bba-172e-43c8-ad5e-8c9aa253e17c"
   },
   "outputs": [
    {
     "name": "stdout",
     "output_type": "stream",
     "text": [
      "[[0.0 1.0 0.0 0.0 45.0 50000.0]\n",
      " [1.0 0.0 0.0 0.0 44.0 72000.0]\n",
      " [0.0 0.0 1.0 0.0 30.0 30000.0]\n",
      " [1.0 0.0 0.0 0.0 35.0 58000.0]\n",
      " [0.0 0.0 1.0 0.0 35.0 43000.0]]\n"
     ]
    }
   ],
   "source": [
    "print(X_test)"
   ]
  },
  {
   "cell_type": "code",
   "execution_count": 130,
   "metadata": {
    "colab": {
     "base_uri": "https://localhost:8080/"
    },
    "id": "BnpytU2LUfJu",
    "outputId": "63c69bb7-a4f5-4250-deeb-b246da053d8d"
   },
   "outputs": [
    {
     "name": "stdout",
     "output_type": "stream",
     "text": [
      "[1 0 0 0 0 1 1 1 1 0 0 1 1 1 1 0 1 1 1]\n"
     ]
    }
   ],
   "source": [
    "print(y_train)"
   ]
  },
  {
   "cell_type": "code",
   "execution_count": 131,
   "metadata": {
    "colab": {
     "base_uri": "https://localhost:8080/"
    },
    "id": "7tBqlli2UfJu",
    "outputId": "96d86f3f-3b1b-4804-89bc-d0d3a50a8b44"
   },
   "outputs": [
    {
     "name": "stdout",
     "output_type": "stream",
     "text": [
      "[0 0 1 1 1]\n"
     ]
    }
   ],
   "source": [
    "print(y_test)"
   ]
  },
  {
   "cell_type": "code",
   "execution_count": 132,
   "metadata": {
    "colab": {
     "base_uri": "https://localhost:8080/"
    },
    "id": "wl5V4c0BUfJv",
    "outputId": "61f00721-2fca-4a76-857b-6dc270de7e56"
   },
   "outputs": [
    {
     "data": {
      "text/plain": [
       "array([[-0.67936622, -0.4330127 , -0.51639778,  1.47196014, -0.34254227,\n",
       "        -0.12587571],\n",
       "       [-0.67936622, -0.4330127 , -0.51639778,  1.47196014,  0.23274971,\n",
       "         0.55682441],\n",
       "       [ 1.47196014, -0.4330127 , -0.51639778, -0.67936622, -1.60818464,\n",
       "        -1.07115281],\n",
       "       [-0.67936622,  2.30940108, -0.51639778, -0.67936622,  1.61345047,\n",
       "         1.71216308],\n",
       "       [-0.67936622, -0.4330127 ,  1.93649167, -0.67936622, -2.06841822,\n",
       "        -1.85888372],\n",
       "       [ 1.47196014, -0.4330127 , -0.51639778, -0.67936622,  0.11769131,\n",
       "         0.87191677],\n",
       "       [-0.67936622,  2.30940108, -0.51639778, -0.67936622,  0.4628665 ,\n",
       "         0.06011631],\n",
       "       [-0.67936622, -0.4330127 ,  1.93649167, -0.67936622, -0.80277586,\n",
       "         1.39707071],\n",
       "       [-0.67936622, -0.4330127 , -0.51639778,  1.47196014, -1.03289265,\n",
       "        -0.12587571],\n",
       "       [-0.67936622,  2.30940108, -0.51639778, -0.67936622, -0.68771746,\n",
       "         0.18921665],\n",
       "       [-0.67936622, -0.4330127 , -0.51639778,  1.47196014,  0.09267862,\n",
       "         0.08418586],\n",
       "       [ 1.47196014, -0.4330127 , -0.51639778, -0.67936622,  0.11769131,\n",
       "        -1.43876057],\n",
       "       [ 1.47196014, -0.4330127 , -0.51639778, -0.67936622,  0.92310009,\n",
       "        -0.12587571],\n",
       "       [-0.67936622, -0.4330127 , -0.51639778,  1.47196014,  0.09267862,\n",
       "         0.34676283],\n",
       "       [-0.67936622, -0.4330127 ,  1.93649167, -0.67936622,  1.61345047,\n",
       "         0.50430901],\n",
       "       [-0.67936622, -0.4330127 ,  1.93649167, -0.67936622, -0.80277586,\n",
       "        -1.85888372],\n",
       "       [ 1.47196014, -0.4330127 , -0.51639778, -0.67936622,  0.92310009,\n",
       "        -0.2834219 ],\n",
       "       [-0.67936622, -0.4330127 , -0.51639778,  1.47196014, -0.22748388,\n",
       "        -0.33593729],\n",
       "       [ 1.47196014, -0.4330127 , -0.51639778, -0.67936622,  1.38333367,\n",
       "         1.5021015 ]])"
      ]
     },
     "execution_count": 132,
     "metadata": {
      "tags": []
     },
     "output_type": "execute_result"
    }
   ],
   "source": [
    "# Feature Scaling\n",
    "from sklearn.preprocessing import StandardScaler, MinMaxScaler\n",
    "sc = StandardScaler()\n",
    "mm = MinMaxScaler()\n",
    "sc.fit_transform(X_train)"
   ]
  },
  {
   "cell_type": "code",
   "execution_count": 133,
   "metadata": {
    "colab": {
     "base_uri": "https://localhost:8080/"
    },
    "id": "2cTf2qFwGFgd",
    "outputId": "57b90cf6-2897-4700-f6cf-dcec6ac66649"
   },
   "outputs": [
    {
     "data": {
      "text/plain": [
       "array([[0.        , 0.        , 0.        , 1.        , 0.46875   ,\n",
       "        0.48529412],\n",
       "       [0.        , 0.        , 0.        , 1.        , 0.625     ,\n",
       "        0.67647059],\n",
       "       [1.        , 0.        , 0.        , 0.        , 0.125     ,\n",
       "        0.22058824],\n",
       "       [0.        , 1.        , 0.        , 0.        , 1.        ,\n",
       "        1.        ],\n",
       "       [0.        , 0.        , 1.        , 0.        , 0.        ,\n",
       "        0.        ],\n",
       "       [1.        , 0.        , 0.        , 0.        , 0.59375   ,\n",
       "        0.76470588],\n",
       "       [0.        , 1.        , 0.        , 0.        , 0.6875    ,\n",
       "        0.53737745],\n",
       "       [0.        , 0.        , 1.        , 0.        , 0.34375   ,\n",
       "        0.91176471],\n",
       "       [0.        , 0.        , 0.        , 1.        , 0.28125   ,\n",
       "        0.48529412],\n",
       "       [0.        , 1.        , 0.        , 0.        , 0.375     ,\n",
       "        0.57352941],\n",
       "       [0.        , 0.        , 0.        , 1.        , 0.58695652,\n",
       "        0.54411765],\n",
       "       [1.        , 0.        , 0.        , 0.        , 0.59375   ,\n",
       "        0.11764706],\n",
       "       [1.        , 0.        , 0.        , 0.        , 0.8125    ,\n",
       "        0.48529412],\n",
       "       [0.        , 0.        , 0.        , 1.        , 0.58695652,\n",
       "        0.61764706],\n",
       "       [0.        , 0.        , 1.        , 0.        , 1.        ,\n",
       "        0.66176471],\n",
       "       [0.        , 0.        , 1.        , 0.        , 0.34375   ,\n",
       "        0.        ],\n",
       "       [1.        , 0.        , 0.        , 0.        , 0.8125    ,\n",
       "        0.44117647],\n",
       "       [0.        , 0.        , 0.        , 1.        , 0.5       ,\n",
       "        0.42647059],\n",
       "       [1.        , 0.        , 0.        , 0.        , 0.9375    ,\n",
       "        0.94117647]])"
      ]
     },
     "execution_count": 133,
     "metadata": {
      "tags": []
     },
     "output_type": "execute_result"
    }
   ],
   "source": [
    "mm.fit_transform(X_train)"
   ]
  }
 ],
 "metadata": {
  "colab": {
   "collapsed_sections": [],
   "name": "[Colab] 28th Session - Data Preprocessing for ML (python) - June 19th, 2021.ipynb",
   "provenance": []
  },
  "kernelspec": {
   "display_name": "Python 3",
   "language": "python",
   "name": "python3"
  },
  "language_info": {
   "codemirror_mode": {
    "name": "ipython",
    "version": 3
   },
   "file_extension": ".py",
   "mimetype": "text/x-python",
   "name": "python",
   "nbconvert_exporter": "python",
   "pygments_lexer": "ipython3",
   "version": "3.8.5"
  }
 },
 "nbformat": 4,
 "nbformat_minor": 1
}
