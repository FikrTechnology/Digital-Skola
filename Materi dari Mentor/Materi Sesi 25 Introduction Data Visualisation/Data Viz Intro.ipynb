{
 "cells": [
  {
   "cell_type": "markdown",
   "metadata": {
    "id": "njxt2ukfELDq"
   },
   "source": [
    "# Import Libraries"
   ]
  },
  {
   "cell_type": "code",
   "execution_count": 1,
   "metadata": {
    "colab": {
     "base_uri": "https://localhost:8080/"
    },
    "executionInfo": {
     "elapsed": 23643,
     "status": "ok",
     "timestamp": 1614991244718,
     "user": {
      "displayName": "Agil Haykal",
      "photoUrl": "https://lh3.googleusercontent.com/a-/AOh14GgmAfVlWdi3HIJ21pC5ArTZL0YwdYJDAgw8HDWv=s64",
      "userId": "02021994300640528465"
     },
     "user_tz": -420
    },
    "id": "FpbnOOMnBjED",
    "outputId": "049c9bb0-5a4f-46be-818a-174f87ecb709"
   },
   "outputs": [
    {
     "name": "stdout",
     "output_type": "stream",
     "text": [
      "Mounted at /content/gdrive\n"
     ]
    }
   ],
   "source": [
    "import pandas as pd, numpy as np\n",
    "import matplotlib.pyplot as plt\n",
    "from google.colab import drive\n",
    "drive.mount('/content/gdrive')\n",
    "%matplotlib inline"
   ]
  },
  {
   "cell_type": "markdown",
   "metadata": {
    "id": "99PXzMPAEVxf"
   },
   "source": [
    "# Load Dataset\n",
    "\n"
   ]
  },
  {
   "cell_type": "code",
   "execution_count": 2,
   "metadata": {
    "executionInfo": {
     "elapsed": 22908,
     "status": "ok",
     "timestamp": 1614991245323,
     "user": {
      "displayName": "Agil Haykal",
      "photoUrl": "https://lh3.googleusercontent.com/a-/AOh14GgmAfVlWdi3HIJ21pC5ArTZL0YwdYJDAgw8HDWv=s64",
      "userId": "02021994300640528465"
     },
     "user_tz": -420
    },
    "id": "sxR4PluJEbCt"
   },
   "outputs": [],
   "source": [
    "path_1 = 'gdrive/My Drive/DigitalSkola/Dataset/order_details.csv'\n",
    "path_2 = 'gdrive/My Drive/DigitalSkola/Dataset/order_lists.csv'\n",
    "\n",
    "details = pd.read_csv(path_1)\n",
    "lists = pd.read_csv(path_2)"
   ]
  },
  {
   "cell_type": "code",
   "execution_count": 3,
   "metadata": {
    "colab": {
     "base_uri": "https://localhost:8080/",
     "height": 204
    },
    "executionInfo": {
     "elapsed": 22265,
     "status": "ok",
     "timestamp": 1614991245325,
     "user": {
      "displayName": "Agil Haykal",
      "photoUrl": "https://lh3.googleusercontent.com/a-/AOh14GgmAfVlWdi3HIJ21pC5ArTZL0YwdYJDAgw8HDWv=s64",
      "userId": "02021994300640528465"
     },
     "user_tz": -420
    },
    "id": "Tj3I1o7cEy5B",
    "outputId": "372677c0-87b5-4ab9-ccda-8aa03603040f"
   },
   "outputs": [
    {
     "data": {
      "text/html": [
       "<div>\n",
       "<style scoped>\n",
       "    .dataframe tbody tr th:only-of-type {\n",
       "        vertical-align: middle;\n",
       "    }\n",
       "\n",
       "    .dataframe tbody tr th {\n",
       "        vertical-align: top;\n",
       "    }\n",
       "\n",
       "    .dataframe thead th {\n",
       "        text-align: right;\n",
       "    }\n",
       "</style>\n",
       "<table border=\"1\" class=\"dataframe\">\n",
       "  <thead>\n",
       "    <tr style=\"text-align: right;\">\n",
       "      <th></th>\n",
       "      <th>order_id</th>\n",
       "      <th>sales</th>\n",
       "      <th>profit</th>\n",
       "      <th>quantity</th>\n",
       "      <th>category</th>\n",
       "      <th>sub_category</th>\n",
       "      <th>Cost</th>\n",
       "      <th>Total_Cost</th>\n",
       "      <th>Total_profit</th>\n",
       "      <th>order_date</th>\n",
       "      <th>customer_name</th>\n",
       "      <th>city</th>\n",
       "      <th>country</th>\n",
       "      <th>region</th>\n",
       "      <th>segment</th>\n",
       "      <th>ship_date</th>\n",
       "      <th>ship_mode</th>\n",
       "      <th>lon</th>\n",
       "      <th>lat</th>\n",
       "    </tr>\n",
       "  </thead>\n",
       "  <tbody>\n",
       "    <tr>\n",
       "      <th>0</th>\n",
       "      <td>AZ-2011-1029887</td>\n",
       "      <td>85</td>\n",
       "      <td>15</td>\n",
       "      <td>2</td>\n",
       "      <td>Furniture</td>\n",
       "      <td>Furnishings</td>\n",
       "      <td>70</td>\n",
       "      <td>70</td>\n",
       "      <td>30</td>\n",
       "      <td>7/31/2011</td>\n",
       "      <td>Brooke Hodgson</td>\n",
       "      <td>Leipzig</td>\n",
       "      <td>Germany</td>\n",
       "      <td>Central</td>\n",
       "      <td>Consumer</td>\n",
       "      <td>8/3/2011</td>\n",
       "      <td>Economy Plus</td>\n",
       "      <td>12.373075</td>\n",
       "      <td>51.339696</td>\n",
       "    </tr>\n",
       "    <tr>\n",
       "      <th>1</th>\n",
       "      <td>AZ-2011-1029887</td>\n",
       "      <td>26</td>\n",
       "      <td>7</td>\n",
       "      <td>2</td>\n",
       "      <td>Office Supplies</td>\n",
       "      <td>Labels</td>\n",
       "      <td>19</td>\n",
       "      <td>19</td>\n",
       "      <td>14</td>\n",
       "      <td>7/31/2011</td>\n",
       "      <td>Brooke Hodgson</td>\n",
       "      <td>Leipzig</td>\n",
       "      <td>Germany</td>\n",
       "      <td>Central</td>\n",
       "      <td>Consumer</td>\n",
       "      <td>8/3/2011</td>\n",
       "      <td>Economy Plus</td>\n",
       "      <td>12.373075</td>\n",
       "      <td>51.339696</td>\n",
       "    </tr>\n",
       "    <tr>\n",
       "      <th>2</th>\n",
       "      <td>AZ-2011-107716</td>\n",
       "      <td>294</td>\n",
       "      <td>109</td>\n",
       "      <td>7</td>\n",
       "      <td>Technology</td>\n",
       "      <td>Accessories</td>\n",
       "      <td>185</td>\n",
       "      <td>185</td>\n",
       "      <td>763</td>\n",
       "      <td>4/11/2011</td>\n",
       "      <td>Corey Norton</td>\n",
       "      <td>Marseille</td>\n",
       "      <td>France</td>\n",
       "      <td>Central</td>\n",
       "      <td>Consumer</td>\n",
       "      <td>4/16/2011</td>\n",
       "      <td>Economy</td>\n",
       "      <td>5.369780</td>\n",
       "      <td>43.296482</td>\n",
       "    </tr>\n",
       "    <tr>\n",
       "      <th>3</th>\n",
       "      <td>AZ-2011-1087704</td>\n",
       "      <td>76</td>\n",
       "      <td>11</td>\n",
       "      <td>3</td>\n",
       "      <td>Furniture</td>\n",
       "      <td>Furnishings</td>\n",
       "      <td>65</td>\n",
       "      <td>65</td>\n",
       "      <td>33</td>\n",
       "      <td>9/15/2011</td>\n",
       "      <td>Elijah Ruatoka</td>\n",
       "      <td>Karlsruhe</td>\n",
       "      <td>Germany</td>\n",
       "      <td>Central</td>\n",
       "      <td>Home Office</td>\n",
       "      <td>9/19/2011</td>\n",
       "      <td>Economy</td>\n",
       "      <td>8.403653</td>\n",
       "      <td>49.006890</td>\n",
       "    </tr>\n",
       "    <tr>\n",
       "      <th>4</th>\n",
       "      <td>AZ-2011-1087704</td>\n",
       "      <td>252</td>\n",
       "      <td>15</td>\n",
       "      <td>5</td>\n",
       "      <td>Office Supplies</td>\n",
       "      <td>Binders</td>\n",
       "      <td>237</td>\n",
       "      <td>237</td>\n",
       "      <td>75</td>\n",
       "      <td>9/15/2011</td>\n",
       "      <td>Elijah Ruatoka</td>\n",
       "      <td>Karlsruhe</td>\n",
       "      <td>Germany</td>\n",
       "      <td>Central</td>\n",
       "      <td>Home Office</td>\n",
       "      <td>9/19/2011</td>\n",
       "      <td>Economy</td>\n",
       "      <td>8.403653</td>\n",
       "      <td>49.006890</td>\n",
       "    </tr>\n",
       "  </tbody>\n",
       "</table>\n",
       "</div>"
      ],
      "text/plain": [
       "          order_id  sales  profit  ...     ship_mode        lon        lat\n",
       "0  AZ-2011-1029887     85      15  ...  Economy Plus  12.373075  51.339696\n",
       "1  AZ-2011-1029887     26       7  ...  Economy Plus  12.373075  51.339696\n",
       "2   AZ-2011-107716    294     109  ...       Economy   5.369780  43.296482\n",
       "3  AZ-2011-1087704     76      11  ...       Economy   8.403653  49.006890\n",
       "4  AZ-2011-1087704    252      15  ...       Economy   8.403653  49.006890\n",
       "\n",
       "[5 rows x 19 columns]"
      ]
     },
     "execution_count": 3,
     "metadata": {
      "tags": []
     },
     "output_type": "execute_result"
    }
   ],
   "source": [
    "# Join Dataset\n",
    "dataset = pd.merge(details, lists, how='right', left_on='order_id', right_on='order_id')\n",
    "dataset.head()"
   ]
  },
  {
   "cell_type": "markdown",
   "metadata": {
    "id": "WjpH800p3IVO"
   },
   "source": [
    "# Data Quality Checking"
   ]
  },
  {
   "cell_type": "code",
   "execution_count": 9,
   "metadata": {
    "colab": {
     "base_uri": "https://localhost:8080/"
    },
    "executionInfo": {
     "elapsed": 972,
     "status": "ok",
     "timestamp": 1614972578546,
     "user": {
      "displayName": "Agil Haykal",
      "photoUrl": "https://lh3.googleusercontent.com/a-/AOh14GgmAfVlWdi3HIJ21pC5ArTZL0YwdYJDAgw8HDWv=s64",
      "userId": "02021994300640528465"
     },
     "user_tz": -420
    },
    "id": "7hBtzho83cjD",
    "outputId": "215078f8-d25e-4790-e7c7-fcfe1c913b55"
   },
   "outputs": [
    {
     "data": {
      "text/plain": [
       "order_id         0\n",
       "sales            0\n",
       "profit           0\n",
       "quantity         0\n",
       "category         0\n",
       "sub_category     0\n",
       "Cost             0\n",
       "Total_Cost       0\n",
       "Total_profit     0\n",
       "order_date       0\n",
       "customer_name    0\n",
       "city             0\n",
       "country          0\n",
       "region           0\n",
       "segment          0\n",
       "ship_date        0\n",
       "ship_mode        0\n",
       "lon              0\n",
       "lat              0\n",
       "dtype: int64"
      ]
     },
     "execution_count": 9,
     "metadata": {
      "tags": []
     },
     "output_type": "execute_result"
    }
   ],
   "source": [
    "# Missing Value\n",
    "dataset.isnull().sum()"
   ]
  },
  {
   "cell_type": "code",
   "execution_count": 7,
   "metadata": {
    "colab": {
     "base_uri": "https://localhost:8080/"
    },
    "executionInfo": {
     "elapsed": 982,
     "status": "ok",
     "timestamp": 1614972556332,
     "user": {
      "displayName": "Agil Haykal",
      "photoUrl": "https://lh3.googleusercontent.com/a-/AOh14GgmAfVlWdi3HIJ21pC5ArTZL0YwdYJDAgw8HDWv=s64",
      "userId": "02021994300640528465"
     },
     "user_tz": -420
    },
    "id": "LzLOwxrL3HxH",
    "outputId": "44f93d30-d0d0-49ee-8187-045d94aae594"
   },
   "outputs": [
    {
     "data": {
      "text/plain": [
       "0"
      ]
     },
     "execution_count": 7,
     "metadata": {
      "tags": []
     },
     "output_type": "execute_result"
    }
   ],
   "source": [
    "# Duplicated Value\n",
    "dataset.duplicated().sum()"
   ]
  },
  {
   "cell_type": "markdown",
   "metadata": {
    "id": "XXIB3ddu24Aa"
   },
   "source": [
    "# Bar Chart"
   ]
  },
  {
   "cell_type": "code",
   "execution_count": 21,
   "metadata": {
    "colab": {
     "base_uri": "https://localhost:8080/",
     "height": 265
    },
    "executionInfo": {
     "elapsed": 1440,
     "status": "ok",
     "timestamp": 1614973781119,
     "user": {
      "displayName": "Agil Haykal",
      "photoUrl": "https://lh3.googleusercontent.com/a-/AOh14GgmAfVlWdi3HIJ21pC5ArTZL0YwdYJDAgw8HDWv=s64",
      "userId": "02021994300640528465"
     },
     "user_tz": -420
    },
    "id": "Z5RnALcq270Q",
    "outputId": "2e4ebdac-92ee-48ac-84bf-c612fd360d5a"
   },
   "outputs": [
    {
     "data": {
      "image/png": "[encoded data removed]",
      "text/plain": [
       "<Figure size 432x288 with 1 Axes>"
      ]
     },
     "metadata": {
      "needs_background": "light",
      "tags": []
     },
     "output_type": "display_data"
    }
   ],
   "source": [
    "plt.bar(dataset.groupby(['category']).sum()['sales'].index\n",
    "        , dataset.groupby(['category']).sum()['sales'])\n",
    "plt.show()"
   ]
  },
  {
   "cell_type": "markdown",
   "metadata": {
    "id": "gF_6SJr0-88j"
   },
   "source": [
    "# Pie Chart"
   ]
  },
  {
   "cell_type": "code",
   "execution_count": 7,
   "metadata": {
    "colab": {
     "base_uri": "https://localhost:8080/",
     "height": 248
    },
    "executionInfo": {
     "elapsed": 1542,
     "status": "ok",
     "timestamp": 1614991433139,
     "user": {
      "displayName": "Agil Haykal",
      "photoUrl": "https://lh3.googleusercontent.com/a-/AOh14GgmAfVlWdi3HIJ21pC5ArTZL0YwdYJDAgw8HDWv=s64",
      "userId": "02021994300640528465"
     },
     "user_tz": -420
    },
    "id": "AYlNZ7XK-7iS",
    "outputId": "afa41b36-4438-4788-8a44-b2b0ca89ec53"
   },
   "outputs": [
    {
     "data": {
      "image/png": "[encoded data removed]",
      "text/plain": [
       "<Figure size 432x288 with 1 Axes>"
      ]
     },
     "metadata": {
      "tags": []
     },
     "output_type": "display_data"
    }
   ],
   "source": [
    "plt.pie(dataset.groupby(['category']).sum()['sales']\n",
    "        , labels=dataset.groupby(['category']).sum()['sales'].index\n",
    "        , autopct='%1.1f%%')\n",
    "plt.show()"
   ]
  },
  {
   "cell_type": "markdown",
   "metadata": {
    "id": "kppBWMbV_jdv"
   },
   "source": [
    "# Histogram"
   ]
  },
  {
   "cell_type": "code",
   "execution_count": 10,
   "metadata": {
    "colab": {
     "base_uri": "https://localhost:8080/",
     "height": 265
    },
    "executionInfo": {
     "elapsed": 806,
     "status": "ok",
     "timestamp": 1614991547267,
     "user": {
      "displayName": "Agil Haykal",
      "photoUrl": "https://lh3.googleusercontent.com/a-/AOh14GgmAfVlWdi3HIJ21pC5ArTZL0YwdYJDAgw8HDWv=s64",
      "userId": "02021994300640528465"
     },
     "user_tz": -420
    },
    "id": "RuFRqw11_lso",
    "outputId": "c3d3ae75-f45b-4233-8357-ed67c902088a"
   },
   "outputs": [
    {
     "data": {
      "image/png": "[encoded data removed]",
      "text/plain": [
       "<Figure size 432x288 with 1 Axes>"
      ]
     },
     "metadata": {
      "needs_background": "light",
      "tags": []
     },
     "output_type": "display_data"
    }
   ],
   "source": [
    "plt.hist(dataset['profit'], bins=20)\n",
    "plt.show()"
   ]
  },
  {
   "cell_type": "code",
   "execution_count": 20,
   "metadata": {
    "colab": {
     "base_uri": "https://localhost:8080/",
     "height": 265
    },
    "executionInfo": {
     "elapsed": 821,
     "status": "ok",
     "timestamp": 1614991984043,
     "user": {
      "displayName": "Agil Haykal",
      "photoUrl": "https://lh3.googleusercontent.com/a-/AOh14GgmAfVlWdi3HIJ21pC5ArTZL0YwdYJDAgw8HDWv=s64",
      "userId": "02021994300640528465"
     },
     "user_tz": -420
    },
    "id": "_F5jrcVi_5_n",
    "outputId": "552e5ac2-373a-4139-d423-495febbd8fc1"
   },
   "outputs": [
    {
     "data": {
      "image/png": "[encoded data removed]",
      "text/plain": [
       "<Figure size 432x288 with 1 Axes>"
      ]
     },
     "metadata": {
      "needs_background": "light",
      "tags": []
     },
     "output_type": "display_data"
    }
   ],
   "source": [
    "q1 = np.quantile(dataset['profit'], 0.25, axis=0)\n",
    "q3 = np.quantile(dataset['profit'], 0.75, axis=0)\n",
    "iqr = (q3-q1) * 1.5\n",
    "lower = q1 - iqr\n",
    "upper = q3 + iqr\n",
    "\n",
    "profit = dataset.loc[(dataset['profit'] < upper) & (dataset['profit'] > lower), 'profit']\n",
    "\n",
    "plt.hist(profit)\n",
    "plt.show()"
   ]
  },
  {
   "cell_type": "code",
   "execution_count": 15,
   "metadata": {
    "colab": {
     "base_uri": "https://localhost:8080/"
    },
    "executionInfo": {
     "elapsed": 765,
     "status": "ok",
     "timestamp": 1614991843754,
     "user": {
      "displayName": "Agil Haykal",
      "photoUrl": "https://lh3.googleusercontent.com/a-/AOh14GgmAfVlWdi3HIJ21pC5ArTZL0YwdYJDAgw8HDWv=s64",
      "userId": "02021994300640528465"
     },
     "user_tz": -420
    },
    "id": "P8-SdUFqA9le",
    "outputId": "735791a9-1c86-451b-81e3-a9be30a61a04"
   },
   "outputs": [
    {
     "data": {
      "text/plain": [
       "131.0"
      ]
     },
     "execution_count": 15,
     "metadata": {
      "tags": []
     },
     "output_type": "execute_result"
    }
   ],
   "source": []
  },
  {
   "cell_type": "markdown",
   "metadata": {
    "id": "DPbxIEdv7xVN"
   },
   "source": [
    "# Density Plot"
   ]
  },
  {
   "cell_type": "code",
   "execution_count": 22,
   "metadata": {
    "colab": {
     "base_uri": "https://localhost:8080/",
     "height": 281
    },
    "executionInfo": {
     "elapsed": 992,
     "status": "ok",
     "timestamp": 1614973795541,
     "user": {
      "displayName": "Agil Haykal",
      "photoUrl": "https://lh3.googleusercontent.com/a-/AOh14GgmAfVlWdi3HIJ21pC5ArTZL0YwdYJDAgw8HDWv=s64",
      "userId": "02021994300640528465"
     },
     "user_tz": -420
    },
    "id": "lZfPQvQ_8FAp",
    "outputId": "1568b9ba-8872-4451-b44b-0058d1057f66"
   },
   "outputs": [
    {
     "data": {
      "image/png": "[encoded data removed]",
      "text/plain": [
       "<Figure size 432x288 with 1 Axes>"
      ]
     },
     "metadata": {
      "needs_background": "light",
      "tags": []
     },
     "output_type": "display_data"
    }
   ],
   "source": [
    "dataset['sales'].plot.density(title='sales')\n",
    "plt.show()"
   ]
  },
  {
   "cell_type": "code",
   "execution_count": 20,
   "metadata": {
    "colab": {
     "base_uri": "https://localhost:8080/",
     "height": 281
    },
    "executionInfo": {
     "elapsed": 1143,
     "status": "ok",
     "timestamp": 1614973775115,
     "user": {
      "displayName": "Agil Haykal",
      "photoUrl": "https://lh3.googleusercontent.com/a-/AOh14GgmAfVlWdi3HIJ21pC5ArTZL0YwdYJDAgw8HDWv=s64",
      "userId": "02021994300640528465"
     },
     "user_tz": -420
    },
    "id": "b_p1Bvgm71lQ",
    "outputId": "b2ea77a8-65b7-47e9-b4da-29ea96aaec2c"
   },
   "outputs": [
    {
     "data": {
      "image/png": "[encoded data removed]",
      "text/plain": [
       "<Figure size 432x288 with 1 Axes>"
      ]
     },
     "metadata": {
      "needs_background": "light",
      "tags": []
     },
     "output_type": "display_data"
    }
   ],
   "source": [
    "dataset.groupby('category')['sales'].plot.density(title='sales')\n",
    "plt.show()"
   ]
  },
  {
   "cell_type": "markdown",
   "metadata": {
    "id": "-iI7kTNQ2qfB"
   },
   "source": [
    "#  Line Chart"
   ]
  },
  {
   "cell_type": "code",
   "execution_count": 25,
   "metadata": {
    "executionInfo": {
     "elapsed": 854,
     "status": "ok",
     "timestamp": 1614962495069,
     "user": {
      "displayName": "Agil Haykal",
      "photoUrl": "https://lh3.googleusercontent.com/a-/AOh14GgmAfVlWdi3HIJ21pC5ArTZL0YwdYJDAgw8HDWv=s64",
      "userId": "02021994300640528465"
     },
     "user_tz": -420
    },
    "id": "kXTsZeoUPQIh"
   },
   "outputs": [],
   "source": [
    "# https://www.journaldev.com/23365/python-string-to-datetime-strptime\n",
    "dataset.order_date = pd.to_datetime(dataset.order_date, format=\"%m/%d/%Y\")\n",
    "dataset.ship_date = pd.to_datetime(dataset.ship_date, format=\"%m/%d/%Y\")"
   ]
  },
  {
   "cell_type": "code",
   "execution_count": 26,
   "metadata": {
    "colab": {
     "base_uri": "https://localhost:8080/",
     "height": 204
    },
    "executionInfo": {
     "elapsed": 842,
     "status": "ok",
     "timestamp": 1614962500995,
     "user": {
      "displayName": "Agil Haykal",
      "photoUrl": "https://lh3.googleusercontent.com/a-/AOh14GgmAfVlWdi3HIJ21pC5ArTZL0YwdYJDAgw8HDWv=s64",
      "userId": "02021994300640528465"
     },
     "user_tz": -420
    },
    "id": "WEqsOAQqQ2No",
    "outputId": "d167eb48-10fe-4a90-db27-14fe6293a55e"
   },
   "outputs": [
    {
     "data": {
      "text/html": [
       "<div>\n",
       "<style scoped>\n",
       "    .dataframe tbody tr th:only-of-type {\n",
       "        vertical-align: middle;\n",
       "    }\n",
       "\n",
       "    .dataframe tbody tr th {\n",
       "        vertical-align: top;\n",
       "    }\n",
       "\n",
       "    .dataframe thead th {\n",
       "        text-align: right;\n",
       "    }\n",
       "</style>\n",
       "<table border=\"1\" class=\"dataframe\">\n",
       "  <thead>\n",
       "    <tr style=\"text-align: right;\">\n",
       "      <th></th>\n",
       "      <th>order_id</th>\n",
       "      <th>sales</th>\n",
       "      <th>profit</th>\n",
       "      <th>quantity</th>\n",
       "      <th>category</th>\n",
       "      <th>sub_category</th>\n",
       "      <th>Cost</th>\n",
       "      <th>Total_Cost</th>\n",
       "      <th>Total_profit</th>\n",
       "      <th>order_date</th>\n",
       "      <th>customer_name</th>\n",
       "      <th>city</th>\n",
       "      <th>country</th>\n",
       "      <th>region</th>\n",
       "      <th>segment</th>\n",
       "      <th>ship_date</th>\n",
       "      <th>ship_mode</th>\n",
       "      <th>lon</th>\n",
       "      <th>lat</th>\n",
       "    </tr>\n",
       "  </thead>\n",
       "  <tbody>\n",
       "    <tr>\n",
       "      <th>0</th>\n",
       "      <td>AZ-2011-1029887</td>\n",
       "      <td>85</td>\n",
       "      <td>15</td>\n",
       "      <td>2</td>\n",
       "      <td>Furniture</td>\n",
       "      <td>Furnishings</td>\n",
       "      <td>70</td>\n",
       "      <td>70</td>\n",
       "      <td>30</td>\n",
       "      <td>2011-07-31</td>\n",
       "      <td>Brooke Hodgson</td>\n",
       "      <td>Leipzig</td>\n",
       "      <td>Germany</td>\n",
       "      <td>Central</td>\n",
       "      <td>Consumer</td>\n",
       "      <td>2011-08-03</td>\n",
       "      <td>Economy Plus</td>\n",
       "      <td>12.373075</td>\n",
       "      <td>51.339696</td>\n",
       "    </tr>\n",
       "    <tr>\n",
       "      <th>1</th>\n",
       "      <td>AZ-2011-1029887</td>\n",
       "      <td>26</td>\n",
       "      <td>7</td>\n",
       "      <td>2</td>\n",
       "      <td>Office Supplies</td>\n",
       "      <td>Labels</td>\n",
       "      <td>19</td>\n",
       "      <td>19</td>\n",
       "      <td>14</td>\n",
       "      <td>2011-07-31</td>\n",
       "      <td>Brooke Hodgson</td>\n",
       "      <td>Leipzig</td>\n",
       "      <td>Germany</td>\n",
       "      <td>Central</td>\n",
       "      <td>Consumer</td>\n",
       "      <td>2011-08-03</td>\n",
       "      <td>Economy Plus</td>\n",
       "      <td>12.373075</td>\n",
       "      <td>51.339696</td>\n",
       "    </tr>\n",
       "    <tr>\n",
       "      <th>2</th>\n",
       "      <td>AZ-2011-107716</td>\n",
       "      <td>294</td>\n",
       "      <td>109</td>\n",
       "      <td>7</td>\n",
       "      <td>Technology</td>\n",
       "      <td>Accessories</td>\n",
       "      <td>185</td>\n",
       "      <td>185</td>\n",
       "      <td>763</td>\n",
       "      <td>2011-04-11</td>\n",
       "      <td>Corey Norton</td>\n",
       "      <td>Marseille</td>\n",
       "      <td>France</td>\n",
       "      <td>Central</td>\n",
       "      <td>Consumer</td>\n",
       "      <td>2011-04-16</td>\n",
       "      <td>Economy</td>\n",
       "      <td>5.369780</td>\n",
       "      <td>43.296482</td>\n",
       "    </tr>\n",
       "    <tr>\n",
       "      <th>3</th>\n",
       "      <td>AZ-2011-1087704</td>\n",
       "      <td>76</td>\n",
       "      <td>11</td>\n",
       "      <td>3</td>\n",
       "      <td>Furniture</td>\n",
       "      <td>Furnishings</td>\n",
       "      <td>65</td>\n",
       "      <td>65</td>\n",
       "      <td>33</td>\n",
       "      <td>2011-09-15</td>\n",
       "      <td>Elijah Ruatoka</td>\n",
       "      <td>Karlsruhe</td>\n",
       "      <td>Germany</td>\n",
       "      <td>Central</td>\n",
       "      <td>Home Office</td>\n",
       "      <td>2011-09-19</td>\n",
       "      <td>Economy</td>\n",
       "      <td>8.403653</td>\n",
       "      <td>49.006890</td>\n",
       "    </tr>\n",
       "    <tr>\n",
       "      <th>4</th>\n",
       "      <td>AZ-2011-1087704</td>\n",
       "      <td>252</td>\n",
       "      <td>15</td>\n",
       "      <td>5</td>\n",
       "      <td>Office Supplies</td>\n",
       "      <td>Binders</td>\n",
       "      <td>237</td>\n",
       "      <td>237</td>\n",
       "      <td>75</td>\n",
       "      <td>2011-09-15</td>\n",
       "      <td>Elijah Ruatoka</td>\n",
       "      <td>Karlsruhe</td>\n",
       "      <td>Germany</td>\n",
       "      <td>Central</td>\n",
       "      <td>Home Office</td>\n",
       "      <td>2011-09-19</td>\n",
       "      <td>Economy</td>\n",
       "      <td>8.403653</td>\n",
       "      <td>49.006890</td>\n",
       "    </tr>\n",
       "  </tbody>\n",
       "</table>\n",
       "</div>"
      ],
      "text/plain": [
       "          order_id  sales  profit  ...     ship_mode        lon        lat\n",
       "0  AZ-2011-1029887     85      15  ...  Economy Plus  12.373075  51.339696\n",
       "1  AZ-2011-1029887     26       7  ...  Economy Plus  12.373075  51.339696\n",
       "2   AZ-2011-107716    294     109  ...       Economy   5.369780  43.296482\n",
       "3  AZ-2011-1087704     76      11  ...       Economy   8.403653  49.006890\n",
       "4  AZ-2011-1087704    252      15  ...       Economy   8.403653  49.006890\n",
       "\n",
       "[5 rows x 19 columns]"
      ]
     },
     "execution_count": 26,
     "metadata": {
      "tags": []
     },
     "output_type": "execute_result"
    }
   ],
   "source": [
    "dataset.head()"
   ]
  },
  {
   "cell_type": "code",
   "execution_count": 46,
   "metadata": {
    "colab": {
     "base_uri": "https://localhost:8080/",
     "height": 450
    },
    "executionInfo": {
     "elapsed": 866,
     "status": "ok",
     "timestamp": 1614963511479,
     "user": {
      "displayName": "Agil Haykal",
      "photoUrl": "https://lh3.googleusercontent.com/a-/AOh14GgmAfVlWdi3HIJ21pC5ArTZL0YwdYJDAgw8HDWv=s64",
      "userId": "02021994300640528465"
     },
     "user_tz": -420
    },
    "id": "-L3IDBPIRMbd",
    "outputId": "704b2df7-3065-4e56-801f-16841602a843"
   },
   "outputs": [
    {
     "data": {
      "text/html": [
       "<div>\n",
       "<style scoped>\n",
       "    .dataframe tbody tr th:only-of-type {\n",
       "        vertical-align: middle;\n",
       "    }\n",
       "\n",
       "    .dataframe tbody tr th {\n",
       "        vertical-align: top;\n",
       "    }\n",
       "\n",
       "    .dataframe thead tr th {\n",
       "        text-align: left;\n",
       "    }\n",
       "</style>\n",
       "<table border=\"1\" class=\"dataframe\">\n",
       "  <thead>\n",
       "    <tr>\n",
       "      <th></th>\n",
       "      <th>order_date</th>\n",
       "      <th colspan=\"3\" halign=\"left\">sum</th>\n",
       "      <th colspan=\"3\" halign=\"left\">mean</th>\n",
       "    </tr>\n",
       "    <tr>\n",
       "      <th></th>\n",
       "      <th></th>\n",
       "      <th>Total_Cost</th>\n",
       "      <th>Total_profit</th>\n",
       "      <th>quantity</th>\n",
       "      <th>Total_Cost</th>\n",
       "      <th>Total_profit</th>\n",
       "      <th>quantity</th>\n",
       "    </tr>\n",
       "  </thead>\n",
       "  <tbody>\n",
       "    <tr>\n",
       "      <th>0</th>\n",
       "      <td>2011-01-01</td>\n",
       "      <td>71</td>\n",
       "      <td>-78</td>\n",
       "      <td>3</td>\n",
       "      <td>71.000000</td>\n",
       "      <td>-78.000000</td>\n",
       "      <td>3.000000</td>\n",
       "    </tr>\n",
       "    <tr>\n",
       "      <th>1</th>\n",
       "      <td>2011-01-03</td>\n",
       "      <td>564</td>\n",
       "      <td>2030</td>\n",
       "      <td>7</td>\n",
       "      <td>564.000000</td>\n",
       "      <td>2030.000000</td>\n",
       "      <td>7.000000</td>\n",
       "    </tr>\n",
       "    <tr>\n",
       "      <th>2</th>\n",
       "      <td>2011-01-04</td>\n",
       "      <td>186</td>\n",
       "      <td>17</td>\n",
       "      <td>7</td>\n",
       "      <td>62.000000</td>\n",
       "      <td>5.666667</td>\n",
       "      <td>2.333333</td>\n",
       "    </tr>\n",
       "    <tr>\n",
       "      <th>3</th>\n",
       "      <td>2011-01-05</td>\n",
       "      <td>199</td>\n",
       "      <td>686</td>\n",
       "      <td>7</td>\n",
       "      <td>199.000000</td>\n",
       "      <td>686.000000</td>\n",
       "      <td>7.000000</td>\n",
       "    </tr>\n",
       "    <tr>\n",
       "      <th>4</th>\n",
       "      <td>2011-01-07</td>\n",
       "      <td>723</td>\n",
       "      <td>614</td>\n",
       "      <td>8</td>\n",
       "      <td>241.000000</td>\n",
       "      <td>204.666667</td>\n",
       "      <td>2.666667</td>\n",
       "    </tr>\n",
       "    <tr>\n",
       "      <th>...</th>\n",
       "      <td>...</td>\n",
       "      <td>...</td>\n",
       "      <td>...</td>\n",
       "      <td>...</td>\n",
       "      <td>...</td>\n",
       "      <td>...</td>\n",
       "      <td>...</td>\n",
       "    </tr>\n",
       "    <tr>\n",
       "      <th>95</th>\n",
       "      <td>2011-05-17</td>\n",
       "      <td>200</td>\n",
       "      <td>-42</td>\n",
       "      <td>7</td>\n",
       "      <td>66.666667</td>\n",
       "      <td>-14.000000</td>\n",
       "      <td>2.333333</td>\n",
       "    </tr>\n",
       "    <tr>\n",
       "      <th>96</th>\n",
       "      <td>2011-05-18</td>\n",
       "      <td>2424</td>\n",
       "      <td>3034</td>\n",
       "      <td>37</td>\n",
       "      <td>346.285714</td>\n",
       "      <td>433.428571</td>\n",
       "      <td>5.285714</td>\n",
       "    </tr>\n",
       "    <tr>\n",
       "      <th>97</th>\n",
       "      <td>2011-05-19</td>\n",
       "      <td>704</td>\n",
       "      <td>1305</td>\n",
       "      <td>22</td>\n",
       "      <td>234.666667</td>\n",
       "      <td>435.000000</td>\n",
       "      <td>7.333333</td>\n",
       "    </tr>\n",
       "    <tr>\n",
       "      <th>98</th>\n",
       "      <td>2011-05-21</td>\n",
       "      <td>689</td>\n",
       "      <td>-507</td>\n",
       "      <td>21</td>\n",
       "      <td>172.250000</td>\n",
       "      <td>-126.750000</td>\n",
       "      <td>5.250000</td>\n",
       "    </tr>\n",
       "    <tr>\n",
       "      <th>99</th>\n",
       "      <td>2011-05-25</td>\n",
       "      <td>1884</td>\n",
       "      <td>-1221</td>\n",
       "      <td>18</td>\n",
       "      <td>471.000000</td>\n",
       "      <td>-305.250000</td>\n",
       "      <td>4.500000</td>\n",
       "    </tr>\n",
       "  </tbody>\n",
       "</table>\n",
       "<p>100 rows × 7 columns</p>\n",
       "</div>"
      ],
      "text/plain": [
       "   order_date        sum               ...        mean                       \n",
       "              Total_Cost Total_profit  ...  Total_Cost Total_profit  quantity\n",
       "0  2011-01-01         71          -78  ...   71.000000   -78.000000  3.000000\n",
       "1  2011-01-03        564         2030  ...  564.000000  2030.000000  7.000000\n",
       "2  2011-01-04        186           17  ...   62.000000     5.666667  2.333333\n",
       "3  2011-01-05        199          686  ...  199.000000   686.000000  7.000000\n",
       "4  2011-01-07        723          614  ...  241.000000   204.666667  2.666667\n",
       "..        ...        ...          ...  ...         ...          ...       ...\n",
       "95 2011-05-17        200          -42  ...   66.666667   -14.000000  2.333333\n",
       "96 2011-05-18       2424         3034  ...  346.285714   433.428571  5.285714\n",
       "97 2011-05-19        704         1305  ...  234.666667   435.000000  7.333333\n",
       "98 2011-05-21        689         -507  ...  172.250000  -126.750000  5.250000\n",
       "99 2011-05-25       1884        -1221  ...  471.000000  -305.250000  4.500000\n",
       "\n",
       "[100 rows x 7 columns]"
      ]
     },
     "execution_count": 46,
     "metadata": {
      "tags": []
     },
     "output_type": "execute_result"
    }
   ],
   "source": [
    "time_series = pd.pivot_table(dataset, values=['Total_profit', 'Total_Cost', 'quantity'], index='order_date', aggfunc=[np.sum, np.mean]).reset_index()[:100]\n",
    "time_series"
   ]
  },
  {
   "cell_type": "code",
   "execution_count": 47,
   "metadata": {
    "colab": {
     "base_uri": "https://localhost:8080/",
     "height": 266
    },
    "executionInfo": {
     "elapsed": 1175,
     "status": "ok",
     "timestamp": 1614963515619,
     "user": {
      "displayName": "Agil Haykal",
      "photoUrl": "https://lh3.googleusercontent.com/a-/AOh14GgmAfVlWdi3HIJ21pC5ArTZL0YwdYJDAgw8HDWv=s64",
      "userId": "02021994300640528465"
     },
     "user_tz": -420
    },
    "id": "06jEyiqlJC4F",
    "outputId": "a40e37f3-c75d-473f-cb99-540dcbd51f45"
   },
   "outputs": [
    {
     "data": {
      "image/png": "[encoded data removed]",
      "text/plain": [
       "<Figure size 432x288 with 1 Axes>"
      ]
     },
     "metadata": {
      "needs_background": "light",
      "tags": []
     },
     "output_type": "display_data"
    }
   ],
   "source": [
    "plt.plot(time_series['order_date'], time_series['sum']['Total_Cost'])\n",
    "plt.show()"
   ]
  },
  {
   "cell_type": "code",
   "execution_count": null,
   "metadata": {
    "id": "lsDoHLIPM8G7"
   },
   "outputs": [],
   "source": []
  },
  {
   "cell_type": "code",
   "execution_count": null,
   "metadata": {
    "id": "FsPtyiP2C0hH"
   },
   "outputs": [],
   "source": []
  }
 ],
 "metadata": {
  "colab": {
   "authorship_tag": "ABX9TyO3tuo0Tf52yCkemiIdUILd",
   "name": "Data Viz Basic.ipynb",
   "provenance": []
  },
  "kernelspec": {
   "display_name": "Python 3",
   "language": "python",
   "name": "python3"
  },
  "language_info": {
   "codemirror_mode": {
    "name": "ipython",
    "version": 3
   },
   "file_extension": ".py",
   "mimetype": "text/x-python",
   "name": "python",
   "nbconvert_exporter": "python",
   "pygments_lexer": "ipython3",
   "version": "3.8.5"
  }
 },
 "nbformat": 4,
 "nbformat_minor": 1
}
