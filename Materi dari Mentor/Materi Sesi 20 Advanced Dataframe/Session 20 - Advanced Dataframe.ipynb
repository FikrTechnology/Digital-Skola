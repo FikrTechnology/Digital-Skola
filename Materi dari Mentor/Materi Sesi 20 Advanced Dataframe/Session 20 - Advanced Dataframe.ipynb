{
 "cells": [
  {
   "cell_type": "markdown",
   "metadata": {
    "id": "CtyqmLTNML_2"
   },
   "source": [
    "# Import Libraries"
   ]
  },
  {
   "cell_type": "code",
   "execution_count": 2,
   "metadata": {
    "colab": {
     "base_uri": "https://localhost:8080/"
    },
    "executionInfo": {
     "elapsed": 19673,
     "status": "ok",
     "timestamp": 1613786810843,
     "user": {
      "displayName": "Agil Haykal",
      "photoUrl": "https://lh3.googleusercontent.com/a-/AOh14GgmAfVlWdi3HIJ21pC5ArTZL0YwdYJDAgw8HDWv=s64",
      "userId": "02021994300640528465"
     },
     "user_tz": -420
    },
    "id": "S8jN4VQtLqrD",
    "outputId": "a61d914d-8dae-4439-eda1-25cdc1252122"
   },
   "outputs": [
    {
     "name": "stdout",
     "output_type": "stream",
     "text": [
      "Mounted at /content/gdrive\n"
     ]
    }
   ],
   "source": [
    "import pandas as pd, numpy as np\n",
    "from google.colab import drive\n",
    "drive.mount('/content/gdrive')"
   ]
  },
  {
   "cell_type": "markdown",
   "metadata": {
    "id": "vi7tAYj2MLYT"
   },
   "source": [
    "# Load datasets"
   ]
  },
  {
   "cell_type": "code",
   "execution_count": 6,
   "metadata": {
    "executionInfo": {
     "elapsed": 1965,
     "status": "ok",
     "timestamp": 1613787000412,
     "user": {
      "displayName": "Agil Haykal",
      "photoUrl": "https://lh3.googleusercontent.com/a-/AOh14GgmAfVlWdi3HIJ21pC5ArTZL0YwdYJDAgw8HDWv=s64",
      "userId": "02021994300640528465"
     },
     "user_tz": -420
    },
    "id": "kg7CociQL-3-"
   },
   "outputs": [],
   "source": [
    "path_1 = 'gdrive/My Drive/DigitalSkola/Dataset/order_details.csv'\n",
    "path_2 = 'gdrive/My Drive/DigitalSkola/Dataset/order_lists.csv'\n",
    "\n",
    "details = pd.read_csv(path_1)\n",
    "lists = pd.read_csv(path_2)"
   ]
  },
  {
   "cell_type": "markdown",
   "metadata": {
    "id": "osb03awIMqd-"
   },
   "source": [
    "# Show Datasets"
   ]
  },
  {
   "cell_type": "code",
   "execution_count": 7,
   "metadata": {
    "colab": {
     "base_uri": "https://localhost:8080/",
     "height": 202
    },
    "executionInfo": {
     "elapsed": 920,
     "status": "ok",
     "timestamp": 1613787005530,
     "user": {
      "displayName": "Agil Haykal",
      "photoUrl": "https://lh3.googleusercontent.com/a-/AOh14GgmAfVlWdi3HIJ21pC5ArTZL0YwdYJDAgw8HDWv=s64",
      "userId": "02021994300640528465"
     },
     "user_tz": -420
    },
    "id": "bPGZO1AuMumU",
    "outputId": "ea2f2783-c612-4b4e-d84c-2b43dd7cd394"
   },
   "outputs": [
    {
     "data": {
      "text/html": [
       "<div>\n",
       "<style scoped>\n",
       "    .dataframe tbody tr th:only-of-type {\n",
       "        vertical-align: middle;\n",
       "    }\n",
       "\n",
       "    .dataframe tbody tr th {\n",
       "        vertical-align: top;\n",
       "    }\n",
       "\n",
       "    .dataframe thead th {\n",
       "        text-align: right;\n",
       "    }\n",
       "</style>\n",
       "<table border=\"1\" class=\"dataframe\">\n",
       "  <thead>\n",
       "    <tr style=\"text-align: right;\">\n",
       "      <th></th>\n",
       "      <th>order_id</th>\n",
       "      <th>sales</th>\n",
       "      <th>profit</th>\n",
       "      <th>quantity</th>\n",
       "      <th>category</th>\n",
       "      <th>sub_category</th>\n",
       "      <th>Cost</th>\n",
       "      <th>Total_Cost</th>\n",
       "      <th>Total_profit</th>\n",
       "    </tr>\n",
       "  </thead>\n",
       "  <tbody>\n",
       "    <tr>\n",
       "      <th>0</th>\n",
       "      <td>AZ-2011-1029887</td>\n",
       "      <td>85</td>\n",
       "      <td>15</td>\n",
       "      <td>2</td>\n",
       "      <td>Furniture</td>\n",
       "      <td>Furnishings</td>\n",
       "      <td>70</td>\n",
       "      <td>70</td>\n",
       "      <td>30</td>\n",
       "    </tr>\n",
       "    <tr>\n",
       "      <th>1</th>\n",
       "      <td>AZ-2011-1029887</td>\n",
       "      <td>26</td>\n",
       "      <td>7</td>\n",
       "      <td>2</td>\n",
       "      <td>Office Supplies</td>\n",
       "      <td>Labels</td>\n",
       "      <td>19</td>\n",
       "      <td>19</td>\n",
       "      <td>14</td>\n",
       "    </tr>\n",
       "    <tr>\n",
       "      <th>2</th>\n",
       "      <td>AZ-2011-107716</td>\n",
       "      <td>294</td>\n",
       "      <td>109</td>\n",
       "      <td>7</td>\n",
       "      <td>Technology</td>\n",
       "      <td>Accessories</td>\n",
       "      <td>185</td>\n",
       "      <td>185</td>\n",
       "      <td>763</td>\n",
       "    </tr>\n",
       "    <tr>\n",
       "      <th>3</th>\n",
       "      <td>AZ-2011-1087704</td>\n",
       "      <td>76</td>\n",
       "      <td>11</td>\n",
       "      <td>3</td>\n",
       "      <td>Furniture</td>\n",
       "      <td>Furnishings</td>\n",
       "      <td>65</td>\n",
       "      <td>65</td>\n",
       "      <td>33</td>\n",
       "    </tr>\n",
       "    <tr>\n",
       "      <th>4</th>\n",
       "      <td>AZ-2011-1087704</td>\n",
       "      <td>252</td>\n",
       "      <td>15</td>\n",
       "      <td>5</td>\n",
       "      <td>Office Supplies</td>\n",
       "      <td>Binders</td>\n",
       "      <td>237</td>\n",
       "      <td>237</td>\n",
       "      <td>75</td>\n",
       "    </tr>\n",
       "  </tbody>\n",
       "</table>\n",
       "</div>"
      ],
      "text/plain": [
       "          order_id  sales  profit  ...  Cost Total_Cost Total_profit\n",
       "0  AZ-2011-1029887     85      15  ...    70         70           30\n",
       "1  AZ-2011-1029887     26       7  ...    19         19           14\n",
       "2   AZ-2011-107716    294     109  ...   185        185          763\n",
       "3  AZ-2011-1087704     76      11  ...    65         65           33\n",
       "4  AZ-2011-1087704    252      15  ...   237        237           75\n",
       "\n",
       "[5 rows x 9 columns]"
      ]
     },
     "execution_count": 7,
     "metadata": {
      "tags": []
     },
     "output_type": "execute_result"
    }
   ],
   "source": [
    "details.head()"
   ]
  },
  {
   "cell_type": "code",
   "execution_count": 8,
   "metadata": {
    "colab": {
     "base_uri": "https://localhost:8080/",
     "height": 202
    },
    "executionInfo": {
     "elapsed": 994,
     "status": "ok",
     "timestamp": 1613787006011,
     "user": {
      "displayName": "Agil Haykal",
      "photoUrl": "https://lh3.googleusercontent.com/a-/AOh14GgmAfVlWdi3HIJ21pC5ArTZL0YwdYJDAgw8HDWv=s64",
      "userId": "02021994300640528465"
     },
     "user_tz": -420
    },
    "id": "SA41FEO3MwEV",
    "outputId": "e49e9268-1758-4881-e2d8-e4e2e594c9f0"
   },
   "outputs": [
    {
     "data": {
      "text/html": [
       "<div>\n",
       "<style scoped>\n",
       "    .dataframe tbody tr th:only-of-type {\n",
       "        vertical-align: middle;\n",
       "    }\n",
       "\n",
       "    .dataframe tbody tr th {\n",
       "        vertical-align: top;\n",
       "    }\n",
       "\n",
       "    .dataframe thead th {\n",
       "        text-align: right;\n",
       "    }\n",
       "</style>\n",
       "<table border=\"1\" class=\"dataframe\">\n",
       "  <thead>\n",
       "    <tr style=\"text-align: right;\">\n",
       "      <th></th>\n",
       "      <th>order_id</th>\n",
       "      <th>order_date</th>\n",
       "      <th>customer_name</th>\n",
       "      <th>city</th>\n",
       "      <th>country</th>\n",
       "      <th>region</th>\n",
       "      <th>segment</th>\n",
       "      <th>ship_date</th>\n",
       "      <th>ship_mode</th>\n",
       "      <th>lon</th>\n",
       "      <th>lat</th>\n",
       "    </tr>\n",
       "  </thead>\n",
       "  <tbody>\n",
       "    <tr>\n",
       "      <th>0</th>\n",
       "      <td>AZ-2011-1029887</td>\n",
       "      <td>7/31/2011</td>\n",
       "      <td>Brooke Hodgson</td>\n",
       "      <td>Leipzig</td>\n",
       "      <td>Germany</td>\n",
       "      <td>Central</td>\n",
       "      <td>Consumer</td>\n",
       "      <td>8/3/2011</td>\n",
       "      <td>Economy Plus</td>\n",
       "      <td>12.373075</td>\n",
       "      <td>51.339696</td>\n",
       "    </tr>\n",
       "    <tr>\n",
       "      <th>1</th>\n",
       "      <td>AZ-2011-107716</td>\n",
       "      <td>4/11/2011</td>\n",
       "      <td>Corey Norton</td>\n",
       "      <td>Marseille</td>\n",
       "      <td>France</td>\n",
       "      <td>Central</td>\n",
       "      <td>Consumer</td>\n",
       "      <td>4/16/2011</td>\n",
       "      <td>Economy</td>\n",
       "      <td>5.369780</td>\n",
       "      <td>43.296482</td>\n",
       "    </tr>\n",
       "    <tr>\n",
       "      <th>2</th>\n",
       "      <td>AZ-2011-1087704</td>\n",
       "      <td>9/15/2011</td>\n",
       "      <td>Elijah Ruatoka</td>\n",
       "      <td>Karlsruhe</td>\n",
       "      <td>Germany</td>\n",
       "      <td>Central</td>\n",
       "      <td>Home Office</td>\n",
       "      <td>9/19/2011</td>\n",
       "      <td>Economy</td>\n",
       "      <td>8.403653</td>\n",
       "      <td>49.006890</td>\n",
       "    </tr>\n",
       "    <tr>\n",
       "      <th>3</th>\n",
       "      <td>AZ-2011-1114253</td>\n",
       "      <td>10/18/2011</td>\n",
       "      <td>Amy Pendred</td>\n",
       "      <td>Hamburg</td>\n",
       "      <td>Germany</td>\n",
       "      <td>Central</td>\n",
       "      <td>Consumer</td>\n",
       "      <td>10/22/2011</td>\n",
       "      <td>Economy Plus</td>\n",
       "      <td>9.993682</td>\n",
       "      <td>53.551085</td>\n",
       "    </tr>\n",
       "    <tr>\n",
       "      <th>4</th>\n",
       "      <td>AZ-2011-1116129</td>\n",
       "      <td>6/9/2011</td>\n",
       "      <td>Marcus Leon</td>\n",
       "      <td>Munich</td>\n",
       "      <td>Germany</td>\n",
       "      <td>Central</td>\n",
       "      <td>Corporate</td>\n",
       "      <td>6/11/2011</td>\n",
       "      <td>Economy Plus</td>\n",
       "      <td>11.581981</td>\n",
       "      <td>48.135125</td>\n",
       "    </tr>\n",
       "  </tbody>\n",
       "</table>\n",
       "</div>"
      ],
      "text/plain": [
       "          order_id  order_date  ...        lon        lat\n",
       "0  AZ-2011-1029887   7/31/2011  ...  12.373075  51.339696\n",
       "1   AZ-2011-107716   4/11/2011  ...   5.369780  43.296482\n",
       "2  AZ-2011-1087704   9/15/2011  ...   8.403653  49.006890\n",
       "3  AZ-2011-1114253  10/18/2011  ...   9.993682  53.551085\n",
       "4  AZ-2011-1116129    6/9/2011  ...  11.581981  48.135125\n",
       "\n",
       "[5 rows x 11 columns]"
      ]
     },
     "execution_count": 8,
     "metadata": {
      "tags": []
     },
     "output_type": "execute_result"
    }
   ],
   "source": [
    "lists.head()"
   ]
  },
  {
   "cell_type": "markdown",
   "metadata": {
    "id": "AwGac2rJM5o9"
   },
   "source": [
    "# Join Table"
   ]
  },
  {
   "cell_type": "markdown",
   "metadata": {
    "id": "npg4vCY_M8OK"
   },
   "source": [
    "## Merge method\n",
    "merge() for combining data on common columns or indices <br>\n",
    "df = pd.merge(df1, df2, how=\"left\", on=[\"col1\", \"col2\"])"
   ]
  },
  {
   "cell_type": "code",
   "execution_count": 15,
   "metadata": {
    "colab": {
     "base_uri": "https://localhost:8080/"
    },
    "executionInfo": {
     "elapsed": 740,
     "status": "ok",
     "timestamp": 1613787426348,
     "user": {
      "displayName": "Agil Haykal",
      "photoUrl": "https://lh3.googleusercontent.com/a-/AOh14GgmAfVlWdi3HIJ21pC5ArTZL0YwdYJDAgw8HDWv=s64",
      "userId": "02021994300640528465"
     },
     "user_tz": -420
    },
    "id": "RTm7rvrMM4Ac",
    "outputId": "c9cd4961-44da-485a-f291-3b78df49748e"
   },
   "outputs": [
    {
     "data": {
      "text/plain": [
       "(7463, 19)"
      ]
     },
     "execution_count": 15,
     "metadata": {
      "tags": []
     },
     "output_type": "execute_result"
    }
   ],
   "source": [
    "pd.merge(details, lists, how='right', left_on='order_id', right_on='order_id').shape"
   ]
  },
  {
   "cell_type": "markdown",
   "metadata": {
    "id": "1jqKfWSgNGCr"
   },
   "source": [
    "## Join Method\n",
    ".join() for combining data on a key column or an index <br>\n",
    "df = df1.join(df2, how=\"left\", on=[\"col1\", \"col2\"])"
   ]
  },
  {
   "cell_type": "code",
   "execution_count": 13,
   "metadata": {
    "colab": {
     "base_uri": "https://localhost:8080/"
    },
    "executionInfo": {
     "elapsed": 848,
     "status": "ok",
     "timestamp": 1613787415248,
     "user": {
      "displayName": "Agil Haykal",
      "photoUrl": "https://lh3.googleusercontent.com/a-/AOh14GgmAfVlWdi3HIJ21pC5ArTZL0YwdYJDAgw8HDWv=s64",
      "userId": "02021994300640528465"
     },
     "user_tz": -420
    },
    "id": "L_KNPBi8NMAk",
    "outputId": "c1189e12-b4fa-4caa-be23-4bdef7ad8a6a"
   },
   "outputs": [
    {
     "data": {
      "text/plain": [
       "(7463, 19)"
      ]
     },
     "execution_count": 13,
     "metadata": {
      "tags": []
     },
     "output_type": "execute_result"
    }
   ],
   "source": [
    "details.join(lists.set_index('order_id'), how='left', on='order_id').shape"
   ]
  },
  {
   "cell_type": "markdown",
   "metadata": {
    "id": "VUjUQ8RKOxIs"
   },
   "source": [
    "## Cross Join\n",
    "In Pandas, there are parameters to perform left, right, inner or outer merge and join on two DataFrames or Series. However there’s no possibility as of now to perform a cross join to merge or join two methods using how=\"cross\" parameter."
   ]
  },
  {
   "cell_type": "code",
   "execution_count": 19,
   "metadata": {
    "colab": {
     "base_uri": "https://localhost:8080/",
     "height": 417
    },
    "executionInfo": {
     "elapsed": 772,
     "status": "ok",
     "timestamp": 1613787683971,
     "user": {
      "displayName": "Agil Haykal",
      "photoUrl": "https://lh3.googleusercontent.com/a-/AOh14GgmAfVlWdi3HIJ21pC5ArTZL0YwdYJDAgw8HDWv=s64",
      "userId": "02021994300640528465"
     },
     "user_tz": -420
    },
    "id": "llXU1U43N6Ku",
    "outputId": "5b496642-3839-4ec7-cb63-4c64af2e8bfd"
   },
   "outputs": [
    {
     "data": {
      "text/html": [
       "<div>\n",
       "<style scoped>\n",
       "    .dataframe tbody tr th:only-of-type {\n",
       "        vertical-align: middle;\n",
       "    }\n",
       "\n",
       "    .dataframe tbody tr th {\n",
       "        vertical-align: top;\n",
       "    }\n",
       "\n",
       "    .dataframe thead th {\n",
       "        text-align: right;\n",
       "    }\n",
       "</style>\n",
       "<table border=\"1\" class=\"dataframe\">\n",
       "  <thead>\n",
       "    <tr style=\"text-align: right;\">\n",
       "      <th></th>\n",
       "      <th>Name</th>\n",
       "      <th>UserID</th>\n",
       "      <th>ProductID</th>\n",
       "    </tr>\n",
       "  </thead>\n",
       "  <tbody>\n",
       "    <tr>\n",
       "      <th>0</th>\n",
       "      <td>Rebecca</td>\n",
       "      <td>1</td>\n",
       "      <td>P1</td>\n",
       "    </tr>\n",
       "    <tr>\n",
       "      <th>1</th>\n",
       "      <td>Rebecca</td>\n",
       "      <td>1</td>\n",
       "      <td>P2</td>\n",
       "    </tr>\n",
       "    <tr>\n",
       "      <th>2</th>\n",
       "      <td>Rebecca</td>\n",
       "      <td>1</td>\n",
       "      <td>P3</td>\n",
       "    </tr>\n",
       "    <tr>\n",
       "      <th>3</th>\n",
       "      <td>Rebecca</td>\n",
       "      <td>1</td>\n",
       "      <td>P4</td>\n",
       "    </tr>\n",
       "    <tr>\n",
       "      <th>4</th>\n",
       "      <td>Maryam</td>\n",
       "      <td>2</td>\n",
       "      <td>P1</td>\n",
       "    </tr>\n",
       "    <tr>\n",
       "      <th>5</th>\n",
       "      <td>Maryam</td>\n",
       "      <td>2</td>\n",
       "      <td>P2</td>\n",
       "    </tr>\n",
       "    <tr>\n",
       "      <th>6</th>\n",
       "      <td>Maryam</td>\n",
       "      <td>2</td>\n",
       "      <td>P3</td>\n",
       "    </tr>\n",
       "    <tr>\n",
       "      <th>7</th>\n",
       "      <td>Maryam</td>\n",
       "      <td>2</td>\n",
       "      <td>P4</td>\n",
       "    </tr>\n",
       "    <tr>\n",
       "      <th>8</th>\n",
       "      <td>Anita</td>\n",
       "      <td>3</td>\n",
       "      <td>P1</td>\n",
       "    </tr>\n",
       "    <tr>\n",
       "      <th>9</th>\n",
       "      <td>Anita</td>\n",
       "      <td>3</td>\n",
       "      <td>P2</td>\n",
       "    </tr>\n",
       "    <tr>\n",
       "      <th>10</th>\n",
       "      <td>Anita</td>\n",
       "      <td>3</td>\n",
       "      <td>P3</td>\n",
       "    </tr>\n",
       "    <tr>\n",
       "      <th>11</th>\n",
       "      <td>Anita</td>\n",
       "      <td>3</td>\n",
       "      <td>P4</td>\n",
       "    </tr>\n",
       "  </tbody>\n",
       "</table>\n",
       "</div>"
      ],
      "text/plain": [
       "       Name  UserID ProductID\n",
       "0   Rebecca       1        P1\n",
       "1   Rebecca       1        P2\n",
       "2   Rebecca       1        P3\n",
       "3   Rebecca       1        P4\n",
       "4    Maryam       2        P1\n",
       "5    Maryam       2        P2\n",
       "6    Maryam       2        P3\n",
       "7    Maryam       2        P4\n",
       "8     Anita       3        P1\n",
       "9     Anita       3        P2\n",
       "10    Anita       3        P3\n",
       "11    Anita       3        P4"
      ]
     },
     "execution_count": 19,
     "metadata": {
      "tags": []
     },
     "output_type": "execute_result"
    }
   ],
   "source": [
    "# Define a dictionary containing user ID \n",
    "dict1 = {'Name': [\"Rebecca\", \"Maryam\", \"Anita\"], \n",
    "        'UserID': [1, 2, 3]}  \n",
    "     \n",
    "# Define a dictionary containing product ID  \n",
    "dict2 = {'ProductID': ['P1', 'P2', 'P3', 'P4']}  \n",
    "   \n",
    "# Convert the dictionary into DataFrame   \n",
    "df = pd.DataFrame(dict1)\n",
    "df1 = pd.DataFrame(dict2)\n",
    "  \n",
    "# Now to perform cross join, we will create a key column in both the DataFrames to merge on that key. \n",
    "df['key'] = 1\n",
    "df1['key'] = 1\n",
    "  \n",
    "# to obtain the cross join we will merge on the key and drop it. \n",
    "result = pd.merge(df, df1, on ='key').drop(\"key\", 1)\n",
    "\n",
    "result"
   ]
  },
  {
   "cell_type": "markdown",
   "metadata": {
    "id": "rpYNRW3cPiJ3"
   },
   "source": [
    "# Concatenate Dataframe\n",
    "Concatenate in dataframe is much more flexible than table in database. Because we can choose either concat horizontally (columns) or vertically (rows). <br>\n",
    "axis = 1 is horizontally (columns) <br>\n",
    "axis = 0 is vertically (rows) <br>\n",
    "df = pd.concat([df1, df2], axis=1)"
   ]
  },
  {
   "cell_type": "code",
   "execution_count": 28,
   "metadata": {
    "colab": {
     "base_uri": "https://localhost:8080/",
     "height": 609
    },
    "executionInfo": {
     "elapsed": 778,
     "status": "ok",
     "timestamp": 1613789796582,
     "user": {
      "displayName": "Agil Haykal",
      "photoUrl": "https://lh3.googleusercontent.com/a-/AOh14GgmAfVlWdi3HIJ21pC5ArTZL0YwdYJDAgw8HDWv=s64",
      "userId": "02021994300640528465"
     },
     "user_tz": -420
    },
    "id": "wnPjHTe3O4yN",
    "outputId": "b1acdce4-377c-4758-fac2-4d00621cb5bb"
   },
   "outputs": [
    {
     "data": {
      "text/html": [
       "<div>\n",
       "<style scoped>\n",
       "    .dataframe tbody tr th:only-of-type {\n",
       "        vertical-align: middle;\n",
       "    }\n",
       "\n",
       "    .dataframe tbody tr th {\n",
       "        vertical-align: top;\n",
       "    }\n",
       "\n",
       "    .dataframe thead th {\n",
       "        text-align: right;\n",
       "    }\n",
       "</style>\n",
       "<table border=\"1\" class=\"dataframe\">\n",
       "  <thead>\n",
       "    <tr style=\"text-align: right;\">\n",
       "      <th></th>\n",
       "      <th>order_id</th>\n",
       "      <th>sales</th>\n",
       "      <th>profit</th>\n",
       "      <th>quantity</th>\n",
       "      <th>category</th>\n",
       "      <th>sub_category</th>\n",
       "      <th>Cost</th>\n",
       "      <th>Total_Cost</th>\n",
       "      <th>Total_profit</th>\n",
       "      <th>order_date</th>\n",
       "      <th>customer_name</th>\n",
       "      <th>city</th>\n",
       "      <th>country</th>\n",
       "      <th>region</th>\n",
       "      <th>segment</th>\n",
       "      <th>ship_date</th>\n",
       "      <th>ship_mode</th>\n",
       "      <th>lon</th>\n",
       "      <th>lat</th>\n",
       "    </tr>\n",
       "  </thead>\n",
       "  <tbody>\n",
       "    <tr>\n",
       "      <th>0</th>\n",
       "      <td>AZ-2011-1029887</td>\n",
       "      <td>85.0</td>\n",
       "      <td>15.0</td>\n",
       "      <td>2.0</td>\n",
       "      <td>Furniture</td>\n",
       "      <td>Furnishings</td>\n",
       "      <td>70.0</td>\n",
       "      <td>70.0</td>\n",
       "      <td>30.0</td>\n",
       "      <td>NaN</td>\n",
       "      <td>NaN</td>\n",
       "      <td>NaN</td>\n",
       "      <td>NaN</td>\n",
       "      <td>NaN</td>\n",
       "      <td>NaN</td>\n",
       "      <td>NaN</td>\n",
       "      <td>NaN</td>\n",
       "      <td>NaN</td>\n",
       "      <td>NaN</td>\n",
       "    </tr>\n",
       "    <tr>\n",
       "      <th>1</th>\n",
       "      <td>AZ-2011-1029887</td>\n",
       "      <td>26.0</td>\n",
       "      <td>7.0</td>\n",
       "      <td>2.0</td>\n",
       "      <td>Office Supplies</td>\n",
       "      <td>Labels</td>\n",
       "      <td>19.0</td>\n",
       "      <td>19.0</td>\n",
       "      <td>14.0</td>\n",
       "      <td>NaN</td>\n",
       "      <td>NaN</td>\n",
       "      <td>NaN</td>\n",
       "      <td>NaN</td>\n",
       "      <td>NaN</td>\n",
       "      <td>NaN</td>\n",
       "      <td>NaN</td>\n",
       "      <td>NaN</td>\n",
       "      <td>NaN</td>\n",
       "      <td>NaN</td>\n",
       "    </tr>\n",
       "    <tr>\n",
       "      <th>2</th>\n",
       "      <td>AZ-2011-107716</td>\n",
       "      <td>294.0</td>\n",
       "      <td>109.0</td>\n",
       "      <td>7.0</td>\n",
       "      <td>Technology</td>\n",
       "      <td>Accessories</td>\n",
       "      <td>185.0</td>\n",
       "      <td>185.0</td>\n",
       "      <td>763.0</td>\n",
       "      <td>NaN</td>\n",
       "      <td>NaN</td>\n",
       "      <td>NaN</td>\n",
       "      <td>NaN</td>\n",
       "      <td>NaN</td>\n",
       "      <td>NaN</td>\n",
       "      <td>NaN</td>\n",
       "      <td>NaN</td>\n",
       "      <td>NaN</td>\n",
       "      <td>NaN</td>\n",
       "    </tr>\n",
       "    <tr>\n",
       "      <th>3</th>\n",
       "      <td>AZ-2011-1087704</td>\n",
       "      <td>76.0</td>\n",
       "      <td>11.0</td>\n",
       "      <td>3.0</td>\n",
       "      <td>Furniture</td>\n",
       "      <td>Furnishings</td>\n",
       "      <td>65.0</td>\n",
       "      <td>65.0</td>\n",
       "      <td>33.0</td>\n",
       "      <td>NaN</td>\n",
       "      <td>NaN</td>\n",
       "      <td>NaN</td>\n",
       "      <td>NaN</td>\n",
       "      <td>NaN</td>\n",
       "      <td>NaN</td>\n",
       "      <td>NaN</td>\n",
       "      <td>NaN</td>\n",
       "      <td>NaN</td>\n",
       "      <td>NaN</td>\n",
       "    </tr>\n",
       "    <tr>\n",
       "      <th>4</th>\n",
       "      <td>AZ-2011-1087704</td>\n",
       "      <td>252.0</td>\n",
       "      <td>15.0</td>\n",
       "      <td>5.0</td>\n",
       "      <td>Office Supplies</td>\n",
       "      <td>Binders</td>\n",
       "      <td>237.0</td>\n",
       "      <td>237.0</td>\n",
       "      <td>75.0</td>\n",
       "      <td>NaN</td>\n",
       "      <td>NaN</td>\n",
       "      <td>NaN</td>\n",
       "      <td>NaN</td>\n",
       "      <td>NaN</td>\n",
       "      <td>NaN</td>\n",
       "      <td>NaN</td>\n",
       "      <td>NaN</td>\n",
       "      <td>NaN</td>\n",
       "      <td>NaN</td>\n",
       "    </tr>\n",
       "    <tr>\n",
       "      <th>...</th>\n",
       "      <td>...</td>\n",
       "      <td>...</td>\n",
       "      <td>...</td>\n",
       "      <td>...</td>\n",
       "      <td>...</td>\n",
       "      <td>...</td>\n",
       "      <td>...</td>\n",
       "      <td>...</td>\n",
       "      <td>...</td>\n",
       "      <td>...</td>\n",
       "      <td>...</td>\n",
       "      <td>...</td>\n",
       "      <td>...</td>\n",
       "      <td>...</td>\n",
       "      <td>...</td>\n",
       "      <td>...</td>\n",
       "      <td>...</td>\n",
       "      <td>...</td>\n",
       "      <td>...</td>\n",
       "    </tr>\n",
       "    <tr>\n",
       "      <th>4112</th>\n",
       "      <td>BN-2014-9956954</td>\n",
       "      <td>NaN</td>\n",
       "      <td>NaN</td>\n",
       "      <td>NaN</td>\n",
       "      <td>NaN</td>\n",
       "      <td>NaN</td>\n",
       "      <td>NaN</td>\n",
       "      <td>NaN</td>\n",
       "      <td>NaN</td>\n",
       "      <td>12/26/2014</td>\n",
       "      <td>Darcy Medley</td>\n",
       "      <td>Ferrara</td>\n",
       "      <td>Italy</td>\n",
       "      <td>South</td>\n",
       "      <td>Corporate</td>\n",
       "      <td>1/1/2015</td>\n",
       "      <td>Economy</td>\n",
       "      <td>11.619787</td>\n",
       "      <td>44.838124</td>\n",
       "    </tr>\n",
       "    <tr>\n",
       "      <th>4113</th>\n",
       "      <td>BN-2014-9978138</td>\n",
       "      <td>NaN</td>\n",
       "      <td>NaN</td>\n",
       "      <td>NaN</td>\n",
       "      <td>NaN</td>\n",
       "      <td>NaN</td>\n",
       "      <td>NaN</td>\n",
       "      <td>NaN</td>\n",
       "      <td>NaN</td>\n",
       "      <td>9/24/2014</td>\n",
       "      <td>David Harney</td>\n",
       "      <td>Gap</td>\n",
       "      <td>France</td>\n",
       "      <td>Central</td>\n",
       "      <td>Corporate</td>\n",
       "      <td>9/26/2014</td>\n",
       "      <td>Economy Plus</td>\n",
       "      <td>6.079758</td>\n",
       "      <td>44.559638</td>\n",
       "    </tr>\n",
       "    <tr>\n",
       "      <th>4114</th>\n",
       "      <td>BN-2014-9982544</td>\n",
       "      <td>NaN</td>\n",
       "      <td>NaN</td>\n",
       "      <td>NaN</td>\n",
       "      <td>NaN</td>\n",
       "      <td>NaN</td>\n",
       "      <td>NaN</td>\n",
       "      <td>NaN</td>\n",
       "      <td>NaN</td>\n",
       "      <td>8/8/2014</td>\n",
       "      <td>Charlie Power</td>\n",
       "      <td>Essen</td>\n",
       "      <td>Germany</td>\n",
       "      <td>Central</td>\n",
       "      <td>Home Office</td>\n",
       "      <td>8/15/2014</td>\n",
       "      <td>Economy</td>\n",
       "      <td>7.011555</td>\n",
       "      <td>51.455643</td>\n",
       "    </tr>\n",
       "    <tr>\n",
       "      <th>4115</th>\n",
       "      <td>BN-2014-9995192</td>\n",
       "      <td>NaN</td>\n",
       "      <td>NaN</td>\n",
       "      <td>NaN</td>\n",
       "      <td>NaN</td>\n",
       "      <td>NaN</td>\n",
       "      <td>NaN</td>\n",
       "      <td>NaN</td>\n",
       "      <td>NaN</td>\n",
       "      <td>7/9/2014</td>\n",
       "      <td>Hayley Baldwinson</td>\n",
       "      <td>Celle</td>\n",
       "      <td>Germany</td>\n",
       "      <td>Central</td>\n",
       "      <td>Consumer</td>\n",
       "      <td>7/10/2014</td>\n",
       "      <td>Priority</td>\n",
       "      <td>10.062852</td>\n",
       "      <td>52.617596</td>\n",
       "    </tr>\n",
       "    <tr>\n",
       "      <th>4116</th>\n",
       "      <td>BN-2014-9998478</td>\n",
       "      <td>NaN</td>\n",
       "      <td>NaN</td>\n",
       "      <td>NaN</td>\n",
       "      <td>NaN</td>\n",
       "      <td>NaN</td>\n",
       "      <td>NaN</td>\n",
       "      <td>NaN</td>\n",
       "      <td>NaN</td>\n",
       "      <td>11/21/2014</td>\n",
       "      <td>Ella Dwyer-Gray</td>\n",
       "      <td>Breda</td>\n",
       "      <td>Netherlands</td>\n",
       "      <td>Central</td>\n",
       "      <td>Consumer</td>\n",
       "      <td>11/25/2014</td>\n",
       "      <td>Economy</td>\n",
       "      <td>4.768323</td>\n",
       "      <td>51.571915</td>\n",
       "    </tr>\n",
       "  </tbody>\n",
       "</table>\n",
       "<p>11580 rows × 19 columns</p>\n",
       "</div>"
      ],
      "text/plain": [
       "             order_id  sales  profit  ...     ship_mode        lon        lat\n",
       "0     AZ-2011-1029887   85.0    15.0  ...           NaN        NaN        NaN\n",
       "1     AZ-2011-1029887   26.0     7.0  ...           NaN        NaN        NaN\n",
       "2      AZ-2011-107716  294.0   109.0  ...           NaN        NaN        NaN\n",
       "3     AZ-2011-1087704   76.0    11.0  ...           NaN        NaN        NaN\n",
       "4     AZ-2011-1087704  252.0    15.0  ...           NaN        NaN        NaN\n",
       "...               ...    ...     ...  ...           ...        ...        ...\n",
       "4112  BN-2014-9956954    NaN     NaN  ...       Economy  11.619787  44.838124\n",
       "4113  BN-2014-9978138    NaN     NaN  ...  Economy Plus   6.079758  44.559638\n",
       "4114  BN-2014-9982544    NaN     NaN  ...       Economy   7.011555  51.455643\n",
       "4115  BN-2014-9995192    NaN     NaN  ...      Priority  10.062852  52.617596\n",
       "4116  BN-2014-9998478    NaN     NaN  ...       Economy   4.768323  51.571915\n",
       "\n",
       "[11580 rows x 19 columns]"
      ]
     },
     "execution_count": 28,
     "metadata": {
      "tags": []
     },
     "output_type": "execute_result"
    }
   ],
   "source": [
    "pd.concat([details, lists], axis=0)"
   ]
  },
  {
   "cell_type": "markdown",
   "metadata": {
    "id": "DvjTeNFvP0WU"
   },
   "source": [
    "# Append Dataframe\n",
    "Append rows of other dataframe to the end of initial one. In order to append dataframe in the same column, column’s name between two tables must be the same. If there is any column name discrepancy, new column will be created. <br>\n",
    "df = df1.append(df2)"
   ]
  },
  {
   "cell_type": "code",
   "execution_count": 29,
   "metadata": {
    "colab": {
     "base_uri": "https://localhost:8080/",
     "height": 609
    },
    "executionInfo": {
     "elapsed": 812,
     "status": "ok",
     "timestamp": 1613789938293,
     "user": {
      "displayName": "Agil Haykal",
      "photoUrl": "https://lh3.googleusercontent.com/a-/AOh14GgmAfVlWdi3HIJ21pC5ArTZL0YwdYJDAgw8HDWv=s64",
      "userId": "02021994300640528465"
     },
     "user_tz": -420
    },
    "id": "qxZPj5_EP23m",
    "outputId": "da9b0933-411e-4e8d-85a3-ec037006b0f8"
   },
   "outputs": [
    {
     "data": {
      "text/html": [
       "<div>\n",
       "<style scoped>\n",
       "    .dataframe tbody tr th:only-of-type {\n",
       "        vertical-align: middle;\n",
       "    }\n",
       "\n",
       "    .dataframe tbody tr th {\n",
       "        vertical-align: top;\n",
       "    }\n",
       "\n",
       "    .dataframe thead th {\n",
       "        text-align: right;\n",
       "    }\n",
       "</style>\n",
       "<table border=\"1\" class=\"dataframe\">\n",
       "  <thead>\n",
       "    <tr style=\"text-align: right;\">\n",
       "      <th></th>\n",
       "      <th>order_id</th>\n",
       "      <th>sales</th>\n",
       "      <th>profit</th>\n",
       "      <th>quantity</th>\n",
       "      <th>category</th>\n",
       "      <th>sub_category</th>\n",
       "      <th>Cost</th>\n",
       "      <th>Total_Cost</th>\n",
       "      <th>Total_profit</th>\n",
       "      <th>order_date</th>\n",
       "      <th>customer_name</th>\n",
       "      <th>city</th>\n",
       "      <th>country</th>\n",
       "      <th>region</th>\n",
       "      <th>segment</th>\n",
       "      <th>ship_date</th>\n",
       "      <th>ship_mode</th>\n",
       "      <th>lon</th>\n",
       "      <th>lat</th>\n",
       "    </tr>\n",
       "  </thead>\n",
       "  <tbody>\n",
       "    <tr>\n",
       "      <th>0</th>\n",
       "      <td>AZ-2011-1029887</td>\n",
       "      <td>85.0</td>\n",
       "      <td>15.0</td>\n",
       "      <td>2.0</td>\n",
       "      <td>Furniture</td>\n",
       "      <td>Furnishings</td>\n",
       "      <td>70.0</td>\n",
       "      <td>70.0</td>\n",
       "      <td>30.0</td>\n",
       "      <td>NaN</td>\n",
       "      <td>NaN</td>\n",
       "      <td>NaN</td>\n",
       "      <td>NaN</td>\n",
       "      <td>NaN</td>\n",
       "      <td>NaN</td>\n",
       "      <td>NaN</td>\n",
       "      <td>NaN</td>\n",
       "      <td>NaN</td>\n",
       "      <td>NaN</td>\n",
       "    </tr>\n",
       "    <tr>\n",
       "      <th>1</th>\n",
       "      <td>AZ-2011-1029887</td>\n",
       "      <td>26.0</td>\n",
       "      <td>7.0</td>\n",
       "      <td>2.0</td>\n",
       "      <td>Office Supplies</td>\n",
       "      <td>Labels</td>\n",
       "      <td>19.0</td>\n",
       "      <td>19.0</td>\n",
       "      <td>14.0</td>\n",
       "      <td>NaN</td>\n",
       "      <td>NaN</td>\n",
       "      <td>NaN</td>\n",
       "      <td>NaN</td>\n",
       "      <td>NaN</td>\n",
       "      <td>NaN</td>\n",
       "      <td>NaN</td>\n",
       "      <td>NaN</td>\n",
       "      <td>NaN</td>\n",
       "      <td>NaN</td>\n",
       "    </tr>\n",
       "    <tr>\n",
       "      <th>2</th>\n",
       "      <td>AZ-2011-107716</td>\n",
       "      <td>294.0</td>\n",
       "      <td>109.0</td>\n",
       "      <td>7.0</td>\n",
       "      <td>Technology</td>\n",
       "      <td>Accessories</td>\n",
       "      <td>185.0</td>\n",
       "      <td>185.0</td>\n",
       "      <td>763.0</td>\n",
       "      <td>NaN</td>\n",
       "      <td>NaN</td>\n",
       "      <td>NaN</td>\n",
       "      <td>NaN</td>\n",
       "      <td>NaN</td>\n",
       "      <td>NaN</td>\n",
       "      <td>NaN</td>\n",
       "      <td>NaN</td>\n",
       "      <td>NaN</td>\n",
       "      <td>NaN</td>\n",
       "    </tr>\n",
       "    <tr>\n",
       "      <th>3</th>\n",
       "      <td>AZ-2011-1087704</td>\n",
       "      <td>76.0</td>\n",
       "      <td>11.0</td>\n",
       "      <td>3.0</td>\n",
       "      <td>Furniture</td>\n",
       "      <td>Furnishings</td>\n",
       "      <td>65.0</td>\n",
       "      <td>65.0</td>\n",
       "      <td>33.0</td>\n",
       "      <td>NaN</td>\n",
       "      <td>NaN</td>\n",
       "      <td>NaN</td>\n",
       "      <td>NaN</td>\n",
       "      <td>NaN</td>\n",
       "      <td>NaN</td>\n",
       "      <td>NaN</td>\n",
       "      <td>NaN</td>\n",
       "      <td>NaN</td>\n",
       "      <td>NaN</td>\n",
       "    </tr>\n",
       "    <tr>\n",
       "      <th>4</th>\n",
       "      <td>AZ-2011-1087704</td>\n",
       "      <td>252.0</td>\n",
       "      <td>15.0</td>\n",
       "      <td>5.0</td>\n",
       "      <td>Office Supplies</td>\n",
       "      <td>Binders</td>\n",
       "      <td>237.0</td>\n",
       "      <td>237.0</td>\n",
       "      <td>75.0</td>\n",
       "      <td>NaN</td>\n",
       "      <td>NaN</td>\n",
       "      <td>NaN</td>\n",
       "      <td>NaN</td>\n",
       "      <td>NaN</td>\n",
       "      <td>NaN</td>\n",
       "      <td>NaN</td>\n",
       "      <td>NaN</td>\n",
       "      <td>NaN</td>\n",
       "      <td>NaN</td>\n",
       "    </tr>\n",
       "    <tr>\n",
       "      <th>...</th>\n",
       "      <td>...</td>\n",
       "      <td>...</td>\n",
       "      <td>...</td>\n",
       "      <td>...</td>\n",
       "      <td>...</td>\n",
       "      <td>...</td>\n",
       "      <td>...</td>\n",
       "      <td>...</td>\n",
       "      <td>...</td>\n",
       "      <td>...</td>\n",
       "      <td>...</td>\n",
       "      <td>...</td>\n",
       "      <td>...</td>\n",
       "      <td>...</td>\n",
       "      <td>...</td>\n",
       "      <td>...</td>\n",
       "      <td>...</td>\n",
       "      <td>...</td>\n",
       "      <td>...</td>\n",
       "    </tr>\n",
       "    <tr>\n",
       "      <th>4112</th>\n",
       "      <td>BN-2014-9956954</td>\n",
       "      <td>NaN</td>\n",
       "      <td>NaN</td>\n",
       "      <td>NaN</td>\n",
       "      <td>NaN</td>\n",
       "      <td>NaN</td>\n",
       "      <td>NaN</td>\n",
       "      <td>NaN</td>\n",
       "      <td>NaN</td>\n",
       "      <td>12/26/2014</td>\n",
       "      <td>Darcy Medley</td>\n",
       "      <td>Ferrara</td>\n",
       "      <td>Italy</td>\n",
       "      <td>South</td>\n",
       "      <td>Corporate</td>\n",
       "      <td>1/1/2015</td>\n",
       "      <td>Economy</td>\n",
       "      <td>11.619787</td>\n",
       "      <td>44.838124</td>\n",
       "    </tr>\n",
       "    <tr>\n",
       "      <th>4113</th>\n",
       "      <td>BN-2014-9978138</td>\n",
       "      <td>NaN</td>\n",
       "      <td>NaN</td>\n",
       "      <td>NaN</td>\n",
       "      <td>NaN</td>\n",
       "      <td>NaN</td>\n",
       "      <td>NaN</td>\n",
       "      <td>NaN</td>\n",
       "      <td>NaN</td>\n",
       "      <td>9/24/2014</td>\n",
       "      <td>David Harney</td>\n",
       "      <td>Gap</td>\n",
       "      <td>France</td>\n",
       "      <td>Central</td>\n",
       "      <td>Corporate</td>\n",
       "      <td>9/26/2014</td>\n",
       "      <td>Economy Plus</td>\n",
       "      <td>6.079758</td>\n",
       "      <td>44.559638</td>\n",
       "    </tr>\n",
       "    <tr>\n",
       "      <th>4114</th>\n",
       "      <td>BN-2014-9982544</td>\n",
       "      <td>NaN</td>\n",
       "      <td>NaN</td>\n",
       "      <td>NaN</td>\n",
       "      <td>NaN</td>\n",
       "      <td>NaN</td>\n",
       "      <td>NaN</td>\n",
       "      <td>NaN</td>\n",
       "      <td>NaN</td>\n",
       "      <td>8/8/2014</td>\n",
       "      <td>Charlie Power</td>\n",
       "      <td>Essen</td>\n",
       "      <td>Germany</td>\n",
       "      <td>Central</td>\n",
       "      <td>Home Office</td>\n",
       "      <td>8/15/2014</td>\n",
       "      <td>Economy</td>\n",
       "      <td>7.011555</td>\n",
       "      <td>51.455643</td>\n",
       "    </tr>\n",
       "    <tr>\n",
       "      <th>4115</th>\n",
       "      <td>BN-2014-9995192</td>\n",
       "      <td>NaN</td>\n",
       "      <td>NaN</td>\n",
       "      <td>NaN</td>\n",
       "      <td>NaN</td>\n",
       "      <td>NaN</td>\n",
       "      <td>NaN</td>\n",
       "      <td>NaN</td>\n",
       "      <td>NaN</td>\n",
       "      <td>7/9/2014</td>\n",
       "      <td>Hayley Baldwinson</td>\n",
       "      <td>Celle</td>\n",
       "      <td>Germany</td>\n",
       "      <td>Central</td>\n",
       "      <td>Consumer</td>\n",
       "      <td>7/10/2014</td>\n",
       "      <td>Priority</td>\n",
       "      <td>10.062852</td>\n",
       "      <td>52.617596</td>\n",
       "    </tr>\n",
       "    <tr>\n",
       "      <th>4116</th>\n",
       "      <td>BN-2014-9998478</td>\n",
       "      <td>NaN</td>\n",
       "      <td>NaN</td>\n",
       "      <td>NaN</td>\n",
       "      <td>NaN</td>\n",
       "      <td>NaN</td>\n",
       "      <td>NaN</td>\n",
       "      <td>NaN</td>\n",
       "      <td>NaN</td>\n",
       "      <td>11/21/2014</td>\n",
       "      <td>Ella Dwyer-Gray</td>\n",
       "      <td>Breda</td>\n",
       "      <td>Netherlands</td>\n",
       "      <td>Central</td>\n",
       "      <td>Consumer</td>\n",
       "      <td>11/25/2014</td>\n",
       "      <td>Economy</td>\n",
       "      <td>4.768323</td>\n",
       "      <td>51.571915</td>\n",
       "    </tr>\n",
       "  </tbody>\n",
       "</table>\n",
       "<p>11580 rows × 19 columns</p>\n",
       "</div>"
      ],
      "text/plain": [
       "             order_id  sales  profit  ...     ship_mode        lon        lat\n",
       "0     AZ-2011-1029887   85.0    15.0  ...           NaN        NaN        NaN\n",
       "1     AZ-2011-1029887   26.0     7.0  ...           NaN        NaN        NaN\n",
       "2      AZ-2011-107716  294.0   109.0  ...           NaN        NaN        NaN\n",
       "3     AZ-2011-1087704   76.0    11.0  ...           NaN        NaN        NaN\n",
       "4     AZ-2011-1087704  252.0    15.0  ...           NaN        NaN        NaN\n",
       "...               ...    ...     ...  ...           ...        ...        ...\n",
       "4112  BN-2014-9956954    NaN     NaN  ...       Economy  11.619787  44.838124\n",
       "4113  BN-2014-9978138    NaN     NaN  ...  Economy Plus   6.079758  44.559638\n",
       "4114  BN-2014-9982544    NaN     NaN  ...       Economy   7.011555  51.455643\n",
       "4115  BN-2014-9995192    NaN     NaN  ...      Priority  10.062852  52.617596\n",
       "4116  BN-2014-9998478    NaN     NaN  ...       Economy   4.768323  51.571915\n",
       "\n",
       "[11580 rows x 19 columns]"
      ]
     },
     "execution_count": 29,
     "metadata": {
      "tags": []
     },
     "output_type": "execute_result"
    }
   ],
   "source": [
    "details.append(lists)"
   ]
  },
  {
   "cell_type": "markdown",
   "metadata": {
    "id": "1Fkw88b6P7eb"
   },
   "source": [
    "# Indexing in DF\n",
    "When you join, concat, or append dataframes, the index will be repetitive. That's why it needs to be reset. <br>\n",
    "df.reset_index() <br>\n",
    "Sometimes we need to change the  column as an index. here's how: <br>\n",
    "df.set_index('column', inplace=True)"
   ]
  },
  {
   "cell_type": "code",
   "execution_count": null,
   "metadata": {
    "id": "5xFKTcwaQGEN"
   },
   "outputs": [],
   "source": []
  },
  {
   "cell_type": "markdown",
   "metadata": {
    "id": "1B7jpElmQGfd"
   },
   "source": [
    "# Pivoting Table\n",
    "Create a spreadsheet-style pivot table as a dataframe. The levels in the pivot table will be stored in MultiIndex objects (hierarchical indexes) on the index and columns of the result dataframe. <br>\n",
    "table = pd.pivot_table(df, values=['D', 'E'], index=['A', 'C'], aggfunc={'D': np.mean, 'E': np.mean}, fill_value=0)"
   ]
  },
  {
   "cell_type": "code",
   "execution_count": null,
   "metadata": {
    "id": "m0oYHenXQJ8k"
   },
   "outputs": [],
   "source": []
  },
  {
   "cell_type": "markdown",
   "metadata": {
    "id": "xayt_tRjQSq2"
   },
   "source": [
    "# Melting Table\n",
    "Pandas.melt() unpivots a dataframe from wide format to long format. melt() function is useful to massage a dataframe into a format where one or more columns are identifier variables, while all other columns, considered measured variables, are unpivoted to the row axis, leaving just two non-identifier columns, variable and value."
   ]
  },
  {
   "cell_type": "code",
   "execution_count": 22,
   "metadata": {
    "colab": {
     "base_uri": "https://localhost:8080/",
     "height": 141
    },
    "executionInfo": {
     "elapsed": 891,
     "status": "ok",
     "timestamp": 1613787964166,
     "user": {
      "displayName": "Agil Haykal",
      "photoUrl": "https://lh3.googleusercontent.com/a-/AOh14GgmAfVlWdi3HIJ21pC5ArTZL0YwdYJDAgw8HDWv=s64",
      "userId": "02021994300640528465"
     },
     "user_tz": -420
    },
    "id": "1JwHbPJfQVZ9",
    "outputId": "7ecd161f-4208-4e5a-d962-8ee940a04eaa"
   },
   "outputs": [
    {
     "data": {
      "text/html": [
       "<div>\n",
       "<style scoped>\n",
       "    .dataframe tbody tr th:only-of-type {\n",
       "        vertical-align: middle;\n",
       "    }\n",
       "\n",
       "    .dataframe tbody tr th {\n",
       "        vertical-align: top;\n",
       "    }\n",
       "\n",
       "    .dataframe thead th {\n",
       "        text-align: right;\n",
       "    }\n",
       "</style>\n",
       "<table border=\"1\" class=\"dataframe\">\n",
       "  <thead>\n",
       "    <tr style=\"text-align: right;\">\n",
       "      <th></th>\n",
       "      <th>Name</th>\n",
       "      <th>ID</th>\n",
       "      <th>Role</th>\n",
       "    </tr>\n",
       "  </thead>\n",
       "  <tbody>\n",
       "    <tr>\n",
       "      <th>0</th>\n",
       "      <td>Adi</td>\n",
       "      <td>1</td>\n",
       "      <td>CEO</td>\n",
       "    </tr>\n",
       "    <tr>\n",
       "      <th>1</th>\n",
       "      <td>Lisa</td>\n",
       "      <td>2</td>\n",
       "      <td>Editor</td>\n",
       "    </tr>\n",
       "    <tr>\n",
       "      <th>2</th>\n",
       "      <td>Budi</td>\n",
       "      <td>3</td>\n",
       "      <td>Author</td>\n",
       "    </tr>\n",
       "  </tbody>\n",
       "</table>\n",
       "</div>"
      ],
      "text/plain": [
       "   Name  ID    Role\n",
       "0   Adi   1     CEO\n",
       "1  Lisa   2  Editor\n",
       "2  Budi   3  Author"
      ]
     },
     "execution_count": 22,
     "metadata": {
      "tags": []
     },
     "output_type": "execute_result"
    }
   ],
   "source": [
    "d1 = {\"Name\": [\"Adi\", \"Lisa\", \"Budi\"],\n",
    "      \"ID\": [1, 2, 3],\n",
    "      \"Role\": [\"CEO\", \"Editor\", \"Author\"]}\n",
    "df = pd.DataFrame(d1)\n",
    "df"
   ]
  },
  {
   "cell_type": "code",
   "execution_count": 23,
   "metadata": {
    "colab": {
     "base_uri": "https://localhost:8080/",
     "height": 233
    },
    "executionInfo": {
     "elapsed": 806,
     "status": "ok",
     "timestamp": 1613787968485,
     "user": {
      "displayName": "Agil Haykal",
      "photoUrl": "https://lh3.googleusercontent.com/a-/AOh14GgmAfVlWdi3HIJ21pC5ArTZL0YwdYJDAgw8HDWv=s64",
      "userId": "02021994300640528465"
     },
     "user_tz": -420
    },
    "id": "b1H_YY4PQctn",
    "outputId": "fc2cb30a-03c5-4b3f-cd80-e0e4d1f4df90"
   },
   "outputs": [
    {
     "data": {
      "text/html": [
       "<div>\n",
       "<style scoped>\n",
       "    .dataframe tbody tr th:only-of-type {\n",
       "        vertical-align: middle;\n",
       "    }\n",
       "\n",
       "    .dataframe tbody tr th {\n",
       "        vertical-align: top;\n",
       "    }\n",
       "\n",
       "    .dataframe thead th {\n",
       "        text-align: right;\n",
       "    }\n",
       "</style>\n",
       "<table border=\"1\" class=\"dataframe\">\n",
       "  <thead>\n",
       "    <tr style=\"text-align: right;\">\n",
       "      <th></th>\n",
       "      <th>ID</th>\n",
       "      <th>variable</th>\n",
       "      <th>value</th>\n",
       "    </tr>\n",
       "  </thead>\n",
       "  <tbody>\n",
       "    <tr>\n",
       "      <th>0</th>\n",
       "      <td>1</td>\n",
       "      <td>Name</td>\n",
       "      <td>Adi</td>\n",
       "    </tr>\n",
       "    <tr>\n",
       "      <th>1</th>\n",
       "      <td>2</td>\n",
       "      <td>Name</td>\n",
       "      <td>Lisa</td>\n",
       "    </tr>\n",
       "    <tr>\n",
       "      <th>2</th>\n",
       "      <td>3</td>\n",
       "      <td>Name</td>\n",
       "      <td>Budi</td>\n",
       "    </tr>\n",
       "    <tr>\n",
       "      <th>3</th>\n",
       "      <td>1</td>\n",
       "      <td>Role</td>\n",
       "      <td>CEO</td>\n",
       "    </tr>\n",
       "    <tr>\n",
       "      <th>4</th>\n",
       "      <td>2</td>\n",
       "      <td>Role</td>\n",
       "      <td>Editor</td>\n",
       "    </tr>\n",
       "    <tr>\n",
       "      <th>5</th>\n",
       "      <td>3</td>\n",
       "      <td>Role</td>\n",
       "      <td>Author</td>\n",
       "    </tr>\n",
       "  </tbody>\n",
       "</table>\n",
       "</div>"
      ],
      "text/plain": [
       "   ID variable   value\n",
       "0   1     Name     Adi\n",
       "1   2     Name    Lisa\n",
       "2   3     Name    Budi\n",
       "3   1     Role     CEO\n",
       "4   2     Role  Editor\n",
       "5   3     Role  Author"
      ]
     },
     "execution_count": 23,
     "metadata": {
      "tags": []
     },
     "output_type": "execute_result"
    }
   ],
   "source": [
    "df_melted = pd.melt(df, id_vars=[\"ID\"], value_vars=[\"Name\", \"Role\"])\n",
    "df_melted"
   ]
  },
  {
   "cell_type": "markdown",
   "metadata": {
    "id": "SYTcMno8QpM2"
   },
   "source": [
    "# Lambda functions\n",
    "A lambda function is a small anonymous function. A lambda function can take any number of arguments, but can only have one expression."
   ]
  },
  {
   "cell_type": "code",
   "execution_count": 26,
   "metadata": {
    "colab": {
     "base_uri": "https://localhost:8080/"
    },
    "executionInfo": {
     "elapsed": 953,
     "status": "ok",
     "timestamp": 1613788325604,
     "user": {
      "displayName": "Agil Haykal",
      "photoUrl": "https://lh3.googleusercontent.com/a-/AOh14GgmAfVlWdi3HIJ21pC5ArTZL0YwdYJDAgw8HDWv=s64",
      "userId": "02021994300640528465"
     },
     "user_tz": -420
    },
    "id": "eovCMMJwQjCF",
    "outputId": "8b6012f1-272a-48a2-c287-783f7e651967"
   },
   "outputs": [
    {
     "name": "stdout",
     "output_type": "stream",
     "text": [
      "15\n"
     ]
    }
   ],
   "source": [
    "x = lambda a : a + 10\n",
    "print(x(5))"
   ]
  },
  {
   "cell_type": "code",
   "execution_count": null,
   "metadata": {
    "id": "6mO682snR7U_"
   },
   "outputs": [],
   "source": [
    "y = lambda x"
   ]
  },
  {
   "cell_type": "markdown",
   "metadata": {
    "id": "21s0W8qvQs0G"
   },
   "source": [
    "# Lambda in Pandas\n",
    "Applying lambda function to single column using Dataframe.assign()"
   ]
  },
  {
   "cell_type": "code",
   "execution_count": 24,
   "metadata": {
    "colab": {
     "base_uri": "https://localhost:8080/",
     "height": 233
    },
    "executionInfo": {
     "elapsed": 804,
     "status": "ok",
     "timestamp": 1613788044858,
     "user": {
      "displayName": "Agil Haykal",
      "photoUrl": "https://lh3.googleusercontent.com/a-/AOh14GgmAfVlWdi3HIJ21pC5ArTZL0YwdYJDAgw8HDWv=s64",
      "userId": "02021994300640528465"
     },
     "user_tz": -420
    },
    "id": "Unk52B7JQubl",
    "outputId": "5fd7b7ab-6dc3-4f7f-d3a1-c19beb70e7c5"
   },
   "outputs": [
    {
     "data": {
      "text/html": [
       "<div>\n",
       "<style scoped>\n",
       "    .dataframe tbody tr th:only-of-type {\n",
       "        vertical-align: middle;\n",
       "    }\n",
       "\n",
       "    .dataframe tbody tr th {\n",
       "        vertical-align: top;\n",
       "    }\n",
       "\n",
       "    .dataframe thead th {\n",
       "        text-align: right;\n",
       "    }\n",
       "</style>\n",
       "<table border=\"1\" class=\"dataframe\">\n",
       "  <thead>\n",
       "    <tr style=\"text-align: right;\">\n",
       "      <th></th>\n",
       "      <th>Name</th>\n",
       "      <th>Total_Marks</th>\n",
       "    </tr>\n",
       "  </thead>\n",
       "  <tbody>\n",
       "    <tr>\n",
       "      <th>0</th>\n",
       "      <td>Rohan</td>\n",
       "      <td>455</td>\n",
       "    </tr>\n",
       "    <tr>\n",
       "      <th>1</th>\n",
       "      <td>Elvish</td>\n",
       "      <td>250</td>\n",
       "    </tr>\n",
       "    <tr>\n",
       "      <th>2</th>\n",
       "      <td>Deepak</td>\n",
       "      <td>495</td>\n",
       "    </tr>\n",
       "    <tr>\n",
       "      <th>3</th>\n",
       "      <td>Soni</td>\n",
       "      <td>400</td>\n",
       "    </tr>\n",
       "    <tr>\n",
       "      <th>4</th>\n",
       "      <td>Radhika</td>\n",
       "      <td>350</td>\n",
       "    </tr>\n",
       "    <tr>\n",
       "      <th>5</th>\n",
       "      <td>Vansh</td>\n",
       "      <td>450</td>\n",
       "    </tr>\n",
       "  </tbody>\n",
       "</table>\n",
       "</div>"
      ],
      "text/plain": [
       "      Name  Total_Marks\n",
       "0    Rohan          455\n",
       "1   Elvish          250\n",
       "2   Deepak          495\n",
       "3     Soni          400\n",
       "4  Radhika          350\n",
       "5    Vansh          450"
      ]
     },
     "execution_count": 24,
     "metadata": {
      "tags": []
     },
     "output_type": "execute_result"
    }
   ],
   "source": [
    "# creating and initializing a list \n",
    "values= [['Rohan',455],['Elvish',250],['Deepak',495], \n",
    "         ['Soni',400],['Radhika',350],['Vansh',450]]  \n",
    "  \n",
    "# creating a pandas dataframe \n",
    "df = pd.DataFrame(values,columns=['Name','Total_Marks']) \n",
    "df"
   ]
  },
  {
   "cell_type": "code",
   "execution_count": 25,
   "metadata": {
    "colab": {
     "base_uri": "https://localhost:8080/",
     "height": 233
    },
    "executionInfo": {
     "elapsed": 772,
     "status": "ok",
     "timestamp": 1613788063095,
     "user": {
      "displayName": "Agil Haykal",
      "photoUrl": "https://lh3.googleusercontent.com/a-/AOh14GgmAfVlWdi3HIJ21pC5ArTZL0YwdYJDAgw8HDWv=s64",
      "userId": "02021994300640528465"
     },
     "user_tz": -420
    },
    "id": "Sf72QM4GQ1re",
    "outputId": "5f253577-a6d7-4fb6-dd88-ea39428a4e85"
   },
   "outputs": [
    {
     "data": {
      "text/html": [
       "<div>\n",
       "<style scoped>\n",
       "    .dataframe tbody tr th:only-of-type {\n",
       "        vertical-align: middle;\n",
       "    }\n",
       "\n",
       "    .dataframe tbody tr th {\n",
       "        vertical-align: top;\n",
       "    }\n",
       "\n",
       "    .dataframe thead th {\n",
       "        text-align: right;\n",
       "    }\n",
       "</style>\n",
       "<table border=\"1\" class=\"dataframe\">\n",
       "  <thead>\n",
       "    <tr style=\"text-align: right;\">\n",
       "      <th></th>\n",
       "      <th>Name</th>\n",
       "      <th>Total_Marks</th>\n",
       "      <th>Percentage</th>\n",
       "    </tr>\n",
       "  </thead>\n",
       "  <tbody>\n",
       "    <tr>\n",
       "      <th>0</th>\n",
       "      <td>Rohan</td>\n",
       "      <td>455</td>\n",
       "      <td>91.0</td>\n",
       "    </tr>\n",
       "    <tr>\n",
       "      <th>1</th>\n",
       "      <td>Elvish</td>\n",
       "      <td>250</td>\n",
       "      <td>50.0</td>\n",
       "    </tr>\n",
       "    <tr>\n",
       "      <th>2</th>\n",
       "      <td>Deepak</td>\n",
       "      <td>495</td>\n",
       "      <td>99.0</td>\n",
       "    </tr>\n",
       "    <tr>\n",
       "      <th>3</th>\n",
       "      <td>Soni</td>\n",
       "      <td>400</td>\n",
       "      <td>80.0</td>\n",
       "    </tr>\n",
       "    <tr>\n",
       "      <th>4</th>\n",
       "      <td>Radhika</td>\n",
       "      <td>350</td>\n",
       "      <td>70.0</td>\n",
       "    </tr>\n",
       "    <tr>\n",
       "      <th>5</th>\n",
       "      <td>Vansh</td>\n",
       "      <td>450</td>\n",
       "      <td>90.0</td>\n",
       "    </tr>\n",
       "  </tbody>\n",
       "</table>\n",
       "</div>"
      ],
      "text/plain": [
       "      Name  Total_Marks  Percentage\n",
       "0    Rohan          455        91.0\n",
       "1   Elvish          250        50.0\n",
       "2   Deepak          495        99.0\n",
       "3     Soni          400        80.0\n",
       "4  Radhika          350        70.0\n",
       "5    Vansh          450        90.0"
      ]
     },
     "execution_count": 25,
     "metadata": {
      "tags": []
     },
     "output_type": "execute_result"
    }
   ],
   "source": [
    "# Applying lambda function to find percentage of 'Total_Marks' column using df.assign() \n",
    "df = df.assign(Percentage = lambda x: (x['Total_Marks'] /500 * 100))\n",
    "df"
   ]
  },
  {
   "cell_type": "code",
   "execution_count": null,
   "metadata": {
    "id": "bT03J1zZQ6FV"
   },
   "outputs": [],
   "source": []
  }
 ],
 "metadata": {
  "colab": {
   "authorship_tag": "ABX9TyNCpDTIXBuePGkOgcS4HiVu",
   "name": "Advanced Pandas.ipynb",
   "provenance": []
  },
  "kernelspec": {
   "display_name": "Python 3",
   "language": "python",
   "name": "python3"
  },
  "language_info": {
   "codemirror_mode": {
    "name": "ipython",
    "version": 3
   },
   "file_extension": ".py",
   "mimetype": "text/x-python",
   "name": "python",
   "nbconvert_exporter": "python",
   "pygments_lexer": "ipython3",
   "version": "3.7.6"
  }
 },
 "nbformat": 4,
 "nbformat_minor": 1
}
