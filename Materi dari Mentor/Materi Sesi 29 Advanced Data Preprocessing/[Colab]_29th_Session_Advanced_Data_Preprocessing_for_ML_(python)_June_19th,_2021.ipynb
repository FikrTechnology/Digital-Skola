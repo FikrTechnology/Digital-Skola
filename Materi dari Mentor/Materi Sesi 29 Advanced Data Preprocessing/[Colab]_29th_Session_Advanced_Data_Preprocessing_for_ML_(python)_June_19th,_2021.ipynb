{
 "cells": [
  {
   "cell_type": "markdown",
   "metadata": {
    "id": "m1GtGzor6jTv"
   },
   "source": [
    "# Preparation"
   ]
  },
  {
   "cell_type": "code",
   "execution_count": 1,
   "metadata": {
    "id": "FuRDX9Kh6jTx"
   },
   "outputs": [],
   "source": [
    "# Sources: \n",
    "# https://medium.com/@ksnugroho/dasar-text-preprocessing-dengan-python-a4fa52608ffe \n",
    "# https://www.datacamp.com/community/tutorials/text-analytics-beginners-nltk\n",
    "# https://stackoverflow.com/questions/64719706/cleaning-twitter-data-pandas-python\n",
    "\n",
    "import pandas as pd\n",
    "import numpy as np\n",
    "\n",
    "import warnings\n",
    "warnings.filterwarnings('ignore')"
   ]
  },
  {
   "cell_type": "code",
   "execution_count": 2,
   "metadata": {
    "id": "POpqJvkT6jTy"
   },
   "outputs": [],
   "source": [
    "df = pd.read_csv('data_sesi29.csv')"
   ]
  },
  {
   "cell_type": "code",
   "execution_count": 3,
   "metadata": {
    "colab": {
     "base_uri": "https://localhost:8080/",
     "height": 204
    },
    "id": "au0xtIZUIhmi",
    "outputId": "d70a4ae0-2db9-4ab4-d617-53db967fb616"
   },
   "outputs": [
    {
     "data": {
      "text/html": [
       "<div>\n",
       "<style scoped>\n",
       "    .dataframe tbody tr th:only-of-type {\n",
       "        vertical-align: middle;\n",
       "    }\n",
       "\n",
       "    .dataframe tbody tr th {\n",
       "        vertical-align: top;\n",
       "    }\n",
       "\n",
       "    .dataframe thead th {\n",
       "        text-align: right;\n",
       "    }\n",
       "</style>\n",
       "<table border=\"1\" class=\"dataframe\">\n",
       "  <thead>\n",
       "    <tr style=\"text-align: right;\">\n",
       "      <th></th>\n",
       "      <th>umur</th>\n",
       "      <th>jenis_kelamin</th>\n",
       "      <th>pekerjaan</th>\n",
       "      <th>gaji</th>\n",
       "      <th>is_menikah</th>\n",
       "      <th>berat</th>\n",
       "      <th>tinggi</th>\n",
       "      <th>is_merokok</th>\n",
       "      <th>pendidikan</th>\n",
       "      <th>ever_stress</th>\n",
       "    </tr>\n",
       "  </thead>\n",
       "  <tbody>\n",
       "    <tr>\n",
       "      <th>0</th>\n",
       "      <td>27.0</td>\n",
       "      <td>Perempuan</td>\n",
       "      <td>PNS</td>\n",
       "      <td>7957452.757</td>\n",
       "      <td>1.0</td>\n",
       "      <td>54.315053</td>\n",
       "      <td>170.428542</td>\n",
       "      <td>1.0</td>\n",
       "      <td>S1</td>\n",
       "      <td>1</td>\n",
       "    </tr>\n",
       "    <tr>\n",
       "      <th>1</th>\n",
       "      <td>53.0</td>\n",
       "      <td>Perempuan</td>\n",
       "      <td>PNS</td>\n",
       "      <td>7633002.755</td>\n",
       "      <td>1.0</td>\n",
       "      <td>72.873404</td>\n",
       "      <td>165.530097</td>\n",
       "      <td>0.0</td>\n",
       "      <td>S1</td>\n",
       "      <td>1</td>\n",
       "    </tr>\n",
       "    <tr>\n",
       "      <th>2</th>\n",
       "      <td>37.0</td>\n",
       "      <td>Perempuan</td>\n",
       "      <td>Pegawai swasta</td>\n",
       "      <td>6637624.864</td>\n",
       "      <td>1.0</td>\n",
       "      <td>46.321533</td>\n",
       "      <td>154.599388</td>\n",
       "      <td>0.0</td>\n",
       "      <td>S1</td>\n",
       "      <td>1</td>\n",
       "    </tr>\n",
       "    <tr>\n",
       "      <th>3</th>\n",
       "      <td>36.0</td>\n",
       "      <td>Perempuan</td>\n",
       "      <td>Pengangguran</td>\n",
       "      <td>3624871.391</td>\n",
       "      <td>1.0</td>\n",
       "      <td>51.539781</td>\n",
       "      <td>167.340481</td>\n",
       "      <td>1.0</td>\n",
       "      <td>SD</td>\n",
       "      <td>1</td>\n",
       "    </tr>\n",
       "    <tr>\n",
       "      <th>4</th>\n",
       "      <td>38.0</td>\n",
       "      <td>Laki-laki</td>\n",
       "      <td>Freelance</td>\n",
       "      <td>6031807.520</td>\n",
       "      <td>1.0</td>\n",
       "      <td>60.726909</td>\n",
       "      <td>165.514773</td>\n",
       "      <td>1.0</td>\n",
       "      <td>S2</td>\n",
       "      <td>0</td>\n",
       "    </tr>\n",
       "  </tbody>\n",
       "</table>\n",
       "</div>"
      ],
      "text/plain": [
       "   umur jenis_kelamin       pekerjaan         gaji  is_menikah      berat  \\\n",
       "0  27.0     Perempuan             PNS  7957452.757         1.0  54.315053   \n",
       "1  53.0     Perempuan             PNS  7633002.755         1.0  72.873404   \n",
       "2  37.0     Perempuan  Pegawai swasta  6637624.864         1.0  46.321533   \n",
       "3  36.0     Perempuan    Pengangguran  3624871.391         1.0  51.539781   \n",
       "4  38.0     Laki-laki       Freelance  6031807.520         1.0  60.726909   \n",
       "\n",
       "       tinggi  is_merokok pendidikan  ever_stress  \n",
       "0  170.428542         1.0         S1            1  \n",
       "1  165.530097         0.0         S1            1  \n",
       "2  154.599388         0.0         S1            1  \n",
       "3  167.340481         1.0         SD            1  \n",
       "4  165.514773         1.0         S2            0  "
      ]
     },
     "execution_count": 3,
     "metadata": {},
     "output_type": "execute_result"
    }
   ],
   "source": [
    "df.head()"
   ]
  },
  {
   "cell_type": "code",
   "execution_count": 4,
   "metadata": {
    "id": "QXRoPlTF6jT0",
    "outputId": "07aa4f1f-e60b-4e72-8a9a-0f6840d60817"
   },
   "outputs": [
    {
     "data": {
      "text/plain": [
       "Index(['umur', 'jenis_kelamin', 'pekerjaan', 'gaji', 'is_menikah', 'berat',\n",
       "       'tinggi', 'is_merokok', 'pendidikan', 'ever_stress'],\n",
       "      dtype='object')"
      ]
     },
     "execution_count": 4,
     "metadata": {},
     "output_type": "execute_result"
    }
   ],
   "source": [
    "df.columns"
   ]
  },
  {
   "cell_type": "code",
   "execution_count": 8,
   "metadata": {},
   "outputs": [],
   "source": [
    "df = df.fillna(0)"
   ]
  },
  {
   "cell_type": "markdown",
   "metadata": {
    "id": "ZK7dSTxj6jT4"
   },
   "source": [
    "# Feature Engineering"
   ]
  },
  {
   "cell_type": "code",
   "execution_count": 9,
   "metadata": {
    "id": "mqQiRvdG6jT5"
   },
   "outputs": [],
   "source": [
    "df['kualitas_gaji'] = df['gaji']/(df['ever_stress'] + 1)\n",
    "df['gaji_per_umur'] = df['gaji']/(df['umur'] + 2)\n",
    "df['ratio_tinggi_berat'] = df['tinggi']/(df['berat']+1)"
   ]
  },
  {
   "cell_type": "code",
   "execution_count": 10,
   "metadata": {
    "id": "48M0BHiF6jT5"
   },
   "outputs": [],
   "source": [
    "from sklearn.preprocessing import PolynomialFeatures"
   ]
  },
  {
   "cell_type": "code",
   "execution_count": 11,
   "metadata": {
    "id": "1VcGS-4A6jT5"
   },
   "outputs": [],
   "source": [
    "polynom = PolynomialFeatures(degree=2)\n",
    "df_transform = polynom.fit_transform(df.select_dtypes('number'))\n",
    "df_transform = pd.DataFrame(df_transform,columns = polynom.get_feature_names())"
   ]
  },
  {
   "cell_type": "code",
   "execution_count": 12,
   "metadata": {
    "id": "qADyAK1m6jT5",
    "outputId": "043cf654-eda1-4976-a3e0-e2e14c073836"
   },
   "outputs": [
    {
     "data": {
      "text/html": [
       "<div>\n",
       "<style scoped>\n",
       "    .dataframe tbody tr th:only-of-type {\n",
       "        vertical-align: middle;\n",
       "    }\n",
       "\n",
       "    .dataframe tbody tr th {\n",
       "        vertical-align: top;\n",
       "    }\n",
       "\n",
       "    .dataframe thead th {\n",
       "        text-align: right;\n",
       "    }\n",
       "</style>\n",
       "<table border=\"1\" class=\"dataframe\">\n",
       "  <thead>\n",
       "    <tr style=\"text-align: right;\">\n",
       "      <th></th>\n",
       "      <th>1</th>\n",
       "      <th>x0</th>\n",
       "      <th>x1</th>\n",
       "      <th>x2</th>\n",
       "      <th>x3</th>\n",
       "      <th>x4</th>\n",
       "      <th>x5</th>\n",
       "      <th>x6</th>\n",
       "      <th>x7</th>\n",
       "      <th>x8</th>\n",
       "      <th>...</th>\n",
       "      <th>x6^2</th>\n",
       "      <th>x6 x7</th>\n",
       "      <th>x6 x8</th>\n",
       "      <th>x6 x9</th>\n",
       "      <th>x7^2</th>\n",
       "      <th>x7 x8</th>\n",
       "      <th>x7 x9</th>\n",
       "      <th>x8^2</th>\n",
       "      <th>x8 x9</th>\n",
       "      <th>x9^2</th>\n",
       "    </tr>\n",
       "  </thead>\n",
       "  <tbody>\n",
       "    <tr>\n",
       "      <th>0</th>\n",
       "      <td>1.0</td>\n",
       "      <td>27.0</td>\n",
       "      <td>7.957453e+06</td>\n",
       "      <td>1.0</td>\n",
       "      <td>54.315053</td>\n",
       "      <td>170.428542</td>\n",
       "      <td>1.0</td>\n",
       "      <td>1.0</td>\n",
       "      <td>3.978726e+06</td>\n",
       "      <td>274394.922655</td>\n",
       "      <td>...</td>\n",
       "      <td>1.0</td>\n",
       "      <td>3.978726e+06</td>\n",
       "      <td>274394.922655</td>\n",
       "      <td>3.081052</td>\n",
       "      <td>1.583026e+13</td>\n",
       "      <td>1.091742e+12</td>\n",
       "      <td>1.225866e+07</td>\n",
       "      <td>7.529257e+10</td>\n",
       "      <td>845424.971029</td>\n",
       "      <td>9.492880</td>\n",
       "    </tr>\n",
       "    <tr>\n",
       "      <th>1</th>\n",
       "      <td>1.0</td>\n",
       "      <td>53.0</td>\n",
       "      <td>7.633003e+06</td>\n",
       "      <td>1.0</td>\n",
       "      <td>72.873404</td>\n",
       "      <td>165.530097</td>\n",
       "      <td>0.0</td>\n",
       "      <td>1.0</td>\n",
       "      <td>3.816501e+06</td>\n",
       "      <td>138781.868273</td>\n",
       "      <td>...</td>\n",
       "      <td>1.0</td>\n",
       "      <td>3.816501e+06</td>\n",
       "      <td>138781.868273</td>\n",
       "      <td>2.240727</td>\n",
       "      <td>1.456568e+13</td>\n",
       "      <td>5.296612e+11</td>\n",
       "      <td>8.551736e+06</td>\n",
       "      <td>1.926041e+10</td>\n",
       "      <td>310972.216717</td>\n",
       "      <td>5.020855</td>\n",
       "    </tr>\n",
       "    <tr>\n",
       "      <th>2</th>\n",
       "      <td>1.0</td>\n",
       "      <td>37.0</td>\n",
       "      <td>6.637625e+06</td>\n",
       "      <td>1.0</td>\n",
       "      <td>46.321533</td>\n",
       "      <td>154.599388</td>\n",
       "      <td>0.0</td>\n",
       "      <td>1.0</td>\n",
       "      <td>3.318812e+06</td>\n",
       "      <td>170195.509333</td>\n",
       "      <td>...</td>\n",
       "      <td>1.0</td>\n",
       "      <td>3.318812e+06</td>\n",
       "      <td>170195.509333</td>\n",
       "      <td>3.266999</td>\n",
       "      <td>1.101452e+13</td>\n",
       "      <td>5.648470e+11</td>\n",
       "      <td>1.084256e+07</td>\n",
       "      <td>2.896651e+10</td>\n",
       "      <td>556028.516448</td>\n",
       "      <td>10.673281</td>\n",
       "    </tr>\n",
       "    <tr>\n",
       "      <th>3</th>\n",
       "      <td>1.0</td>\n",
       "      <td>36.0</td>\n",
       "      <td>3.624871e+06</td>\n",
       "      <td>1.0</td>\n",
       "      <td>51.539781</td>\n",
       "      <td>167.340481</td>\n",
       "      <td>1.0</td>\n",
       "      <td>1.0</td>\n",
       "      <td>1.812436e+06</td>\n",
       "      <td>95391.352395</td>\n",
       "      <td>...</td>\n",
       "      <td>1.0</td>\n",
       "      <td>1.812436e+06</td>\n",
       "      <td>95391.352395</td>\n",
       "      <td>3.185024</td>\n",
       "      <td>3.284923e+12</td>\n",
       "      <td>1.728907e+11</td>\n",
       "      <td>5.772652e+06</td>\n",
       "      <td>9.099510e+09</td>\n",
       "      <td>303823.779503</td>\n",
       "      <td>10.144380</td>\n",
       "    </tr>\n",
       "    <tr>\n",
       "      <th>4</th>\n",
       "      <td>1.0</td>\n",
       "      <td>38.0</td>\n",
       "      <td>6.031808e+06</td>\n",
       "      <td>1.0</td>\n",
       "      <td>60.726909</td>\n",
       "      <td>165.514773</td>\n",
       "      <td>1.0</td>\n",
       "      <td>0.0</td>\n",
       "      <td>6.031808e+06</td>\n",
       "      <td>150795.188000</td>\n",
       "      <td>...</td>\n",
       "      <td>0.0</td>\n",
       "      <td>0.000000e+00</td>\n",
       "      <td>0.000000</td>\n",
       "      <td>0.000000</td>\n",
       "      <td>3.638270e+13</td>\n",
       "      <td>9.095675e+11</td>\n",
       "      <td>1.617371e+07</td>\n",
       "      <td>2.273919e+10</td>\n",
       "      <td>404342.801896</td>\n",
       "      <td>7.189927</td>\n",
       "    </tr>\n",
       "    <tr>\n",
       "      <th>...</th>\n",
       "      <td>...</td>\n",
       "      <td>...</td>\n",
       "      <td>...</td>\n",
       "      <td>...</td>\n",
       "      <td>...</td>\n",
       "      <td>...</td>\n",
       "      <td>...</td>\n",
       "      <td>...</td>\n",
       "      <td>...</td>\n",
       "      <td>...</td>\n",
       "      <td>...</td>\n",
       "      <td>...</td>\n",
       "      <td>...</td>\n",
       "      <td>...</td>\n",
       "      <td>...</td>\n",
       "      <td>...</td>\n",
       "      <td>...</td>\n",
       "      <td>...</td>\n",
       "      <td>...</td>\n",
       "      <td>...</td>\n",
       "      <td>...</td>\n",
       "    </tr>\n",
       "    <tr>\n",
       "      <th>7912</th>\n",
       "      <td>1.0</td>\n",
       "      <td>32.0</td>\n",
       "      <td>6.024409e+06</td>\n",
       "      <td>1.0</td>\n",
       "      <td>44.432438</td>\n",
       "      <td>154.578859</td>\n",
       "      <td>0.0</td>\n",
       "      <td>1.0</td>\n",
       "      <td>3.012205e+06</td>\n",
       "      <td>177188.507294</td>\n",
       "      <td>...</td>\n",
       "      <td>1.0</td>\n",
       "      <td>3.012205e+06</td>\n",
       "      <td>177188.507294</td>\n",
       "      <td>3.402390</td>\n",
       "      <td>9.073377e+12</td>\n",
       "      <td>5.337280e+11</td>\n",
       "      <td>1.024869e+07</td>\n",
       "      <td>3.139577e+10</td>\n",
       "      <td>602864.347402</td>\n",
       "      <td>11.576255</td>\n",
       "    </tr>\n",
       "    <tr>\n",
       "      <th>7913</th>\n",
       "      <td>1.0</td>\n",
       "      <td>34.0</td>\n",
       "      <td>1.007043e+07</td>\n",
       "      <td>1.0</td>\n",
       "      <td>49.389914</td>\n",
       "      <td>158.782726</td>\n",
       "      <td>1.0</td>\n",
       "      <td>1.0</td>\n",
       "      <td>5.035213e+06</td>\n",
       "      <td>279734.050278</td>\n",
       "      <td>...</td>\n",
       "      <td>1.0</td>\n",
       "      <td>5.035213e+06</td>\n",
       "      <td>279734.050278</td>\n",
       "      <td>3.151082</td>\n",
       "      <td>2.535337e+13</td>\n",
       "      <td>1.408520e+12</td>\n",
       "      <td>1.586637e+07</td>\n",
       "      <td>7.825114e+10</td>\n",
       "      <td>881464.801678</td>\n",
       "      <td>9.929315</td>\n",
       "    </tr>\n",
       "    <tr>\n",
       "      <th>7914</th>\n",
       "      <td>1.0</td>\n",
       "      <td>58.0</td>\n",
       "      <td>8.010815e+06</td>\n",
       "      <td>1.0</td>\n",
       "      <td>54.351968</td>\n",
       "      <td>154.478087</td>\n",
       "      <td>1.0</td>\n",
       "      <td>1.0</td>\n",
       "      <td>4.005407e+06</td>\n",
       "      <td>133513.576900</td>\n",
       "      <td>...</td>\n",
       "      <td>1.0</td>\n",
       "      <td>4.005407e+06</td>\n",
       "      <td>133513.576900</td>\n",
       "      <td>2.790833</td>\n",
       "      <td>1.604329e+13</td>\n",
       "      <td>5.347763e+11</td>\n",
       "      <td>1.117842e+07</td>\n",
       "      <td>1.782588e+10</td>\n",
       "      <td>372614.068162</td>\n",
       "      <td>7.788748</td>\n",
       "    </tr>\n",
       "    <tr>\n",
       "      <th>7915</th>\n",
       "      <td>1.0</td>\n",
       "      <td>30.0</td>\n",
       "      <td>9.059906e+06</td>\n",
       "      <td>1.0</td>\n",
       "      <td>57.646930</td>\n",
       "      <td>163.377717</td>\n",
       "      <td>0.0</td>\n",
       "      <td>1.0</td>\n",
       "      <td>4.529953e+06</td>\n",
       "      <td>283122.066844</td>\n",
       "      <td>...</td>\n",
       "      <td>1.0</td>\n",
       "      <td>4.529953e+06</td>\n",
       "      <td>283122.066844</td>\n",
       "      <td>2.785785</td>\n",
       "      <td>2.052047e+13</td>\n",
       "      <td>1.282530e+12</td>\n",
       "      <td>1.261947e+07</td>\n",
       "      <td>8.015810e+10</td>\n",
       "      <td>788717.106917</td>\n",
       "      <td>7.760596</td>\n",
       "    </tr>\n",
       "    <tr>\n",
       "      <th>7916</th>\n",
       "      <td>1.0</td>\n",
       "      <td>58.0</td>\n",
       "      <td>1.769162e+07</td>\n",
       "      <td>1.0</td>\n",
       "      <td>81.036287</td>\n",
       "      <td>183.054150</td>\n",
       "      <td>1.0</td>\n",
       "      <td>1.0</td>\n",
       "      <td>8.845811e+06</td>\n",
       "      <td>294860.377000</td>\n",
       "      <td>...</td>\n",
       "      <td>1.0</td>\n",
       "      <td>8.845811e+06</td>\n",
       "      <td>294860.377000</td>\n",
       "      <td>2.231380</td>\n",
       "      <td>7.824838e+13</td>\n",
       "      <td>2.608279e+12</td>\n",
       "      <td>1.973837e+07</td>\n",
       "      <td>8.694264e+10</td>\n",
       "      <td>657945.621938</td>\n",
       "      <td>4.979058</td>\n",
       "    </tr>\n",
       "  </tbody>\n",
       "</table>\n",
       "<p>7917 rows × 66 columns</p>\n",
       "</div>"
      ],
      "text/plain": [
       "        1    x0            x1   x2         x3          x4   x5   x6  \\\n",
       "0     1.0  27.0  7.957453e+06  1.0  54.315053  170.428542  1.0  1.0   \n",
       "1     1.0  53.0  7.633003e+06  1.0  72.873404  165.530097  0.0  1.0   \n",
       "2     1.0  37.0  6.637625e+06  1.0  46.321533  154.599388  0.0  1.0   \n",
       "3     1.0  36.0  3.624871e+06  1.0  51.539781  167.340481  1.0  1.0   \n",
       "4     1.0  38.0  6.031808e+06  1.0  60.726909  165.514773  1.0  0.0   \n",
       "...   ...   ...           ...  ...        ...         ...  ...  ...   \n",
       "7912  1.0  32.0  6.024409e+06  1.0  44.432438  154.578859  0.0  1.0   \n",
       "7913  1.0  34.0  1.007043e+07  1.0  49.389914  158.782726  1.0  1.0   \n",
       "7914  1.0  58.0  8.010815e+06  1.0  54.351968  154.478087  1.0  1.0   \n",
       "7915  1.0  30.0  9.059906e+06  1.0  57.646930  163.377717  0.0  1.0   \n",
       "7916  1.0  58.0  1.769162e+07  1.0  81.036287  183.054150  1.0  1.0   \n",
       "\n",
       "                x7             x8  ...  x6^2         x6 x7          x6 x8  \\\n",
       "0     3.978726e+06  274394.922655  ...   1.0  3.978726e+06  274394.922655   \n",
       "1     3.816501e+06  138781.868273  ...   1.0  3.816501e+06  138781.868273   \n",
       "2     3.318812e+06  170195.509333  ...   1.0  3.318812e+06  170195.509333   \n",
       "3     1.812436e+06   95391.352395  ...   1.0  1.812436e+06   95391.352395   \n",
       "4     6.031808e+06  150795.188000  ...   0.0  0.000000e+00       0.000000   \n",
       "...            ...            ...  ...   ...           ...            ...   \n",
       "7912  3.012205e+06  177188.507294  ...   1.0  3.012205e+06  177188.507294   \n",
       "7913  5.035213e+06  279734.050278  ...   1.0  5.035213e+06  279734.050278   \n",
       "7914  4.005407e+06  133513.576900  ...   1.0  4.005407e+06  133513.576900   \n",
       "7915  4.529953e+06  283122.066844  ...   1.0  4.529953e+06  283122.066844   \n",
       "7916  8.845811e+06  294860.377000  ...   1.0  8.845811e+06  294860.377000   \n",
       "\n",
       "         x6 x9          x7^2         x7 x8         x7 x9          x8^2  \\\n",
       "0     3.081052  1.583026e+13  1.091742e+12  1.225866e+07  7.529257e+10   \n",
       "1     2.240727  1.456568e+13  5.296612e+11  8.551736e+06  1.926041e+10   \n",
       "2     3.266999  1.101452e+13  5.648470e+11  1.084256e+07  2.896651e+10   \n",
       "3     3.185024  3.284923e+12  1.728907e+11  5.772652e+06  9.099510e+09   \n",
       "4     0.000000  3.638270e+13  9.095675e+11  1.617371e+07  2.273919e+10   \n",
       "...        ...           ...           ...           ...           ...   \n",
       "7912  3.402390  9.073377e+12  5.337280e+11  1.024869e+07  3.139577e+10   \n",
       "7913  3.151082  2.535337e+13  1.408520e+12  1.586637e+07  7.825114e+10   \n",
       "7914  2.790833  1.604329e+13  5.347763e+11  1.117842e+07  1.782588e+10   \n",
       "7915  2.785785  2.052047e+13  1.282530e+12  1.261947e+07  8.015810e+10   \n",
       "7916  2.231380  7.824838e+13  2.608279e+12  1.973837e+07  8.694264e+10   \n",
       "\n",
       "              x8 x9       x9^2  \n",
       "0     845424.971029   9.492880  \n",
       "1     310972.216717   5.020855  \n",
       "2     556028.516448  10.673281  \n",
       "3     303823.779503  10.144380  \n",
       "4     404342.801896   7.189927  \n",
       "...             ...        ...  \n",
       "7912  602864.347402  11.576255  \n",
       "7913  881464.801678   9.929315  \n",
       "7914  372614.068162   7.788748  \n",
       "7915  788717.106917   7.760596  \n",
       "7916  657945.621938   4.979058  \n",
       "\n",
       "[7917 rows x 66 columns]"
      ]
     },
     "execution_count": 12,
     "metadata": {},
     "output_type": "execute_result"
    }
   ],
   "source": [
    "df_transform"
   ]
  },
  {
   "cell_type": "code",
   "execution_count": 13,
   "metadata": {
    "id": "vRzRT94K6jT1"
   },
   "outputs": [],
   "source": [
    "X = df.drop(['ever_stress'],1)\n",
    "y = df['ever_stress']"
   ]
  },
  {
   "cell_type": "markdown",
   "metadata": {
    "id": "6sNXuM-56jT1"
   },
   "source": [
    "# Train Test Split"
   ]
  },
  {
   "cell_type": "code",
   "execution_count": 14,
   "metadata": {
    "id": "wsKNKgpO6jT1"
   },
   "outputs": [],
   "source": [
    "from sklearn.model_selection import train_test_split\n",
    "X_train,X_test,y_train,y_test = train_test_split(X,y,test_size = 0.3,stratify=y,random_state = 123)"
   ]
  },
  {
   "cell_type": "code",
   "execution_count": 15,
   "metadata": {
    "id": "U2Mtc2LE6jT2",
    "outputId": "60dec644-a03a-41e7-c9d2-e243ed4608f1"
   },
   "outputs": [
    {
     "data": {
      "text/plain": [
       "1    3881\n",
       "0    1660\n",
       "Name: ever_stress, dtype: int64"
      ]
     },
     "execution_count": 15,
     "metadata": {},
     "output_type": "execute_result"
    }
   ],
   "source": [
    "y_train.value_counts()"
   ]
  },
  {
   "cell_type": "markdown",
   "metadata": {
    "id": "2P9PeLhEklzo"
   },
   "source": [
    "# Imbalanced Dataset"
   ]
  },
  {
   "cell_type": "code",
   "execution_count": 16,
   "metadata": {},
   "outputs": [
    {
     "name": "stdout",
     "output_type": "stream",
     "text": [
      "Collecting imblearn\n",
      "  Downloading imblearn-0.0-py2.py3-none-any.whl (1.9 kB)\n",
      "Collecting imbalanced-learn\n",
      "  Downloading imbalanced_learn-0.8.0-py3-none-any.whl (206 kB)\n",
      "\u001b[K     |████████████████████████████████| 206 kB 1.3 MB/s eta 0:00:01\n",
      "\u001b[?25hRequirement already satisfied: numpy>=1.13.3 in /Users/ahmadwaliradhi/opt/anaconda3/lib/python3.7/site-packages (from imbalanced-learn->imblearn) (1.19.5)\n",
      "Collecting scikit-learn>=0.24\n",
      "  Downloading scikit_learn-0.24.2-cp37-cp37m-macosx_10_13_x86_64.whl (7.2 MB)\n",
      "\u001b[K     |████████████████████████████████| 7.2 MB 286 kB/s eta 0:00:01\n",
      "\u001b[?25hRequirement already satisfied: joblib>=0.11 in /Users/ahmadwaliradhi/opt/anaconda3/lib/python3.7/site-packages (from imbalanced-learn->imblearn) (0.14.1)\n",
      "Requirement already satisfied: scipy>=0.19.1 in /Users/ahmadwaliradhi/opt/anaconda3/lib/python3.7/site-packages (from imbalanced-learn->imblearn) (1.4.1)\n",
      "Collecting threadpoolctl>=2.0.0\n",
      "  Downloading threadpoolctl-2.2.0-py3-none-any.whl (12 kB)\n",
      "Installing collected packages: threadpoolctl, scikit-learn, imbalanced-learn, imblearn\n",
      "  Attempting uninstall: scikit-learn\n",
      "    Found existing installation: scikit-learn 0.22.1\n",
      "    Uninstalling scikit-learn-0.22.1:\n",
      "      Successfully uninstalled scikit-learn-0.22.1\n",
      "Successfully installed imbalanced-learn-0.8.0 imblearn-0.0 scikit-learn-0.24.2 threadpoolctl-2.2.0\n",
      "Note: you may need to restart the kernel to use updated packages.\n"
     ]
    }
   ],
   "source": [
    "pip install imblearn"
   ]
  },
  {
   "cell_type": "code",
   "execution_count": 16,
   "metadata": {
    "ExecuteTime": {
     "end_time": "2020-08-30T05:04:12.387887Z",
     "start_time": "2020-08-30T05:04:12.364911Z"
    },
    "id": "27jzXFSLklzt"
   },
   "outputs": [],
   "source": [
    "from imblearn.under_sampling import RandomUnderSampler\n",
    "undersampling = RandomUnderSampler()\n",
    "X_under, y_under = undersampling.fit_resample(X_train,y_train)\n"
   ]
  },
  {
   "cell_type": "code",
   "execution_count": 17,
   "metadata": {
    "id": "cR1tFjuU6jT3"
   },
   "outputs": [],
   "source": [
    "from imblearn.over_sampling import RandomOverSampler\n",
    "oversampling = RandomOverSampler()\n",
    "X_over, y_over = oversampling.fit_resample(X_train,y_train)\n"
   ]
  },
  {
   "cell_type": "code",
   "execution_count": 18,
   "metadata": {
    "id": "uGL0BwMC6jT3"
   },
   "outputs": [],
   "source": [
    "X_dummy = pd.get_dummies(X_train)\n",
    "X_dummy = X_dummy.fillna(0)"
   ]
  },
  {
   "cell_type": "code",
   "execution_count": 19,
   "metadata": {
    "id": "9MsmCSYq6jT3"
   },
   "outputs": [],
   "source": [
    "from imblearn.over_sampling import SMOTE\n",
    "smote = SMOTE()\n",
    "X_smote, y_smote = smote.fit_resample(X_dummy,y_train)\n"
   ]
  },
  {
   "cell_type": "code",
   "execution_count": 20,
   "metadata": {
    "id": "nUqKQr006jT3",
    "outputId": "c49af456-a297-4ea0-8ae9-4a2e55e6ad0b"
   },
   "outputs": [
    {
     "data": {
      "text/plain": [
       "1    1660\n",
       "0    1660\n",
       "Name: ever_stress, dtype: int64"
      ]
     },
     "execution_count": 20,
     "metadata": {},
     "output_type": "execute_result"
    }
   ],
   "source": [
    "y_under.value_counts()"
   ]
  },
  {
   "cell_type": "code",
   "execution_count": 21,
   "metadata": {
    "id": "jpnnEGII6jT4",
    "outputId": "b0ff6fd3-563c-4d4a-f7a5-da362dc26113"
   },
   "outputs": [
    {
     "data": {
      "text/plain": [
       "1    3881\n",
       "0    3881\n",
       "Name: ever_stress, dtype: int64"
      ]
     },
     "execution_count": 21,
     "metadata": {},
     "output_type": "execute_result"
    }
   ],
   "source": [
    "y_over.value_counts()"
   ]
  },
  {
   "cell_type": "code",
   "execution_count": 22,
   "metadata": {
    "id": "Zf9qG1yn6jT4",
    "outputId": "902858b9-d67c-448b-e245-f8a683eb731e"
   },
   "outputs": [
    {
     "data": {
      "text/plain": [
       "1    3881\n",
       "0    3881\n",
       "Name: ever_stress, dtype: int64"
      ]
     },
     "execution_count": 22,
     "metadata": {},
     "output_type": "execute_result"
    }
   ],
   "source": [
    "y_smote.value_counts()"
   ]
  },
  {
   "cell_type": "markdown",
   "metadata": {
    "id": "QNC8o-Q69Muc"
   },
   "source": [
    "# Handling Text Data"
   ]
  },
  {
   "cell_type": "markdown",
   "metadata": {
    "id": "IpDPtNsAAakh"
   },
   "source": [
    "## Cleaning"
   ]
  },
  {
   "cell_type": "code",
   "execution_count": 23,
   "metadata": {
    "colab": {
     "base_uri": "https://localhost:8080/"
    },
    "id": "0bO8s7y_9Ris",
    "outputId": "e78ee132-0cbb-4001-8202-37e2a9cc0411"
   },
   "outputs": [
    {
     "name": "stderr",
     "output_type": "stream",
     "text": [
      "[nltk_data] Downloading package stopwords to\n",
      "[nltk_data]     /Users/ahmadwaliradhi/nltk_data...\n",
      "[nltk_data]   Unzipping corpora/stopwords.zip.\n",
      "[nltk_data] Downloading package punkt to\n",
      "[nltk_data]     /Users/ahmadwaliradhi/nltk_data...\n",
      "[nltk_data]   Unzipping tokenizers/punkt.zip.\n"
     ]
    },
    {
     "data": {
      "text/plain": [
       "True"
      ]
     },
     "execution_count": 23,
     "metadata": {},
     "output_type": "execute_result"
    }
   ],
   "source": [
    "import nltk\n",
    "nltk.download ('stopwords')\n",
    "nltk.download ('punkt')"
   ]
  },
  {
   "cell_type": "code",
   "execution_count": 24,
   "metadata": {
    "id": "sQIsi7DI9VYa"
   },
   "outputs": [
    {
     "name": "stdout",
     "output_type": "stream",
     "text": [
      "berikut ini adalah 5 negara dengan pendidikan terbaik di dunia adalah korea selatan, jepang, singapura, hong kong, dan finlandia.\n"
     ]
    }
   ],
   "source": [
    "kalimat = \"Berikut ini adalah 5 negara dengan pendidikan terbaik di dunia adalah Korea Selatan, Jepang, Singapura, Hong Kong, dan Finlandia.\"\n",
    "lower_case = kalimat.lower()\n",
    "print(lower_case)"
   ]
  },
  {
   "cell_type": "code",
   "execution_count": 25,
   "metadata": {
    "colab": {
     "base_uri": "https://localhost:8080/"
    },
    "id": "WieSRY4t90nS",
    "outputId": "fb923839-9224-4f39-c59d-6a2e1f7e4f21"
   },
   "outputs": [
    {
     "name": "stdout",
     "output_type": "stream",
     "text": [
      "Berikut ini adalah  negara dengan pendidikan terbaik di dunia adalah Korea Selatan, Jepang, Singapura, Hong Kong, dan Finlandia.\n"
     ]
    }
   ],
   "source": [
    "import re # impor modul regular expression\n",
    "kalimat = \"Berikut ini adalah 5 negara dengan pendidikan terbaik di dunia adalah Korea Selatan, Jepang, Singapura, Hong Kong, dan Finlandia.\"\n",
    "hasil = re.sub(r\"\\d+\", \"\", kalimat)\n",
    "print(hasil)"
   ]
  },
  {
   "cell_type": "code",
   "execution_count": 27,
   "metadata": {},
   "outputs": [
    {
     "name": "stdout",
     "output_type": "stream",
     "text": [
      "Collecting inflect\n",
      "  Downloading inflect-5.3.0-py3-none-any.whl (32 kB)\n",
      "Installing collected packages: inflect\n",
      "Successfully installed inflect-5.3.0\n",
      "Note: you may need to restart the kernel to use updated packages.\n"
     ]
    }
   ],
   "source": [
    "pip install inflect"
   ]
  },
  {
   "cell_type": "code",
   "execution_count": 28,
   "metadata": {
    "colab": {
     "base_uri": "https://localhost:8080/"
    },
    "id": "AKhbFvf29-_m",
    "outputId": "d19c6549-ba01-4fb3-d25f-8f7736bab5ad"
   },
   "outputs": [
    {
     "name": "stdout",
     "output_type": "stream",
     "text": [
      "i have three shoes and ten shirts\n"
     ]
    }
   ],
   "source": [
    "import inflect\n",
    "kalimat = \"i have 3 shoes and 10 shirts\"\n",
    "p = inflect.engine()\n",
    "hasil = []\n",
    "for i in kalimat.split():\n",
    "  if i.isnumeric():\n",
    "    i = p.number_to_words(i)\n",
    "  hasil.append(i)\n",
    "hasil = \" \".join(hasil)\n",
    "print(hasil)"
   ]
  },
  {
   "cell_type": "code",
   "execution_count": 29,
   "metadata": {
    "id": "NfICt_dr-A0u"
   },
   "outputs": [
    {
     "name": "stdout",
     "output_type": "stream",
     "text": [
      "Ini adalah contoh kalimat dengan tanda baca\n"
     ]
    }
   ],
   "source": [
    "import string\n",
    "kalimat = \"Ini &adalah [contoh] kalimat? {dengan} tanda. baca?!!\"\n",
    "hasil = kalimat.translate(str.maketrans(\"\",\"\",string.punctuation))\n",
    "print(hasil)"
   ]
  },
  {
   "cell_type": "code",
   "execution_count": 30,
   "metadata": {
    "colab": {
     "base_uri": "https://localhost:8080/"
    },
    "id": "DUsgSE7N_CE5",
    "outputId": "5e612306-b23a-41b3-ff68-96dbf2a4e5c9"
   },
   "outputs": [
    {
     "name": "stdout",
     "output_type": "stream",
     "text": [
      "halo @kawanku apa kabar? \n",
      "halo  apa kabar? #pertemanan\n"
     ]
    }
   ],
   "source": [
    "kalimat = \"halo @kawanku apa kabar? #pertemanan\"\n",
    "print(re.sub(\"#[A-Za-z0-9]+\",\"\",kalimat)) #tanpa hashtag\n",
    "print(re.sub(\"@[A-Za-z0-9]+\",\"\",kalimat)) #tanpa mention"
   ]
  },
  {
   "cell_type": "code",
   "execution_count": 31,
   "metadata": {
    "colab": {
     "base_uri": "https://localhost:8080/"
    },
    "id": "Rn5_ESzM_URy",
    "outputId": "674e5a9f-30b8-4746-b12e-0ce8bfe725e7"
   },
   "outputs": [
    {
     "name": "stdout",
     "output_type": "stream",
     "text": [
      "bisa cek disini  gan\n"
     ]
    }
   ],
   "source": [
    "kalimat = \"bisa cek disini http://www.google.com gan\"\n",
    "print(re.sub(r\"(?:\\@|http?\\://|https?\\://|www)\\S+\", \"\", kalimat)) #Remove http links"
   ]
  },
  {
   "cell_type": "code",
   "execution_count": 32,
   "metadata": {
    "id": "WFDwbSYW_AzW"
   },
   "outputs": [
    {
     "name": "stdout",
     "output_type": "stream",
     "text": [
      "ini kalimat contoh\n"
     ]
    }
   ],
   "source": [
    "kalimat = \" \\t ini kalimat contoh\\t \"\n",
    "hasil = kalimat.strip()\n",
    "print(hasil)"
   ]
  },
  {
   "cell_type": "markdown",
   "metadata": {
    "id": "ge1JhJ5eAcKK"
   },
   "source": [
    "## Tokenizing"
   ]
  },
  {
   "cell_type": "code",
   "execution_count": 33,
   "metadata": {
    "colab": {
     "base_uri": "https://localhost:8080/"
    },
    "id": "BiqJCs2IAdig",
    "outputId": "8b0cbcad-de24-4b7e-fdb8-acb3ffa10863"
   },
   "outputs": [
    {
     "name": "stdout",
     "output_type": "stream",
     "text": [
      "['rumah', 'idaman', 'adalah', 'rumah', 'yang', 'bersih']\n"
     ]
    }
   ],
   "source": [
    "kalimat = \"rumah idaman adalah rumah yang bersih\"\n",
    "pisah = kalimat.split()\n",
    "print(pisah)"
   ]
  },
  {
   "cell_type": "code",
   "execution_count": 34,
   "metadata": {
    "colab": {
     "base_uri": "https://localhost:8080/"
    },
    "id": "yIhhT8V8AeK8",
    "outputId": "cbbdf426-780f-4860-b762-88b14ace2e57"
   },
   "outputs": [
    {
     "name": "stdout",
     "output_type": "stream",
     "text": [
      "['Andi', 'kerap', 'melakukan', 'transaksi', 'rutin', 'secara', 'daring', 'atau', 'online', '.']\n"
     ]
    }
   ],
   "source": [
    "# import word_tokenize dari modul nltk\n",
    "from nltk.tokenize import word_tokenize \n",
    " \n",
    "kalimat = \"Andi kerap melakukan transaksi rutin secara daring atau online.\"\n",
    " \n",
    "tokens = nltk.tokenize.word_tokenize(kalimat)\n",
    "print(tokens)"
   ]
  },
  {
   "cell_type": "code",
   "execution_count": 35,
   "metadata": {
    "colab": {
     "base_uri": "https://localhost:8080/"
    },
    "id": "cLaGja1BA6N8",
    "outputId": "36f60f92-45c1-4295-af1a-c795de81ad78"
   },
   "outputs": [
    {
     "name": "stdout",
     "output_type": "stream",
     "text": [
      "['Andi kerap melakukan transaksi rutin secara daring atau online.', 'Menurut Andi belanja online lebih praktis & murah.']\n"
     ]
    }
   ],
   "source": [
    "# import sent_tokenize dari modul nltk\n",
    "from nltk.tokenize import sent_tokenize\n",
    "kalimat = \"Andi kerap melakukan transaksi rutin secara daring atau online. Menurut Andi belanja online lebih praktis & murah.\"\n",
    " \n",
    "tokens = nltk.tokenize.sent_tokenize(kalimat)\n",
    "print(tokens)"
   ]
  },
  {
   "cell_type": "code",
   "execution_count": 36,
   "metadata": {
    "colab": {
     "base_uri": "https://localhost:8080/"
    },
    "id": "1CHfge0oA7-X",
    "outputId": "65501158-e30a-4af9-d977-9ab533a101af"
   },
   "outputs": [
    {
     "name": "stdout",
     "output_type": "stream",
     "text": [
      "['andi', 'kerap', 'transaksi', 'rutin', 'daring', 'online', 'andi', 'belanja', 'online', 'praktis', 'murah']\n"
     ]
    }
   ],
   "source": [
    "from nltk.corpus import stopwords\n",
    " \n",
    "kalimat = \"Andi kerap melakukan transaksi rutin secara daring atau online. Menurut Andi belanja online lebih praktis & murah.\"\n",
    "kalimat = kalimat.translate(str.maketrans('','',string.punctuation)).lower()\n",
    " \n",
    "tokens = word_tokenize(kalimat)\n",
    "listStopword =  set(stopwords.words('indonesian'))\n",
    " \n",
    "removed = []\n",
    "for t in tokens:\n",
    "    if t not in listStopword:\n",
    "        removed.append(t)\n",
    " \n",
    "print(removed)\n"
   ]
  },
  {
   "cell_type": "code",
   "execution_count": 37,
   "metadata": {
    "colab": {
     "base_uri": "https://localhost:8080/"
    },
    "id": "nhCXPLo9BHg2",
    "outputId": "c54cd5c5-3ea8-4188-f0f5-a6cb0ea65231"
   },
   "outputs": [
    {
     "data": {
      "text/plain": [
       "['seterusnya',\n",
       " 'diantara',\n",
       " 'pula',\n",
       " 'serupa',\n",
       " 'diberi',\n",
       " 'siapakah',\n",
       " 'ditanya',\n",
       " 'setengah',\n",
       " 'menyangkut',\n",
       " 'kelihatannya']"
      ]
     },
     "execution_count": 37,
     "metadata": {},
     "output_type": "execute_result"
    }
   ],
   "source": [
    "list(listStopword)[10:20]"
   ]
  },
  {
   "cell_type": "code",
   "execution_count": 41,
   "metadata": {
    "id": "ZRjwuRX2Ccg2"
   },
   "outputs": [
    {
     "name": "stdout",
     "output_type": "stream",
     "text": [
      "Collecting Sastrawi\n",
      "  Downloading Sastrawi-1.0.1-py2.py3-none-any.whl (209 kB)\n",
      "\u001b[K     |████████████████████████████████| 209 kB 1.4 MB/s eta 0:00:01\n",
      "\u001b[?25hInstalling collected packages: Sastrawi\n",
      "Successfully installed Sastrawi-1.0.1\n",
      "Note: you may need to restart the kernel to use updated packages.\n"
     ]
    }
   ],
   "source": [
    "pip install Sastrawi"
   ]
  },
  {
   "cell_type": "code",
   "execution_count": 42,
   "metadata": {
    "colab": {
     "base_uri": "https://localhost:8080/"
    },
    "id": "d4QrZGL0BLpJ",
    "outputId": "e156bf9d-4383-463b-fcc8-bebfa68f811a"
   },
   "outputs": [
    {
     "name": "stdout",
     "output_type": "stream",
     "text": [
      "andi kerap laku transaksi rutin cara daring atau online turut andi belanja online lebih praktis murah\n"
     ]
    }
   ],
   "source": [
    "from Sastrawi.Stemmer.StemmerFactory import StemmerFactory\n",
    "factory = StemmerFactory()\n",
    "stemmer = factory.create_stemmer()\n",
    " \n",
    "kalimat = \"Andi kerap melakukan transaksi rutin secara daring atau online. Menurut Andi belanja online lebih praktis & murah.\"\n",
    "hasil = stemmer.stem(kalimat)\n",
    "print(hasil)"
   ]
  },
  {
   "cell_type": "markdown",
   "metadata": {
    "id": "RKVsDSvyCm7V"
   },
   "source": [
    "#Vectorization (Bag of Words and TF-IDF)"
   ]
  },
  {
   "cell_type": "code",
   "execution_count": 43,
   "metadata": {
    "id": "prJVw1QuCW5e"
   },
   "outputs": [],
   "source": [
    "dt = [\"We love dogs! :*\", \n",
    "      \"We hate dogs and knitting :(\", \n",
    "      \"Knitting is our hobby and passion :)\"]\n",
    "dt = pd.DataFrame(dt, columns = [\"text\"])"
   ]
  },
  {
   "cell_type": "code",
   "execution_count": 44,
   "metadata": {
    "colab": {
     "base_uri": "https://localhost:8080/",
     "height": 142
    },
    "id": "eWAva26ODHdb",
    "outputId": "945c6962-abc7-4188-9b15-f5fcd4ce0527"
   },
   "outputs": [
    {
     "data": {
      "text/html": [
       "<div>\n",
       "<style scoped>\n",
       "    .dataframe tbody tr th:only-of-type {\n",
       "        vertical-align: middle;\n",
       "    }\n",
       "\n",
       "    .dataframe tbody tr th {\n",
       "        vertical-align: top;\n",
       "    }\n",
       "\n",
       "    .dataframe thead th {\n",
       "        text-align: right;\n",
       "    }\n",
       "</style>\n",
       "<table border=\"1\" class=\"dataframe\">\n",
       "  <thead>\n",
       "    <tr style=\"text-align: right;\">\n",
       "      <th></th>\n",
       "      <th>text</th>\n",
       "    </tr>\n",
       "  </thead>\n",
       "  <tbody>\n",
       "    <tr>\n",
       "      <th>0</th>\n",
       "      <td>We love dogs! :*</td>\n",
       "    </tr>\n",
       "    <tr>\n",
       "      <th>1</th>\n",
       "      <td>We hate dogs and knitting :(</td>\n",
       "    </tr>\n",
       "    <tr>\n",
       "      <th>2</th>\n",
       "      <td>Knitting is our hobby and passion :)</td>\n",
       "    </tr>\n",
       "  </tbody>\n",
       "</table>\n",
       "</div>"
      ],
      "text/plain": [
       "                                   text\n",
       "0                      We love dogs! :*\n",
       "1          We hate dogs and knitting :(\n",
       "2  Knitting is our hobby and passion :)"
      ]
     },
     "execution_count": 44,
     "metadata": {},
     "output_type": "execute_result"
    }
   ],
   "source": [
    "dt"
   ]
  },
  {
   "cell_type": "code",
   "execution_count": 45,
   "metadata": {
    "colab": {
     "base_uri": "https://localhost:8080/"
    },
    "id": "0p1yUqGWDNzA",
    "outputId": "fc00840f-d44c-46af-ebad-acf760c968d9"
   },
   "outputs": [
    {
     "data": {
      "text/plain": [
       "0                            [we, love, dogs]\n",
       "1             [we, hate, dogs, and, knitting]\n",
       "2    [knitting, is, our, hobby, and, passion]\n",
       "Name: text, dtype: object"
      ]
     },
     "execution_count": 45,
     "metadata": {},
     "output_type": "execute_result"
    }
   ],
   "source": [
    "def cleaning_tokenizing(txt):\n",
    "  txt = txt.lower() # menjadi huruf kecil semua\n",
    "  txt = txt.translate(str.maketrans(\"\",\"\",string.punctuation)) #hapus symbol\n",
    "  txt = nltk.tokenize.word_tokenize(txt) # tokenize\n",
    "  return txt\n",
    "dt[\"text\"].apply(cleaning_tokenizing)"
   ]
  },
  {
   "cell_type": "code",
   "execution_count": 46,
   "metadata": {
    "colab": {
     "base_uri": "https://localhost:8080/",
     "height": 142
    },
    "id": "2t-FW_NpD5Hx",
    "outputId": "dba9fbb8-9c4b-4556-fd15-0e69324bd012"
   },
   "outputs": [
    {
     "data": {
      "text/html": [
       "<div>\n",
       "<style scoped>\n",
       "    .dataframe tbody tr th:only-of-type {\n",
       "        vertical-align: middle;\n",
       "    }\n",
       "\n",
       "    .dataframe tbody tr th {\n",
       "        vertical-align: top;\n",
       "    }\n",
       "\n",
       "    .dataframe thead th {\n",
       "        text-align: right;\n",
       "    }\n",
       "</style>\n",
       "<table border=\"1\" class=\"dataframe\">\n",
       "  <thead>\n",
       "    <tr style=\"text-align: right;\">\n",
       "      <th></th>\n",
       "      <th>and</th>\n",
       "      <th>dogs</th>\n",
       "      <th>hate</th>\n",
       "      <th>hobby</th>\n",
       "      <th>is</th>\n",
       "      <th>knitting</th>\n",
       "      <th>love</th>\n",
       "      <th>our</th>\n",
       "      <th>passion</th>\n",
       "      <th>we</th>\n",
       "    </tr>\n",
       "  </thead>\n",
       "  <tbody>\n",
       "    <tr>\n",
       "      <th>0</th>\n",
       "      <td>0</td>\n",
       "      <td>1</td>\n",
       "      <td>0</td>\n",
       "      <td>0</td>\n",
       "      <td>0</td>\n",
       "      <td>0</td>\n",
       "      <td>1</td>\n",
       "      <td>0</td>\n",
       "      <td>0</td>\n",
       "      <td>1</td>\n",
       "    </tr>\n",
       "    <tr>\n",
       "      <th>1</th>\n",
       "      <td>1</td>\n",
       "      <td>1</td>\n",
       "      <td>1</td>\n",
       "      <td>0</td>\n",
       "      <td>0</td>\n",
       "      <td>1</td>\n",
       "      <td>0</td>\n",
       "      <td>0</td>\n",
       "      <td>0</td>\n",
       "      <td>1</td>\n",
       "    </tr>\n",
       "    <tr>\n",
       "      <th>2</th>\n",
       "      <td>1</td>\n",
       "      <td>0</td>\n",
       "      <td>0</td>\n",
       "      <td>1</td>\n",
       "      <td>1</td>\n",
       "      <td>1</td>\n",
       "      <td>0</td>\n",
       "      <td>1</td>\n",
       "      <td>1</td>\n",
       "      <td>0</td>\n",
       "    </tr>\n",
       "  </tbody>\n",
       "</table>\n",
       "</div>"
      ],
      "text/plain": [
       "   and  dogs  hate  hobby  is  knitting  love  our  passion  we\n",
       "0    0     1     0      0   0         0     1    0        0   1\n",
       "1    1     1     1      0   0         1     0    0        0   1\n",
       "2    1     0     0      1   1         1     0    1        1   0"
      ]
     },
     "execution_count": 46,
     "metadata": {},
     "output_type": "execute_result"
    }
   ],
   "source": [
    "from sklearn.feature_extraction.text import CountVectorizer\n",
    "cv = CountVectorizer()\n",
    "text_counts= cv.fit_transform(dt[\"text\"])\n",
    "pd.DataFrame(text_counts.toarray(), columns = cv.get_feature_names())"
   ]
  },
  {
   "cell_type": "code",
   "execution_count": 47,
   "metadata": {
    "colab": {
     "base_uri": "https://localhost:8080/",
     "height": 142
    },
    "id": "hOGqRgVQF-YW",
    "outputId": "1bce55c1-b228-4734-d5ac-7389a86931f8"
   },
   "outputs": [
    {
     "data": {
      "text/html": [
       "<div>\n",
       "<style scoped>\n",
       "    .dataframe tbody tr th:only-of-type {\n",
       "        vertical-align: middle;\n",
       "    }\n",
       "\n",
       "    .dataframe tbody tr th {\n",
       "        vertical-align: top;\n",
       "    }\n",
       "\n",
       "    .dataframe thead th {\n",
       "        text-align: right;\n",
       "    }\n",
       "</style>\n",
       "<table border=\"1\" class=\"dataframe\">\n",
       "  <thead>\n",
       "    <tr style=\"text-align: right;\">\n",
       "      <th></th>\n",
       "      <th>and</th>\n",
       "      <th>dogs</th>\n",
       "      <th>hate</th>\n",
       "      <th>hobby</th>\n",
       "      <th>is</th>\n",
       "      <th>knitting</th>\n",
       "      <th>love</th>\n",
       "      <th>our</th>\n",
       "      <th>passion</th>\n",
       "      <th>we</th>\n",
       "    </tr>\n",
       "  </thead>\n",
       "  <tbody>\n",
       "    <tr>\n",
       "      <th>0</th>\n",
       "      <td>0.000000</td>\n",
       "      <td>0.517856</td>\n",
       "      <td>0.000000</td>\n",
       "      <td>0.000000</td>\n",
       "      <td>0.000000</td>\n",
       "      <td>0.000000</td>\n",
       "      <td>0.680919</td>\n",
       "      <td>0.000000</td>\n",
       "      <td>0.000000</td>\n",
       "      <td>0.517856</td>\n",
       "    </tr>\n",
       "    <tr>\n",
       "      <th>1</th>\n",
       "      <td>0.417796</td>\n",
       "      <td>0.417796</td>\n",
       "      <td>0.549351</td>\n",
       "      <td>0.000000</td>\n",
       "      <td>0.000000</td>\n",
       "      <td>0.417796</td>\n",
       "      <td>0.000000</td>\n",
       "      <td>0.000000</td>\n",
       "      <td>0.000000</td>\n",
       "      <td>0.417796</td>\n",
       "    </tr>\n",
       "    <tr>\n",
       "      <th>2</th>\n",
       "      <td>0.334907</td>\n",
       "      <td>0.000000</td>\n",
       "      <td>0.000000</td>\n",
       "      <td>0.440362</td>\n",
       "      <td>0.440362</td>\n",
       "      <td>0.334907</td>\n",
       "      <td>0.000000</td>\n",
       "      <td>0.440362</td>\n",
       "      <td>0.440362</td>\n",
       "      <td>0.000000</td>\n",
       "    </tr>\n",
       "  </tbody>\n",
       "</table>\n",
       "</div>"
      ],
      "text/plain": [
       "        and      dogs      hate     hobby        is  knitting      love  \\\n",
       "0  0.000000  0.517856  0.000000  0.000000  0.000000  0.000000  0.680919   \n",
       "1  0.417796  0.417796  0.549351  0.000000  0.000000  0.417796  0.000000   \n",
       "2  0.334907  0.000000  0.000000  0.440362  0.440362  0.334907  0.000000   \n",
       "\n",
       "        our   passion        we  \n",
       "0  0.000000  0.000000  0.517856  \n",
       "1  0.000000  0.000000  0.417796  \n",
       "2  0.440362  0.440362  0.000000  "
      ]
     },
     "execution_count": 47,
     "metadata": {},
     "output_type": "execute_result"
    }
   ],
   "source": [
    "from sklearn.feature_extraction.text import TfidfVectorizer\n",
    "cv = TfidfVectorizer()\n",
    "text_counts= cv.fit_transform(dt[\"text\"])\n",
    "pd.DataFrame(text_counts.toarray(), columns = cv.get_feature_names())"
   ]
  },
  {
   "cell_type": "code",
   "execution_count": null,
   "metadata": {
    "id": "Y9SU2oDLGkf1"
   },
   "outputs": [],
   "source": []
  }
 ],
 "metadata": {
  "colab": {
   "collapsed_sections": [],
   "name": "[Colab] 29th Session - Advanced Data Preprocessing for ML (python) - June 19th, 2021",
   "provenance": []
  },
  "kernelspec": {
   "display_name": "Python 3",
   "language": "python",
   "name": "python3"
  },
  "language_info": {
   "codemirror_mode": {
    "name": "ipython",
    "version": 3
   },
   "file_extension": ".py",
   "mimetype": "text/x-python",
   "name": "python",
   "nbconvert_exporter": "python",
   "pygments_lexer": "ipython3",
   "version": "3.8.5"
  }
 },
 "nbformat": 4,
 "nbformat_minor": 1
}
