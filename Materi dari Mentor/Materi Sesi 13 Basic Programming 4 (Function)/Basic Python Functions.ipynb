{
 "cells": [
  {
   "cell_type": "markdown",
   "metadata": {},
   "source": [
    "## Python functions"
   ]
  },
  {
   "cell_type": "markdown",
   "metadata": {},
   "source": [
    "<img src='img_notebook3/python.png'>"
   ]
  },
  {
   "cell_type": "markdown",
   "metadata": {},
   "source": [
    "<center>Basic Python 2: Array</center>"
   ]
  },
  {
   "cell_type": "markdown",
   "metadata": {},
   "source": [
    "Overview: \n",
    " - python functions\n",
    " - math functions\n",
    " - string functions\n",
    " - time functions"
   ]
  },
  {
   "cell_type": "markdown",
   "metadata": {},
   "source": [
    "### Python functions"
   ]
  },
  {
   "cell_type": "markdown",
   "metadata": {},
   "source": [
    "Dalam suatu kode, terkadang syntax yang sama diperlukan dan digunakan secara berulang-ulang. Hal ini menyebabkan inefisiensi dan efektifitas kode jadi berkurang. "
   ]
  },
  {
   "cell_type": "code",
   "execution_count": 1,
   "metadata": {},
   "outputs": [
    {
     "name": "stdout",
     "output_type": "stream",
     "text": [
      "x adalah bilangan genap\n"
     ]
    }
   ],
   "source": [
    "### penggunaan conditional statement beberapa kali untuk mengecek angka ganjil/genap\n",
    "x = 10\n",
    "if x % 2 == 0:\n",
    "    print(\"x adalah bilangan genap\")\n",
    "else:\n",
    "    print(\"x adalah bilangan ganjil\")"
   ]
  },
  {
   "cell_type": "code",
   "execution_count": 2,
   "metadata": {},
   "outputs": [
    {
     "name": "stdout",
     "output_type": "stream",
     "text": [
      "x adalah bilangan ganjil\n"
     ]
    }
   ],
   "source": [
    "### penggunaan conditional statement beberapa kali untuk mengecek angka ganjil/genap\n",
    "x = 29\n",
    "if x % 2 == 0:\n",
    "    print(\"x adalah bilangan genap\")\n",
    "else:\n",
    "    print(\"x adalah bilangan ganjil\")"
   ]
  },
  {
   "cell_type": "code",
   "execution_count": 4,
   "metadata": {},
   "outputs": [
    {
     "name": "stdout",
     "output_type": "stream",
     "text": [
      "y adalah bilangan ganjil\n"
     ]
    }
   ],
   "source": [
    "y = 15\n",
    "if y % 2 == 0:\n",
    "    print(\"y adalah bilangan genap\")\n",
    "else:\n",
    "    print(\"y adalah bilangan ganjil\")"
   ]
  },
  {
   "cell_type": "markdown",
   "metadata": {},
   "source": [
    "Function merupakan program terpisah dalam blok sendiri yang bertugas sebagai sub-program atau modul program untuk memproses sebagian dari pekerjaan program utama. Function bisa dianalogikan sebagai cetakan yang bisa digunakan secara berulang-ulang untuk mendapatkan 'bentuk' yang sama."
   ]
  },
  {
   "cell_type": "markdown",
   "metadata": {},
   "source": [
    "<img src=\"img_notebook3/function.jpg\">"
   ]
  },
  {
   "cell_type": "markdown",
   "metadata": {},
   "source": [
    "Syntax untuk membuat function dalam bahasa python adalah sebagai berikut:\n",
    "<img src=\"img_notebook3/functions_example.png\">\n",
    "<br>\n",
    "functions selalu diawali dengan <i>keyword</i> def, lalu diikuti dengan nama fungsinya dan parameter-parameter yang diperlukan. argumen merupakan nilai yang dilempar kepada fungsi untuk diproses melalui baris kode di dalam fungsi tersebut. selanjutnya fungsi akan mengembalikan hasil pemrosesan tersebut melalui statement **return**.\n",
    "<br>"
   ]
  },
  {
   "cell_type": "markdown",
   "metadata": {},
   "source": [
    "gambar berikut menjelaskan perbedaan argumen dan parameter dalam python <img src='img_notebook3/param.png'>"
   ]
  },
  {
   "cell_type": "code",
   "execution_count": 3,
   "metadata": {},
   "outputs": [],
   "source": [
    "# contoh fungsi menampilkan ganjil/genap\n",
    "def odd_even(x):\n",
    "    if x % 2 == 0:\n",
    "        print(\"x adalah bilangan genap\")\n",
    "    else:\n",
    "        print(\"x adalah bilangan ganjil\")"
   ]
  },
  {
   "cell_type": "markdown",
   "metadata": {},
   "source": [
    "fungsi yang telah dibuat bisa dipanggil dengan memanggil namanya dan variabel/nilai yang akan dilemparkan sebagai parameter"
   ]
  },
  {
   "cell_type": "code",
   "execution_count": 4,
   "metadata": {},
   "outputs": [
    {
     "name": "stdout",
     "output_type": "stream",
     "text": [
      "x adalah bilangan ganjil\n"
     ]
    }
   ],
   "source": [
    "odd_even(3)"
   ]
  },
  {
   "cell_type": "code",
   "execution_count": 5,
   "metadata": {},
   "outputs": [
    {
     "name": "stdout",
     "output_type": "stream",
     "text": [
      "x adalah bilangan genap\n"
     ]
    }
   ],
   "source": [
    "odd_even(8)"
   ]
  },
  {
   "cell_type": "code",
   "execution_count": 13,
   "metadata": {},
   "outputs": [
    {
     "name": "stdout",
     "output_type": "stream",
     "text": [
      "x adalah bilangan ganjil\n",
      "None\n",
      "<class 'NoneType'>\n"
     ]
    }
   ],
   "source": [
    "i = odd_even(9)\n",
    "print(i)\n",
    "print(type(i))"
   ]
  },
  {
   "cell_type": "code",
   "execution_count": 10,
   "metadata": {},
   "outputs": [],
   "source": [
    "# contoh fungsi untuk menghitung pangkat 3 dari suatu bilangan\n",
    "\n",
    "def cube(x):\n",
    "    value = x **3\n",
    "    return value"
   ]
  },
  {
   "cell_type": "code",
   "execution_count": 14,
   "metadata": {},
   "outputs": [
    {
     "name": "stdout",
     "output_type": "stream",
     "text": [
      "27\n",
      "<class 'int'>\n"
     ]
    }
   ],
   "source": [
    "tigapangkattiga = cube(3)\n",
    "print(tigapangkattiga)\n",
    "print(type(tigapangkattiga))"
   ]
  },
  {
   "cell_type": "code",
   "execution_count": 16,
   "metadata": {},
   "outputs": [
    {
     "ename": "TypeError",
     "evalue": "unsupported operand type(s) for *: 'int' and 'NoneType'",
     "output_type": "error",
     "traceback": [
      "\u001b[0;31m---------------------------------------------------------------------------\u001b[0m",
      "\u001b[0;31mTypeError\u001b[0m                                 Traceback (most recent call last)",
      "\u001b[0;32m<ipython-input-16-6ee384ba0470>\u001b[0m in \u001b[0;36m<module>\u001b[0;34m\u001b[0m\n\u001b[0;32m----> 1\u001b[0;31m \u001b[0mj\u001b[0m \u001b[0;34m=\u001b[0m \u001b[0;36m3\u001b[0m \u001b[0;34m*\u001b[0m \u001b[0mi\u001b[0m\u001b[0;34m\u001b[0m\u001b[0;34m\u001b[0m\u001b[0m\n\u001b[0m\u001b[1;32m      2\u001b[0m \u001b[0;34m\u001b[0m\u001b[0m\n\u001b[1;32m      3\u001b[0m \u001b[0mprint\u001b[0m\u001b[0;34m(\u001b[0m\u001b[0mj\u001b[0m\u001b[0;34m)\u001b[0m\u001b[0;34m\u001b[0m\u001b[0;34m\u001b[0m\u001b[0m\n",
      "\u001b[0;31mTypeError\u001b[0m: unsupported operand type(s) for *: 'int' and 'NoneType'"
     ]
    }
   ],
   "source": [
    "j = 3 * i\n",
    "\n",
    "print(j)"
   ]
  },
  {
   "cell_type": "markdown",
   "metadata": {},
   "source": [
    "fungsi juga bisa memiliki beberapa parameter. dalam pemanggilannya, jumlah argumen ataupun parameter harus sama"
   ]
  },
  {
   "cell_type": "code",
   "execution_count": 20,
   "metadata": {},
   "outputs": [
    {
     "name": "stdout",
     "output_type": "stream",
     "text": [
      "6\n"
     ]
    }
   ],
   "source": [
    "# fungsi dengan dua parameter, untuk mengalikan dua bilangan\n",
    "def kali(a, b):\n",
    "    return a * b\n",
    "\n",
    "print(kali(2, 3))"
   ]
  },
  {
   "cell_type": "markdown",
   "metadata": {},
   "source": [
    "dalam pembuatan fungsi, programmer juga bisa menambahkan nilai default untuk suatu parameter. nilai ini akan digunakan dalam fungsi jika dalam pemanggilan fungsi tidak ada argumen yang dilempar. untuk menambahkan nilai default bisa dilakukan dengan cara menambahkan nilai disamping suatu parameter"
   ]
  },
  {
   "cell_type": "code",
   "execution_count": 21,
   "metadata": {},
   "outputs": [],
   "source": [
    "#fungsi dengan nilai parameter default\n",
    "def tambah(j, k = 1):\n",
    "    return j + k"
   ]
  },
  {
   "cell_type": "code",
   "execution_count": 22,
   "metadata": {},
   "outputs": [
    {
     "data": {
      "text/plain": [
       "2"
      ]
     },
     "execution_count": 22,
     "metadata": {},
     "output_type": "execute_result"
    }
   ],
   "source": [
    "tambah(1)"
   ]
  },
  {
   "cell_type": "code",
   "execution_count": 23,
   "metadata": {},
   "outputs": [
    {
     "data": {
      "text/plain": [
       "3"
      ]
     },
     "execution_count": 23,
     "metadata": {},
     "output_type": "execute_result"
    }
   ],
   "source": [
    "tambah(1,2)"
   ]
  },
  {
   "cell_type": "code",
   "execution_count": 24,
   "metadata": {},
   "outputs": [
    {
     "ename": "SyntaxError",
     "evalue": "invalid syntax (<ipython-input-24-381e491ba72d>, line 1)",
     "output_type": "error",
     "traceback": [
      "\u001b[0;36m  File \u001b[0;32m\"<ipython-input-24-381e491ba72d>\"\u001b[0;36m, line \u001b[0;32m1\u001b[0m\n\u001b[0;31m    tambah(,2)\u001b[0m\n\u001b[0m           ^\u001b[0m\n\u001b[0;31mSyntaxError\u001b[0m\u001b[0;31m:\u001b[0m invalid syntax\n"
     ]
    }
   ],
   "source": [
    "tambah(,2)"
   ]
  },
  {
   "cell_type": "code",
   "execution_count": 25,
   "metadata": {},
   "outputs": [
    {
     "ename": "SyntaxError",
     "evalue": "non-default argument follows default argument (<ipython-input-25-7b70cd9e46f0>, line 1)",
     "output_type": "error",
     "traceback": [
      "\u001b[0;36m  File \u001b[0;32m\"<ipython-input-25-7b70cd9e46f0>\"\u001b[0;36m, line \u001b[0;32m1\u001b[0m\n\u001b[0;31m    def tambah(j= 1, k):\u001b[0m\n\u001b[0m              ^\u001b[0m\n\u001b[0;31mSyntaxError\u001b[0m\u001b[0;31m:\u001b[0m non-default argument follows default argument\n"
     ]
    }
   ],
   "source": [
    "def tambah(j= 1, k):\n",
    "    return j + k\n",
    "\n",
    "tambah(2)"
   ]
  },
  {
   "cell_type": "markdown",
   "metadata": {},
   "source": [
    "fungsi dalam python juga bisa dituliskan tanpa menggunakan statement return. dalam case seperti ini, fungsi tidak akan mengembalikan nilai apapun karena segala operasinya hanya bersifat lokal"
   ]
  },
  {
   "cell_type": "code",
   "execution_count": 26,
   "metadata": {},
   "outputs": [],
   "source": [
    "# fungsi tanpa nilai return\n",
    "def print_name(name):\n",
    "    print(\"Hello {0}\".format(name))"
   ]
  },
  {
   "cell_type": "code",
   "execution_count": 27,
   "metadata": {},
   "outputs": [
    {
     "name": "stdout",
     "output_type": "stream",
     "text": [
      "Hello Wali\n"
     ]
    }
   ],
   "source": [
    "print_name('Wali')"
   ]
  },
  {
   "cell_type": "markdown",
   "metadata": {},
   "source": [
    "#### scope variable dalam python functions"
   ]
  },
  {
   "cell_type": "markdown",
   "metadata": {},
   "source": [
    "dalam pembuatan function menggunakan bahasa python, variabel yang ada di dalamnya bersifat lokal. variabel-variabel ini tidak bisa diakses oleh code apapun dari luar function. istilah dikenal sebagai global/local namespace variabel. "
   ]
  },
  {
   "cell_type": "markdown",
   "metadata": {},
   "source": [
    "<img src='img_notebook3/python-namespace-example.png'>"
   ]
  },
  {
   "cell_type": "code",
   "execution_count": 33,
   "metadata": {},
   "outputs": [
    {
     "name": "stdout",
     "output_type": "stream",
     "text": [
      "10\n"
     ]
    },
    {
     "ename": "NameError",
     "evalue": "name 'local_x' is not defined",
     "output_type": "error",
     "traceback": [
      "\u001b[0;31m---------------------------------------------------------------------------\u001b[0m",
      "\u001b[0;31mNameError\u001b[0m                                 Traceback (most recent call last)",
      "\u001b[0;32m<ipython-input-33-81022593d29a>\u001b[0m in \u001b[0;36m<module>\u001b[0;34m\u001b[0m\n\u001b[1;32m      9\u001b[0m \u001b[0;34m\u001b[0m\u001b[0m\n\u001b[1;32m     10\u001b[0m \u001b[0mprint\u001b[0m\u001b[0;34m(\u001b[0m\u001b[0mglobal_x\u001b[0m\u001b[0;34m)\u001b[0m\u001b[0;34m\u001b[0m\u001b[0;34m\u001b[0m\u001b[0m\n\u001b[0;32m---> 11\u001b[0;31m \u001b[0mprint\u001b[0m\u001b[0;34m(\u001b[0m\u001b[0mlocal_x\u001b[0m\u001b[0;34m)\u001b[0m\u001b[0;34m\u001b[0m\u001b[0;34m\u001b[0m\u001b[0m\n\u001b[0m",
      "\u001b[0;31mNameError\u001b[0m: name 'local_x' is not defined"
     ]
    }
   ],
   "source": [
    "# contoh namespacing variabel di dalam python\n",
    "\n",
    "global_x = 10\n",
    "\n",
    "def multiplication(local_x, z):\n",
    "    print(global_x)\n",
    "    print(local_x)\n",
    "    return local_x * z\n",
    "\n",
    "print(global_x)\n",
    "print(local_x)"
   ]
  },
  {
   "cell_type": "code",
   "execution_count": 34,
   "metadata": {},
   "outputs": [
    {
     "name": "stdout",
     "output_type": "stream",
     "text": [
      "10\n",
      "1\n",
      "2\n"
     ]
    },
    {
     "ename": "NameError",
     "evalue": "name 'local_x' is not defined",
     "output_type": "error",
     "traceback": [
      "\u001b[0;31m---------------------------------------------------------------------------\u001b[0m",
      "\u001b[0;31mNameError\u001b[0m                                 Traceback (most recent call last)",
      "\u001b[0;32m<ipython-input-34-2e405bb644c8>\u001b[0m in \u001b[0;36m<module>\u001b[0;34m\u001b[0m\n\u001b[1;32m      1\u001b[0m \u001b[0mprint\u001b[0m\u001b[0;34m(\u001b[0m\u001b[0mmultiplication\u001b[0m\u001b[0;34m(\u001b[0m\u001b[0;36m1\u001b[0m\u001b[0;34m,\u001b[0m\u001b[0;36m2\u001b[0m\u001b[0;34m)\u001b[0m\u001b[0;34m)\u001b[0m\u001b[0;34m\u001b[0m\u001b[0;34m\u001b[0m\u001b[0m\n\u001b[0;32m----> 2\u001b[0;31m \u001b[0mprint\u001b[0m\u001b[0;34m(\u001b[0m\u001b[0mlocal_x\u001b[0m\u001b[0;34m)\u001b[0m\u001b[0;34m\u001b[0m\u001b[0;34m\u001b[0m\u001b[0m\n\u001b[0m",
      "\u001b[0;31mNameError\u001b[0m: name 'local_x' is not defined"
     ]
    }
   ],
   "source": [
    "print(multiplication(1,2))\n",
    "print(local_x)"
   ]
  },
  {
   "cell_type": "code",
   "execution_count": 35,
   "metadata": {},
   "outputs": [
    {
     "ename": "NameError",
     "evalue": "name 'z' is not defined",
     "output_type": "error",
     "traceback": [
      "\u001b[0;31m---------------------------------------------------------------------------\u001b[0m",
      "\u001b[0;31mNameError\u001b[0m                                 Traceback (most recent call last)",
      "\u001b[0;32m<ipython-input-35-c01ac3f50fdc>\u001b[0m in \u001b[0;36m<module>\u001b[0;34m\u001b[0m\n\u001b[0;32m----> 1\u001b[0;31m \u001b[0mprint\u001b[0m\u001b[0;34m(\u001b[0m\u001b[0mz\u001b[0m\u001b[0;34m)\u001b[0m\u001b[0;34m\u001b[0m\u001b[0;34m\u001b[0m\u001b[0m\n\u001b[0m",
      "\u001b[0;31mNameError\u001b[0m: name 'z' is not defined"
     ]
    }
   ],
   "source": [
    "print(z)"
   ]
  },
  {
   "cell_type": "markdown",
   "metadata": {},
   "source": [
    "### Python Library"
   ]
  },
  {
   "cell_type": "markdown",
   "metadata": {},
   "source": [
    "Library merupakan merupakan sekumpulan kode yang memiliki fungsi-fungsi tertentu dan dapat dipanggil kedalam program lain. Library dibuat untuk mempermudah dalam membangun sebuah aplikasi. Denga library programer tidak harus membangun kode dari awal untuk suatu fungsi tertentu."
   ]
  },
  {
   "cell_type": "markdown",
   "metadata": {},
   "source": [
    "<img src=\"img_notebook3/libraries.png\">"
   ]
  },
  {
   "cell_type": "markdown",
   "metadata": {},
   "source": [
    "### menggunakan library dalam python"
   ]
  },
  {
   "cell_type": "markdown",
   "metadata": {},
   "source": [
    "untuk menggunakan suatu library dalam bahasa python, diperlukan syntax untuk mengimport library tersebut ke dalam 'workspace' kita. syntax yang digunakan adalah **import**"
   ]
  },
  {
   "cell_type": "code",
   "execution_count": 40,
   "metadata": {},
   "outputs": [],
   "source": [
    "import math\n",
    "import datetime"
   ]
  },
  {
   "cell_type": "markdown",
   "metadata": {},
   "source": [
    "### string dalam python"
   ]
  },
  {
   "cell_type": "markdown",
   "metadata": {},
   "source": [
    "dalam bahasa python, string merupakan representasi dari list of characters yang merepresentasikan nilai alphanumeric. tipe data string Python bisa diproses sebagai array dari karakter, sehingga operasi-operasi yang bisa dilakukan ke tipe data array/list, bisa juga diaplikasikan ke tipe data string."
   ]
  },
  {
   "cell_type": "code",
   "execution_count": 41,
   "metadata": {},
   "outputs": [
    {
     "name": "stdout",
     "output_type": "stream",
     "text": [
      "i\n"
     ]
    }
   ],
   "source": [
    "### membuat string dan mengakses elemennya\n",
    "string1 = \"Hari ini hari Sabtu\"\n",
    "print(string1[5])"
   ]
  },
  {
   "cell_type": "code",
   "execution_count": 42,
   "metadata": {},
   "outputs": [
    {
     "name": "stdout",
     "output_type": "stream",
     "text": [
      "19\n"
     ]
    }
   ],
   "source": [
    "### mendapatkan panjang string\n",
    "print(len(string1))"
   ]
  },
  {
   "cell_type": "markdown",
   "metadata": {},
   "source": [
    "#### str processing"
   ]
  },
  {
   "cell_type": "markdown",
   "metadata": {},
   "source": [
    "library string merupakan library yang digunakan untuk melakukan operasi string"
   ]
  },
  {
   "cell_type": "markdown",
   "metadata": {},
   "source": [
    "#### lower"
   ]
  },
  {
   "cell_type": "markdown",
   "metadata": {},
   "source": [
    "untuk mengubah suatu string ke dalam huruf non kapital, bisa dilakukan dengan cara memanggil fungsi (method) lower dari string tersebut"
   ]
  },
  {
   "cell_type": "code",
   "execution_count": 43,
   "metadata": {},
   "outputs": [
    {
     "name": "stdout",
     "output_type": "stream",
     "text": [
      "hari ini hari sabtu\n"
     ]
    }
   ],
   "source": [
    "# menampilkan string dalam huruf kecil\n",
    "print(string1.lower())"
   ]
  },
  {
   "cell_type": "markdown",
   "metadata": {},
   "source": [
    "##### split "
   ]
  },
  {
   "cell_type": "markdown",
   "metadata": {},
   "source": [
    "split merupakan fungsi yang digunakan untuk memecah string menjadi beberapa bagian, sesuai dengan pemisahnya. fungsi akan menghasilkan array of string."
   ]
  },
  {
   "cell_type": "code",
   "execution_count": 45,
   "metadata": {},
   "outputs": [],
   "source": [
    "string1.split?"
   ]
  },
  {
   "cell_type": "code",
   "execution_count": 48,
   "metadata": {},
   "outputs": [
    {
     "name": "stdout",
     "output_type": "stream",
     "text": [
      "['Hari', 'ini', 'hari', 'Sabtu']\n"
     ]
    }
   ],
   "source": [
    "### split string\n",
    "\n",
    "print(string1.split(\" \"))"
   ]
  },
  {
   "cell_type": "markdown",
   "metadata": {},
   "source": [
    "##### strip"
   ]
  },
  {
   "cell_type": "markdown",
   "metadata": {},
   "source": [
    "strip merupakan fungsi untuk menghapus whitespaces dari suatu string. fungsi ini digunakan untuk sebagai step untuk membersihkan data. "
   ]
  },
  {
   "cell_type": "code",
   "execution_count": 51,
   "metadata": {},
   "outputs": [
    {
     "name": "stdout",
     "output_type": "stream",
     "text": [
      "Panjang String (Sebelum): 19\n",
      "Besok hari Minggu\n",
      "Panjang String (Setelah): 17\n"
     ]
    }
   ],
   "source": [
    "### strip\n",
    "string2 = \" Besok hari Minggu \"\n",
    "print(\"Panjang String (Sebelum): {0}\".format(len(string2)))\n",
    "print(string2.strip())\n",
    "print(\"Panjang String (Setelah): {0}\".format(len(string2.strip())))"
   ]
  },
  {
   "cell_type": "markdown",
   "metadata": {},
   "source": [
    "#### join"
   ]
  },
  {
   "cell_type": "markdown",
   "metadata": {},
   "source": [
    "fungsi join merupakan fungsi yang digunakan untuk menggabungkan beberapa string ke dalam suatu string dengan separator. penulisannya cukup unik karena kita memanggil fungsi join setelah menuliskan separatornya"
   ]
  },
  {
   "cell_type": "code",
   "execution_count": 58,
   "metadata": {},
   "outputs": [
    {
     "name": "stdout",
     "output_type": "stream",
     "text": [
      "abcd\n",
      "a b c d\n"
     ]
    }
   ],
   "source": [
    "### contoh menggabungkan nilai dalam list dengan fungsi join\n",
    "\n",
    "List1 = ['a', 'b', 'c', 'd']\n",
    "print(\"\".join(List1))\n",
    "print(\" \".join(List1))"
   ]
  },
  {
   "cell_type": "markdown",
   "metadata": {},
   "source": [
    "##### isalnum"
   ]
  },
  {
   "cell_type": "markdown",
   "metadata": {},
   "source": [
    "isalnum merupakan function untuk mengecek apakah seluruh karakter dari string merupakan alpha numeric (angka dan alfabet)"
   ]
  },
  {
   "cell_type": "code",
   "execution_count": 60,
   "metadata": {},
   "outputs": [
    {
     "name": "stdout",
     "output_type": "stream",
     "text": [
      "False\n",
      "True\n"
     ]
    }
   ],
   "source": [
    "### isalnum\n",
    "virus = \"Covid-19\"\n",
    "pandemic = \"Covid19\"\n",
    "print(virus.isalnum())\n",
    "print(pandemic.isalnum())"
   ]
  },
  {
   "cell_type": "markdown",
   "metadata": {},
   "source": [
    "##### isdigit"
   ]
  },
  {
   "cell_type": "markdown",
   "metadata": {},
   "source": [
    "isdigit merupakan function untuk mengecek apakah seluruh karakter dari string merupakan digit"
   ]
  },
  {
   "cell_type": "code",
   "execution_count": 62,
   "metadata": {},
   "outputs": [
    {
     "name": "stdout",
     "output_type": "stream",
     "text": [
      "True\n",
      "False\n"
     ]
    }
   ],
   "source": [
    "### isdigit\n",
    "number = \"085710964111\"\n",
    "nums = \"08237fsa\"\n",
    "print(number.isdigit())\n",
    "print(nums.isdigit())"
   ]
  },
  {
   "cell_type": "markdown",
   "metadata": {},
   "source": [
    "### math library"
   ]
  },
  {
   "cell_type": "markdown",
   "metadata": {},
   "source": [
    "library math merupakan library yang digunakan untuk melakukan operasi matematika yang lebih kompleks, seperti akar, logaritma, pangkat, dsb. sebagian besar fungsi akan mengembalikan nilai dengan tipe data float"
   ]
  },
  {
   "cell_type": "markdown",
   "metadata": {},
   "source": [
    "#### log"
   ]
  },
  {
   "cell_type": "markdown",
   "metadata": {},
   "source": [
    "fungsi log dalam python digunakan untuk operasi logaritma natural suatu nilai"
   ]
  },
  {
   "cell_type": "code",
   "execution_count": 75,
   "metadata": {},
   "outputs": [
    {
     "name": "stdout",
     "output_type": "stream",
     "text": [
      "4.605170185988092\n"
     ]
    }
   ],
   "source": [
    "#### fungsi log\n",
    "logaritma = math.log(100)\n",
    "print(logaritma)"
   ]
  },
  {
   "cell_type": "markdown",
   "metadata": {},
   "source": [
    "#### log10"
   ]
  },
  {
   "cell_type": "markdown",
   "metadata": {},
   "source": [
    "sama seperti fungsi log, log10 digunakan untuk mendapatkan logaritma dari suatu angka dengan base 10"
   ]
  },
  {
   "cell_type": "code",
   "execution_count": 76,
   "metadata": {},
   "outputs": [
    {
     "name": "stdout",
     "output_type": "stream",
     "text": [
      "2.0\n"
     ]
    }
   ],
   "source": [
    "#### fungsi log10\n",
    "print(math.log10(100))"
   ]
  },
  {
   "cell_type": "markdown",
   "metadata": {},
   "source": [
    "#### sqrt"
   ]
  },
  {
   "cell_type": "markdown",
   "metadata": {},
   "source": [
    "fungsi sqrt merupakan fungsi untuk mengambil akar pangkat dua dari suatu bilangan"
   ]
  },
  {
   "cell_type": "code",
   "execution_count": 77,
   "metadata": {},
   "outputs": [
    {
     "name": "stdout",
     "output_type": "stream",
     "text": [
      "4.0\n"
     ]
    }
   ],
   "source": [
    "#### fungsi sqrt\n",
    "print(math.sqrt(16))"
   ]
  },
  {
   "cell_type": "markdown",
   "metadata": {},
   "source": [
    "#### round"
   ]
  },
  {
   "cell_type": "markdown",
   "metadata": {},
   "source": [
    "fungsi round merupakan fungsi bawaan dari python untuk membulatkan tipe data float ke n angka di belakang koma. "
   ]
  },
  {
   "cell_type": "code",
   "execution_count": 78,
   "metadata": {},
   "outputs": [
    {
     "name": "stdout",
     "output_type": "stream",
     "text": [
      "4.61\n"
     ]
    }
   ],
   "source": [
    "#### contoh round\n",
    "print(round(logaritma, 2))"
   ]
  },
  {
   "cell_type": "markdown",
   "metadata": {},
   "source": [
    "### datetime library"
   ]
  },
  {
   "cell_type": "markdown",
   "metadata": {},
   "source": [
    "library ini digunakan untuk memanipulasi tipe data date time dalam bahasa python."
   ]
  },
  {
   "cell_type": "markdown",
   "metadata": {},
   "source": [
    "#### now"
   ]
  },
  {
   "cell_type": "markdown",
   "metadata": {},
   "source": [
    "now merupakan function yang akan mengembalikan datetime saat ini. "
   ]
  },
  {
   "cell_type": "code",
   "execution_count": 81,
   "metadata": {},
   "outputs": [
    {
     "data": {
      "text/plain": [
       "datetime.datetime(2021, 6, 10, 12, 46, 39, 617607)"
      ]
     },
     "execution_count": 81,
     "metadata": {},
     "output_type": "execute_result"
    }
   ],
   "source": [
    "### contoh now\n",
    "import datetime as dt\n",
    "dt.datetime.now()"
   ]
  },
  {
   "cell_type": "markdown",
   "metadata": {},
   "source": [
    "#### strptime"
   ]
  },
  {
   "cell_type": "markdown",
   "metadata": {},
   "source": [
    "merupakan syntax yang digunakan untuk mengubah string ke datetime sesuai dengan formast yang diinginkan. contohnya terlampir dalam gambar berikut <img src='img_notebook3/strptime.png'>"
   ]
  },
  {
   "cell_type": "markdown",
   "metadata": {},
   "source": [
    "format yang dapat digunakan adalah sebagai berikut <img src='img_notebook3/timeSeriesFormat.png'>"
   ]
  },
  {
   "cell_type": "code",
   "execution_count": 85,
   "metadata": {},
   "outputs": [
    {
     "name": "stdout",
     "output_type": "stream",
     "text": [
      "<class 'str'>\n",
      "1945-08-17 00:00:00\n",
      "<class 'datetime.datetime'>\n"
     ]
    }
   ],
   "source": [
    "### contoh strptime\n",
    "freedom = '17/08/1945'\n",
    "print(type(freedom))\n",
    "freedom2 = dt.datetime.strptime(freedom, '%d/%m/%Y')\n",
    "print(freedom2)\n",
    "print(type(freedom2))"
   ]
  },
  {
   "cell_type": "markdown",
   "metadata": {},
   "source": [
    "#### strftime "
   ]
  },
  {
   "cell_type": "markdown",
   "metadata": {},
   "source": [
    "strftime merupakan kebalikan dari fungsi strptime, yaitu mengubah suatu datetime ke string sesuai dengan format yang diinginkan. proses ini sering dilakukan apabila kita ingin mendapatkan informasi spesifik dari suatu datetime"
   ]
  },
  {
   "cell_type": "code",
   "execution_count": 89,
   "metadata": {},
   "outputs": [
    {
     "name": "stdout",
     "output_type": "stream",
     "text": [
      "August\n"
     ]
    }
   ],
   "source": [
    "### mendapatkan nama bulan dan hari\n",
    "month = dt.datetime.strftime(freedom2, '%B')\n",
    "print(month)"
   ]
  },
  {
   "cell_type": "code",
   "execution_count": 90,
   "metadata": {},
   "outputs": [
    {
     "name": "stdout",
     "output_type": "stream",
     "text": [
      "Friday\n"
     ]
    }
   ],
   "source": [
    "day = dt.datetime.strftime(freedom2, '%A')\n",
    "print(day)"
   ]
  },
  {
   "cell_type": "code",
   "execution_count": 92,
   "metadata": {},
   "outputs": [
    {
     "name": "stdout",
     "output_type": "stream",
     "text": [
      "17 August, 1945\n"
     ]
    }
   ],
   "source": [
    "date = dt.datetime.strftime(freedom2, '%d %B, %Y')\n",
    "print(date)"
   ]
  },
  {
   "cell_type": "markdown",
   "metadata": {},
   "source": [
    "#### timedelta"
   ]
  },
  {
   "cell_type": "markdown",
   "metadata": {},
   "source": [
    "timedelta merupakan library python yang dapat digunakan untuk menghitung beda waktu antara dua datetime dan untuk manipulasi data datetime. opsi durasi yang bisa digunakan adalah:\n",
    "<img src='img_notebook3/timedelta.png'>"
   ]
  },
  {
   "cell_type": "code",
   "execution_count": 99,
   "metadata": {},
   "outputs": [
    {
     "name": "stdout",
     "output_type": "stream",
     "text": [
      "27691 days, 13:09:12.083844\n",
      "<class 'datetime.timedelta'>\n",
      "27691\n"
     ]
    }
   ],
   "source": [
    "### contoh timedelta\n",
    "date_now = dt.datetime.now()\n",
    "freedom_age = date_now - freedom2\n",
    "print(freedom_age)\n",
    "print(type(freedom_age))\n",
    "print(freedom_age.days)"
   ]
  },
  {
   "cell_type": "markdown",
   "metadata": {},
   "source": [
    "### Exercises"
   ]
  },
  {
   "cell_type": "markdown",
   "metadata": {},
   "source": [
    "1. buat fungsi untuk menghitung selisih kuadrat (x kuadrat - y kuadrat) dari dua bilangan"
   ]
  },
  {
   "cell_type": "code",
   "execution_count": null,
   "metadata": {},
   "outputs": [],
   "source": [
    "#def get_selisih_kuadrat(x,y):\n",
    "#    ....\n",
    "#    ....\n",
    "#    return...\n",
    "\n",
    "print(get_selisih_kuadrat(7,2))\n",
    "print(get_selisih_kuadrat(10,8))\n",
    "print(get_selisih_kuadrat(-5,6))"
   ]
  },
  {
   "cell_type": "markdown",
   "metadata": {},
   "source": [
    "output yang diminta:\n",
    "<img src=\"img_notebook3/output_14.png\">"
   ]
  },
  {
   "cell_type": "markdown",
   "metadata": {},
   "source": [
    "2. buat function untuk menentukan apakah suatu bilangan ganjil atau genap"
   ]
  },
  {
   "cell_type": "code",
   "execution_count": null,
   "metadata": {},
   "outputs": [],
   "source": [
    "#def....:\n",
    "#....\n",
    "#...\n",
    "\n",
    "print(get_ganjil_genap(3))\n",
    "print(get_ganjil_genap(12))"
   ]
  },
  {
   "cell_type": "markdown",
   "metadata": {},
   "source": [
    "output yang diminta:\n",
    "<img src=\"img_notebook3/output_15.png\">"
   ]
  },
  {
   "cell_type": "markdown",
   "metadata": {},
   "source": [
    "3. buat fungsi kalkulator scientific dengan parameter berupa perintah dan angkanya, dan mengembalikan nilai tersebut sebagai float. perlu diperhatikan bahwa string perintah bisa dimasukkan tanpa memperdulikan huruf besar dan kecilnya. string perintah dan operasi matematika yang dilakukan dapat dilihat di tabel bawah ini"
   ]
  },
  {
   "cell_type": "markdown",
   "metadata": {},
   "source": [
    "| Perintah | Operasi |\n",
    "| --- | --- | \n",
    "| akardua | Mendapatkan akar pangkat dua dari bilangan |\n",
    "| log10 | Mendapatkan logaritma basis 10 dari bilangan |\n",
    "| pangkattiga | Mendapatkan pangkat tiga dari bilangan |\n",
    "| log2 | Mendapatkan logaritma basis 2 dari bilangan |"
   ]
  },
  {
   "cell_type": "code",
   "execution_count": null,
   "metadata": {},
   "outputs": [],
   "source": [
    "#def calculator(perintah, angka):\n",
    "#..\n",
    "#..\n",
    "\n",
    "print(calculator('Akardua',225))\n",
    "print(calculator('log2',64))\n",
    "print(calculator('pangkatTiga',7))\n",
    "print(calculator('akarDua',729))\n",
    "print(calculator('akar_Dua',100))"
   ]
  },
  {
   "cell_type": "markdown",
   "metadata": {},
   "source": [
    "Output yang diinginkan: \n",
    "<img src='img_notebook3/output_33.png'>\n",
    "**Hint:** untuk mendapatkan fungsi math yang lain, bisa dilihat di halaman berikut https://docs.python.org/3/library/math.html"
   ]
  },
  {
   "cell_type": "code",
   "execution_count": null,
   "metadata": {},
   "outputs": [],
   "source": []
  }
 ],
 "metadata": {
  "kernelspec": {
   "display_name": "Python 3",
   "language": "python",
   "name": "python3"
  },
  "language_info": {
   "codemirror_mode": {
    "name": "ipython",
    "version": 3
   },
   "file_extension": ".py",
   "mimetype": "text/x-python",
   "name": "python",
   "nbconvert_exporter": "python",
   "pygments_lexer": "ipython3",
   "version": "3.7.6"
  }
 },
 "nbformat": 4,
 "nbformat_minor": 4
}
